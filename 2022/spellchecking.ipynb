{
  "nbformat": 4,
  "nbformat_minor": 0,
  "metadata": {
    "kernelspec": {
      "display_name": "Python 3",
      "language": "python",
      "name": "python3"
    },
    "language_info": {
      "codemirror_mode": {
        "name": "ipython",
        "version": 3
      },
      "file_extension": ".py",
      "mimetype": "text/x-python",
      "name": "python",
      "nbconvert_exporter": "python",
      "pygments_lexer": "ipython3",
      "version": "3.5.2"
    },
    "colab": {
      "name": "Копия блокнота \"IR 2 Spellchecking.ipynb\"",
      "provenance": [],
      "collapsed_sections": [],
      "toc_visible": true
    }
  },
  "cells": [
    {
      "cell_type": "markdown",
      "metadata": {
        "id": "1eFQUpG6MI02"
      },
      "source": [
        "# Исправление опечаток в запросе"
      ]
    },
    {
      "cell_type": "markdown",
      "source": [
        "## Пример с лекции"
      ],
      "metadata": {
        "id": "DA-e5ff76Ui5"
      }
    },
    {
      "cell_type": "markdown",
      "metadata": {
        "id": "_iemHn3-OQyF"
      },
      "source": [
        "Подберём к вопросу похожий на него вопрос."
      ]
    },
    {
      "cell_type": "code",
      "source": [
        "!pip install --upgrade --no-cache-dir gdown"
      ],
      "metadata": {
        "colab": {
          "base_uri": "https://localhost:8080/"
        },
        "id": "WxG7WMjnReXt",
        "outputId": "3b6fbe48-ed46-4e85-e196-fea2fe758307"
      },
      "execution_count": null,
      "outputs": [
        {
          "output_type": "stream",
          "name": "stdout",
          "text": [
            "Requirement already satisfied: gdown in /usr/local/lib/python3.7/dist-packages (4.2.2)\n",
            "Collecting gdown\n",
            "  Downloading gdown-4.4.0.tar.gz (14 kB)\n",
            "  Installing build dependencies ... \u001b[?25l\u001b[?25hdone\n",
            "  Getting requirements to build wheel ... \u001b[?25l\u001b[?25hdone\n",
            "    Preparing wheel metadata ... \u001b[?25l\u001b[?25hdone\n",
            "Requirement already satisfied: requests[socks] in /usr/local/lib/python3.7/dist-packages (from gdown) (2.23.0)\n",
            "Requirement already satisfied: beautifulsoup4 in /usr/local/lib/python3.7/dist-packages (from gdown) (4.6.3)\n",
            "Requirement already satisfied: filelock in /usr/local/lib/python3.7/dist-packages (from gdown) (3.6.0)\n",
            "Requirement already satisfied: six in /usr/local/lib/python3.7/dist-packages (from gdown) (1.15.0)\n",
            "Requirement already satisfied: tqdm in /usr/local/lib/python3.7/dist-packages (from gdown) (4.63.0)\n",
            "Requirement already satisfied: idna<3,>=2.5 in /usr/local/lib/python3.7/dist-packages (from requests[socks]->gdown) (2.10)\n",
            "Requirement already satisfied: urllib3!=1.25.0,!=1.25.1,<1.26,>=1.21.1 in /usr/local/lib/python3.7/dist-packages (from requests[socks]->gdown) (1.24.3)\n",
            "Requirement already satisfied: chardet<4,>=3.0.2 in /usr/local/lib/python3.7/dist-packages (from requests[socks]->gdown) (3.0.4)\n",
            "Requirement already satisfied: certifi>=2017.4.17 in /usr/local/lib/python3.7/dist-packages (from requests[socks]->gdown) (2021.10.8)\n",
            "Requirement already satisfied: PySocks!=1.5.7,>=1.5.6 in /usr/local/lib/python3.7/dist-packages (from requests[socks]->gdown) (1.7.1)\n",
            "Building wheels for collected packages: gdown\n",
            "  Building wheel for gdown (PEP 517) ... \u001b[?25l\u001b[?25hdone\n",
            "  Created wheel for gdown: filename=gdown-4.4.0-py3-none-any.whl size=14774 sha256=6ba5a768d83c2ff11705ed7d554c6a9787bd920a78cb7340e667885caf314edb\n",
            "  Stored in directory: /tmp/pip-ephem-wheel-cache-ddm_3l5l/wheels/fb/c3/0e/c4d8ff8bfcb0461afff199471449f642179b74968c15b7a69c\n",
            "Successfully built gdown\n",
            "Installing collected packages: gdown\n",
            "  Attempting uninstall: gdown\n",
            "    Found existing installation: gdown 4.2.2\n",
            "    Uninstalling gdown-4.2.2:\n",
            "      Successfully uninstalled gdown-4.2.2\n",
            "Successfully installed gdown-4.4.0\n"
          ]
        }
      ]
    },
    {
      "cell_type": "code",
      "metadata": {
        "id": "Mk8ccLdZMR6V",
        "colab": {
          "base_uri": "https://localhost:8080/"
        },
        "outputId": "b0b87e72-1594-44c9-e5f5-39c9cbd4b316"
      },
      "source": [
        "!git clone https://github.com/vladislavneon/RuBQ.git"
      ],
      "execution_count": null,
      "outputs": [
        {
          "output_type": "stream",
          "name": "stdout",
          "text": [
            "Cloning into 'RuBQ'...\n",
            "remote: Enumerating objects: 106, done.\u001b[K\n",
            "remote: Counting objects: 100% (106/106), done.\u001b[K\n",
            "remote: Compressing objects: 100% (89/89), done.\u001b[K\n",
            "remote: Total 106 (delta 56), reused 29 (delta 15), pack-reused 0\u001b[K\n",
            "Receiving objects: 100% (106/106), 14.13 MiB | 15.66 MiB/s, done.\n",
            "Resolving deltas: 100% (56/56), done.\n"
          ]
        }
      ]
    },
    {
      "cell_type": "code",
      "metadata": {
        "id": "nJDjpr20MbK8"
      },
      "source": [
        "import json\n",
        "\n",
        "filepath = \"/content/RuBQ/RuBQ_2.0/RuBQ_2.0_test.json\"\n",
        "with open(filepath, mode=\"r\", encoding=\"utf-8\") as input:\n",
        "  lines = input.readlines()\n",
        "res_json = json.loads(''.join(lines))"
      ],
      "execution_count": null,
      "outputs": []
    },
    {
      "cell_type": "code",
      "metadata": {
        "id": "vieAx7wPMrQE"
      },
      "source": [
        "dataset_temp = [x[\"question_text\"] for x in res_json]"
      ],
      "execution_count": null,
      "outputs": []
    },
    {
      "cell_type": "code",
      "metadata": {
        "colab": {
          "base_uri": "https://localhost:8080/"
        },
        "id": "H1EbCd-8MvlQ",
        "outputId": "925a3852-0943-4cf2-e0fd-8945bb20fefe"
      },
      "source": [
        "dataset_temp[:20]"
      ],
      "execution_count": null,
      "outputs": [
        {
          "output_type": "execute_result",
          "data": {
            "text/plain": [
              "['Что может вызвать цунами?',\n",
              " 'Кто написал роман «Хижина дяди Тома»?',\n",
              " 'Кто автор пьесы «Ромео и Джульетта»?',\n",
              " 'Как называется столица Румынии?',\n",
              " 'На каком инструменте играл Джимми Хендрикс?',\n",
              " 'Какой стране принадлежит остров Таити?',\n",
              " 'Кто создал Зимний дворец в Санкт-Петербурге?',\n",
              " 'Кто режиссер фильма \"Бриллиантовая рука\"?',\n",
              " 'Какой стране принадлежат Канарские острова?',\n",
              " 'Какой географический объект называется Лимпопо?',\n",
              " 'Какое современное государство занимает территорию, на которой находился древний ассирийский город Ниневия?',\n",
              " 'По какой шкале измеряют силу землетрясений?',\n",
              " 'В какой стране впервые появилась игра в гольф?',\n",
              " 'Каким видом спорта увлекался президент РФ В.В.Путин?',\n",
              " 'Как звали отца Северуса Снейпа?',\n",
              " 'Как звали сына Драко?',\n",
              " 'Как звали маму Северуса Снейпа?',\n",
              " 'Как звали создателя факультета Когтевран (Рейвенкло)?',\n",
              " 'Как звали дракончика Хагрида?',\n",
              " \"Кто автор исторического романа 'Княжна Тараканова'?\"]"
            ]
          },
          "metadata": {},
          "execution_count": 5
        }
      ]
    },
    {
      "cell_type": "code",
      "metadata": {
        "colab": {
          "base_uri": "https://localhost:8080/"
        },
        "id": "3Lya73nVNFnO",
        "outputId": "774072a5-8248-4066-e81a-6be643222b6e"
      },
      "source": [
        "len(dataset_temp)"
      ],
      "execution_count": null,
      "outputs": [
        {
          "output_type": "execute_result",
          "data": {
            "text/plain": [
              "2330"
            ]
          },
          "metadata": {},
          "execution_count": 6
        }
      ]
    },
    {
      "cell_type": "markdown",
      "metadata": {
        "id": "bp_duxGROZeL"
      },
      "source": [
        "Тут всего 2330 вопросов и нет никакой информации о похожести. Для решения задачи нам понадобиться ещё один датасет."
      ]
    },
    {
      "cell_type": "markdown",
      "metadata": {
        "id": "rzGi77T7NTJQ"
      },
      "source": [
        "Хороший способ скачивать с Google Drive"
      ]
    },
    {
      "cell_type": "code",
      "metadata": {
        "colab": {
          "base_uri": "https://localhost:8080/"
        },
        "id": "oQJZSSIRNOQm",
        "outputId": "27d8f075-764a-4a4b-db87-062716b1e5a6"
      },
      "source": [
        "!gdown --id --no-cookies 1l-EOL-wj_noSaIQ89qsS-Be0SQnBcLk4"
      ],
      "execution_count": null,
      "outputs": [
        {
          "output_type": "stream",
          "name": "stdout",
          "text": [
            "/usr/local/lib/python3.7/dist-packages/gdown/cli.py:131: FutureWarning: Option `--id` was deprecated in version 4.3.1 and will be removed in 5.0. You don't need to pass it anymore to use a file ID.\n",
            "  category=FutureWarning,\n",
            "Downloading...\n",
            "From: https://drive.google.com/uc?id=1l-EOL-wj_noSaIQ89qsS-Be0SQnBcLk4\n",
            "To: /content/quora_question_pairs_rus.csv.zip\n",
            "100% 26.7M/26.7M [00:00<00:00, 84.0MB/s]\n"
          ]
        }
      ]
    },
    {
      "cell_type": "code",
      "metadata": {
        "colab": {
          "base_uri": "https://localhost:8080/"
        },
        "id": "ZCBMsWt4OrWF",
        "outputId": "d226e9ce-1104-493b-8ec8-465c49f3e2b1"
      },
      "source": [
        "!unzip quora_question_pairs_rus.csv.zip"
      ],
      "execution_count": null,
      "outputs": [
        {
          "output_type": "stream",
          "name": "stdout",
          "text": [
            "Archive:  quora_question_pairs_rus.csv.zip\n",
            "  inflating: quora_question_pairs_rus.csv  \n"
          ]
        }
      ]
    },
    {
      "cell_type": "markdown",
      "metadata": {
        "id": "2bE2MIlLPDN3"
      },
      "source": [
        "Это большой датасет вопросов quora, который был автоматически переведён."
      ]
    },
    {
      "cell_type": "code",
      "source": [
        "import pandas as pd;"
      ],
      "metadata": {
        "id": "p9JHfpiEJo8z"
      },
      "execution_count": null,
      "outputs": []
    },
    {
      "cell_type": "code",
      "metadata": {
        "id": "1T_kYZbWOlaH"
      },
      "source": [
        "quora_df = pd.read_csv('quora_question_pairs_rus.csv', usecols=lambda x: 'Unnamed' not in x)"
      ],
      "execution_count": null,
      "outputs": []
    },
    {
      "cell_type": "code",
      "metadata": {
        "colab": {
          "base_uri": "https://localhost:8080/"
        },
        "id": "YcB19DxIPLnd",
        "outputId": "83d7283f-199f-4790-e117-d2a1b215cbe8"
      },
      "source": [
        "quora_df.shape"
      ],
      "execution_count": null,
      "outputs": [
        {
          "output_type": "execute_result",
          "data": {
            "text/plain": [
              "(404288, 3)"
            ]
          },
          "metadata": {},
          "execution_count": 11
        }
      ]
    },
    {
      "cell_type": "code",
      "metadata": {
        "colab": {
          "base_uri": "https://localhost:8080/",
          "height": 676
        },
        "id": "rTCwhvLtOwcB",
        "outputId": "1e755195-06a7-4c91-fa65-a31dc3dad709"
      },
      "source": [
        "quora_df.sample(20)"
      ],
      "execution_count": null,
      "outputs": [
        {
          "output_type": "execute_result",
          "data": {
            "text/plain": [
              "                                                question1  \\\n",
              "11546   какой худший медицинский совет вы когда-либо п...   \n",
              "311452  в моей кнопке ноутбука c не работает, как я мо...   \n",
              "341606                что происходит внутри камеры облака   \n",
              "11589   который предложил narendra modi остановить цир...   \n",
              "11576   является демонициализацией политики modi хорош...   \n",
              "315454  где я могу найти онлайн-курс для цифрового мар...   \n",
              "110275  какие инструменты используются для измерения з...   \n",
              "73380   как он чувствует себя гомосексуалистом в Индон...   \n",
              "367858  почему малайцы и сингапурцы относятся к индоне...   \n",
              "369656  насколько велик рынок финансирования акций в С...   \n",
              "118013  каковы различные этапы и химические вещества, ...   \n",
              "325565  когда вы делаете онлайн-знакомства, а кто-то с...   \n",
              "240863  каковы лучшие инструменты для создания вовлече...   \n",
              "128317  веб-разработка растет и быстро развивается, я ...   \n",
              "127662   сделаю 2-дневный раскол, сделаю меня мускулистым   \n",
              "54917   как вы считаете сильным в арабском, если вы па...   \n",
              "137241  какой модуль python является лучшим посланнико...   \n",
              "18585             что делает хорошего английского учителя   \n",
              "241673  почему я не могу глубоко задуматься, когда я г...   \n",
              "282841  каково будет влияние на Индию, если коалиция Д...   \n",
              "\n",
              "                                                question2  is_duplicate  \n",
              "11546        как вы рассказали родителям о своей подруге?             0  \n",
              "311452   как убеждение трансформируется по определенности             0  \n",
              "341606     то, что может попасть в черную дыру, похоже на             0  \n",
              "11589         почему запрет на замещение 500 и 1000 рупий             1  \n",
              "11576   это демонизация денег, действительно работающа...             1  \n",
              "315454  лучший курс для цифрового маркетинга онлайн дл...             1  \n",
              "110275  какой инструмент используется для измерения зе...             1  \n",
              "73380          как он чувствует себя привлекательным геем             0  \n",
              "367858  каков статус моей собственности в Сингапуре, е...             0  \n",
              "369656                          черный костюм лучший цвет             0  \n",
              "118013        Мое полотенце может быть пляжным полотенцем             0  \n",
              "325565  мы находимся в дальних отношениях более 3 меся...             0  \n",
              "240863  существует ли такая веб-служба, как то, что я ...             0  \n",
              "128317  я буду считаться ленивым со стороны работодате...             0  \n",
              "127662  моя цель - сделать 1 миллион долларов в год, е...             0  \n",
              "54917                  как вы говорите, мечеть в арабском             0  \n",
              "137241                   у чего должны быть модули python             0  \n",
              "18585       что делает хорошего учителя английского языка             1  \n",
              "241673                почему я не могу глубоко задуматься             1  \n",
              "282841  что влияет на Индию, если король Дональда стан...             1  "
            ],
            "text/html": [
              "\n",
              "  <div id=\"df-e9004f2c-808c-4e14-a5cd-7e4bb510c323\">\n",
              "    <div class=\"colab-df-container\">\n",
              "      <div>\n",
              "<style scoped>\n",
              "    .dataframe tbody tr th:only-of-type {\n",
              "        vertical-align: middle;\n",
              "    }\n",
              "\n",
              "    .dataframe tbody tr th {\n",
              "        vertical-align: top;\n",
              "    }\n",
              "\n",
              "    .dataframe thead th {\n",
              "        text-align: right;\n",
              "    }\n",
              "</style>\n",
              "<table border=\"1\" class=\"dataframe\">\n",
              "  <thead>\n",
              "    <tr style=\"text-align: right;\">\n",
              "      <th></th>\n",
              "      <th>question1</th>\n",
              "      <th>question2</th>\n",
              "      <th>is_duplicate</th>\n",
              "    </tr>\n",
              "  </thead>\n",
              "  <tbody>\n",
              "    <tr>\n",
              "      <th>11546</th>\n",
              "      <td>какой худший медицинский совет вы когда-либо п...</td>\n",
              "      <td>как вы рассказали родителям о своей подруге?</td>\n",
              "      <td>0</td>\n",
              "    </tr>\n",
              "    <tr>\n",
              "      <th>311452</th>\n",
              "      <td>в моей кнопке ноутбука c не работает, как я мо...</td>\n",
              "      <td>как убеждение трансформируется по определенности</td>\n",
              "      <td>0</td>\n",
              "    </tr>\n",
              "    <tr>\n",
              "      <th>341606</th>\n",
              "      <td>что происходит внутри камеры облака</td>\n",
              "      <td>то, что может попасть в черную дыру, похоже на</td>\n",
              "      <td>0</td>\n",
              "    </tr>\n",
              "    <tr>\n",
              "      <th>11589</th>\n",
              "      <td>который предложил narendra modi остановить цир...</td>\n",
              "      <td>почему запрет на замещение 500 и 1000 рупий</td>\n",
              "      <td>1</td>\n",
              "    </tr>\n",
              "    <tr>\n",
              "      <th>11576</th>\n",
              "      <td>является демонициализацией политики modi хорош...</td>\n",
              "      <td>это демонизация денег, действительно работающа...</td>\n",
              "      <td>1</td>\n",
              "    </tr>\n",
              "    <tr>\n",
              "      <th>315454</th>\n",
              "      <td>где я могу найти онлайн-курс для цифрового мар...</td>\n",
              "      <td>лучший курс для цифрового маркетинга онлайн дл...</td>\n",
              "      <td>1</td>\n",
              "    </tr>\n",
              "    <tr>\n",
              "      <th>110275</th>\n",
              "      <td>какие инструменты используются для измерения з...</td>\n",
              "      <td>какой инструмент используется для измерения зе...</td>\n",
              "      <td>1</td>\n",
              "    </tr>\n",
              "    <tr>\n",
              "      <th>73380</th>\n",
              "      <td>как он чувствует себя гомосексуалистом в Индон...</td>\n",
              "      <td>как он чувствует себя привлекательным геем</td>\n",
              "      <td>0</td>\n",
              "    </tr>\n",
              "    <tr>\n",
              "      <th>367858</th>\n",
              "      <td>почему малайцы и сингапурцы относятся к индоне...</td>\n",
              "      <td>каков статус моей собственности в Сингапуре, е...</td>\n",
              "      <td>0</td>\n",
              "    </tr>\n",
              "    <tr>\n",
              "      <th>369656</th>\n",
              "      <td>насколько велик рынок финансирования акций в С...</td>\n",
              "      <td>черный костюм лучший цвет</td>\n",
              "      <td>0</td>\n",
              "    </tr>\n",
              "    <tr>\n",
              "      <th>118013</th>\n",
              "      <td>каковы различные этапы и химические вещества, ...</td>\n",
              "      <td>Мое полотенце может быть пляжным полотенцем</td>\n",
              "      <td>0</td>\n",
              "    </tr>\n",
              "    <tr>\n",
              "      <th>325565</th>\n",
              "      <td>когда вы делаете онлайн-знакомства, а кто-то с...</td>\n",
              "      <td>мы находимся в дальних отношениях более 3 меся...</td>\n",
              "      <td>0</td>\n",
              "    </tr>\n",
              "    <tr>\n",
              "      <th>240863</th>\n",
              "      <td>каковы лучшие инструменты для создания вовлече...</td>\n",
              "      <td>существует ли такая веб-служба, как то, что я ...</td>\n",
              "      <td>0</td>\n",
              "    </tr>\n",
              "    <tr>\n",
              "      <th>128317</th>\n",
              "      <td>веб-разработка растет и быстро развивается, я ...</td>\n",
              "      <td>я буду считаться ленивым со стороны работодате...</td>\n",
              "      <td>0</td>\n",
              "    </tr>\n",
              "    <tr>\n",
              "      <th>127662</th>\n",
              "      <td>сделаю 2-дневный раскол, сделаю меня мускулистым</td>\n",
              "      <td>моя цель - сделать 1 миллион долларов в год, е...</td>\n",
              "      <td>0</td>\n",
              "    </tr>\n",
              "    <tr>\n",
              "      <th>54917</th>\n",
              "      <td>как вы считаете сильным в арабском, если вы па...</td>\n",
              "      <td>как вы говорите, мечеть в арабском</td>\n",
              "      <td>0</td>\n",
              "    </tr>\n",
              "    <tr>\n",
              "      <th>137241</th>\n",
              "      <td>какой модуль python является лучшим посланнико...</td>\n",
              "      <td>у чего должны быть модули python</td>\n",
              "      <td>0</td>\n",
              "    </tr>\n",
              "    <tr>\n",
              "      <th>18585</th>\n",
              "      <td>что делает хорошего английского учителя</td>\n",
              "      <td>что делает хорошего учителя английского языка</td>\n",
              "      <td>1</td>\n",
              "    </tr>\n",
              "    <tr>\n",
              "      <th>241673</th>\n",
              "      <td>почему я не могу глубоко задуматься, когда я г...</td>\n",
              "      <td>почему я не могу глубоко задуматься</td>\n",
              "      <td>1</td>\n",
              "    </tr>\n",
              "    <tr>\n",
              "      <th>282841</th>\n",
              "      <td>каково будет влияние на Индию, если коалиция Д...</td>\n",
              "      <td>что влияет на Индию, если король Дональда стан...</td>\n",
              "      <td>1</td>\n",
              "    </tr>\n",
              "  </tbody>\n",
              "</table>\n",
              "</div>\n",
              "      <button class=\"colab-df-convert\" onclick=\"convertToInteractive('df-e9004f2c-808c-4e14-a5cd-7e4bb510c323')\"\n",
              "              title=\"Convert this dataframe to an interactive table.\"\n",
              "              style=\"display:none;\">\n",
              "        \n",
              "  <svg xmlns=\"http://www.w3.org/2000/svg\" height=\"24px\"viewBox=\"0 0 24 24\"\n",
              "       width=\"24px\">\n",
              "    <path d=\"M0 0h24v24H0V0z\" fill=\"none\"/>\n",
              "    <path d=\"M18.56 5.44l.94 2.06.94-2.06 2.06-.94-2.06-.94-.94-2.06-.94 2.06-2.06.94zm-11 1L8.5 8.5l.94-2.06 2.06-.94-2.06-.94L8.5 2.5l-.94 2.06-2.06.94zm10 10l.94 2.06.94-2.06 2.06-.94-2.06-.94-.94-2.06-.94 2.06-2.06.94z\"/><path d=\"M17.41 7.96l-1.37-1.37c-.4-.4-.92-.59-1.43-.59-.52 0-1.04.2-1.43.59L10.3 9.45l-7.72 7.72c-.78.78-.78 2.05 0 2.83L4 21.41c.39.39.9.59 1.41.59.51 0 1.02-.2 1.41-.59l7.78-7.78 2.81-2.81c.8-.78.8-2.07 0-2.86zM5.41 20L4 18.59l7.72-7.72 1.47 1.35L5.41 20z\"/>\n",
              "  </svg>\n",
              "      </button>\n",
              "      \n",
              "  <style>\n",
              "    .colab-df-container {\n",
              "      display:flex;\n",
              "      flex-wrap:wrap;\n",
              "      gap: 12px;\n",
              "    }\n",
              "\n",
              "    .colab-df-convert {\n",
              "      background-color: #E8F0FE;\n",
              "      border: none;\n",
              "      border-radius: 50%;\n",
              "      cursor: pointer;\n",
              "      display: none;\n",
              "      fill: #1967D2;\n",
              "      height: 32px;\n",
              "      padding: 0 0 0 0;\n",
              "      width: 32px;\n",
              "    }\n",
              "\n",
              "    .colab-df-convert:hover {\n",
              "      background-color: #E2EBFA;\n",
              "      box-shadow: 0px 1px 2px rgba(60, 64, 67, 0.3), 0px 1px 3px 1px rgba(60, 64, 67, 0.15);\n",
              "      fill: #174EA6;\n",
              "    }\n",
              "\n",
              "    [theme=dark] .colab-df-convert {\n",
              "      background-color: #3B4455;\n",
              "      fill: #D2E3FC;\n",
              "    }\n",
              "\n",
              "    [theme=dark] .colab-df-convert:hover {\n",
              "      background-color: #434B5C;\n",
              "      box-shadow: 0px 1px 3px 1px rgba(0, 0, 0, 0.15);\n",
              "      filter: drop-shadow(0px 1px 2px rgba(0, 0, 0, 0.3));\n",
              "      fill: #FFFFFF;\n",
              "    }\n",
              "  </style>\n",
              "\n",
              "      <script>\n",
              "        const buttonEl =\n",
              "          document.querySelector('#df-e9004f2c-808c-4e14-a5cd-7e4bb510c323 button.colab-df-convert');\n",
              "        buttonEl.style.display =\n",
              "          google.colab.kernel.accessAllowed ? 'block' : 'none';\n",
              "\n",
              "        async function convertToInteractive(key) {\n",
              "          const element = document.querySelector('#df-e9004f2c-808c-4e14-a5cd-7e4bb510c323');\n",
              "          const dataTable =\n",
              "            await google.colab.kernel.invokeFunction('convertToInteractive',\n",
              "                                                     [key], {});\n",
              "          if (!dataTable) return;\n",
              "\n",
              "          const docLinkHtml = 'Like what you see? Visit the ' +\n",
              "            '<a target=\"_blank\" href=https://colab.research.google.com/notebooks/data_table.ipynb>data table notebook</a>'\n",
              "            + ' to learn more about interactive tables.';\n",
              "          element.innerHTML = '';\n",
              "          dataTable['output_type'] = 'display_data';\n",
              "          await google.colab.output.renderOutput(dataTable, element);\n",
              "          const docLink = document.createElement('div');\n",
              "          docLink.innerHTML = docLinkHtml;\n",
              "          element.appendChild(docLink);\n",
              "        }\n",
              "      </script>\n",
              "    </div>\n",
              "  </div>\n",
              "  "
            ]
          },
          "metadata": {},
          "execution_count": 12
        }
      ]
    },
    {
      "cell_type": "code",
      "metadata": {
        "id": "yVcHCKnVPWU4"
      },
      "source": [
        "dataset_temp.extend(quora_df[\"question1\"].values)"
      ],
      "execution_count": null,
      "outputs": []
    },
    {
      "cell_type": "code",
      "metadata": {
        "id": "HWidzPBvPb_C"
      },
      "source": [
        "dataset_temp.extend(quora_df[\"question2\"].values)"
      ],
      "execution_count": null,
      "outputs": []
    },
    {
      "cell_type": "code",
      "metadata": {
        "colab": {
          "base_uri": "https://localhost:8080/"
        },
        "id": "W8Zfp-U0Pfry",
        "outputId": "a00a6272-15e2-437b-80e1-5cf07f3c25e3"
      },
      "source": [
        "len(dataset_temp)"
      ],
      "execution_count": null,
      "outputs": [
        {
          "output_type": "execute_result",
          "data": {
            "text/plain": [
              "810906"
            ]
          },
          "metadata": {},
          "execution_count": 15
        }
      ]
    },
    {
      "cell_type": "markdown",
      "metadata": {
        "id": "5WvzChdjP2lC"
      },
      "source": [
        "Скачаем эмбеддинги от Natasha (https://natasha.github.io/navec/)"
      ]
    },
    {
      "cell_type": "code",
      "metadata": {
        "colab": {
          "base_uri": "https://localhost:8080/"
        },
        "id": "AcreeCQ6PqXI",
        "outputId": "e73ce8ad-f870-416a-8144-11227599c0e4"
      },
      "source": [
        "!pip install navec\n",
        "\n",
        "!wget https://storage.yandexcloud.net/natasha-navec/packs/navec_hudlit_v1_12B_500K_300d_100q.tar"
      ],
      "execution_count": null,
      "outputs": [
        {
          "output_type": "stream",
          "name": "stdout",
          "text": [
            "Collecting navec\n",
            "  Downloading navec-0.10.0-py3-none-any.whl (23 kB)\n",
            "Requirement already satisfied: numpy in /usr/local/lib/python3.7/dist-packages (from navec) (1.21.5)\n",
            "Installing collected packages: navec\n",
            "Successfully installed navec-0.10.0\n",
            "--2022-03-13 16:16:35--  https://storage.yandexcloud.net/natasha-navec/packs/navec_hudlit_v1_12B_500K_300d_100q.tar\n",
            "Resolving storage.yandexcloud.net (storage.yandexcloud.net)... 213.180.193.243, 2a02:6b8::1d9\n",
            "Connecting to storage.yandexcloud.net (storage.yandexcloud.net)|213.180.193.243|:443... connected.\n",
            "HTTP request sent, awaiting response... 200 OK\n",
            "Length: 53012480 (51M) [application/x-tar]\n",
            "Saving to: ‘navec_hudlit_v1_12B_500K_300d_100q.tar’\n",
            "\n",
            "navec_hudlit_v1_12B 100%[===================>]  50.56M  15.5MB/s    in 3.3s    \n",
            "\n",
            "2022-03-13 16:16:39 (15.5 MB/s) - ‘navec_hudlit_v1_12B_500K_300d_100q.tar’ saved [53012480/53012480]\n",
            "\n"
          ]
        }
      ]
    },
    {
      "cell_type": "code",
      "metadata": {
        "id": "zWjkeaMUP91w"
      },
      "source": [
        "from navec import Navec\n",
        "\n",
        "path = 'navec_hudlit_v1_12B_500K_300d_100q.tar'\n",
        "navec = Navec.load(path)"
      ],
      "execution_count": null,
      "outputs": []
    },
    {
      "cell_type": "code",
      "metadata": {
        "colab": {
          "base_uri": "https://localhost:8080/"
        },
        "id": "mxGmwFLDQAa0",
        "outputId": "1d1e9be7-cd66-4172-ecf5-8179b33c0f7f"
      },
      "source": [
        "navec.get('python')"
      ],
      "execution_count": null,
      "outputs": [
        {
          "output_type": "execute_result",
          "data": {
            "text/plain": [
              "array([ 0.19214402, -0.1959362 ,  0.43695402, -0.33588752,  0.39676988,\n",
              "       -0.07734875,  0.04260164,  0.67186844, -0.04072431, -0.07451263,\n",
              "        0.49101624,  0.07942662,  0.20798121,  0.18426852, -0.30046153,\n",
              "       -0.15204567,  0.36486024, -0.85307485,  0.48137093,  0.427026  ,\n",
              "       -0.6845362 , -0.08942661, -0.3101123 , -0.45371357, -0.611568  ,\n",
              "       -0.26479366, -0.9259754 , -0.11309931, -0.48673463,  0.42229277,\n",
              "        0.20572862, -0.13167205, -0.8779028 ,  0.07185546,  0.02660668,\n",
              "       -0.0868782 ,  0.572537  ,  0.6779026 , -0.11222838,  0.14546263,\n",
              "       -0.03367202,  0.24061641,  0.08572771,  0.00990655,  0.25097123,\n",
              "        0.01056161, -0.51034373,  0.09052686,  0.43652472,  0.3318286 ,\n",
              "       -0.11107466, -0.14714225, -0.34816197, -0.3292252 ,  0.33444104,\n",
              "       -0.07015625,  0.00249229,  0.03096647, -0.39550957, -0.37711838,\n",
              "       -0.15093368, -0.3094792 ,  0.17217222,  0.21431988, -0.6753277 ,\n",
              "       -0.5604233 ,  0.46426848,  0.08588701,  0.44196838,  0.34076485,\n",
              "        0.47278842, -0.17648056,  0.364893  ,  0.87400675, -0.13333426,\n",
              "       -0.07734913,  0.04598786,  0.17115639, -0.94636345,  0.04244182,\n",
              "        0.3120107 , -0.09047384, -0.12793973, -0.46734104, -0.07247203,\n",
              "        0.11440089,  0.4598333 ,  0.22925864, -0.35547853, -0.47572187,\n",
              "       -0.6187484 , -0.3738915 , -0.39071292, -0.31044647,  0.13381995,\n",
              "       -0.69179034,  0.39101094, -0.7190998 , -0.22720368, -0.14512658,\n",
              "        0.02614984,  0.35367084,  0.01076753, -0.15128738, -0.11058794,\n",
              "        0.5272936 ,  0.51841813, -0.00457411, -0.48575118,  0.069534  ,\n",
              "        0.87777734, -0.28278175,  0.1079328 ,  0.32962042,  0.05991029,\n",
              "       -1.0095459 ,  0.05126866,  0.16012122, -0.38580406, -0.00395508,\n",
              "        0.18048242,  0.00881539,  0.10486792, -0.25157538,  0.2645282 ,\n",
              "       -0.27961373,  0.56401587, -0.411557  ,  0.7725796 ,  0.2029335 ,\n",
              "        0.04491143,  0.08876392, -0.5026645 ,  0.2143388 ,  0.58687353,\n",
              "       -0.02660203,  0.07945174, -0.17263195,  0.03653526,  0.08751146,\n",
              "       -0.4241872 , -0.14165992,  0.35655606,  0.14612669, -0.12171528,\n",
              "        0.23760544, -0.5062642 , -0.4687799 , -0.19080171, -0.23178473,\n",
              "        0.34035295,  0.5639264 , -0.07747968, -0.10516068,  0.71197295,\n",
              "       -0.11574712,  0.05021324,  0.36376   , -0.52629733, -0.24772808,\n",
              "        0.10586916, -0.06762519, -0.49855706, -0.21110693,  0.3828223 ,\n",
              "        0.1973943 ,  0.13949837,  0.29955202,  0.3913302 , -0.20491455,\n",
              "       -0.23621349, -0.15909854, -0.41777796, -0.5480532 , -0.14335346,\n",
              "       -0.21882434, -0.2810576 ,  0.6828006 , -0.06004116, -0.17835928,\n",
              "        0.20870648, -0.1425984 ,  0.22025472,  0.09335975,  0.32178396,\n",
              "        0.1565529 ,  0.05238179, -0.20776246,  0.01776274, -0.67160845,\n",
              "        0.5131802 ,  0.22806102,  0.47602814,  0.4680228 , -0.23854676,\n",
              "       -0.6044631 ,  0.11032516, -0.39815488, -0.52739006, -0.0177008 ,\n",
              "       -0.51984257, -0.32053494,  0.1731198 , -0.06458331,  0.24266705,\n",
              "       -0.12311702, -0.33418998,  0.45622852,  0.1234789 ,  0.45985374,\n",
              "        0.131521  ,  0.23142815,  0.28226322, -0.22509557,  0.36960214,\n",
              "        0.28468165, -0.42250642, -0.01599715,  0.5673743 , -0.57856166,\n",
              "        0.3156622 , -0.2921261 ,  0.39723814,  0.11334797,  0.1368448 ,\n",
              "       -0.5896137 , -0.24441122, -0.15437448,  0.1947864 , -0.10766716,\n",
              "       -0.6503314 ,  0.02427664, -0.37398094,  0.14635338, -0.12776528,\n",
              "       -0.06491923, -0.5269954 ,  0.35638356, -0.41152358, -0.5169465 ,\n",
              "       -0.07886428, -0.5929696 , -0.12368298,  0.13036904, -0.6255011 ,\n",
              "       -0.17719975, -0.20506662, -0.3787619 , -0.3035232 , -0.21546912,\n",
              "       -0.20266119, -0.01743477, -0.26832312, -0.48153314,  0.07751683,\n",
              "       -0.37809882,  0.4742351 ,  0.13234845, -0.6492298 ,  0.16966633,\n",
              "       -0.16703187, -0.692763  , -0.27051628, -0.47334304,  0.40146652,\n",
              "       -0.27012977, -0.23462594,  0.4039537 ,  0.2211036 , -0.61646485,\n",
              "        0.5360018 , -0.49718735, -0.12949607, -0.98984295,  0.07247506,\n",
              "        0.19875215,  0.75743926, -0.3522471 , -0.66547555, -0.21037056,\n",
              "        0.5828387 , -0.12879717, -0.04237877, -0.56843054, -0.498901  ,\n",
              "       -0.13728613,  0.38877505, -0.0950103 ,  0.7435377 ,  0.23809968,\n",
              "        0.11883985, -0.5440099 , -0.47758648,  0.35932985,  0.28576544,\n",
              "       -0.6788168 ,  0.03995679,  0.7263916 ,  0.1674516 , -1.0233043 ],\n",
              "      dtype=float32)"
            ]
          },
          "metadata": {},
          "execution_count": 18
        }
      ]
    },
    {
      "cell_type": "markdown",
      "metadata": {
        "id": "wCc8zShfSyoQ"
      },
      "source": [
        "Тут нет удобных штук типа similarity"
      ]
    },
    {
      "cell_type": "code",
      "metadata": {
        "colab": {
          "base_uri": "https://localhost:8080/",
          "height": 166
        },
        "id": "OE4PPnX0SmW_",
        "outputId": "1cc0db01-20e5-4f00-f8c7-625e9ebfdfb6"
      },
      "source": [
        "navec.similarity('python', 'java')"
      ],
      "execution_count": null,
      "outputs": [
        {
          "output_type": "error",
          "ename": "AttributeError",
          "evalue": "ignored",
          "traceback": [
            "\u001b[0;31m---------------------------------------------------------------------------\u001b[0m",
            "\u001b[0;31mAttributeError\u001b[0m                            Traceback (most recent call last)",
            "\u001b[0;32m<ipython-input-19-8bb5f87f743f>\u001b[0m in \u001b[0;36m<module>\u001b[0;34m()\u001b[0m\n\u001b[0;32m----> 1\u001b[0;31m \u001b[0mnavec\u001b[0m\u001b[0;34m.\u001b[0m\u001b[0msimilarity\u001b[0m\u001b[0;34m(\u001b[0m\u001b[0;34m'python'\u001b[0m\u001b[0;34m,\u001b[0m \u001b[0;34m'java'\u001b[0m\u001b[0;34m)\u001b[0m\u001b[0;34m\u001b[0m\u001b[0;34m\u001b[0m\u001b[0m\n\u001b[0m",
            "\u001b[0;31mAttributeError\u001b[0m: 'Navec' object has no attribute 'similarity'"
          ]
        }
      ]
    },
    {
      "cell_type": "code",
      "metadata": {
        "id": "oB4_6OeQWTgW"
      },
      "source": [
        "import numpy as np"
      ],
      "execution_count": null,
      "outputs": []
    },
    {
      "cell_type": "code",
      "metadata": {
        "id": "nXm8qcYBSxhZ"
      },
      "source": [
        "def cosine(u, v):\n",
        "  res = np.dot(u, v) / (np.linalg.norm(u) * np.linalg.norm(v))\n",
        "  return res"
      ],
      "execution_count": null,
      "outputs": []
    },
    {
      "cell_type": "code",
      "metadata": {
        "colab": {
          "base_uri": "https://localhost:8080/"
        },
        "id": "BoHZPR4WS4k4",
        "outputId": "487499ab-5e31-4301-ed84-182af453fc68"
      },
      "source": [
        "print(cosine(navec['python'],navec['java']))"
      ],
      "execution_count": null,
      "outputs": [
        {
          "output_type": "stream",
          "name": "stdout",
          "text": [
            "0.63120574\n"
          ]
        }
      ]
    },
    {
      "cell_type": "code",
      "metadata": {
        "colab": {
          "base_uri": "https://localhost:8080/"
        },
        "id": "1K7sLnG5WYFL",
        "outputId": "2cba3350-ed4b-4648-ddff-8b488d7ab66c"
      },
      "source": [
        "print(cosine(navec['python'],navec['змея']))"
      ],
      "execution_count": null,
      "outputs": [
        {
          "output_type": "stream",
          "name": "stdout",
          "text": [
            "-0.008952813\n"
          ]
        }
      ]
    },
    {
      "cell_type": "code",
      "metadata": {
        "colab": {
          "base_uri": "https://localhost:8080/"
        },
        "id": "FFUJaS2BWi8n",
        "outputId": "22ad3a57-0474-4f0a-86a0-36ca4feadb0f"
      },
      "source": [
        "print(cosine(navec['питон'],navec['змея']))"
      ],
      "execution_count": null,
      "outputs": [
        {
          "output_type": "stream",
          "name": "stdout",
          "text": [
            "0.36701798\n"
          ]
        }
      ]
    },
    {
      "cell_type": "code",
      "metadata": {
        "colab": {
          "base_uri": "https://localhost:8080/"
        },
        "id": "86UWCcENWn4q",
        "outputId": "96506bab-2a4b-45ea-f68f-6b4cea930623"
      },
      "source": [
        "print(cosine(navec['питон'],navec['java']))"
      ],
      "execution_count": null,
      "outputs": [
        {
          "output_type": "stream",
          "name": "stdout",
          "text": [
            "0.030473152\n"
          ]
        }
      ]
    },
    {
      "cell_type": "code",
      "metadata": {
        "colab": {
          "base_uri": "https://localhost:8080/"
        },
        "id": "Uy3y-shXWqjP",
        "outputId": "e565833b-7fd5-426c-bcf6-cea9be498379"
      },
      "source": [
        "print(cosine(navec['индонезия'],navec['java']))"
      ],
      "execution_count": null,
      "outputs": [
        {
          "output_type": "stream",
          "name": "stdout",
          "text": [
            "0.16179799\n"
          ]
        }
      ]
    },
    {
      "cell_type": "code",
      "metadata": {
        "colab": {
          "base_uri": "https://localhost:8080/"
        },
        "id": "u8wbhq0jWtxT",
        "outputId": "b28ccdb7-25e5-4e53-fd23-f34169f406b7"
      },
      "source": [
        "print(cosine(navec['индонезия'],navec['ява']))"
      ],
      "execution_count": null,
      "outputs": [
        {
          "output_type": "stream",
          "name": "stdout",
          "text": [
            "0.51982415\n"
          ]
        }
      ]
    },
    {
      "cell_type": "code",
      "metadata": {
        "id": "_a8j7q-HXeBr"
      },
      "source": [
        "from nltk.tokenize import WordPunctTokenizer\n",
        "\n",
        "tokenizer = WordPunctTokenizer()"
      ],
      "execution_count": null,
      "outputs": []
    },
    {
      "cell_type": "code",
      "metadata": {
        "id": "VPnWXAFoXnWz"
      },
      "source": [
        "dataset = dataset_temp.copy()"
      ],
      "execution_count": null,
      "outputs": []
    },
    {
      "cell_type": "markdown",
      "metadata": {
        "id": "kn0Oi3wia7gf"
      },
      "source": [
        "Строим эмбеддинги для предложений по эмбеддингам для слов"
      ]
    },
    {
      "cell_type": "code",
      "metadata": {
        "id": "3IVMqGDhX6wr"
      },
      "source": [
        "def embed(text):\n",
        "  res = []\n",
        "\n",
        "  tokens = tokenizer.tokenize(str(text).lower())\n",
        "\n",
        "  for token in tokens:\n",
        "    if token in navec:\n",
        "      res.append(navec[token])\n",
        "\n",
        "  if not res:\n",
        "    res.append(navec['<unk>']) # это из документации\n",
        "\n",
        "  return np.mean(res, axis=0)"
      ],
      "execution_count": null,
      "outputs": []
    },
    {
      "cell_type": "code",
      "metadata": {
        "colab": {
          "base_uri": "https://localhost:8080/"
        },
        "id": "x8-LwgQPYB-w",
        "outputId": "b2a5cd5c-be31-400f-a013-09d1d3d40c52"
      },
      "source": [
        "embed(\"Тестовый текст - это просто текст для теста\")"
      ],
      "execution_count": null,
      "outputs": [
        {
          "output_type": "execute_result",
          "data": {
            "text/plain": [
              "array([-0.09564245, -0.01535456,  0.12325782, -0.06663185, -0.20047495,\n",
              "        0.03183787,  0.26239553,  0.35224754,  0.2521219 , -0.07307456,\n",
              "       -0.307853  ,  0.01662676,  0.02816503,  0.06181916,  0.06616659,\n",
              "       -0.08646315, -0.01595033, -0.18428268,  0.03257051,  0.30827984,\n",
              "       -0.1424056 , -0.12214033, -0.06059988,  0.34464318,  0.06410901,\n",
              "       -0.12486495, -0.33976468,  0.38941613, -0.05564322, -0.08336477,\n",
              "       -0.00159295,  0.30793437,  0.5169112 ,  0.39479265, -0.09011184,\n",
              "        0.08616064, -0.04342553, -0.01709452,  0.00687668,  0.04990578,\n",
              "        0.09723997,  0.06334966,  0.0321274 , -0.07932533,  0.23986931,\n",
              "       -0.08293863, -0.00717402,  0.05017046,  0.05389752, -0.15716644,\n",
              "       -0.1395224 , -0.25135663, -0.22502461,  0.01293752,  0.05510895,\n",
              "        0.2168825 , -0.16007565, -0.01202961, -0.2204808 ,  0.16102086,\n",
              "        0.20584778, -0.39431804, -0.0983623 ,  0.00144196,  0.09941299,\n",
              "        0.1484852 ,  0.24532807,  0.3359027 ,  0.13392086,  0.05536381,\n",
              "       -0.03512681, -0.16829994,  0.18315567, -0.01481626,  0.08724291,\n",
              "        0.21493776, -0.03547473,  0.15321171, -0.02508703, -0.03412712,\n",
              "       -0.43365887, -0.01620351, -0.24639688, -0.23510063, -0.07378476,\n",
              "        0.1089892 , -0.11835538,  0.13368054,  0.10586061, -0.16802917,\n",
              "        0.09983126, -0.273052  , -0.02426104,  0.04976049, -0.17094453,\n",
              "        0.17284666, -0.27417225,  0.09757397,  0.07199389, -0.4998892 ,\n",
              "        0.05869174,  0.22435918, -0.15813246,  0.02806381, -0.01956407,\n",
              "        0.10566415, -0.268617  ,  0.10542089,  0.15303485, -0.10169082,\n",
              "        0.0657878 , -0.27369758, -0.2994658 ,  0.15443656, -0.17230098,\n",
              "        0.14238834,  0.02633971,  0.08950927,  0.13925831,  0.11988835,\n",
              "        0.49553296, -0.0133022 , -0.15627085,  0.37523422,  0.04065294,\n",
              "       -0.20668295, -0.28277203, -0.26205304,  0.13990931,  0.09159238,\n",
              "        0.19158837, -0.12550174, -0.12068283,  0.03091687, -0.20726988,\n",
              "        0.17140187,  0.16394813, -0.2780461 ,  0.16897587, -0.16339932,\n",
              "        0.18403104,  0.23273262, -0.10309495,  0.08290056, -0.28415647,\n",
              "       -0.34015104,  0.04116785,  0.07557608,  0.03192897,  0.2997382 ,\n",
              "       -0.01042033,  0.07548489, -0.26748604, -0.07857981,  0.08982118,\n",
              "       -0.09294449,  0.05528224,  0.06552945, -0.08160304,  0.10013378,\n",
              "       -0.15791735,  0.04304091, -0.09318658, -0.21547022,  0.19343522,\n",
              "       -0.01741695,  0.07376888,  0.11538548, -0.1950549 , -0.00234678,\n",
              "        0.17372702,  0.14335077, -0.21800816,  0.24925737,  0.1687428 ,\n",
              "       -0.04333812,  0.11425711,  0.07216501, -0.0610699 , -0.13998443,\n",
              "       -0.04243704, -0.01106464, -0.04541271,  0.0012585 ,  0.19369689,\n",
              "        0.04400733, -0.21400908, -0.3531554 , -0.02439884,  0.5959962 ,\n",
              "       -0.19045778, -0.006795  ,  0.06798027,  0.12537323,  0.06807672,\n",
              "        0.16474138,  0.1287923 , -0.04235288,  0.28406712,  0.2494634 ,\n",
              "        0.10762922,  0.05671942,  0.11234771,  0.19091533,  0.27363184,\n",
              "       -0.3126181 , -0.14499275,  0.0711835 , -0.07225253,  0.0497472 ,\n",
              "        0.11960135, -0.14635435,  0.03263824, -0.13603523, -0.0606147 ,\n",
              "       -0.08348248, -0.02685917,  0.11135159, -0.14273618, -0.04842813,\n",
              "        0.20362158,  0.2809108 ,  0.16150694,  0.01761334,  0.2237734 ,\n",
              "        0.18103863, -0.11703319, -0.20584191,  0.12943767, -0.05394514,\n",
              "       -0.02911442, -0.26655358, -0.143975  ,  0.10829767, -0.08867435,\n",
              "       -0.07189477, -0.04444656, -0.06349129,  0.01142601,  0.14774211,\n",
              "        0.14486833, -0.05929264, -0.10243361, -0.18106294, -0.10108133,\n",
              "       -0.17699419, -0.00485218,  0.14486013, -0.08135425, -0.22779116,\n",
              "        0.24985401,  0.12294678, -0.1108558 , -0.08643834,  0.09860309,\n",
              "       -0.27582124, -0.1455472 ,  0.12402944, -0.36868328,  0.1062217 ,\n",
              "        0.27230433, -0.243679  ,  0.17501864,  0.08039875,  0.05671323,\n",
              "        0.38154063,  0.5094281 ,  0.08828153, -0.23861706,  0.28661063,\n",
              "       -0.05681708,  0.19215353,  0.11897814, -0.10362034, -0.14057271,\n",
              "       -0.0463667 , -0.0018421 ,  0.30742988,  0.07848927,  0.02322104,\n",
              "       -0.0864263 , -0.1878772 , -0.16282947,  0.07780683,  0.31842062,\n",
              "        0.22670606, -0.17294036,  0.15771005, -0.03613908,  0.08052655,\n",
              "        0.07126494, -0.0584906 , -0.14204982,  0.13733819, -0.00593853,\n",
              "       -0.4164304 , -0.17614837, -0.23450013, -0.01524207,  0.31551504],\n",
              "      dtype=float32)"
            ]
          },
          "metadata": {},
          "execution_count": 33
        }
      ]
    },
    {
      "cell_type": "code",
      "metadata": {
        "id": "WEEcDGrIYSvr"
      },
      "source": [
        "embedded_data = [embed(x) for x in dataset] # эмбеддинги строятся примерно минуту"
      ],
      "execution_count": null,
      "outputs": []
    },
    {
      "cell_type": "code",
      "metadata": {
        "id": "8zWAl6yXZFoX"
      },
      "source": [
        "def get_result(text):\n",
        "  query = embed(text)\n",
        "  cosines = [cosine(x, query) for x in embedded_data]\n",
        "\n",
        "  for i in np.argpartition(cosines, -10)[-10:]: # Функция argpartition() возвращает массив индексов элементов исходного массива в их разбиении по указанному значению\n",
        "    print(dataset[i])"
      ],
      "execution_count": null,
      "outputs": []
    },
    {
      "cell_type": "code",
      "metadata": {
        "colab": {
          "base_uri": "https://localhost:8080/"
        },
        "id": "D6VolhWrZRd8",
        "outputId": "e9523f57-f7d7-4748-8208-67761dc66122"
      },
      "source": [
        "text = \"Какой город самый большой в мире?\"\n",
        "\n",
        "get_result(text)"
      ],
      "execution_count": null,
      "outputs": [
        {
          "output_type": "stream",
          "name": "stdout",
          "text": [
            "какой город в мире самый красивый, чтобы жить в\n",
            "какой лучший город в мире\n",
            "какой лучший город в мире\n",
            "какой самый большой океан в мире\n",
            "какой самый большой океан в мире\n",
            "какой самый большой океан в мире\n",
            "какой самый большой город в мире\n",
            "какой самый большой город в мире\n",
            "какой самый большой город в мире по площади\n",
            "какой самый большой город в мире\n"
          ]
        }
      ]
    },
    {
      "cell_type": "code",
      "metadata": {
        "colab": {
          "base_uri": "https://localhost:8080/"
        },
        "id": "8kRGD-GD0cEl",
        "outputId": "be945e78-47cc-41c4-9f7a-33baaa67ad1c"
      },
      "source": [
        "text = \"Какой вуз самый лучший?\"\n",
        "\n",
        "get_result(text)"
      ],
      "execution_count": null,
      "outputs": [
        {
          "output_type": "stream",
          "name": "stdout",
          "text": [
            "какой лучший университет\n",
            "какой лучший университет\n",
            "какой лучший колледж\n",
            "какой лучший колледж\n",
            "какой лучший dslr\n",
            "какой лучший dslr\n",
            "какой лучший колледж\n",
            "какой лучший dslr\n",
            "какой лучший метапоиска\n",
            "какой лучший видеоредактор\n"
          ]
        }
      ]
    },
    {
      "cell_type": "code",
      "metadata": {
        "colab": {
          "base_uri": "https://localhost:8080/"
        },
        "id": "wxMmZIqY0jYw",
        "outputId": "af945804-19e6-4b81-eb2d-6d9005bfafa4"
      },
      "source": [
        "text = \"Какой драматург написал пьесу «Ромео и Джульетта»\"\n",
        "\n",
        "get_result(text)"
      ],
      "execution_count": null,
      "outputs": [
        {
          "output_type": "stream",
          "name": "stdout",
          "text": [
            "Кто написал оперу Евгений Онегин?\n",
            "Уильям Шекспир писал что-нибудь, кроме пьес\n",
            "Уильям Шекспир писал что-нибудь, кроме пьес\n",
            "Какой композитор написал первую советскую рок-оперу «Орфей и Эвридика»?\n",
            "как написать сценарий комедии\n",
            "Кто автор пьесы «Ромео и Джульетта»?\n",
            "что написал Уильям Шекспир помимо пьес\n",
            "какие пьесы сыграл соавтор шекспира\n",
            "Какую оперу на сюжет «Ромео и Джульетты» написал композитор Винченцо Беллини?\n",
            "что написал Уильям Шекспир помимо пьес\n"
          ]
        }
      ]
    },
    {
      "cell_type": "code",
      "metadata": {
        "colab": {
          "base_uri": "https://localhost:8080/"
        },
        "id": "5yl9-Adn00Tf",
        "outputId": "232d752b-a212-4ee4-c167-915b3d1a920e"
      },
      "source": [
        "text = \"Какие причины у глобального потепления?\"\n",
        "\n",
        "get_result(text)"
      ],
      "execution_count": null,
      "outputs": [
        {
          "output_type": "stream",
          "name": "stdout",
          "text": [
            "какие убедительные доказательства существуют в отношении существования глобального потепления и изменения климата\n",
            "какие возможные выгоды могут быть для глобального потепления\n",
            "какие возможные выгоды могут быть для глобального потепления\n",
            "каковы некоторые важные причины и следствия в отношении глобального потепления\n",
            "каковы причины глобального потепления\n",
            "каковы основные причины глобального потепления\n",
            "каковы проблемы и последствия глобального потепления\n",
            "какие последствия глобального потепления\n",
            "каковы основные причины глобального потепления\n",
            "каковы проблемы и последствия глобального потепления\n"
          ]
        }
      ]
    },
    {
      "cell_type": "code",
      "metadata": {
        "colab": {
          "base_uri": "https://localhost:8080/"
        },
        "id": "pAYBiMCC1z2A",
        "outputId": "822df1f2-3376-4551-8a6b-17fb24016e9e"
      },
      "source": [
        "text = \"Какой сериал можно посмотреть на выходных?\"\n",
        "\n",
        "get_result(text)"
      ],
      "execution_count": null,
      "outputs": [
        {
          "output_type": "stream",
          "name": "stdout",
          "text": [
            "где я могу посмотреть фильм на море\n",
            "какой фильм я должен смотреть на netflix\n",
            "какой фильм я должен смотреть на netflix\n",
            "какой болливудский фильм лучше всего посмотреть в эти выходные\n",
            "какой фильм стоит посмотреть на rustom или mohenjo daro\n",
            "лучше смотреть на фурго, когда сериал видел фильм первым или нет\n",
            "что такое ужасный фильм, который можно посмотреть на Хэллоуин\n",
            "что такое ужасный фильм, который можно посмотреть на Хэллоуин\n",
            "где я могу скачать или посмотреть сериал серии krishi\n",
            "какой фильм я должен смотреть на netflix\n"
          ]
        }
      ]
    },
    {
      "cell_type": "code",
      "metadata": {
        "colab": {
          "base_uri": "https://localhost:8080/"
        },
        "id": "qDxoKhdyZteb",
        "outputId": "c76db50a-a1d7-4daa-ee0f-29a4e931da12"
      },
      "source": [
        "text = \"Кокой город самй бальшой?\"\n",
        "\n",
        "get_result(text)"
      ],
      "execution_count": null,
      "outputs": [
        {
          "output_type": "stream",
          "name": "stdout",
          "text": [
            "Кем был основан город Нижний Новгород?\n",
            "Бангалор - глобальный город\n",
            "город Пуне, метро\n",
            "Торонто опасный город\n",
            "Мехико город опасен\n",
            "Торонто - безопасный город\n",
            "как город Бангалор\n",
            "новый город Хэмптон\n",
            "Сиэтл - хороший город\n",
            "как город бангалор\n"
          ]
        }
      ]
    },
    {
      "cell_type": "markdown",
      "source": [
        "## Упражнение 2"
      ],
      "metadata": {
        "id": "lBi-dEz_6h6f"
      }
    },
    {
      "cell_type": "markdown",
      "metadata": {
        "id": "6aX4ZvjSaY0s"
      },
      "source": [
        "Из примера видно, что с опечатками плохо работает. Можно попробуем улучшить с помощью fasttext (см/ лекцию (https://colab.research.google.com/drive/1Tv6LPSEaYZeVt5_SjVlS_vmb86f9bp2I?usp=sharing) или с помощью исправления опечаток (см. лекцию https://colab.research.google.com/drive/1UHlWAOoWqHoEzCZuS7HhyF_xATPK8_Oq?usp=sharing)."
      ]
    },
    {
      "cell_type": "code",
      "source": [
        "import requests\n",
        "import string"
      ],
      "metadata": {
        "id": "gs97l935KQpd"
      },
      "execution_count": null,
      "outputs": []
    },
    {
      "cell_type": "markdown",
      "source": [
        "Удалить пунктуацию"
      ],
      "metadata": {
        "id": "1QrmruANYVOn"
      }
    },
    {
      "cell_type": "code",
      "source": [
        "def clear_punc(text):\n",
        "  table = str.maketrans(dict.fromkeys(string.punctuation + '«»'))\n",
        "  text = text.translate(table)\n",
        "  return text"
      ],
      "metadata": {
        "id": "D-kRTuMIYDem"
      },
      "execution_count": null,
      "outputs": []
    },
    {
      "cell_type": "code",
      "source": [
        "print(clear_punc(\"Какой город самый большой?\"))"
      ],
      "metadata": {
        "colab": {
          "base_uri": "https://localhost:8080/"
        },
        "id": "FVOraMf0a2mp",
        "outputId": "b038ea47-3eed-4836-988d-25db67ed8f26"
      },
      "execution_count": null,
      "outputs": [
        {
          "output_type": "stream",
          "name": "stdout",
          "text": [
            "Какой город самый большой\n"
          ]
        }
      ]
    },
    {
      "cell_type": "markdown",
      "source": [
        "Убрать опечатки"
      ],
      "metadata": {
        "id": "qQaOwT_fYAeQ"
      }
    },
    {
      "cell_type": "code",
      "source": [
        "def check_word(word):\n",
        "  domain = \"https://speller.yandex.net/services/spellservice.json\"\n",
        "  request = requests.get(domain + \"/checkText?text=\" + word)\n",
        "  if len(request.json()):\n",
        "    return request.json()[0][\"s\"][0]\n",
        "  else:\n",
        "    return word"
      ],
      "metadata": {
        "id": "2TBIZdAYKbfq"
      },
      "execution_count": null,
      "outputs": []
    },
    {
      "cell_type": "code",
      "source": [
        "def fix_query(text):\n",
        "  words = text.split()\n",
        "  fixed = ''\n",
        "  for word in words:\n",
        "    fixed = fixed + ' ' + check_word(word)\n",
        "  return fixed"
      ],
      "metadata": {
        "id": "OZNkZ8xALAnE"
      },
      "execution_count": null,
      "outputs": []
    },
    {
      "cell_type": "code",
      "source": [
        "test = \"Кокой город самй бальшой?\"\n",
        "test_f = fix_query(test)\n",
        "test_std = \"Какой город самый большой?\""
      ],
      "metadata": {
        "id": "Gfo90YiTLniY"
      },
      "execution_count": null,
      "outputs": []
    },
    {
      "cell_type": "code",
      "source": [
        "print(test_f)"
      ],
      "metadata": {
        "colab": {
          "base_uri": "https://localhost:8080/"
        },
        "id": "544Mch39aP0v",
        "outputId": "6ea96c89-2966-464a-8318-31b0d75c3a4a"
      },
      "execution_count": null,
      "outputs": [
        {
          "output_type": "stream",
          "name": "stdout",
          "text": [
            " Какой город самый большой\n"
          ]
        }
      ]
    },
    {
      "cell_type": "code",
      "source": [
        "a = get_result(test_f)"
      ],
      "metadata": {
        "colab": {
          "base_uri": "https://localhost:8080/"
        },
        "id": "6u7bC669SmvG",
        "outputId": "37a00396-27ef-4161-cc10-15aff106fe77"
      },
      "execution_count": null,
      "outputs": [
        {
          "output_type": "stream",
          "name": "stdout",
          "text": [
            "какой самый интересный красивый крутой город или город, который вы посетили\n",
            "какой самый большой дом в skyrim\n",
            "какой самый большой дом в skyrim\n",
            "какой самый большой город в Финляндии?\n",
            "какой самый большой город в мире\n",
            "какой самый большой город в мире\n",
            "какой самый большой город в мире\n",
            "какой самый большой город\n",
            "какой самый большой город\n",
            "какой самый большой город\n"
          ]
        }
      ]
    },
    {
      "cell_type": "markdown",
      "source": [
        "Возвращать только уникальные запросы"
      ],
      "metadata": {
        "id": "OuKqFlGUYv7j"
      }
    },
    {
      "cell_type": "code",
      "source": [
        "def get_uniq_result(text):\n",
        "  ans = set()\n",
        "  query = embed(text)\n",
        "  cosines = [cosine(x, query) for x in embedded_data]\n",
        "\n",
        "  for i in np.argpartition(cosines, -10)[-10:]: # Функция argpartition() возвращает массив индексов элементов исходного массива в их разбиении по указанному значению\n",
        "    ans.add(dataset[i])\n",
        "  return ans"
      ],
      "metadata": {
        "id": "hNxgwAfvVGDI"
      },
      "execution_count": null,
      "outputs": []
    },
    {
      "cell_type": "code",
      "source": [
        "b = get_uniq_result(test_f)"
      ],
      "metadata": {
        "id": "VZu7KEZ0NW-x"
      },
      "execution_count": null,
      "outputs": []
    },
    {
      "cell_type": "code",
      "source": [
        "print(b)"
      ],
      "metadata": {
        "colab": {
          "base_uri": "https://localhost:8080/"
        },
        "id": "KAKIrn1jTUY7",
        "outputId": "27b72809-c2ad-4242-824b-aa1d9d5de1d3"
      },
      "execution_count": null,
      "outputs": [
        {
          "output_type": "stream",
          "name": "stdout",
          "text": [
            "{'какой самый большой дом в skyrim', 'какой самый большой город в мире', 'какой самый большой город', 'какой самый большой город в Финляндии?', 'какой самый интересный красивый крутой город или город, который вы посетили'}\n"
          ]
        }
      ]
    },
    {
      "cell_type": "markdown",
      "source": [
        "Итог"
      ],
      "metadata": {
        "id": "kaj0E6CwY2Ku"
      }
    },
    {
      "cell_type": "code",
      "source": [
        "def search(text):\n",
        "  text = fix_query(clear_punc(text))\n",
        "  text = get_uniq_result(text)\n",
        "  return text"
      ],
      "metadata": {
        "id": "utSP6ZgsY3WK"
      },
      "execution_count": null,
      "outputs": []
    },
    {
      "cell_type": "markdown",
      "source": [
        "Тесты"
      ],
      "metadata": {
        "id": "WCU3hagtZSSZ"
      }
    },
    {
      "cell_type": "code",
      "source": [
        "tests = []\n",
        "tests.append('Какой город самый большой в мире?')\n",
        "tests.append('Какой вуз самый лучший?')\n",
        "tests.append('Какой драматург написал пьесу «Ромео и Джульетта»?')\n",
        "tests.append('Какие причины у глобального потепления?')\n",
        "tests.append('Какой сериал можно посмотреть на выходных?')\n",
        "tests.append('как я зарабатываю деньги в Интернете')\n",
        "tests.append('Как называется столица Румынии?')\n",
        "tests.append('какие самые глупые вопросы задают на quora')\n",
        "tests.append('Как звали дракончика Хагрида?е')\n",
        "tests.append('лучший споЧоб избежать рака')"
      ],
      "metadata": {
        "id": "vF-mg_iUWaWy"
      },
      "execution_count": null,
      "outputs": []
    },
    {
      "cell_type": "code",
      "source": [
        "print(tests)"
      ],
      "metadata": {
        "colab": {
          "base_uri": "https://localhost:8080/"
        },
        "id": "APWk2h4qdQgh",
        "outputId": "0b83c103-7f76-4cc8-b877-0b371007acda"
      },
      "execution_count": null,
      "outputs": [
        {
          "output_type": "stream",
          "name": "stdout",
          "text": [
            "['Какой город самый большой в мире?', 'Какой вуз самый лучший?', 'Какой драматург написал пьесу «Ромео и Джульетта»?', 'Какие причины у глобального потепления?', 'Какой сериал можно посмотреть на выходных?', 'как я зарабатываю деньги в Интернете', 'Как называется столица Румынии?', 'какие самые глупые вопросы задают на quora', 'Как звали дракончика Хагрида?е', 'лучший споЧоб избежать рака']\n"
          ]
        }
      ]
    },
    {
      "cell_type": "code",
      "source": [
        "for t in tests:\n",
        "  print(t)\n",
        "  print(search(t))\n",
        "  print('________')"
      ],
      "metadata": {
        "colab": {
          "base_uri": "https://localhost:8080/"
        },
        "id": "EalhyQYOWaPF",
        "outputId": "4f8b1b88-8828-4b3e-a8f6-5f0350cf7ce1"
      },
      "execution_count": null,
      "outputs": [
        {
          "output_type": "stream",
          "name": "stdout",
          "text": [
            "Какой город самый большой в мире?\n",
            "{'какой самый большой город в мире', 'какой лучший город в мире', 'какой самый большой океан в мире', 'какой город в мире самый красивый, чтобы жить в', 'какой самый большой город в мире по площади'}\n",
            "________\n",
            "Какой вуз самый лучший?\n",
            "{'какой лучший университет', 'какой лучший колледж', 'какой лучший метапоиска', 'какой лучший видеоредактор', 'какой лучший dslr'}\n",
            "________\n",
            "Какой драматург написал пьесу «Ромео и Джульетта»?\n",
            "{'Какую оперу на сюжет «Ромео и Джульетты» написал композитор Винченцо Беллини?', 'как написать сценарий комедии', 'Уильям Шекспир писал что-нибудь, кроме пьес', 'Кто написал оперу Евгений Онегин?', 'Кто автор пьесы «Ромео и Джульетта»?', 'что написал Уильям Шекспир помимо пьес', 'Какой композитор написал первую советскую рок-оперу «Орфей и Эвридика»?', 'какие пьесы сыграл соавтор шекспира'}\n",
            "________\n",
            "Какие причины у глобального потепления?\n",
            "{'какие убедительные доказательства существуют в отношении существования глобального потепления и изменения климата', 'каковы проблемы и последствия глобального потепления', 'каковы некоторые важные причины и следствия в отношении глобального потепления', 'каковы основные причины глобального потепления', 'каковы причины глобального потепления', 'какие последствия глобального потепления', 'какие возможные выгоды могут быть для глобального потепления'}\n",
            "________\n",
            "Какой сериал можно посмотреть на выходных?\n",
            "{'где я могу скачать или посмотреть сериал серии krishi', 'какой болливудский фильм лучше всего посмотреть в эти выходные', 'какой фильм стоит посмотреть на rustom или mohenjo daro', 'какой фильм я должен смотреть на netflix', 'что такое ужасный фильм, который можно посмотреть на Хэллоуин', 'лучше смотреть на фурго, когда сериал видел фильм первым или нет', 'где я могу посмотреть фильм на море'}\n",
            "________\n",
            "как я зарабатываю деньги в Интернете\n",
            "{'как я зарабатываю деньги в Интернете'}\n",
            "________\n",
            "Как называется столица Румынии?\n",
            "{'Как называется столица Эстонии?', 'почему страна Турции не называется туркистан', 'Как называется столица Кампучии?', 'Какая столица Финляндии?', 'Как называется столица Канады?', 'Какая столица в Великобритании?', 'где находится столица Китая', 'что такое столица Турции', 'Как называется столица Камбоджи?', 'Как называется столица Румынии?'}\n",
            "________\n",
            "какие самые глупые вопросы задают на quora\n",
            "{'какие-то самые глупые вопросы, заданные на quora', 'какие самые глупые вопросы задают на quora', 'какие самые случайные вопросы задают на quora', 'какие-то глупые безумные вопросы, заданные на quora', 'какие худшие самые глупые вопросы, заданные на quora', 'какие глупые вопросы задают на quora', 'какие забавные вопросы задают на quora'}\n",
            "________\n",
            "Как звали дракончика Хагрида?е\n",
            "{'Как звали маму Гарри Поттера?', 'Как звали мать Гаусса?', 'Как звали отца Северуса Снейпа?', 'Как звали кошку \"домомучительницы\" Малыша?', 'Как зовут сову Гарри Поттера?', 'Как звали маму Северуса Снейпа?', 'Как звали мать мифологического Минотавра?', 'Как звали отца Одиссея?', 'Как звали дракончика Хагрида?', 'Как звали сына Драко?'}\n",
            "________\n",
            "лучший споЧоб избежать рака\n",
            "{'какой лучший способ избежать неприятностей', 'лучший способ избежать рака', 'лучший способ самоубийства', 'лучший способ лечения анкилозирующего спондилоартрита', 'лучший способ избежать боли', 'лучший способ избежать стресса'}\n",
            "________\n"
          ]
        }
      ]
    }
  ]
}