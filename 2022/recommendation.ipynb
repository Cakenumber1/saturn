{
  "nbformat": 4,
  "nbformat_minor": 0,
  "metadata": {
    "colab": {
      "name": "Копия блокнота \"IR 3 Recommendation задание.ipynb\"",
      "provenance": [],
      "collapsed_sections": [],
      "toc_visible": true
    },
    "kernelspec": {
      "display_name": "Python 3",
      "language": "python",
      "name": "python3"
    },
    "language_info": {
      "codemirror_mode": {
        "name": "ipython",
        "version": 3
      },
      "file_extension": ".py",
      "mimetype": "text/x-python",
      "name": "python",
      "nbconvert_exporter": "python",
      "pygments_lexer": "ipython3",
      "version": "3.8.5"
    }
  },
  "cells": [
    {
      "cell_type": "markdown",
      "metadata": {
        "id": "9p4V680CkDk9"
      },
      "source": [
        "# The Movies Dataset TF-IDF Content-Based Recommendation"
      ]
    },
    {
      "cell_type": "markdown",
      "source": [
        "##Понимание данных:"
      ],
      "metadata": {
        "id": "c7EZV5qHpz0f"
      }
    },
    {
      "cell_type": "markdown",
      "metadata": {
        "id": "6LjaWDDidlE0"
      },
      "source": [
        "### Набор данных"
      ]
    },
    {
      "cell_type": "markdown",
      "metadata": {
        "id": "bYr4k6hldlE1"
      },
      "source": [
        "Дан набор данных, содержащий информацию о 45,000 фильмах, выпущенных до июля 2017 года. Набор данных представлен на ресурсе Kaggle по ссылке https://www.kaggle.com/rounakbanik/the-movies-dataset\n",
        "где представлено следующее описание составляющих файлов (выполнен перевод на русский язык):"
      ]
    },
    {
      "cell_type": "markdown",
      "metadata": {
        "id": "X9NqoYy3kQHB"
      },
      "source": [
        "`movies_metadata.csv:` Основной файл метаданных фильмов. Содержит информацию о 45 000 фильмов, представленных в наборе данных Full MovieLens. В таблицы представлены плакаты, фоны, бюджет, доход, даты выпуска, языки, страны-производители и компании.\n",
        "\n",
        "`keywords.csv:` Содержит ключевые слова сюжета для наших фильмов MovieLens. Доступен в виде строкового объекта JSON.\n",
        "\n",
        "`credits.csv:` Состоит из информации об актерах и съемках всех наших фильмов. Доступен в виде строкового объекта JSON. \n",
        "\n",
        "`links.csv:` Файл содержит идентификаторы TMDB и IMDB всех фильмов, представленных в наборе данных Full MovieLens.\n",
        "\n",
        "`links_small.csv:` Содержит идентификаторы TMDB и IMDB небольшого подмножества из 9000 фильмов полного набора данных.\n",
        "\n",
        "`ratings_small.csv:` Подмножество 100 000 оценок от 700 пользователей на 9 000 фильмов.\n",
        "\n",
        "`ratings.csv `- файл, содержащий полный список оценок, выставленных пользователями фильмам\n",
        "\n"
      ]
    },
    {
      "cell_type": "markdown",
      "metadata": {
        "id": "Uw1KKxsgdlE4"
      },
      "source": [
        "Рассмотрим подробнее две таблицы:"
      ]
    },
    {
      "cell_type": "markdown",
      "metadata": {
        "id": "s2KeDbdAdlE4"
      },
      "source": [
        "*   `movies_metadata.csv `\n",
        "*   `ratings.csv `"
      ]
    },
    {
      "cell_type": "code",
      "metadata": {
        "id": "l7PzPczhAF63"
      },
      "source": [
        "import pandas as pd\n",
        "import numpy as np"
      ],
      "execution_count": null,
      "outputs": []
    },
    {
      "cell_type": "code",
      "source": [
        "! pip install --upgrade --no-cache-dir gdown"
      ],
      "metadata": {
        "colab": {
          "base_uri": "https://localhost:8080/"
        },
        "id": "aZyzhbwY5Y8Y",
        "outputId": "e63ec5fe-86a9-4f1f-bbc9-98ce1f7fc79a"
      },
      "execution_count": null,
      "outputs": [
        {
          "output_type": "stream",
          "name": "stdout",
          "text": [
            "Requirement already satisfied: gdown in /usr/local/lib/python3.7/dist-packages (4.2.2)\n",
            "Collecting gdown\n",
            "  Downloading gdown-4.4.0.tar.gz (14 kB)\n",
            "  Installing build dependencies ... \u001b[?25l\u001b[?25hdone\n",
            "  Getting requirements to build wheel ... \u001b[?25l\u001b[?25hdone\n",
            "    Preparing wheel metadata ... \u001b[?25l\u001b[?25hdone\n",
            "Requirement already satisfied: filelock in /usr/local/lib/python3.7/dist-packages (from gdown) (3.6.0)\n",
            "Requirement already satisfied: requests[socks] in /usr/local/lib/python3.7/dist-packages (from gdown) (2.23.0)\n",
            "Requirement already satisfied: beautifulsoup4 in /usr/local/lib/python3.7/dist-packages (from gdown) (4.6.3)\n",
            "Requirement already satisfied: six in /usr/local/lib/python3.7/dist-packages (from gdown) (1.15.0)\n",
            "Requirement already satisfied: tqdm in /usr/local/lib/python3.7/dist-packages (from gdown) (4.63.0)\n",
            "Requirement already satisfied: urllib3!=1.25.0,!=1.25.1,<1.26,>=1.21.1 in /usr/local/lib/python3.7/dist-packages (from requests[socks]->gdown) (1.24.3)\n",
            "Requirement already satisfied: idna<3,>=2.5 in /usr/local/lib/python3.7/dist-packages (from requests[socks]->gdown) (2.10)\n",
            "Requirement already satisfied: certifi>=2017.4.17 in /usr/local/lib/python3.7/dist-packages (from requests[socks]->gdown) (2021.10.8)\n",
            "Requirement already satisfied: chardet<4,>=3.0.2 in /usr/local/lib/python3.7/dist-packages (from requests[socks]->gdown) (3.0.4)\n",
            "Requirement already satisfied: PySocks!=1.5.7,>=1.5.6 in /usr/local/lib/python3.7/dist-packages (from requests[socks]->gdown) (1.7.1)\n",
            "Building wheels for collected packages: gdown\n",
            "  Building wheel for gdown (PEP 517) ... \u001b[?25l\u001b[?25hdone\n",
            "  Created wheel for gdown: filename=gdown-4.4.0-py3-none-any.whl size=14774 sha256=933e81e30d4f3296134fad477af62336cdba396dce344f5389dfd203a3b9cee1\n",
            "  Stored in directory: /tmp/pip-ephem-wheel-cache-m75zchaf/wheels/fb/c3/0e/c4d8ff8bfcb0461afff199471449f642179b74968c15b7a69c\n",
            "Successfully built gdown\n",
            "Installing collected packages: gdown\n",
            "  Attempting uninstall: gdown\n",
            "    Found existing installation: gdown 4.2.2\n",
            "    Uninstalling gdown-4.2.2:\n",
            "      Successfully uninstalled gdown-4.2.2\n",
            "Successfully installed gdown-4.4.0\n"
          ]
        }
      ]
    },
    {
      "cell_type": "code",
      "metadata": {
        "colab": {
          "base_uri": "https://localhost:8080/"
        },
        "id": "H0lOsH_JdvWk",
        "outputId": "7d2277f5-6717-4bb0-8cdd-f139776c800d"
      },
      "source": [
        "!gdown 18PC17_iR9f4WuGIKLSHU3drPt1jdCofA"
      ],
      "execution_count": null,
      "outputs": [
        {
          "output_type": "stream",
          "name": "stdout",
          "text": [
            "Downloading...\n",
            "From: https://drive.google.com/uc?id=18PC17_iR9f4WuGIKLSHU3drPt1jdCofA\n",
            "To: /content/ratings.csv\n",
            "100% 710M/710M [00:03<00:00, 199MB/s]\n"
          ]
        }
      ]
    },
    {
      "cell_type": "code",
      "source": [
        "!gdown 1wTPUbZx4C2zhdqzPk3yxKyVZJIxQcsvy"
      ],
      "metadata": {
        "colab": {
          "base_uri": "https://localhost:8080/"
        },
        "id": "ux-ilGHh75DD",
        "outputId": "354440a5-0817-4d39-b0ca-f205e1c3b7f3"
      },
      "execution_count": null,
      "outputs": [
        {
          "output_type": "stream",
          "name": "stdout",
          "text": [
            "Downloading...\n",
            "From: https://drive.google.com/uc?id=1wTPUbZx4C2zhdqzPk3yxKyVZJIxQcsvy\n",
            "To: /content/movies_metadata.csv\n",
            "\r  0% 0.00/34.4M [00:00<?, ?B/s]\r 27% 9.44M/34.4M [00:00<00:00, 93.5MB/s]\r 97% 33.6M/34.4M [00:00<00:00, 179MB/s] \r100% 34.4M/34.4M [00:00<00:00, 168MB/s]\n"
          ]
        }
      ]
    },
    {
      "cell_type": "markdown",
      "source": [
        "Начинаем с анализа датафрейма movies_metadata"
      ],
      "metadata": {
        "id": "7qhC1HNfsKQt"
      }
    },
    {
      "cell_type": "code",
      "metadata": {
        "id": "w_HKKqGQgVzn",
        "colab": {
          "base_uri": "https://localhost:8080/"
        },
        "outputId": "4495227e-c89d-4d3a-c652-38fa95956d16"
      },
      "source": [
        "metadata = pd.read_csv(\"movies_metadata.csv\")"
      ],
      "execution_count": null,
      "outputs": [
        {
          "output_type": "stream",
          "name": "stderr",
          "text": [
            "/usr/local/lib/python3.7/dist-packages/IPython/core/interactiveshell.py:2882: DtypeWarning: Columns (10) have mixed types.Specify dtype option on import or set low_memory=False.\n",
            "  exec(code_obj, self.user_global_ns, self.user_ns)\n"
          ]
        }
      ]
    },
    {
      "cell_type": "markdown",
      "source": [
        "## Задание 1"
      ],
      "metadata": {
        "id": "gV0jRXVz9lPU"
      }
    },
    {
      "cell_type": "markdown",
      "source": [
        "Удадите из датафрейма metadata строки, в которых отсутствует описание. Обратите внимание, что у некоторых фильмов формально описание есть, но там написано No overview found, No overview, No movie overview available, Released. Такие строки тоже нужно удалить. "
      ],
      "metadata": {
        "id": "ZUIzBKCL9o2O"
      }
    },
    {
      "cell_type": "code",
      "source": [
        "metadata = pd.read_csv(\"movies_metadata.csv\")\n",
        "metadata.shape"
      ],
      "metadata": {
        "colab": {
          "base_uri": "https://localhost:8080/"
        },
        "id": "KM-kuRI0o2ee",
        "outputId": "98fcb7c9-57a7-45c7-af8d-b1204c9384bf"
      },
      "execution_count": null,
      "outputs": [
        {
          "output_type": "stream",
          "name": "stderr",
          "text": [
            "/usr/local/lib/python3.7/dist-packages/IPython/core/interactiveshell.py:2882: DtypeWarning: Columns (10) have mixed types.Specify dtype option on import or set low_memory=False.\n",
            "  exec(code_obj, self.user_global_ns, self.user_ns)\n"
          ]
        },
        {
          "output_type": "execute_result",
          "data": {
            "text/plain": [
              "(45466, 24)"
            ]
          },
          "metadata": {},
          "execution_count": 6
        }
      ]
    },
    {
      "cell_type": "code",
      "source": [
        "metadata = metadata.dropna()\n",
        "metadata.shape"
      ],
      "metadata": {
        "colab": {
          "base_uri": "https://localhost:8080/"
        },
        "id": "LoiX4rO2mFRm",
        "outputId": "adb2d9c1-2acf-438c-cd10-5edfdf1abbb4"
      },
      "execution_count": null,
      "outputs": [
        {
          "output_type": "execute_result",
          "data": {
            "text/plain": [
              "(693, 24)"
            ]
          },
          "metadata": {},
          "execution_count": 7
        }
      ]
    },
    {
      "cell_type": "code",
      "source": [
        "my_list = [np.NaN, \"No overview found.\", \"No overview\", \"No movie overview available\", \"Released\", \"\"]"
      ],
      "metadata": {
        "id": "gWsxHkZKseyU"
      },
      "execution_count": null,
      "outputs": []
    },
    {
      "cell_type": "code",
      "source": [
        "metadata = metadata[~metadata['overview'].isin(my_list)]"
      ],
      "metadata": {
        "id": "Qm44lZ41simr"
      },
      "execution_count": null,
      "outputs": []
    },
    {
      "cell_type": "code",
      "source": [
        "filter = (metadata['overview'].str.len() > 20)\n",
        "metadata = metadata.loc[filter]"
      ],
      "metadata": {
        "id": "CTKyRvBpmZ-9"
      },
      "execution_count": null,
      "outputs": []
    },
    {
      "cell_type": "markdown",
      "source": [
        "## Задание 2"
      ],
      "metadata": {
        "id": "o6z6ZUDkwJa6"
      }
    },
    {
      "cell_type": "markdown",
      "source": [
        "Оставьте в датафрейме столбцы `'id', 'imdb_id', 'overview', 'title'`. Выведите 10 случайных строк."
      ],
      "metadata": {
        "id": "3GLq8eNA-a4q"
      }
    },
    {
      "cell_type": "code",
      "source": [
        "metadata = metadata[['id', 'imdb_id', 'overview', 'title']]\n",
        "metadata.sample(10)"
      ],
      "metadata": {
        "colab": {
          "base_uri": "https://localhost:8080/",
          "height": 362
        },
        "id": "qNxzZifdq43u",
        "outputId": "5330ff2f-5802-49d1-e77a-f9b3fbedfc4a"
      },
      "execution_count": null,
      "outputs": [
        {
          "output_type": "execute_result",
          "data": {
            "text/plain": [
              "           id    imdb_id                                           overview  \\\n",
              "15910   43933  tt1470827  Six years ago NASA discovered the possibility ...   \n",
              "35220  329833  tt1608290  Derek and Hansel are modelling again when an o...   \n",
              "16911   60307  tt1650043  Back in middle school after summer vacation, G...   \n",
              "1976    12230  tt0055254  When a litter of dalmatian puppies are abducte...   \n",
              "26502   58664  tt1052024  Based on the successful book series by R.L. St...   \n",
              "20815   76589  tt2027128  An adaptation of Mark Waid's \"Tower of Babel\" ...   \n",
              "18252   49026  tt1345836  Following the death of District Attorney Harve...   \n",
              "7333    36670  tt0086006  James Bond returns as the secret agent 007 one...   \n",
              "6723    11059  tt0317676  Set on an island off the coast, a techno rave ...   \n",
              "10386    8923  tt0385002  After being wrongfully expelled from Harvard U...   \n",
              "\n",
              "                                     title  \n",
              "15910                             Monsters  \n",
              "35220                          Zoolander 2  \n",
              "16911  Diary of a Wimpy Kid: Rodrick Rules  \n",
              "1976        One Hundred and One Dalmatians  \n",
              "26502                       Mostly Ghostly  \n",
              "20815                 Justice League: Doom  \n",
              "18252                The Dark Knight Rises  \n",
              "7333                 Never Say Never Again  \n",
              "6723                     House of the Dead  \n",
              "10386               Green Street Hooligans  "
            ],
            "text/html": [
              "\n",
              "  <div id=\"df-8ee501ef-da75-4b5d-867f-1fc1a944afc9\">\n",
              "    <div class=\"colab-df-container\">\n",
              "      <div>\n",
              "<style scoped>\n",
              "    .dataframe tbody tr th:only-of-type {\n",
              "        vertical-align: middle;\n",
              "    }\n",
              "\n",
              "    .dataframe tbody tr th {\n",
              "        vertical-align: top;\n",
              "    }\n",
              "\n",
              "    .dataframe thead th {\n",
              "        text-align: right;\n",
              "    }\n",
              "</style>\n",
              "<table border=\"1\" class=\"dataframe\">\n",
              "  <thead>\n",
              "    <tr style=\"text-align: right;\">\n",
              "      <th></th>\n",
              "      <th>id</th>\n",
              "      <th>imdb_id</th>\n",
              "      <th>overview</th>\n",
              "      <th>title</th>\n",
              "    </tr>\n",
              "  </thead>\n",
              "  <tbody>\n",
              "    <tr>\n",
              "      <th>15910</th>\n",
              "      <td>43933</td>\n",
              "      <td>tt1470827</td>\n",
              "      <td>Six years ago NASA discovered the possibility ...</td>\n",
              "      <td>Monsters</td>\n",
              "    </tr>\n",
              "    <tr>\n",
              "      <th>35220</th>\n",
              "      <td>329833</td>\n",
              "      <td>tt1608290</td>\n",
              "      <td>Derek and Hansel are modelling again when an o...</td>\n",
              "      <td>Zoolander 2</td>\n",
              "    </tr>\n",
              "    <tr>\n",
              "      <th>16911</th>\n",
              "      <td>60307</td>\n",
              "      <td>tt1650043</td>\n",
              "      <td>Back in middle school after summer vacation, G...</td>\n",
              "      <td>Diary of a Wimpy Kid: Rodrick Rules</td>\n",
              "    </tr>\n",
              "    <tr>\n",
              "      <th>1976</th>\n",
              "      <td>12230</td>\n",
              "      <td>tt0055254</td>\n",
              "      <td>When a litter of dalmatian puppies are abducte...</td>\n",
              "      <td>One Hundred and One Dalmatians</td>\n",
              "    </tr>\n",
              "    <tr>\n",
              "      <th>26502</th>\n",
              "      <td>58664</td>\n",
              "      <td>tt1052024</td>\n",
              "      <td>Based on the successful book series by R.L. St...</td>\n",
              "      <td>Mostly Ghostly</td>\n",
              "    </tr>\n",
              "    <tr>\n",
              "      <th>20815</th>\n",
              "      <td>76589</td>\n",
              "      <td>tt2027128</td>\n",
              "      <td>An adaptation of Mark Waid's \"Tower of Babel\" ...</td>\n",
              "      <td>Justice League: Doom</td>\n",
              "    </tr>\n",
              "    <tr>\n",
              "      <th>18252</th>\n",
              "      <td>49026</td>\n",
              "      <td>tt1345836</td>\n",
              "      <td>Following the death of District Attorney Harve...</td>\n",
              "      <td>The Dark Knight Rises</td>\n",
              "    </tr>\n",
              "    <tr>\n",
              "      <th>7333</th>\n",
              "      <td>36670</td>\n",
              "      <td>tt0086006</td>\n",
              "      <td>James Bond returns as the secret agent 007 one...</td>\n",
              "      <td>Never Say Never Again</td>\n",
              "    </tr>\n",
              "    <tr>\n",
              "      <th>6723</th>\n",
              "      <td>11059</td>\n",
              "      <td>tt0317676</td>\n",
              "      <td>Set on an island off the coast, a techno rave ...</td>\n",
              "      <td>House of the Dead</td>\n",
              "    </tr>\n",
              "    <tr>\n",
              "      <th>10386</th>\n",
              "      <td>8923</td>\n",
              "      <td>tt0385002</td>\n",
              "      <td>After being wrongfully expelled from Harvard U...</td>\n",
              "      <td>Green Street Hooligans</td>\n",
              "    </tr>\n",
              "  </tbody>\n",
              "</table>\n",
              "</div>\n",
              "      <button class=\"colab-df-convert\" onclick=\"convertToInteractive('df-8ee501ef-da75-4b5d-867f-1fc1a944afc9')\"\n",
              "              title=\"Convert this dataframe to an interactive table.\"\n",
              "              style=\"display:none;\">\n",
              "        \n",
              "  <svg xmlns=\"http://www.w3.org/2000/svg\" height=\"24px\"viewBox=\"0 0 24 24\"\n",
              "       width=\"24px\">\n",
              "    <path d=\"M0 0h24v24H0V0z\" fill=\"none\"/>\n",
              "    <path d=\"M18.56 5.44l.94 2.06.94-2.06 2.06-.94-2.06-.94-.94-2.06-.94 2.06-2.06.94zm-11 1L8.5 8.5l.94-2.06 2.06-.94-2.06-.94L8.5 2.5l-.94 2.06-2.06.94zm10 10l.94 2.06.94-2.06 2.06-.94-2.06-.94-.94-2.06-.94 2.06-2.06.94z\"/><path d=\"M17.41 7.96l-1.37-1.37c-.4-.4-.92-.59-1.43-.59-.52 0-1.04.2-1.43.59L10.3 9.45l-7.72 7.72c-.78.78-.78 2.05 0 2.83L4 21.41c.39.39.9.59 1.41.59.51 0 1.02-.2 1.41-.59l7.78-7.78 2.81-2.81c.8-.78.8-2.07 0-2.86zM5.41 20L4 18.59l7.72-7.72 1.47 1.35L5.41 20z\"/>\n",
              "  </svg>\n",
              "      </button>\n",
              "      \n",
              "  <style>\n",
              "    .colab-df-container {\n",
              "      display:flex;\n",
              "      flex-wrap:wrap;\n",
              "      gap: 12px;\n",
              "    }\n",
              "\n",
              "    .colab-df-convert {\n",
              "      background-color: #E8F0FE;\n",
              "      border: none;\n",
              "      border-radius: 50%;\n",
              "      cursor: pointer;\n",
              "      display: none;\n",
              "      fill: #1967D2;\n",
              "      height: 32px;\n",
              "      padding: 0 0 0 0;\n",
              "      width: 32px;\n",
              "    }\n",
              "\n",
              "    .colab-df-convert:hover {\n",
              "      background-color: #E2EBFA;\n",
              "      box-shadow: 0px 1px 2px rgba(60, 64, 67, 0.3), 0px 1px 3px 1px rgba(60, 64, 67, 0.15);\n",
              "      fill: #174EA6;\n",
              "    }\n",
              "\n",
              "    [theme=dark] .colab-df-convert {\n",
              "      background-color: #3B4455;\n",
              "      fill: #D2E3FC;\n",
              "    }\n",
              "\n",
              "    [theme=dark] .colab-df-convert:hover {\n",
              "      background-color: #434B5C;\n",
              "      box-shadow: 0px 1px 3px 1px rgba(0, 0, 0, 0.15);\n",
              "      filter: drop-shadow(0px 1px 2px rgba(0, 0, 0, 0.3));\n",
              "      fill: #FFFFFF;\n",
              "    }\n",
              "  </style>\n",
              "\n",
              "      <script>\n",
              "        const buttonEl =\n",
              "          document.querySelector('#df-8ee501ef-da75-4b5d-867f-1fc1a944afc9 button.colab-df-convert');\n",
              "        buttonEl.style.display =\n",
              "          google.colab.kernel.accessAllowed ? 'block' : 'none';\n",
              "\n",
              "        async function convertToInteractive(key) {\n",
              "          const element = document.querySelector('#df-8ee501ef-da75-4b5d-867f-1fc1a944afc9');\n",
              "          const dataTable =\n",
              "            await google.colab.kernel.invokeFunction('convertToInteractive',\n",
              "                                                     [key], {});\n",
              "          if (!dataTable) return;\n",
              "\n",
              "          const docLinkHtml = 'Like what you see? Visit the ' +\n",
              "            '<a target=\"_blank\" href=https://colab.research.google.com/notebooks/data_table.ipynb>data table notebook</a>'\n",
              "            + ' to learn more about interactive tables.';\n",
              "          element.innerHTML = '';\n",
              "          dataTable['output_type'] = 'display_data';\n",
              "          await google.colab.output.renderOutput(dataTable, element);\n",
              "          const docLink = document.createElement('div');\n",
              "          docLink.innerHTML = docLinkHtml;\n",
              "          element.appendChild(docLink);\n",
              "        }\n",
              "      </script>\n",
              "    </div>\n",
              "  </div>\n",
              "  "
            ]
          },
          "metadata": {},
          "execution_count": 9
        }
      ]
    },
    {
      "cell_type": "markdown",
      "source": [
        "# Задание 3"
      ],
      "metadata": {
        "id": "1smb9t1BJy1P"
      }
    },
    {
      "cell_type": "code",
      "metadata": {
        "id": "WXtmNkXLTCfF"
      },
      "source": [
        "ratings = pd.read_csv(\"ratings.csv\")"
      ],
      "execution_count": null,
      "outputs": []
    },
    {
      "cell_type": "code",
      "metadata": {
        "colab": {
          "base_uri": "https://localhost:8080/",
          "height": 362
        },
        "id": "quIoezkBTGZZ",
        "outputId": "8ac62f1d-fbb4-4804-df6c-ba85e863644b"
      },
      "source": [
        "ratings.head(10)"
      ],
      "execution_count": null,
      "outputs": [
        {
          "output_type": "execute_result",
          "data": {
            "text/plain": [
              "   userId  movieId  rating   timestamp\n",
              "0       1      110     1.0  1425941529\n",
              "1       1      147     4.5  1425942435\n",
              "2       1      858     5.0  1425941523\n",
              "3       1     1221     5.0  1425941546\n",
              "4       1     1246     5.0  1425941556\n",
              "5       1     1968     4.0  1425942148\n",
              "6       1     2762     4.5  1425941300\n",
              "7       1     2918     5.0  1425941593\n",
              "8       1     2959     4.0  1425941601\n",
              "9       1     4226     4.0  1425942228"
            ],
            "text/html": [
              "\n",
              "  <div id=\"df-5a5e2f5e-2be6-427e-9232-bb3871cf51cd\">\n",
              "    <div class=\"colab-df-container\">\n",
              "      <div>\n",
              "<style scoped>\n",
              "    .dataframe tbody tr th:only-of-type {\n",
              "        vertical-align: middle;\n",
              "    }\n",
              "\n",
              "    .dataframe tbody tr th {\n",
              "        vertical-align: top;\n",
              "    }\n",
              "\n",
              "    .dataframe thead th {\n",
              "        text-align: right;\n",
              "    }\n",
              "</style>\n",
              "<table border=\"1\" class=\"dataframe\">\n",
              "  <thead>\n",
              "    <tr style=\"text-align: right;\">\n",
              "      <th></th>\n",
              "      <th>userId</th>\n",
              "      <th>movieId</th>\n",
              "      <th>rating</th>\n",
              "      <th>timestamp</th>\n",
              "    </tr>\n",
              "  </thead>\n",
              "  <tbody>\n",
              "    <tr>\n",
              "      <th>0</th>\n",
              "      <td>1</td>\n",
              "      <td>110</td>\n",
              "      <td>1.0</td>\n",
              "      <td>1425941529</td>\n",
              "    </tr>\n",
              "    <tr>\n",
              "      <th>1</th>\n",
              "      <td>1</td>\n",
              "      <td>147</td>\n",
              "      <td>4.5</td>\n",
              "      <td>1425942435</td>\n",
              "    </tr>\n",
              "    <tr>\n",
              "      <th>2</th>\n",
              "      <td>1</td>\n",
              "      <td>858</td>\n",
              "      <td>5.0</td>\n",
              "      <td>1425941523</td>\n",
              "    </tr>\n",
              "    <tr>\n",
              "      <th>3</th>\n",
              "      <td>1</td>\n",
              "      <td>1221</td>\n",
              "      <td>5.0</td>\n",
              "      <td>1425941546</td>\n",
              "    </tr>\n",
              "    <tr>\n",
              "      <th>4</th>\n",
              "      <td>1</td>\n",
              "      <td>1246</td>\n",
              "      <td>5.0</td>\n",
              "      <td>1425941556</td>\n",
              "    </tr>\n",
              "    <tr>\n",
              "      <th>5</th>\n",
              "      <td>1</td>\n",
              "      <td>1968</td>\n",
              "      <td>4.0</td>\n",
              "      <td>1425942148</td>\n",
              "    </tr>\n",
              "    <tr>\n",
              "      <th>6</th>\n",
              "      <td>1</td>\n",
              "      <td>2762</td>\n",
              "      <td>4.5</td>\n",
              "      <td>1425941300</td>\n",
              "    </tr>\n",
              "    <tr>\n",
              "      <th>7</th>\n",
              "      <td>1</td>\n",
              "      <td>2918</td>\n",
              "      <td>5.0</td>\n",
              "      <td>1425941593</td>\n",
              "    </tr>\n",
              "    <tr>\n",
              "      <th>8</th>\n",
              "      <td>1</td>\n",
              "      <td>2959</td>\n",
              "      <td>4.0</td>\n",
              "      <td>1425941601</td>\n",
              "    </tr>\n",
              "    <tr>\n",
              "      <th>9</th>\n",
              "      <td>1</td>\n",
              "      <td>4226</td>\n",
              "      <td>4.0</td>\n",
              "      <td>1425942228</td>\n",
              "    </tr>\n",
              "  </tbody>\n",
              "</table>\n",
              "</div>\n",
              "      <button class=\"colab-df-convert\" onclick=\"convertToInteractive('df-5a5e2f5e-2be6-427e-9232-bb3871cf51cd')\"\n",
              "              title=\"Convert this dataframe to an interactive table.\"\n",
              "              style=\"display:none;\">\n",
              "        \n",
              "  <svg xmlns=\"http://www.w3.org/2000/svg\" height=\"24px\"viewBox=\"0 0 24 24\"\n",
              "       width=\"24px\">\n",
              "    <path d=\"M0 0h24v24H0V0z\" fill=\"none\"/>\n",
              "    <path d=\"M18.56 5.44l.94 2.06.94-2.06 2.06-.94-2.06-.94-.94-2.06-.94 2.06-2.06.94zm-11 1L8.5 8.5l.94-2.06 2.06-.94-2.06-.94L8.5 2.5l-.94 2.06-2.06.94zm10 10l.94 2.06.94-2.06 2.06-.94-2.06-.94-.94-2.06-.94 2.06-2.06.94z\"/><path d=\"M17.41 7.96l-1.37-1.37c-.4-.4-.92-.59-1.43-.59-.52 0-1.04.2-1.43.59L10.3 9.45l-7.72 7.72c-.78.78-.78 2.05 0 2.83L4 21.41c.39.39.9.59 1.41.59.51 0 1.02-.2 1.41-.59l7.78-7.78 2.81-2.81c.8-.78.8-2.07 0-2.86zM5.41 20L4 18.59l7.72-7.72 1.47 1.35L5.41 20z\"/>\n",
              "  </svg>\n",
              "      </button>\n",
              "      \n",
              "  <style>\n",
              "    .colab-df-container {\n",
              "      display:flex;\n",
              "      flex-wrap:wrap;\n",
              "      gap: 12px;\n",
              "    }\n",
              "\n",
              "    .colab-df-convert {\n",
              "      background-color: #E8F0FE;\n",
              "      border: none;\n",
              "      border-radius: 50%;\n",
              "      cursor: pointer;\n",
              "      display: none;\n",
              "      fill: #1967D2;\n",
              "      height: 32px;\n",
              "      padding: 0 0 0 0;\n",
              "      width: 32px;\n",
              "    }\n",
              "\n",
              "    .colab-df-convert:hover {\n",
              "      background-color: #E2EBFA;\n",
              "      box-shadow: 0px 1px 2px rgba(60, 64, 67, 0.3), 0px 1px 3px 1px rgba(60, 64, 67, 0.15);\n",
              "      fill: #174EA6;\n",
              "    }\n",
              "\n",
              "    [theme=dark] .colab-df-convert {\n",
              "      background-color: #3B4455;\n",
              "      fill: #D2E3FC;\n",
              "    }\n",
              "\n",
              "    [theme=dark] .colab-df-convert:hover {\n",
              "      background-color: #434B5C;\n",
              "      box-shadow: 0px 1px 3px 1px rgba(0, 0, 0, 0.15);\n",
              "      filter: drop-shadow(0px 1px 2px rgba(0, 0, 0, 0.3));\n",
              "      fill: #FFFFFF;\n",
              "    }\n",
              "  </style>\n",
              "\n",
              "      <script>\n",
              "        const buttonEl =\n",
              "          document.querySelector('#df-5a5e2f5e-2be6-427e-9232-bb3871cf51cd button.colab-df-convert');\n",
              "        buttonEl.style.display =\n",
              "          google.colab.kernel.accessAllowed ? 'block' : 'none';\n",
              "\n",
              "        async function convertToInteractive(key) {\n",
              "          const element = document.querySelector('#df-5a5e2f5e-2be6-427e-9232-bb3871cf51cd');\n",
              "          const dataTable =\n",
              "            await google.colab.kernel.invokeFunction('convertToInteractive',\n",
              "                                                     [key], {});\n",
              "          if (!dataTable) return;\n",
              "\n",
              "          const docLinkHtml = 'Like what you see? Visit the ' +\n",
              "            '<a target=\"_blank\" href=https://colab.research.google.com/notebooks/data_table.ipynb>data table notebook</a>'\n",
              "            + ' to learn more about interactive tables.';\n",
              "          element.innerHTML = '';\n",
              "          dataTable['output_type'] = 'display_data';\n",
              "          await google.colab.output.renderOutput(dataTable, element);\n",
              "          const docLink = document.createElement('div');\n",
              "          docLink.innerHTML = docLinkHtml;\n",
              "          element.appendChild(docLink);\n",
              "        }\n",
              "      </script>\n",
              "    </div>\n",
              "  </div>\n",
              "  "
            ]
          },
          "metadata": {},
          "execution_count": 11
        }
      ]
    },
    {
      "cell_type": "code",
      "metadata": {
        "colab": {
          "base_uri": "https://localhost:8080/"
        },
        "id": "FUqUIWiQdlFG",
        "outputId": "6074abd5-fc04-47b5-891c-e6772f5d2aca"
      },
      "source": [
        "ratings.info()"
      ],
      "execution_count": null,
      "outputs": [
        {
          "output_type": "stream",
          "name": "stdout",
          "text": [
            "<class 'pandas.core.frame.DataFrame'>\n",
            "RangeIndex: 26024289 entries, 0 to 26024288\n",
            "Data columns (total 4 columns):\n",
            " #   Column     Dtype  \n",
            "---  ------     -----  \n",
            " 0   userId     int64  \n",
            " 1   movieId    int64  \n",
            " 2   rating     float64\n",
            " 3   timestamp  int64  \n",
            "dtypes: float64(1), int64(3)\n",
            "memory usage: 794.2 MB\n"
          ]
        }
      ]
    },
    {
      "cell_type": "markdown",
      "source": [
        "Убедимся в отсутствии пропусков"
      ],
      "metadata": {
        "id": "5n60gzmGk3yu"
      }
    },
    {
      "cell_type": "code",
      "source": [
        "pd.isnull(ratings).sum()"
      ],
      "metadata": {
        "colab": {
          "base_uri": "https://localhost:8080/"
        },
        "id": "pifpWo3ckX2b",
        "outputId": "bc6adf8e-ea84-4769-a847-ce79aec80944"
      },
      "execution_count": null,
      "outputs": [
        {
          "output_type": "execute_result",
          "data": {
            "text/plain": [
              "userId       0\n",
              "movieId      0\n",
              "rating       0\n",
              "timestamp    0\n",
              "dtype: int64"
            ]
          },
          "metadata": {},
          "execution_count": 13
        }
      ]
    },
    {
      "cell_type": "markdown",
      "source": [
        "Объедините датафреймы `metadata` и `ratings` в один. Обратите внимание, что `'id'` в  `metadata`, этот тот же самый идентификатор, что и `'movie_id'` и `ratings`. Объединять нужно по этому идентификатору (также обратите внимание на его тип данных)."
      ],
      "metadata": {
        "id": "0YKZ0PhV_2TI"
      }
    },
    {
      "cell_type": "code",
      "source": [
        "metadata['id'] = metadata['id'].astype(int) "
      ],
      "metadata": {
        "id": "KhFy6KkIs6gZ"
      },
      "execution_count": null,
      "outputs": []
    },
    {
      "cell_type": "code",
      "source": [
        "temp = pd.merge(left=metadata, right=ratings, left_on='id', right_on='movieId', how='inner')"
      ],
      "metadata": {
        "id": "8mVi2PWsrcQV"
      },
      "execution_count": null,
      "outputs": []
    },
    {
      "cell_type": "code",
      "source": [
        "temp.sample(10)"
      ],
      "metadata": {
        "colab": {
          "base_uri": "https://localhost:8080/",
          "height": 362
        },
        "id": "2n6L7G_1tF_7",
        "outputId": "7cc02364-0d06-495e-bde0-f3ae63a76fe6"
      },
      "execution_count": null,
      "outputs": [
        {
          "output_type": "execute_result",
          "data": {
            "text/plain": [
              "          id    imdb_id                                           overview  \\\n",
              "566652   588  tt0384537  The eerie and deserted ghost town of Silent Hi...   \n",
              "558761   588  tt0384537  The eerie and deserted ghost town of Silent Hi...   \n",
              "263273   708  tt0093428  James Bond helps a Russian General escape into...   \n",
              "710677  2082  tt0373883  After being committed for 17 years, Michael My...   \n",
              "128054   199  tt0117731  The Borg, a relentless race of cyborgs, are on...   \n",
              "558572   588  tt0384537  The eerie and deserted ghost town of Silent Hi...   \n",
              "46101    329  tt0107290  A wealthy entrepreneur secretly creates a them...   \n",
              "555150   588  tt0384537  The eerie and deserted ghost town of Silent Hi...   \n",
              "275289   585  tt0198781  James Sullivan and Mike Wazowski are monsters,...   \n",
              "718567   663  tt0890870  Jigsaw and his apprentice Amanda are dead. Now...   \n",
              "\n",
              "                           title  userId  movieId  rating   timestamp  \n",
              "566652               Silent Hill   76948      588     3.0   843505846  \n",
              "558761               Silent Hill   34729      588     4.0  1082611627  \n",
              "263273      The Living Daylights  151488      708     4.0   857221389  \n",
              "710677                 Halloween  143847     2082     4.0  1031072545  \n",
              "128054  Star Trek: First Contact   35444      199     5.0  1077914022  \n",
              "558572               Silent Hill   33658      588     4.0   842039497  \n",
              "46101              Jurassic Park  225878      329     5.0   949524744  \n",
              "555150               Silent Hill   15221      588     4.0   835780048  \n",
              "275289            Monsters, Inc.   43294      585     2.0  1111473840  \n",
              "718567                    Saw IV  266044      663     4.0   879246774  "
            ],
            "text/html": [
              "\n",
              "  <div id=\"df-75a65f0b-a991-4204-ba1e-0ca0b1d69ef9\">\n",
              "    <div class=\"colab-df-container\">\n",
              "      <div>\n",
              "<style scoped>\n",
              "    .dataframe tbody tr th:only-of-type {\n",
              "        vertical-align: middle;\n",
              "    }\n",
              "\n",
              "    .dataframe tbody tr th {\n",
              "        vertical-align: top;\n",
              "    }\n",
              "\n",
              "    .dataframe thead th {\n",
              "        text-align: right;\n",
              "    }\n",
              "</style>\n",
              "<table border=\"1\" class=\"dataframe\">\n",
              "  <thead>\n",
              "    <tr style=\"text-align: right;\">\n",
              "      <th></th>\n",
              "      <th>id</th>\n",
              "      <th>imdb_id</th>\n",
              "      <th>overview</th>\n",
              "      <th>title</th>\n",
              "      <th>userId</th>\n",
              "      <th>movieId</th>\n",
              "      <th>rating</th>\n",
              "      <th>timestamp</th>\n",
              "    </tr>\n",
              "  </thead>\n",
              "  <tbody>\n",
              "    <tr>\n",
              "      <th>566652</th>\n",
              "      <td>588</td>\n",
              "      <td>tt0384537</td>\n",
              "      <td>The eerie and deserted ghost town of Silent Hi...</td>\n",
              "      <td>Silent Hill</td>\n",
              "      <td>76948</td>\n",
              "      <td>588</td>\n",
              "      <td>3.0</td>\n",
              "      <td>843505846</td>\n",
              "    </tr>\n",
              "    <tr>\n",
              "      <th>558761</th>\n",
              "      <td>588</td>\n",
              "      <td>tt0384537</td>\n",
              "      <td>The eerie and deserted ghost town of Silent Hi...</td>\n",
              "      <td>Silent Hill</td>\n",
              "      <td>34729</td>\n",
              "      <td>588</td>\n",
              "      <td>4.0</td>\n",
              "      <td>1082611627</td>\n",
              "    </tr>\n",
              "    <tr>\n",
              "      <th>263273</th>\n",
              "      <td>708</td>\n",
              "      <td>tt0093428</td>\n",
              "      <td>James Bond helps a Russian General escape into...</td>\n",
              "      <td>The Living Daylights</td>\n",
              "      <td>151488</td>\n",
              "      <td>708</td>\n",
              "      <td>4.0</td>\n",
              "      <td>857221389</td>\n",
              "    </tr>\n",
              "    <tr>\n",
              "      <th>710677</th>\n",
              "      <td>2082</td>\n",
              "      <td>tt0373883</td>\n",
              "      <td>After being committed for 17 years, Michael My...</td>\n",
              "      <td>Halloween</td>\n",
              "      <td>143847</td>\n",
              "      <td>2082</td>\n",
              "      <td>4.0</td>\n",
              "      <td>1031072545</td>\n",
              "    </tr>\n",
              "    <tr>\n",
              "      <th>128054</th>\n",
              "      <td>199</td>\n",
              "      <td>tt0117731</td>\n",
              "      <td>The Borg, a relentless race of cyborgs, are on...</td>\n",
              "      <td>Star Trek: First Contact</td>\n",
              "      <td>35444</td>\n",
              "      <td>199</td>\n",
              "      <td>5.0</td>\n",
              "      <td>1077914022</td>\n",
              "    </tr>\n",
              "    <tr>\n",
              "      <th>558572</th>\n",
              "      <td>588</td>\n",
              "      <td>tt0384537</td>\n",
              "      <td>The eerie and deserted ghost town of Silent Hi...</td>\n",
              "      <td>Silent Hill</td>\n",
              "      <td>33658</td>\n",
              "      <td>588</td>\n",
              "      <td>4.0</td>\n",
              "      <td>842039497</td>\n",
              "    </tr>\n",
              "    <tr>\n",
              "      <th>46101</th>\n",
              "      <td>329</td>\n",
              "      <td>tt0107290</td>\n",
              "      <td>A wealthy entrepreneur secretly creates a them...</td>\n",
              "      <td>Jurassic Park</td>\n",
              "      <td>225878</td>\n",
              "      <td>329</td>\n",
              "      <td>5.0</td>\n",
              "      <td>949524744</td>\n",
              "    </tr>\n",
              "    <tr>\n",
              "      <th>555150</th>\n",
              "      <td>588</td>\n",
              "      <td>tt0384537</td>\n",
              "      <td>The eerie and deserted ghost town of Silent Hi...</td>\n",
              "      <td>Silent Hill</td>\n",
              "      <td>15221</td>\n",
              "      <td>588</td>\n",
              "      <td>4.0</td>\n",
              "      <td>835780048</td>\n",
              "    </tr>\n",
              "    <tr>\n",
              "      <th>275289</th>\n",
              "      <td>585</td>\n",
              "      <td>tt0198781</td>\n",
              "      <td>James Sullivan and Mike Wazowski are monsters,...</td>\n",
              "      <td>Monsters, Inc.</td>\n",
              "      <td>43294</td>\n",
              "      <td>585</td>\n",
              "      <td>2.0</td>\n",
              "      <td>1111473840</td>\n",
              "    </tr>\n",
              "    <tr>\n",
              "      <th>718567</th>\n",
              "      <td>663</td>\n",
              "      <td>tt0890870</td>\n",
              "      <td>Jigsaw and his apprentice Amanda are dead. Now...</td>\n",
              "      <td>Saw IV</td>\n",
              "      <td>266044</td>\n",
              "      <td>663</td>\n",
              "      <td>4.0</td>\n",
              "      <td>879246774</td>\n",
              "    </tr>\n",
              "  </tbody>\n",
              "</table>\n",
              "</div>\n",
              "      <button class=\"colab-df-convert\" onclick=\"convertToInteractive('df-75a65f0b-a991-4204-ba1e-0ca0b1d69ef9')\"\n",
              "              title=\"Convert this dataframe to an interactive table.\"\n",
              "              style=\"display:none;\">\n",
              "        \n",
              "  <svg xmlns=\"http://www.w3.org/2000/svg\" height=\"24px\"viewBox=\"0 0 24 24\"\n",
              "       width=\"24px\">\n",
              "    <path d=\"M0 0h24v24H0V0z\" fill=\"none\"/>\n",
              "    <path d=\"M18.56 5.44l.94 2.06.94-2.06 2.06-.94-2.06-.94-.94-2.06-.94 2.06-2.06.94zm-11 1L8.5 8.5l.94-2.06 2.06-.94-2.06-.94L8.5 2.5l-.94 2.06-2.06.94zm10 10l.94 2.06.94-2.06 2.06-.94-2.06-.94-.94-2.06-.94 2.06-2.06.94z\"/><path d=\"M17.41 7.96l-1.37-1.37c-.4-.4-.92-.59-1.43-.59-.52 0-1.04.2-1.43.59L10.3 9.45l-7.72 7.72c-.78.78-.78 2.05 0 2.83L4 21.41c.39.39.9.59 1.41.59.51 0 1.02-.2 1.41-.59l7.78-7.78 2.81-2.81c.8-.78.8-2.07 0-2.86zM5.41 20L4 18.59l7.72-7.72 1.47 1.35L5.41 20z\"/>\n",
              "  </svg>\n",
              "      </button>\n",
              "      \n",
              "  <style>\n",
              "    .colab-df-container {\n",
              "      display:flex;\n",
              "      flex-wrap:wrap;\n",
              "      gap: 12px;\n",
              "    }\n",
              "\n",
              "    .colab-df-convert {\n",
              "      background-color: #E8F0FE;\n",
              "      border: none;\n",
              "      border-radius: 50%;\n",
              "      cursor: pointer;\n",
              "      display: none;\n",
              "      fill: #1967D2;\n",
              "      height: 32px;\n",
              "      padding: 0 0 0 0;\n",
              "      width: 32px;\n",
              "    }\n",
              "\n",
              "    .colab-df-convert:hover {\n",
              "      background-color: #E2EBFA;\n",
              "      box-shadow: 0px 1px 2px rgba(60, 64, 67, 0.3), 0px 1px 3px 1px rgba(60, 64, 67, 0.15);\n",
              "      fill: #174EA6;\n",
              "    }\n",
              "\n",
              "    [theme=dark] .colab-df-convert {\n",
              "      background-color: #3B4455;\n",
              "      fill: #D2E3FC;\n",
              "    }\n",
              "\n",
              "    [theme=dark] .colab-df-convert:hover {\n",
              "      background-color: #434B5C;\n",
              "      box-shadow: 0px 1px 3px 1px rgba(0, 0, 0, 0.15);\n",
              "      filter: drop-shadow(0px 1px 2px rgba(0, 0, 0, 0.3));\n",
              "      fill: #FFFFFF;\n",
              "    }\n",
              "  </style>\n",
              "\n",
              "      <script>\n",
              "        const buttonEl =\n",
              "          document.querySelector('#df-75a65f0b-a991-4204-ba1e-0ca0b1d69ef9 button.colab-df-convert');\n",
              "        buttonEl.style.display =\n",
              "          google.colab.kernel.accessAllowed ? 'block' : 'none';\n",
              "\n",
              "        async function convertToInteractive(key) {\n",
              "          const element = document.querySelector('#df-75a65f0b-a991-4204-ba1e-0ca0b1d69ef9');\n",
              "          const dataTable =\n",
              "            await google.colab.kernel.invokeFunction('convertToInteractive',\n",
              "                                                     [key], {});\n",
              "          if (!dataTable) return;\n",
              "\n",
              "          const docLinkHtml = 'Like what you see? Visit the ' +\n",
              "            '<a target=\"_blank\" href=https://colab.research.google.com/notebooks/data_table.ipynb>data table notebook</a>'\n",
              "            + ' to learn more about interactive tables.';\n",
              "          element.innerHTML = '';\n",
              "          dataTable['output_type'] = 'display_data';\n",
              "          await google.colab.output.renderOutput(dataTable, element);\n",
              "          const docLink = document.createElement('div');\n",
              "          docLink.innerHTML = docLinkHtml;\n",
              "          element.appendChild(docLink);\n",
              "        }\n",
              "      </script>\n",
              "    </div>\n",
              "  </div>\n",
              "  "
            ]
          },
          "metadata": {},
          "execution_count": 44
        }
      ]
    },
    {
      "cell_type": "markdown",
      "source": [
        "## Задание 4"
      ],
      "metadata": {
        "id": "9paMCSNcBAlE"
      }
    },
    {
      "cell_type": "markdown",
      "source": [
        "Появились ли пропуски в получившемся после объединения датафрейме? Если появились, то ответьте на вопрос \"почему?\" и удалите строки с пропусками.\n",
        "\n",
        "Выведите размеры получившегося датафрейма и 10 случайных записей в нём."
      ],
      "metadata": {
        "id": "5FN7L7HYmoQn"
      }
    },
    {
      "cell_type": "code",
      "source": [
        "pd.isnull(temp).sum()"
      ],
      "metadata": {
        "colab": {
          "base_uri": "https://localhost:8080/"
        },
        "id": "KNlXJptJuBHp",
        "outputId": "310bd176-01ed-4c75-fc1f-8de0efe1f9f4"
      },
      "execution_count": null,
      "outputs": [
        {
          "output_type": "execute_result",
          "data": {
            "text/plain": [
              "id           0\n",
              "imdb_id      0\n",
              "overview     0\n",
              "title        0\n",
              "userId       0\n",
              "movieId      0\n",
              "rating       0\n",
              "timestamp    0\n",
              "dtype: int64"
            ]
          },
          "metadata": {},
          "execution_count": 46
        }
      ]
    },
    {
      "cell_type": "code",
      "source": [
        "temp.sample(10)"
      ],
      "metadata": {
        "colab": {
          "base_uri": "https://localhost:8080/",
          "height": 362
        },
        "id": "9HCuBIpCtkbA",
        "outputId": "a598a738-e89d-4669-b27b-ca8601c82781"
      },
      "execution_count": null,
      "outputs": [
        {
          "output_type": "execute_result",
          "data": {
            "text/plain": [
              "          imdb_id                                           overview  \\\n",
              "515456  tt0372784  Driven by tragedy, billionaire Bruce Wayne ded...   \n",
              "220692  tt0070328  James Bond must investigate a mysterious murde...   \n",
              "15338   tt0076759  Princess Leia is captured and held hostage by ...   \n",
              "454705  tt0372183  When a CIA operation to purchase classified Ru...   \n",
              "26953   tt0107290  A wealthy entrepreneur secretly creates a them...   \n",
              "764785  tt1053859  Jake, the sole survivor of The Grudge 2 massac...   \n",
              "582094  tt0384537  The eerie and deserted ghost town of Silent Hi...   \n",
              "271859  tt0096928  In the small town of San Dimas, a few miles aw...   \n",
              "351128  tt0120912  Kay and Jay reunite to provide our best, last ...   \n",
              "639366  tt0479143  When he loses a highly publicized virtual boxi...   \n",
              "\n",
              "                                   title  userId  movieId  rating   timestamp  \n",
              "515456                     Batman Begins  192006      272     2.0  1337761554  \n",
              "220692                  Live and Let Die  100984      253     4.0   840230509  \n",
              "15338                          Star Wars  189437       11     5.0   838053845  \n",
              "454705              The Bourne Supremacy   10393     2502     3.5  1092080791  \n",
              "26953                      Jurassic Park   52461      329     4.0   842130683  \n",
              "764785                      The Grudge 3   87147     1977     1.0   996030273  \n",
              "582094                       Silent Hill  160640      588     4.0   833397282  \n",
              "271859  Bill & Ted's Excellent Adventure   42419     1648     2.0  1473132804  \n",
              "351128                   Men in Black II   82708      608     5.0   942879353  \n",
              "639366                      Rocky Balboa   17586     1246     4.5  1122963108  "
            ],
            "text/html": [
              "\n",
              "  <div id=\"df-bcb44ea8-529e-4822-b0e9-5afe393c03a7\">\n",
              "    <div class=\"colab-df-container\">\n",
              "      <div>\n",
              "<style scoped>\n",
              "    .dataframe tbody tr th:only-of-type {\n",
              "        vertical-align: middle;\n",
              "    }\n",
              "\n",
              "    .dataframe tbody tr th {\n",
              "        vertical-align: top;\n",
              "    }\n",
              "\n",
              "    .dataframe thead th {\n",
              "        text-align: right;\n",
              "    }\n",
              "</style>\n",
              "<table border=\"1\" class=\"dataframe\">\n",
              "  <thead>\n",
              "    <tr style=\"text-align: right;\">\n",
              "      <th></th>\n",
              "      <th>imdb_id</th>\n",
              "      <th>overview</th>\n",
              "      <th>title</th>\n",
              "      <th>userId</th>\n",
              "      <th>movieId</th>\n",
              "      <th>rating</th>\n",
              "      <th>timestamp</th>\n",
              "    </tr>\n",
              "  </thead>\n",
              "  <tbody>\n",
              "    <tr>\n",
              "      <th>515456</th>\n",
              "      <td>tt0372784</td>\n",
              "      <td>Driven by tragedy, billionaire Bruce Wayne ded...</td>\n",
              "      <td>Batman Begins</td>\n",
              "      <td>192006</td>\n",
              "      <td>272</td>\n",
              "      <td>2.0</td>\n",
              "      <td>1337761554</td>\n",
              "    </tr>\n",
              "    <tr>\n",
              "      <th>220692</th>\n",
              "      <td>tt0070328</td>\n",
              "      <td>James Bond must investigate a mysterious murde...</td>\n",
              "      <td>Live and Let Die</td>\n",
              "      <td>100984</td>\n",
              "      <td>253</td>\n",
              "      <td>4.0</td>\n",
              "      <td>840230509</td>\n",
              "    </tr>\n",
              "    <tr>\n",
              "      <th>15338</th>\n",
              "      <td>tt0076759</td>\n",
              "      <td>Princess Leia is captured and held hostage by ...</td>\n",
              "      <td>Star Wars</td>\n",
              "      <td>189437</td>\n",
              "      <td>11</td>\n",
              "      <td>5.0</td>\n",
              "      <td>838053845</td>\n",
              "    </tr>\n",
              "    <tr>\n",
              "      <th>454705</th>\n",
              "      <td>tt0372183</td>\n",
              "      <td>When a CIA operation to purchase classified Ru...</td>\n",
              "      <td>The Bourne Supremacy</td>\n",
              "      <td>10393</td>\n",
              "      <td>2502</td>\n",
              "      <td>3.5</td>\n",
              "      <td>1092080791</td>\n",
              "    </tr>\n",
              "    <tr>\n",
              "      <th>26953</th>\n",
              "      <td>tt0107290</td>\n",
              "      <td>A wealthy entrepreneur secretly creates a them...</td>\n",
              "      <td>Jurassic Park</td>\n",
              "      <td>52461</td>\n",
              "      <td>329</td>\n",
              "      <td>4.0</td>\n",
              "      <td>842130683</td>\n",
              "    </tr>\n",
              "    <tr>\n",
              "      <th>764785</th>\n",
              "      <td>tt1053859</td>\n",
              "      <td>Jake, the sole survivor of The Grudge 2 massac...</td>\n",
              "      <td>The Grudge 3</td>\n",
              "      <td>87147</td>\n",
              "      <td>1977</td>\n",
              "      <td>1.0</td>\n",
              "      <td>996030273</td>\n",
              "    </tr>\n",
              "    <tr>\n",
              "      <th>582094</th>\n",
              "      <td>tt0384537</td>\n",
              "      <td>The eerie and deserted ghost town of Silent Hi...</td>\n",
              "      <td>Silent Hill</td>\n",
              "      <td>160640</td>\n",
              "      <td>588</td>\n",
              "      <td>4.0</td>\n",
              "      <td>833397282</td>\n",
              "    </tr>\n",
              "    <tr>\n",
              "      <th>271859</th>\n",
              "      <td>tt0096928</td>\n",
              "      <td>In the small town of San Dimas, a few miles aw...</td>\n",
              "      <td>Bill &amp; Ted's Excellent Adventure</td>\n",
              "      <td>42419</td>\n",
              "      <td>1648</td>\n",
              "      <td>2.0</td>\n",
              "      <td>1473132804</td>\n",
              "    </tr>\n",
              "    <tr>\n",
              "      <th>351128</th>\n",
              "      <td>tt0120912</td>\n",
              "      <td>Kay and Jay reunite to provide our best, last ...</td>\n",
              "      <td>Men in Black II</td>\n",
              "      <td>82708</td>\n",
              "      <td>608</td>\n",
              "      <td>5.0</td>\n",
              "      <td>942879353</td>\n",
              "    </tr>\n",
              "    <tr>\n",
              "      <th>639366</th>\n",
              "      <td>tt0479143</td>\n",
              "      <td>When he loses a highly publicized virtual boxi...</td>\n",
              "      <td>Rocky Balboa</td>\n",
              "      <td>17586</td>\n",
              "      <td>1246</td>\n",
              "      <td>4.5</td>\n",
              "      <td>1122963108</td>\n",
              "    </tr>\n",
              "  </tbody>\n",
              "</table>\n",
              "</div>\n",
              "      <button class=\"colab-df-convert\" onclick=\"convertToInteractive('df-bcb44ea8-529e-4822-b0e9-5afe393c03a7')\"\n",
              "              title=\"Convert this dataframe to an interactive table.\"\n",
              "              style=\"display:none;\">\n",
              "        \n",
              "  <svg xmlns=\"http://www.w3.org/2000/svg\" height=\"24px\"viewBox=\"0 0 24 24\"\n",
              "       width=\"24px\">\n",
              "    <path d=\"M0 0h24v24H0V0z\" fill=\"none\"/>\n",
              "    <path d=\"M18.56 5.44l.94 2.06.94-2.06 2.06-.94-2.06-.94-.94-2.06-.94 2.06-2.06.94zm-11 1L8.5 8.5l.94-2.06 2.06-.94-2.06-.94L8.5 2.5l-.94 2.06-2.06.94zm10 10l.94 2.06.94-2.06 2.06-.94-2.06-.94-.94-2.06-.94 2.06-2.06.94z\"/><path d=\"M17.41 7.96l-1.37-1.37c-.4-.4-.92-.59-1.43-.59-.52 0-1.04.2-1.43.59L10.3 9.45l-7.72 7.72c-.78.78-.78 2.05 0 2.83L4 21.41c.39.39.9.59 1.41.59.51 0 1.02-.2 1.41-.59l7.78-7.78 2.81-2.81c.8-.78.8-2.07 0-2.86zM5.41 20L4 18.59l7.72-7.72 1.47 1.35L5.41 20z\"/>\n",
              "  </svg>\n",
              "      </button>\n",
              "      \n",
              "  <style>\n",
              "    .colab-df-container {\n",
              "      display:flex;\n",
              "      flex-wrap:wrap;\n",
              "      gap: 12px;\n",
              "    }\n",
              "\n",
              "    .colab-df-convert {\n",
              "      background-color: #E8F0FE;\n",
              "      border: none;\n",
              "      border-radius: 50%;\n",
              "      cursor: pointer;\n",
              "      display: none;\n",
              "      fill: #1967D2;\n",
              "      height: 32px;\n",
              "      padding: 0 0 0 0;\n",
              "      width: 32px;\n",
              "    }\n",
              "\n",
              "    .colab-df-convert:hover {\n",
              "      background-color: #E2EBFA;\n",
              "      box-shadow: 0px 1px 2px rgba(60, 64, 67, 0.3), 0px 1px 3px 1px rgba(60, 64, 67, 0.15);\n",
              "      fill: #174EA6;\n",
              "    }\n",
              "\n",
              "    [theme=dark] .colab-df-convert {\n",
              "      background-color: #3B4455;\n",
              "      fill: #D2E3FC;\n",
              "    }\n",
              "\n",
              "    [theme=dark] .colab-df-convert:hover {\n",
              "      background-color: #434B5C;\n",
              "      box-shadow: 0px 1px 3px 1px rgba(0, 0, 0, 0.15);\n",
              "      filter: drop-shadow(0px 1px 2px rgba(0, 0, 0, 0.3));\n",
              "      fill: #FFFFFF;\n",
              "    }\n",
              "  </style>\n",
              "\n",
              "      <script>\n",
              "        const buttonEl =\n",
              "          document.querySelector('#df-bcb44ea8-529e-4822-b0e9-5afe393c03a7 button.colab-df-convert');\n",
              "        buttonEl.style.display =\n",
              "          google.colab.kernel.accessAllowed ? 'block' : 'none';\n",
              "\n",
              "        async function convertToInteractive(key) {\n",
              "          const element = document.querySelector('#df-bcb44ea8-529e-4822-b0e9-5afe393c03a7');\n",
              "          const dataTable =\n",
              "            await google.colab.kernel.invokeFunction('convertToInteractive',\n",
              "                                                     [key], {});\n",
              "          if (!dataTable) return;\n",
              "\n",
              "          const docLinkHtml = 'Like what you see? Visit the ' +\n",
              "            '<a target=\"_blank\" href=https://colab.research.google.com/notebooks/data_table.ipynb>data table notebook</a>'\n",
              "            + ' to learn more about interactive tables.';\n",
              "          element.innerHTML = '';\n",
              "          dataTable['output_type'] = 'display_data';\n",
              "          await google.colab.output.renderOutput(dataTable, element);\n",
              "          const docLink = document.createElement('div');\n",
              "          docLink.innerHTML = docLinkHtml;\n",
              "          element.appendChild(docLink);\n",
              "        }\n",
              "      </script>\n",
              "    </div>\n",
              "  </div>\n",
              "  "
            ]
          },
          "metadata": {},
          "execution_count": 50
        }
      ]
    },
    {
      "cell_type": "markdown",
      "source": [
        "## Задание 5"
      ],
      "metadata": {
        "id": "JlBSFBYfDqCH"
      }
    },
    {
      "cell_type": "markdown",
      "source": [
        "Возьмите случайного пользователя (проверьте, чтобы у него было достаточное количество оценок). Сформируйте для этого пользователя рекомендацию методом коллаборативной фильтрации. Оцените качество это рекомендации.\n",
        "\n",
        "\n",
        "Повторите эти рассчеты для большого числа пользователей и дайте интегральную оценку."
      ],
      "metadata": {
        "id": "p1_Gjtmgnoc6"
      }
    },
    {
      "cell_type": "code",
      "source": [
        "from random import randrange"
      ],
      "metadata": {
        "id": "I1vtTpZ2sPUN"
      },
      "execution_count": null,
      "outputs": []
    },
    {
      "cell_type": "code",
      "source": [
        "temp.drop(columns='id', inplace=True)"
      ],
      "metadata": {
        "colab": {
          "base_uri": "https://localhost:8080/",
          "height": 310
        },
        "id": "ZUuqfhFkt8zW",
        "outputId": "4ba16ffd-363e-4e4c-9798-31d796a9e23c"
      },
      "execution_count": null,
      "outputs": [
        {
          "output_type": "error",
          "ename": "KeyError",
          "evalue": "ignored",
          "traceback": [
            "\u001b[0;31m---------------------------------------------------------------------------\u001b[0m",
            "\u001b[0;31mKeyError\u001b[0m                                  Traceback (most recent call last)",
            "\u001b[0;32m<ipython-input-49-66c78e295121>\u001b[0m in \u001b[0;36m<module>\u001b[0;34m()\u001b[0m\n\u001b[0;32m----> 1\u001b[0;31m \u001b[0mtemp\u001b[0m\u001b[0;34m.\u001b[0m\u001b[0mdrop\u001b[0m\u001b[0;34m(\u001b[0m\u001b[0mcolumns\u001b[0m\u001b[0;34m=\u001b[0m\u001b[0;34m'id'\u001b[0m\u001b[0;34m,\u001b[0m \u001b[0minplace\u001b[0m\u001b[0;34m=\u001b[0m\u001b[0;32mTrue\u001b[0m\u001b[0;34m)\u001b[0m\u001b[0;34m\u001b[0m\u001b[0;34m\u001b[0m\u001b[0m\n\u001b[0m",
            "\u001b[0;32m/usr/local/lib/python3.7/dist-packages/pandas/util/_decorators.py\u001b[0m in \u001b[0;36mwrapper\u001b[0;34m(*args, **kwargs)\u001b[0m\n\u001b[1;32m    309\u001b[0m                     \u001b[0mstacklevel\u001b[0m\u001b[0;34m=\u001b[0m\u001b[0mstacklevel\u001b[0m\u001b[0;34m,\u001b[0m\u001b[0;34m\u001b[0m\u001b[0;34m\u001b[0m\u001b[0m\n\u001b[1;32m    310\u001b[0m                 )\n\u001b[0;32m--> 311\u001b[0;31m             \u001b[0;32mreturn\u001b[0m \u001b[0mfunc\u001b[0m\u001b[0;34m(\u001b[0m\u001b[0;34m*\u001b[0m\u001b[0margs\u001b[0m\u001b[0;34m,\u001b[0m \u001b[0;34m**\u001b[0m\u001b[0mkwargs\u001b[0m\u001b[0;34m)\u001b[0m\u001b[0;34m\u001b[0m\u001b[0;34m\u001b[0m\u001b[0m\n\u001b[0m\u001b[1;32m    312\u001b[0m \u001b[0;34m\u001b[0m\u001b[0m\n\u001b[1;32m    313\u001b[0m         \u001b[0;32mreturn\u001b[0m \u001b[0mwrapper\u001b[0m\u001b[0;34m\u001b[0m\u001b[0;34m\u001b[0m\u001b[0m\n",
            "\u001b[0;32m/usr/local/lib/python3.7/dist-packages/pandas/core/frame.py\u001b[0m in \u001b[0;36mdrop\u001b[0;34m(self, labels, axis, index, columns, level, inplace, errors)\u001b[0m\n\u001b[1;32m   4911\u001b[0m             \u001b[0mlevel\u001b[0m\u001b[0;34m=\u001b[0m\u001b[0mlevel\u001b[0m\u001b[0;34m,\u001b[0m\u001b[0;34m\u001b[0m\u001b[0;34m\u001b[0m\u001b[0m\n\u001b[1;32m   4912\u001b[0m             \u001b[0minplace\u001b[0m\u001b[0;34m=\u001b[0m\u001b[0minplace\u001b[0m\u001b[0;34m,\u001b[0m\u001b[0;34m\u001b[0m\u001b[0;34m\u001b[0m\u001b[0m\n\u001b[0;32m-> 4913\u001b[0;31m             \u001b[0merrors\u001b[0m\u001b[0;34m=\u001b[0m\u001b[0merrors\u001b[0m\u001b[0;34m,\u001b[0m\u001b[0;34m\u001b[0m\u001b[0;34m\u001b[0m\u001b[0m\n\u001b[0m\u001b[1;32m   4914\u001b[0m         )\n\u001b[1;32m   4915\u001b[0m \u001b[0;34m\u001b[0m\u001b[0m\n",
            "\u001b[0;32m/usr/local/lib/python3.7/dist-packages/pandas/core/generic.py\u001b[0m in \u001b[0;36mdrop\u001b[0;34m(self, labels, axis, index, columns, level, inplace, errors)\u001b[0m\n\u001b[1;32m   4148\u001b[0m         \u001b[0;32mfor\u001b[0m \u001b[0maxis\u001b[0m\u001b[0;34m,\u001b[0m \u001b[0mlabels\u001b[0m \u001b[0;32min\u001b[0m \u001b[0maxes\u001b[0m\u001b[0;34m.\u001b[0m\u001b[0mitems\u001b[0m\u001b[0;34m(\u001b[0m\u001b[0;34m)\u001b[0m\u001b[0;34m:\u001b[0m\u001b[0;34m\u001b[0m\u001b[0;34m\u001b[0m\u001b[0m\n\u001b[1;32m   4149\u001b[0m             \u001b[0;32mif\u001b[0m \u001b[0mlabels\u001b[0m \u001b[0;32mis\u001b[0m \u001b[0;32mnot\u001b[0m \u001b[0;32mNone\u001b[0m\u001b[0;34m:\u001b[0m\u001b[0;34m\u001b[0m\u001b[0;34m\u001b[0m\u001b[0m\n\u001b[0;32m-> 4150\u001b[0;31m                 \u001b[0mobj\u001b[0m \u001b[0;34m=\u001b[0m \u001b[0mobj\u001b[0m\u001b[0;34m.\u001b[0m\u001b[0m_drop_axis\u001b[0m\u001b[0;34m(\u001b[0m\u001b[0mlabels\u001b[0m\u001b[0;34m,\u001b[0m \u001b[0maxis\u001b[0m\u001b[0;34m,\u001b[0m \u001b[0mlevel\u001b[0m\u001b[0;34m=\u001b[0m\u001b[0mlevel\u001b[0m\u001b[0;34m,\u001b[0m \u001b[0merrors\u001b[0m\u001b[0;34m=\u001b[0m\u001b[0merrors\u001b[0m\u001b[0;34m)\u001b[0m\u001b[0;34m\u001b[0m\u001b[0;34m\u001b[0m\u001b[0m\n\u001b[0m\u001b[1;32m   4151\u001b[0m \u001b[0;34m\u001b[0m\u001b[0m\n\u001b[1;32m   4152\u001b[0m         \u001b[0;32mif\u001b[0m \u001b[0minplace\u001b[0m\u001b[0;34m:\u001b[0m\u001b[0;34m\u001b[0m\u001b[0;34m\u001b[0m\u001b[0m\n",
            "\u001b[0;32m/usr/local/lib/python3.7/dist-packages/pandas/core/generic.py\u001b[0m in \u001b[0;36m_drop_axis\u001b[0;34m(self, labels, axis, level, errors)\u001b[0m\n\u001b[1;32m   4183\u001b[0m                 \u001b[0mnew_axis\u001b[0m \u001b[0;34m=\u001b[0m \u001b[0maxis\u001b[0m\u001b[0;34m.\u001b[0m\u001b[0mdrop\u001b[0m\u001b[0;34m(\u001b[0m\u001b[0mlabels\u001b[0m\u001b[0;34m,\u001b[0m \u001b[0mlevel\u001b[0m\u001b[0;34m=\u001b[0m\u001b[0mlevel\u001b[0m\u001b[0;34m,\u001b[0m \u001b[0merrors\u001b[0m\u001b[0;34m=\u001b[0m\u001b[0merrors\u001b[0m\u001b[0;34m)\u001b[0m\u001b[0;34m\u001b[0m\u001b[0;34m\u001b[0m\u001b[0m\n\u001b[1;32m   4184\u001b[0m             \u001b[0;32melse\u001b[0m\u001b[0;34m:\u001b[0m\u001b[0;34m\u001b[0m\u001b[0;34m\u001b[0m\u001b[0m\n\u001b[0;32m-> 4185\u001b[0;31m                 \u001b[0mnew_axis\u001b[0m \u001b[0;34m=\u001b[0m \u001b[0maxis\u001b[0m\u001b[0;34m.\u001b[0m\u001b[0mdrop\u001b[0m\u001b[0;34m(\u001b[0m\u001b[0mlabels\u001b[0m\u001b[0;34m,\u001b[0m \u001b[0merrors\u001b[0m\u001b[0;34m=\u001b[0m\u001b[0merrors\u001b[0m\u001b[0;34m)\u001b[0m\u001b[0;34m\u001b[0m\u001b[0;34m\u001b[0m\u001b[0m\n\u001b[0m\u001b[1;32m   4186\u001b[0m             \u001b[0mresult\u001b[0m \u001b[0;34m=\u001b[0m \u001b[0mself\u001b[0m\u001b[0;34m.\u001b[0m\u001b[0mreindex\u001b[0m\u001b[0;34m(\u001b[0m\u001b[0;34m**\u001b[0m\u001b[0;34m{\u001b[0m\u001b[0maxis_name\u001b[0m\u001b[0;34m:\u001b[0m \u001b[0mnew_axis\u001b[0m\u001b[0;34m}\u001b[0m\u001b[0;34m)\u001b[0m\u001b[0;34m\u001b[0m\u001b[0;34m\u001b[0m\u001b[0m\n\u001b[1;32m   4187\u001b[0m \u001b[0;34m\u001b[0m\u001b[0m\n",
            "\u001b[0;32m/usr/local/lib/python3.7/dist-packages/pandas/core/indexes/base.py\u001b[0m in \u001b[0;36mdrop\u001b[0;34m(self, labels, errors)\u001b[0m\n\u001b[1;32m   6015\u001b[0m         \u001b[0;32mif\u001b[0m \u001b[0mmask\u001b[0m\u001b[0;34m.\u001b[0m\u001b[0many\u001b[0m\u001b[0;34m(\u001b[0m\u001b[0;34m)\u001b[0m\u001b[0;34m:\u001b[0m\u001b[0;34m\u001b[0m\u001b[0;34m\u001b[0m\u001b[0m\n\u001b[1;32m   6016\u001b[0m             \u001b[0;32mif\u001b[0m \u001b[0merrors\u001b[0m \u001b[0;34m!=\u001b[0m \u001b[0;34m\"ignore\"\u001b[0m\u001b[0;34m:\u001b[0m\u001b[0;34m\u001b[0m\u001b[0;34m\u001b[0m\u001b[0m\n\u001b[0;32m-> 6017\u001b[0;31m                 \u001b[0;32mraise\u001b[0m \u001b[0mKeyError\u001b[0m\u001b[0;34m(\u001b[0m\u001b[0;34mf\"{labels[mask]} not found in axis\"\u001b[0m\u001b[0;34m)\u001b[0m\u001b[0;34m\u001b[0m\u001b[0;34m\u001b[0m\u001b[0m\n\u001b[0m\u001b[1;32m   6018\u001b[0m             \u001b[0mindexer\u001b[0m \u001b[0;34m=\u001b[0m \u001b[0mindexer\u001b[0m\u001b[0;34m[\u001b[0m\u001b[0;34m~\u001b[0m\u001b[0mmask\u001b[0m\u001b[0;34m]\u001b[0m\u001b[0;34m\u001b[0m\u001b[0;34m\u001b[0m\u001b[0m\n\u001b[1;32m   6019\u001b[0m         \u001b[0;32mreturn\u001b[0m \u001b[0mself\u001b[0m\u001b[0;34m.\u001b[0m\u001b[0mdelete\u001b[0m\u001b[0;34m(\u001b[0m\u001b[0mindexer\u001b[0m\u001b[0;34m)\u001b[0m\u001b[0;34m\u001b[0m\u001b[0;34m\u001b[0m\u001b[0m\n",
            "\u001b[0;31mKeyError\u001b[0m: \"['id'] not found in axis\""
          ]
        }
      ]
    },
    {
      "cell_type": "code",
      "source": [
        "movies_ratings = temp\n",
        "movies_ids = movies_ratings.movieId.unique()\n",
        "all_users = movies_ratings['userId'].value_counts()"
      ],
      "metadata": {
        "id": "Yn06RKzusP9L"
      },
      "execution_count": null,
      "outputs": []
    },
    {
      "cell_type": "code",
      "source": [
        "def getRandUserId():\n",
        "  user_id = all_users.sample(1).index\n",
        "  while len(movies_ratings[movies_ratings['userId'] == user_id[0]]) < 10:\n",
        "    user_id = all_users.sample(1).index\n",
        "  return user_id[0]"
      ],
      "metadata": {
        "id": "zTGO9-8iuxyC"
      },
      "execution_count": null,
      "outputs": []
    },
    {
      "cell_type": "code",
      "source": [
        "getRandUserId()"
      ],
      "metadata": {
        "colab": {
          "base_uri": "https://localhost:8080/"
        },
        "id": "CGe-dcFNvD5D",
        "outputId": "371509fd-985a-48da-a026-e6364c8e7e29"
      },
      "execution_count": null,
      "outputs": [
        {
          "output_type": "execute_result",
          "data": {
            "text/plain": [
              "234035"
            ]
          },
          "metadata": {},
          "execution_count": 96
        }
      ]
    },
    {
      "cell_type": "code",
      "source": [
        "user_id = getRandUserId()"
      ],
      "metadata": {
        "id": "DICPW3wluHM8"
      },
      "execution_count": null,
      "outputs": []
    },
    {
      "cell_type": "code",
      "source": [
        "from scipy.spatial.distance import cdist\n",
        "from math import ceil"
      ],
      "metadata": {
        "id": "bWUWFSQWuLCe"
      },
      "execution_count": null,
      "outputs": []
    },
    {
      "cell_type": "code",
      "source": [
        "def getTempMoviesDf():\n",
        "  temp = pd.DataFrame(index=movies_ids, columns=['rating'])\n",
        "  temp['rating'] = 0.0\n",
        "  return temp"
      ],
      "metadata": {
        "id": "T-TFCw1NuSRi"
      },
      "execution_count": null,
      "outputs": []
    },
    {
      "cell_type": "code",
      "source": [
        "getTempMoviesDf()"
      ],
      "metadata": {
        "colab": {
          "base_uri": "https://localhost:8080/",
          "height": 424
        },
        "id": "dDIOkfqduVYL",
        "outputId": "2ca5011c-0a41-4c78-cb2b-93d5cf77ae9a"
      },
      "execution_count": null,
      "outputs": [
        {
          "output_type": "execute_result",
          "data": {
            "text/plain": [
              "       rating\n",
              "710       0.0\n",
              "755       0.0\n",
              "5894      0.0\n",
              "2292      0.0\n",
              "11        0.0\n",
              "...       ...\n",
              "64325     0.0\n",
              "25961     0.0\n",
              "48943     0.0\n",
              "98439     0.0\n",
              "36046     0.0\n",
              "\n",
              "[210 rows x 1 columns]"
            ],
            "text/html": [
              "\n",
              "  <div id=\"df-7e876869-d151-4de2-a9b5-6fe49250bb42\">\n",
              "    <div class=\"colab-df-container\">\n",
              "      <div>\n",
              "<style scoped>\n",
              "    .dataframe tbody tr th:only-of-type {\n",
              "        vertical-align: middle;\n",
              "    }\n",
              "\n",
              "    .dataframe tbody tr th {\n",
              "        vertical-align: top;\n",
              "    }\n",
              "\n",
              "    .dataframe thead th {\n",
              "        text-align: right;\n",
              "    }\n",
              "</style>\n",
              "<table border=\"1\" class=\"dataframe\">\n",
              "  <thead>\n",
              "    <tr style=\"text-align: right;\">\n",
              "      <th></th>\n",
              "      <th>rating</th>\n",
              "    </tr>\n",
              "  </thead>\n",
              "  <tbody>\n",
              "    <tr>\n",
              "      <th>710</th>\n",
              "      <td>0.0</td>\n",
              "    </tr>\n",
              "    <tr>\n",
              "      <th>755</th>\n",
              "      <td>0.0</td>\n",
              "    </tr>\n",
              "    <tr>\n",
              "      <th>5894</th>\n",
              "      <td>0.0</td>\n",
              "    </tr>\n",
              "    <tr>\n",
              "      <th>2292</th>\n",
              "      <td>0.0</td>\n",
              "    </tr>\n",
              "    <tr>\n",
              "      <th>11</th>\n",
              "      <td>0.0</td>\n",
              "    </tr>\n",
              "    <tr>\n",
              "      <th>...</th>\n",
              "      <td>...</td>\n",
              "    </tr>\n",
              "    <tr>\n",
              "      <th>64325</th>\n",
              "      <td>0.0</td>\n",
              "    </tr>\n",
              "    <tr>\n",
              "      <th>25961</th>\n",
              "      <td>0.0</td>\n",
              "    </tr>\n",
              "    <tr>\n",
              "      <th>48943</th>\n",
              "      <td>0.0</td>\n",
              "    </tr>\n",
              "    <tr>\n",
              "      <th>98439</th>\n",
              "      <td>0.0</td>\n",
              "    </tr>\n",
              "    <tr>\n",
              "      <th>36046</th>\n",
              "      <td>0.0</td>\n",
              "    </tr>\n",
              "  </tbody>\n",
              "</table>\n",
              "<p>210 rows × 1 columns</p>\n",
              "</div>\n",
              "      <button class=\"colab-df-convert\" onclick=\"convertToInteractive('df-7e876869-d151-4de2-a9b5-6fe49250bb42')\"\n",
              "              title=\"Convert this dataframe to an interactive table.\"\n",
              "              style=\"display:none;\">\n",
              "        \n",
              "  <svg xmlns=\"http://www.w3.org/2000/svg\" height=\"24px\"viewBox=\"0 0 24 24\"\n",
              "       width=\"24px\">\n",
              "    <path d=\"M0 0h24v24H0V0z\" fill=\"none\"/>\n",
              "    <path d=\"M18.56 5.44l.94 2.06.94-2.06 2.06-.94-2.06-.94-.94-2.06-.94 2.06-2.06.94zm-11 1L8.5 8.5l.94-2.06 2.06-.94-2.06-.94L8.5 2.5l-.94 2.06-2.06.94zm10 10l.94 2.06.94-2.06 2.06-.94-2.06-.94-.94-2.06-.94 2.06-2.06.94z\"/><path d=\"M17.41 7.96l-1.37-1.37c-.4-.4-.92-.59-1.43-.59-.52 0-1.04.2-1.43.59L10.3 9.45l-7.72 7.72c-.78.78-.78 2.05 0 2.83L4 21.41c.39.39.9.59 1.41.59.51 0 1.02-.2 1.41-.59l7.78-7.78 2.81-2.81c.8-.78.8-2.07 0-2.86zM5.41 20L4 18.59l7.72-7.72 1.47 1.35L5.41 20z\"/>\n",
              "  </svg>\n",
              "      </button>\n",
              "      \n",
              "  <style>\n",
              "    .colab-df-container {\n",
              "      display:flex;\n",
              "      flex-wrap:wrap;\n",
              "      gap: 12px;\n",
              "    }\n",
              "\n",
              "    .colab-df-convert {\n",
              "      background-color: #E8F0FE;\n",
              "      border: none;\n",
              "      border-radius: 50%;\n",
              "      cursor: pointer;\n",
              "      display: none;\n",
              "      fill: #1967D2;\n",
              "      height: 32px;\n",
              "      padding: 0 0 0 0;\n",
              "      width: 32px;\n",
              "    }\n",
              "\n",
              "    .colab-df-convert:hover {\n",
              "      background-color: #E2EBFA;\n",
              "      box-shadow: 0px 1px 2px rgba(60, 64, 67, 0.3), 0px 1px 3px 1px rgba(60, 64, 67, 0.15);\n",
              "      fill: #174EA6;\n",
              "    }\n",
              "\n",
              "    [theme=dark] .colab-df-convert {\n",
              "      background-color: #3B4455;\n",
              "      fill: #D2E3FC;\n",
              "    }\n",
              "\n",
              "    [theme=dark] .colab-df-convert:hover {\n",
              "      background-color: #434B5C;\n",
              "      box-shadow: 0px 1px 3px 1px rgba(0, 0, 0, 0.15);\n",
              "      filter: drop-shadow(0px 1px 2px rgba(0, 0, 0, 0.3));\n",
              "      fill: #FFFFFF;\n",
              "    }\n",
              "  </style>\n",
              "\n",
              "      <script>\n",
              "        const buttonEl =\n",
              "          document.querySelector('#df-7e876869-d151-4de2-a9b5-6fe49250bb42 button.colab-df-convert');\n",
              "        buttonEl.style.display =\n",
              "          google.colab.kernel.accessAllowed ? 'block' : 'none';\n",
              "\n",
              "        async function convertToInteractive(key) {\n",
              "          const element = document.querySelector('#df-7e876869-d151-4de2-a9b5-6fe49250bb42');\n",
              "          const dataTable =\n",
              "            await google.colab.kernel.invokeFunction('convertToInteractive',\n",
              "                                                     [key], {});\n",
              "          if (!dataTable) return;\n",
              "\n",
              "          const docLinkHtml = 'Like what you see? Visit the ' +\n",
              "            '<a target=\"_blank\" href=https://colab.research.google.com/notebooks/data_table.ipynb>data table notebook</a>'\n",
              "            + ' to learn more about interactive tables.';\n",
              "          element.innerHTML = '';\n",
              "          dataTable['output_type'] = 'display_data';\n",
              "          await google.colab.output.renderOutput(dataTable, element);\n",
              "          const docLink = document.createElement('div');\n",
              "          docLink.innerHTML = docLinkHtml;\n",
              "          element.appendChild(docLink);\n",
              "        }\n",
              "      </script>\n",
              "    </div>\n",
              "  </div>\n",
              "  "
            ]
          },
          "metadata": {},
          "execution_count": 87
        }
      ]
    },
    {
      "cell_type": "code",
      "source": [
        "def getUserDf(uid):\n",
        "  user_movies_df = movies_ratings.loc[movies_ratings['userId'] == uid]\n",
        "  return user_movies_df"
      ],
      "metadata": {
        "id": "dQaiHyB8uXwT"
      },
      "execution_count": null,
      "outputs": []
    },
    {
      "cell_type": "code",
      "source": [
        "getUserDf(user_id)"
      ],
      "metadata": {
        "colab": {
          "base_uri": "https://localhost:8080/",
          "height": 552
        },
        "id": "ryOISuasuZ9z",
        "outputId": "f26a5c1e-12c1-4e2a-9219-1ea4f46e124a"
      },
      "execution_count": null,
      "outputs": [
        {
          "output_type": "execute_result",
          "data": {
            "text/plain": [
              "          imdb_id                                           overview  \\\n",
              "22746   tt0107290  A wealthy entrepreneur secretly creates a them...   \n",
              "74644   tt0082340  In 1997, the island of Manhattan has been wall...   \n",
              "81832   tt0108598  Gromit finds himself being pushed out of his r...   \n",
              "293325  tt0240772  Less than 24 hours into his parole, charismati...   \n",
              "319357  tt0121765  Ten years after the invasion of Naboo, the gal...   \n",
              "326547  tt0258463  Wounded to the brink of death and suffering fr...   \n",
              "421441  tt0320691  Vampires and werewolves have waged a nocturnal...   \n",
              "445754  tt0167190  In the final days of World War II, the Nazis a...   \n",
              "496031  tt0379593  A comic, biting and revelatory documentary fol...   \n",
              "519106  tt0385700  Two years have passed since the final battle w...   \n",
              "554833  tt0384537  The eerie and deserted ghost town of Silent Hi...   \n",
              "603958  tt0317219  Lightning McQueen, a hotshot rookie race car d...   \n",
              "638980  tt0479143  When he loses a highly publicized virtual boxi...   \n",
              "697437  tt0409904  A man who serves in the war between the forces...   \n",
              "708086  tt0373883  After being committed for 17 years, Michael My...   \n",
              "778152  tt0438488  All grown up in post-apocalyptic 2018, John Co...   \n",
              "\n",
              "                                               title  userId  movieId  rating  \\\n",
              "22746                                  Jurassic Park   13573      329     4.5   \n",
              "74644                           Escape from New York   13573     1103     0.5   \n",
              "81832                             The Wrong Trousers   13573      531     3.0   \n",
              "293325                                Ocean's Eleven   13573      161     5.0   \n",
              "319357  Star Wars: Episode II - Attack of the Clones   13573     1894     4.0   \n",
              "326547                           The Bourne Identity   13573     2501     3.5   \n",
              "421441                                    Underworld   13573      277     3.0   \n",
              "445754                                       Hellboy   13573     1487     0.5   \n",
              "496031                                   The Yes Men   13573     3396     3.0   \n",
              "519106            Final Fantasy VII: Advent Children   13573      647     3.5   \n",
              "554833                                   Silent Hill   13573      588     3.0   \n",
              "603958                                          Cars   13573      920     3.0   \n",
              "638980                                  Rocky Balboa   13573     1246     4.0   \n",
              "697437                                     Day Watch   13573     2269     0.5   \n",
              "708086                                     Halloween   13573     2082     2.0   \n",
              "778152                          Terminator Salvation   13573      534     5.0   \n",
              "\n",
              "         timestamp  \n",
              "22746   1167775816  \n",
              "74644   1167714259  \n",
              "81832   1168206917  \n",
              "293325  1188084284  \n",
              "319357  1167771018  \n",
              "326547  1167715798  \n",
              "421441  1168207007  \n",
              "445754  1167774250  \n",
              "496031  1167713973  \n",
              "519106  1167718299  \n",
              "554833  1168207207  \n",
              "603958  1168207352  \n",
              "638980  1167715957  \n",
              "697437  1167723563  \n",
              "708086  1167724014  \n",
              "778152  1167717196  "
            ],
            "text/html": [
              "\n",
              "  <div id=\"df-7bbc5758-2454-43df-ae51-7e0f508d40b5\">\n",
              "    <div class=\"colab-df-container\">\n",
              "      <div>\n",
              "<style scoped>\n",
              "    .dataframe tbody tr th:only-of-type {\n",
              "        vertical-align: middle;\n",
              "    }\n",
              "\n",
              "    .dataframe tbody tr th {\n",
              "        vertical-align: top;\n",
              "    }\n",
              "\n",
              "    .dataframe thead th {\n",
              "        text-align: right;\n",
              "    }\n",
              "</style>\n",
              "<table border=\"1\" class=\"dataframe\">\n",
              "  <thead>\n",
              "    <tr style=\"text-align: right;\">\n",
              "      <th></th>\n",
              "      <th>imdb_id</th>\n",
              "      <th>overview</th>\n",
              "      <th>title</th>\n",
              "      <th>userId</th>\n",
              "      <th>movieId</th>\n",
              "      <th>rating</th>\n",
              "      <th>timestamp</th>\n",
              "    </tr>\n",
              "  </thead>\n",
              "  <tbody>\n",
              "    <tr>\n",
              "      <th>22746</th>\n",
              "      <td>tt0107290</td>\n",
              "      <td>A wealthy entrepreneur secretly creates a them...</td>\n",
              "      <td>Jurassic Park</td>\n",
              "      <td>13573</td>\n",
              "      <td>329</td>\n",
              "      <td>4.5</td>\n",
              "      <td>1167775816</td>\n",
              "    </tr>\n",
              "    <tr>\n",
              "      <th>74644</th>\n",
              "      <td>tt0082340</td>\n",
              "      <td>In 1997, the island of Manhattan has been wall...</td>\n",
              "      <td>Escape from New York</td>\n",
              "      <td>13573</td>\n",
              "      <td>1103</td>\n",
              "      <td>0.5</td>\n",
              "      <td>1167714259</td>\n",
              "    </tr>\n",
              "    <tr>\n",
              "      <th>81832</th>\n",
              "      <td>tt0108598</td>\n",
              "      <td>Gromit finds himself being pushed out of his r...</td>\n",
              "      <td>The Wrong Trousers</td>\n",
              "      <td>13573</td>\n",
              "      <td>531</td>\n",
              "      <td>3.0</td>\n",
              "      <td>1168206917</td>\n",
              "    </tr>\n",
              "    <tr>\n",
              "      <th>293325</th>\n",
              "      <td>tt0240772</td>\n",
              "      <td>Less than 24 hours into his parole, charismati...</td>\n",
              "      <td>Ocean's Eleven</td>\n",
              "      <td>13573</td>\n",
              "      <td>161</td>\n",
              "      <td>5.0</td>\n",
              "      <td>1188084284</td>\n",
              "    </tr>\n",
              "    <tr>\n",
              "      <th>319357</th>\n",
              "      <td>tt0121765</td>\n",
              "      <td>Ten years after the invasion of Naboo, the gal...</td>\n",
              "      <td>Star Wars: Episode II - Attack of the Clones</td>\n",
              "      <td>13573</td>\n",
              "      <td>1894</td>\n",
              "      <td>4.0</td>\n",
              "      <td>1167771018</td>\n",
              "    </tr>\n",
              "    <tr>\n",
              "      <th>326547</th>\n",
              "      <td>tt0258463</td>\n",
              "      <td>Wounded to the brink of death and suffering fr...</td>\n",
              "      <td>The Bourne Identity</td>\n",
              "      <td>13573</td>\n",
              "      <td>2501</td>\n",
              "      <td>3.5</td>\n",
              "      <td>1167715798</td>\n",
              "    </tr>\n",
              "    <tr>\n",
              "      <th>421441</th>\n",
              "      <td>tt0320691</td>\n",
              "      <td>Vampires and werewolves have waged a nocturnal...</td>\n",
              "      <td>Underworld</td>\n",
              "      <td>13573</td>\n",
              "      <td>277</td>\n",
              "      <td>3.0</td>\n",
              "      <td>1168207007</td>\n",
              "    </tr>\n",
              "    <tr>\n",
              "      <th>445754</th>\n",
              "      <td>tt0167190</td>\n",
              "      <td>In the final days of World War II, the Nazis a...</td>\n",
              "      <td>Hellboy</td>\n",
              "      <td>13573</td>\n",
              "      <td>1487</td>\n",
              "      <td>0.5</td>\n",
              "      <td>1167774250</td>\n",
              "    </tr>\n",
              "    <tr>\n",
              "      <th>496031</th>\n",
              "      <td>tt0379593</td>\n",
              "      <td>A comic, biting and revelatory documentary fol...</td>\n",
              "      <td>The Yes Men</td>\n",
              "      <td>13573</td>\n",
              "      <td>3396</td>\n",
              "      <td>3.0</td>\n",
              "      <td>1167713973</td>\n",
              "    </tr>\n",
              "    <tr>\n",
              "      <th>519106</th>\n",
              "      <td>tt0385700</td>\n",
              "      <td>Two years have passed since the final battle w...</td>\n",
              "      <td>Final Fantasy VII: Advent Children</td>\n",
              "      <td>13573</td>\n",
              "      <td>647</td>\n",
              "      <td>3.5</td>\n",
              "      <td>1167718299</td>\n",
              "    </tr>\n",
              "    <tr>\n",
              "      <th>554833</th>\n",
              "      <td>tt0384537</td>\n",
              "      <td>The eerie and deserted ghost town of Silent Hi...</td>\n",
              "      <td>Silent Hill</td>\n",
              "      <td>13573</td>\n",
              "      <td>588</td>\n",
              "      <td>3.0</td>\n",
              "      <td>1168207207</td>\n",
              "    </tr>\n",
              "    <tr>\n",
              "      <th>603958</th>\n",
              "      <td>tt0317219</td>\n",
              "      <td>Lightning McQueen, a hotshot rookie race car d...</td>\n",
              "      <td>Cars</td>\n",
              "      <td>13573</td>\n",
              "      <td>920</td>\n",
              "      <td>3.0</td>\n",
              "      <td>1168207352</td>\n",
              "    </tr>\n",
              "    <tr>\n",
              "      <th>638980</th>\n",
              "      <td>tt0479143</td>\n",
              "      <td>When he loses a highly publicized virtual boxi...</td>\n",
              "      <td>Rocky Balboa</td>\n",
              "      <td>13573</td>\n",
              "      <td>1246</td>\n",
              "      <td>4.0</td>\n",
              "      <td>1167715957</td>\n",
              "    </tr>\n",
              "    <tr>\n",
              "      <th>697437</th>\n",
              "      <td>tt0409904</td>\n",
              "      <td>A man who serves in the war between the forces...</td>\n",
              "      <td>Day Watch</td>\n",
              "      <td>13573</td>\n",
              "      <td>2269</td>\n",
              "      <td>0.5</td>\n",
              "      <td>1167723563</td>\n",
              "    </tr>\n",
              "    <tr>\n",
              "      <th>708086</th>\n",
              "      <td>tt0373883</td>\n",
              "      <td>After being committed for 17 years, Michael My...</td>\n",
              "      <td>Halloween</td>\n",
              "      <td>13573</td>\n",
              "      <td>2082</td>\n",
              "      <td>2.0</td>\n",
              "      <td>1167724014</td>\n",
              "    </tr>\n",
              "    <tr>\n",
              "      <th>778152</th>\n",
              "      <td>tt0438488</td>\n",
              "      <td>All grown up in post-apocalyptic 2018, John Co...</td>\n",
              "      <td>Terminator Salvation</td>\n",
              "      <td>13573</td>\n",
              "      <td>534</td>\n",
              "      <td>5.0</td>\n",
              "      <td>1167717196</td>\n",
              "    </tr>\n",
              "  </tbody>\n",
              "</table>\n",
              "</div>\n",
              "      <button class=\"colab-df-convert\" onclick=\"convertToInteractive('df-7bbc5758-2454-43df-ae51-7e0f508d40b5')\"\n",
              "              title=\"Convert this dataframe to an interactive table.\"\n",
              "              style=\"display:none;\">\n",
              "        \n",
              "  <svg xmlns=\"http://www.w3.org/2000/svg\" height=\"24px\"viewBox=\"0 0 24 24\"\n",
              "       width=\"24px\">\n",
              "    <path d=\"M0 0h24v24H0V0z\" fill=\"none\"/>\n",
              "    <path d=\"M18.56 5.44l.94 2.06.94-2.06 2.06-.94-2.06-.94-.94-2.06-.94 2.06-2.06.94zm-11 1L8.5 8.5l.94-2.06 2.06-.94-2.06-.94L8.5 2.5l-.94 2.06-2.06.94zm10 10l.94 2.06.94-2.06 2.06-.94-2.06-.94-.94-2.06-.94 2.06-2.06.94z\"/><path d=\"M17.41 7.96l-1.37-1.37c-.4-.4-.92-.59-1.43-.59-.52 0-1.04.2-1.43.59L10.3 9.45l-7.72 7.72c-.78.78-.78 2.05 0 2.83L4 21.41c.39.39.9.59 1.41.59.51 0 1.02-.2 1.41-.59l7.78-7.78 2.81-2.81c.8-.78.8-2.07 0-2.86zM5.41 20L4 18.59l7.72-7.72 1.47 1.35L5.41 20z\"/>\n",
              "  </svg>\n",
              "      </button>\n",
              "      \n",
              "  <style>\n",
              "    .colab-df-container {\n",
              "      display:flex;\n",
              "      flex-wrap:wrap;\n",
              "      gap: 12px;\n",
              "    }\n",
              "\n",
              "    .colab-df-convert {\n",
              "      background-color: #E8F0FE;\n",
              "      border: none;\n",
              "      border-radius: 50%;\n",
              "      cursor: pointer;\n",
              "      display: none;\n",
              "      fill: #1967D2;\n",
              "      height: 32px;\n",
              "      padding: 0 0 0 0;\n",
              "      width: 32px;\n",
              "    }\n",
              "\n",
              "    .colab-df-convert:hover {\n",
              "      background-color: #E2EBFA;\n",
              "      box-shadow: 0px 1px 2px rgba(60, 64, 67, 0.3), 0px 1px 3px 1px rgba(60, 64, 67, 0.15);\n",
              "      fill: #174EA6;\n",
              "    }\n",
              "\n",
              "    [theme=dark] .colab-df-convert {\n",
              "      background-color: #3B4455;\n",
              "      fill: #D2E3FC;\n",
              "    }\n",
              "\n",
              "    [theme=dark] .colab-df-convert:hover {\n",
              "      background-color: #434B5C;\n",
              "      box-shadow: 0px 1px 3px 1px rgba(0, 0, 0, 0.15);\n",
              "      filter: drop-shadow(0px 1px 2px rgba(0, 0, 0, 0.3));\n",
              "      fill: #FFFFFF;\n",
              "    }\n",
              "  </style>\n",
              "\n",
              "      <script>\n",
              "        const buttonEl =\n",
              "          document.querySelector('#df-7bbc5758-2454-43df-ae51-7e0f508d40b5 button.colab-df-convert');\n",
              "        buttonEl.style.display =\n",
              "          google.colab.kernel.accessAllowed ? 'block' : 'none';\n",
              "\n",
              "        async function convertToInteractive(key) {\n",
              "          const element = document.querySelector('#df-7bbc5758-2454-43df-ae51-7e0f508d40b5');\n",
              "          const dataTable =\n",
              "            await google.colab.kernel.invokeFunction('convertToInteractive',\n",
              "                                                     [key], {});\n",
              "          if (!dataTable) return;\n",
              "\n",
              "          const docLinkHtml = 'Like what you see? Visit the ' +\n",
              "            '<a target=\"_blank\" href=https://colab.research.google.com/notebooks/data_table.ipynb>data table notebook</a>'\n",
              "            + ' to learn more about interactive tables.';\n",
              "          element.innerHTML = '';\n",
              "          dataTable['output_type'] = 'display_data';\n",
              "          await google.colab.output.renderOutput(dataTable, element);\n",
              "          const docLink = document.createElement('div');\n",
              "          docLink.innerHTML = docLinkHtml;\n",
              "          element.appendChild(docLink);\n",
              "        }\n",
              "      </script>\n",
              "    </div>\n",
              "  </div>\n",
              "  "
            ]
          },
          "metadata": {},
          "execution_count": 98
        }
      ]
    },
    {
      "cell_type": "code",
      "source": [
        "def getUserMoviesDf(uid):\n",
        "  temp = getTempMoviesDf()\n",
        "  user_df = getUserDf(uid)\n",
        "  user_movies_rating_df = user_df[['movieId', 'rating']].set_index('movieId')\n",
        "  temp.loc[user_movies_rating_df.index, ['rating']] = user_movies_rating_df.rating\n",
        "  return temp"
      ],
      "metadata": {
        "id": "vJQtirmIvi3K"
      },
      "execution_count": null,
      "outputs": []
    },
    {
      "cell_type": "code",
      "source": [
        "getUserMoviesDf(user_id)"
      ],
      "metadata": {
        "colab": {
          "base_uri": "https://localhost:8080/",
          "height": 424
        },
        "id": "uF3BrdjovxwR",
        "outputId": "51ffdb73-8c66-41b6-f486-83ebbea162b3"
      },
      "execution_count": null,
      "outputs": [
        {
          "output_type": "execute_result",
          "data": {
            "text/plain": [
              "       rating\n",
              "710       0.0\n",
              "755       0.0\n",
              "5894      0.0\n",
              "2292      0.0\n",
              "11        0.0\n",
              "...       ...\n",
              "64325     0.0\n",
              "25961     0.0\n",
              "48943     0.0\n",
              "98439     0.0\n",
              "36046     0.0\n",
              "\n",
              "[210 rows x 1 columns]"
            ],
            "text/html": [
              "\n",
              "  <div id=\"df-c17e4225-151d-4208-b35c-33ae6ec6aef3\">\n",
              "    <div class=\"colab-df-container\">\n",
              "      <div>\n",
              "<style scoped>\n",
              "    .dataframe tbody tr th:only-of-type {\n",
              "        vertical-align: middle;\n",
              "    }\n",
              "\n",
              "    .dataframe tbody tr th {\n",
              "        vertical-align: top;\n",
              "    }\n",
              "\n",
              "    .dataframe thead th {\n",
              "        text-align: right;\n",
              "    }\n",
              "</style>\n",
              "<table border=\"1\" class=\"dataframe\">\n",
              "  <thead>\n",
              "    <tr style=\"text-align: right;\">\n",
              "      <th></th>\n",
              "      <th>rating</th>\n",
              "    </tr>\n",
              "  </thead>\n",
              "  <tbody>\n",
              "    <tr>\n",
              "      <th>710</th>\n",
              "      <td>0.0</td>\n",
              "    </tr>\n",
              "    <tr>\n",
              "      <th>755</th>\n",
              "      <td>0.0</td>\n",
              "    </tr>\n",
              "    <tr>\n",
              "      <th>5894</th>\n",
              "      <td>0.0</td>\n",
              "    </tr>\n",
              "    <tr>\n",
              "      <th>2292</th>\n",
              "      <td>0.0</td>\n",
              "    </tr>\n",
              "    <tr>\n",
              "      <th>11</th>\n",
              "      <td>0.0</td>\n",
              "    </tr>\n",
              "    <tr>\n",
              "      <th>...</th>\n",
              "      <td>...</td>\n",
              "    </tr>\n",
              "    <tr>\n",
              "      <th>64325</th>\n",
              "      <td>0.0</td>\n",
              "    </tr>\n",
              "    <tr>\n",
              "      <th>25961</th>\n",
              "      <td>0.0</td>\n",
              "    </tr>\n",
              "    <tr>\n",
              "      <th>48943</th>\n",
              "      <td>0.0</td>\n",
              "    </tr>\n",
              "    <tr>\n",
              "      <th>98439</th>\n",
              "      <td>0.0</td>\n",
              "    </tr>\n",
              "    <tr>\n",
              "      <th>36046</th>\n",
              "      <td>0.0</td>\n",
              "    </tr>\n",
              "  </tbody>\n",
              "</table>\n",
              "<p>210 rows × 1 columns</p>\n",
              "</div>\n",
              "      <button class=\"colab-df-convert\" onclick=\"convertToInteractive('df-c17e4225-151d-4208-b35c-33ae6ec6aef3')\"\n",
              "              title=\"Convert this dataframe to an interactive table.\"\n",
              "              style=\"display:none;\">\n",
              "        \n",
              "  <svg xmlns=\"http://www.w3.org/2000/svg\" height=\"24px\"viewBox=\"0 0 24 24\"\n",
              "       width=\"24px\">\n",
              "    <path d=\"M0 0h24v24H0V0z\" fill=\"none\"/>\n",
              "    <path d=\"M18.56 5.44l.94 2.06.94-2.06 2.06-.94-2.06-.94-.94-2.06-.94 2.06-2.06.94zm-11 1L8.5 8.5l.94-2.06 2.06-.94-2.06-.94L8.5 2.5l-.94 2.06-2.06.94zm10 10l.94 2.06.94-2.06 2.06-.94-2.06-.94-.94-2.06-.94 2.06-2.06.94z\"/><path d=\"M17.41 7.96l-1.37-1.37c-.4-.4-.92-.59-1.43-.59-.52 0-1.04.2-1.43.59L10.3 9.45l-7.72 7.72c-.78.78-.78 2.05 0 2.83L4 21.41c.39.39.9.59 1.41.59.51 0 1.02-.2 1.41-.59l7.78-7.78 2.81-2.81c.8-.78.8-2.07 0-2.86zM5.41 20L4 18.59l7.72-7.72 1.47 1.35L5.41 20z\"/>\n",
              "  </svg>\n",
              "      </button>\n",
              "      \n",
              "  <style>\n",
              "    .colab-df-container {\n",
              "      display:flex;\n",
              "      flex-wrap:wrap;\n",
              "      gap: 12px;\n",
              "    }\n",
              "\n",
              "    .colab-df-convert {\n",
              "      background-color: #E8F0FE;\n",
              "      border: none;\n",
              "      border-radius: 50%;\n",
              "      cursor: pointer;\n",
              "      display: none;\n",
              "      fill: #1967D2;\n",
              "      height: 32px;\n",
              "      padding: 0 0 0 0;\n",
              "      width: 32px;\n",
              "    }\n",
              "\n",
              "    .colab-df-convert:hover {\n",
              "      background-color: #E2EBFA;\n",
              "      box-shadow: 0px 1px 2px rgba(60, 64, 67, 0.3), 0px 1px 3px 1px rgba(60, 64, 67, 0.15);\n",
              "      fill: #174EA6;\n",
              "    }\n",
              "\n",
              "    [theme=dark] .colab-df-convert {\n",
              "      background-color: #3B4455;\n",
              "      fill: #D2E3FC;\n",
              "    }\n",
              "\n",
              "    [theme=dark] .colab-df-convert:hover {\n",
              "      background-color: #434B5C;\n",
              "      box-shadow: 0px 1px 3px 1px rgba(0, 0, 0, 0.15);\n",
              "      filter: drop-shadow(0px 1px 2px rgba(0, 0, 0, 0.3));\n",
              "      fill: #FFFFFF;\n",
              "    }\n",
              "  </style>\n",
              "\n",
              "      <script>\n",
              "        const buttonEl =\n",
              "          document.querySelector('#df-c17e4225-151d-4208-b35c-33ae6ec6aef3 button.colab-df-convert');\n",
              "        buttonEl.style.display =\n",
              "          google.colab.kernel.accessAllowed ? 'block' : 'none';\n",
              "\n",
              "        async function convertToInteractive(key) {\n",
              "          const element = document.querySelector('#df-c17e4225-151d-4208-b35c-33ae6ec6aef3');\n",
              "          const dataTable =\n",
              "            await google.colab.kernel.invokeFunction('convertToInteractive',\n",
              "                                                     [key], {});\n",
              "          if (!dataTable) return;\n",
              "\n",
              "          const docLinkHtml = 'Like what you see? Visit the ' +\n",
              "            '<a target=\"_blank\" href=https://colab.research.google.com/notebooks/data_table.ipynb>data table notebook</a>'\n",
              "            + ' to learn more about interactive tables.';\n",
              "          element.innerHTML = '';\n",
              "          dataTable['output_type'] = 'display_data';\n",
              "          await google.colab.output.renderOutput(dataTable, element);\n",
              "          const docLink = document.createElement('div');\n",
              "          docLink.innerHTML = docLinkHtml;\n",
              "          element.appendChild(docLink);\n",
              "        }\n",
              "      </script>\n",
              "    </div>\n",
              "  </div>\n",
              "  "
            ]
          },
          "metadata": {},
          "execution_count": 100
        }
      ]
    },
    {
      "cell_type": "code",
      "source": [
        "getUserMoviesDf(user_id).value_counts()"
      ],
      "metadata": {
        "colab": {
          "base_uri": "https://localhost:8080/"
        },
        "id": "JQxm6eCKvz86",
        "outputId": "82e8fc15-6371-4831-ee8a-87a7066cf255"
      },
      "execution_count": null,
      "outputs": [
        {
          "output_type": "execute_result",
          "data": {
            "text/plain": [
              "rating\n",
              "0.0       194\n",
              "3.0         5\n",
              "0.5         3\n",
              "3.5         2\n",
              "4.0         2\n",
              "5.0         2\n",
              "2.0         1\n",
              "4.5         1\n",
              "dtype: int64"
            ]
          },
          "metadata": {},
          "execution_count": 101
        }
      ]
    },
    {
      "cell_type": "code",
      "source": [
        "def getPreparedDf(uid, chunk_users):\n",
        "  others = pd.crosstab(movies_ratings.movieId, movies_ratings.loc[movies_ratings.userId.isin(chunk_users), 'userId'])\n",
        "  df = getUserMoviesDf(uid).drop(columns=['rating'])\n",
        "  df.loc[others.index, others.columns] = others\n",
        "  df[df.isna()] = 0.0\n",
        "  return df"
      ],
      "metadata": {
        "id": "8Q9QrWCSv2wo"
      },
      "execution_count": null,
      "outputs": []
    },
    {
      "cell_type": "code",
      "source": [
        "other_uids = movies_ratings['userId'].unique().tolist()\n",
        "other_uids = list(set(other_uids) - set([user_id]))\n",
        "chunk = 3\n",
        "chunk_size = 4000\n",
        "chunk_users = other_uids[chunk * chunk_size: (chunk + 1) * chunk_size]\n",
        "getPreparedDf(user_id, chunk_users)"
      ],
      "metadata": {
        "colab": {
          "base_uri": "https://localhost:8080/",
          "height": 424
        },
        "id": "exwx6iyXv4v4",
        "outputId": "acfb6692-55d5-4d2a-c9b4-e6e012f821b4"
      },
      "execution_count": null,
      "outputs": [
        {
          "output_type": "execute_result",
          "data": {
            "text/plain": [
              "       18891  18892  18893  18895  18897  18898  18899  18900  18903  18905  \\\n",
              "710      0.0    0.0    0.0    0.0    0.0    0.0    0.0    0.0    0.0    0.0   \n",
              "755      0.0    0.0    0.0    0.0    0.0    0.0    0.0    0.0    0.0    0.0   \n",
              "5894     0.0    0.0    0.0    0.0    0.0    0.0    0.0    0.0    0.0    0.0   \n",
              "2292     0.0    0.0    0.0    0.0    0.0    0.0    0.0    0.0    0.0    0.0   \n",
              "11       0.0    0.0    0.0    0.0    0.0    0.0    0.0    0.0    0.0    0.0   \n",
              "...      ...    ...    ...    ...    ...    ...    ...    ...    ...    ...   \n",
              "64325    0.0    0.0    0.0    0.0    0.0    0.0    0.0    0.0    0.0    0.0   \n",
              "25961    0.0    0.0    0.0    0.0    0.0    0.0    0.0    0.0    0.0    0.0   \n",
              "48943    0.0    0.0    0.0    0.0    0.0    0.0    0.0    0.0    0.0    0.0   \n",
              "98439    0.0    0.0    0.0    0.0    0.0    0.0    0.0    0.0    0.0    0.0   \n",
              "36046    0.0    0.0    0.0    0.0    0.0    0.0    0.0    0.0    0.0    0.0   \n",
              "\n",
              "       ...  25246  25249  25250  25253  25254  25255  25257  25258  25260  \\\n",
              "710    ...    0.0    0.0    0.0    0.0    0.0    0.0    0.0    0.0    0.0   \n",
              "755    ...    0.0    0.0    0.0    0.0    0.0    0.0    0.0    0.0    0.0   \n",
              "5894   ...    0.0    0.0    0.0    0.0    0.0    0.0    0.0    0.0    0.0   \n",
              "2292   ...    0.0    0.0    0.0    0.0    0.0    0.0    0.0    0.0    0.0   \n",
              "11     ...    0.0    0.0    0.0    0.0    0.0    0.0    0.0    1.0    0.0   \n",
              "...    ...    ...    ...    ...    ...    ...    ...    ...    ...    ...   \n",
              "64325  ...    0.0    0.0    0.0    0.0    0.0    0.0    0.0    0.0    0.0   \n",
              "25961  ...    0.0    0.0    0.0    0.0    0.0    0.0    0.0    0.0    0.0   \n",
              "48943  ...    0.0    0.0    0.0    0.0    0.0    0.0    0.0    0.0    0.0   \n",
              "98439  ...    0.0    0.0    0.0    0.0    0.0    0.0    0.0    0.0    0.0   \n",
              "36046  ...    0.0    0.0    0.0    0.0    0.0    0.0    0.0    0.0    0.0   \n",
              "\n",
              "       25261  \n",
              "710      0.0  \n",
              "755      0.0  \n",
              "5894     0.0  \n",
              "2292     0.0  \n",
              "11       0.0  \n",
              "...      ...  \n",
              "64325    0.0  \n",
              "25961    0.0  \n",
              "48943    0.0  \n",
              "98439    0.0  \n",
              "36046    0.0  \n",
              "\n",
              "[210 rows x 4000 columns]"
            ],
            "text/html": [
              "\n",
              "  <div id=\"df-8451a0d5-2e79-41f0-b5c0-70de0144cade\">\n",
              "    <div class=\"colab-df-container\">\n",
              "      <div>\n",
              "<style scoped>\n",
              "    .dataframe tbody tr th:only-of-type {\n",
              "        vertical-align: middle;\n",
              "    }\n",
              "\n",
              "    .dataframe tbody tr th {\n",
              "        vertical-align: top;\n",
              "    }\n",
              "\n",
              "    .dataframe thead th {\n",
              "        text-align: right;\n",
              "    }\n",
              "</style>\n",
              "<table border=\"1\" class=\"dataframe\">\n",
              "  <thead>\n",
              "    <tr style=\"text-align: right;\">\n",
              "      <th></th>\n",
              "      <th>18891</th>\n",
              "      <th>18892</th>\n",
              "      <th>18893</th>\n",
              "      <th>18895</th>\n",
              "      <th>18897</th>\n",
              "      <th>18898</th>\n",
              "      <th>18899</th>\n",
              "      <th>18900</th>\n",
              "      <th>18903</th>\n",
              "      <th>18905</th>\n",
              "      <th>...</th>\n",
              "      <th>25246</th>\n",
              "      <th>25249</th>\n",
              "      <th>25250</th>\n",
              "      <th>25253</th>\n",
              "      <th>25254</th>\n",
              "      <th>25255</th>\n",
              "      <th>25257</th>\n",
              "      <th>25258</th>\n",
              "      <th>25260</th>\n",
              "      <th>25261</th>\n",
              "    </tr>\n",
              "  </thead>\n",
              "  <tbody>\n",
              "    <tr>\n",
              "      <th>710</th>\n",
              "      <td>0.0</td>\n",
              "      <td>0.0</td>\n",
              "      <td>0.0</td>\n",
              "      <td>0.0</td>\n",
              "      <td>0.0</td>\n",
              "      <td>0.0</td>\n",
              "      <td>0.0</td>\n",
              "      <td>0.0</td>\n",
              "      <td>0.0</td>\n",
              "      <td>0.0</td>\n",
              "      <td>...</td>\n",
              "      <td>0.0</td>\n",
              "      <td>0.0</td>\n",
              "      <td>0.0</td>\n",
              "      <td>0.0</td>\n",
              "      <td>0.0</td>\n",
              "      <td>0.0</td>\n",
              "      <td>0.0</td>\n",
              "      <td>0.0</td>\n",
              "      <td>0.0</td>\n",
              "      <td>0.0</td>\n",
              "    </tr>\n",
              "    <tr>\n",
              "      <th>755</th>\n",
              "      <td>0.0</td>\n",
              "      <td>0.0</td>\n",
              "      <td>0.0</td>\n",
              "      <td>0.0</td>\n",
              "      <td>0.0</td>\n",
              "      <td>0.0</td>\n",
              "      <td>0.0</td>\n",
              "      <td>0.0</td>\n",
              "      <td>0.0</td>\n",
              "      <td>0.0</td>\n",
              "      <td>...</td>\n",
              "      <td>0.0</td>\n",
              "      <td>0.0</td>\n",
              "      <td>0.0</td>\n",
              "      <td>0.0</td>\n",
              "      <td>0.0</td>\n",
              "      <td>0.0</td>\n",
              "      <td>0.0</td>\n",
              "      <td>0.0</td>\n",
              "      <td>0.0</td>\n",
              "      <td>0.0</td>\n",
              "    </tr>\n",
              "    <tr>\n",
              "      <th>5894</th>\n",
              "      <td>0.0</td>\n",
              "      <td>0.0</td>\n",
              "      <td>0.0</td>\n",
              "      <td>0.0</td>\n",
              "      <td>0.0</td>\n",
              "      <td>0.0</td>\n",
              "      <td>0.0</td>\n",
              "      <td>0.0</td>\n",
              "      <td>0.0</td>\n",
              "      <td>0.0</td>\n",
              "      <td>...</td>\n",
              "      <td>0.0</td>\n",
              "      <td>0.0</td>\n",
              "      <td>0.0</td>\n",
              "      <td>0.0</td>\n",
              "      <td>0.0</td>\n",
              "      <td>0.0</td>\n",
              "      <td>0.0</td>\n",
              "      <td>0.0</td>\n",
              "      <td>0.0</td>\n",
              "      <td>0.0</td>\n",
              "    </tr>\n",
              "    <tr>\n",
              "      <th>2292</th>\n",
              "      <td>0.0</td>\n",
              "      <td>0.0</td>\n",
              "      <td>0.0</td>\n",
              "      <td>0.0</td>\n",
              "      <td>0.0</td>\n",
              "      <td>0.0</td>\n",
              "      <td>0.0</td>\n",
              "      <td>0.0</td>\n",
              "      <td>0.0</td>\n",
              "      <td>0.0</td>\n",
              "      <td>...</td>\n",
              "      <td>0.0</td>\n",
              "      <td>0.0</td>\n",
              "      <td>0.0</td>\n",
              "      <td>0.0</td>\n",
              "      <td>0.0</td>\n",
              "      <td>0.0</td>\n",
              "      <td>0.0</td>\n",
              "      <td>0.0</td>\n",
              "      <td>0.0</td>\n",
              "      <td>0.0</td>\n",
              "    </tr>\n",
              "    <tr>\n",
              "      <th>11</th>\n",
              "      <td>0.0</td>\n",
              "      <td>0.0</td>\n",
              "      <td>0.0</td>\n",
              "      <td>0.0</td>\n",
              "      <td>0.0</td>\n",
              "      <td>0.0</td>\n",
              "      <td>0.0</td>\n",
              "      <td>0.0</td>\n",
              "      <td>0.0</td>\n",
              "      <td>0.0</td>\n",
              "      <td>...</td>\n",
              "      <td>0.0</td>\n",
              "      <td>0.0</td>\n",
              "      <td>0.0</td>\n",
              "      <td>0.0</td>\n",
              "      <td>0.0</td>\n",
              "      <td>0.0</td>\n",
              "      <td>0.0</td>\n",
              "      <td>1.0</td>\n",
              "      <td>0.0</td>\n",
              "      <td>0.0</td>\n",
              "    </tr>\n",
              "    <tr>\n",
              "      <th>...</th>\n",
              "      <td>...</td>\n",
              "      <td>...</td>\n",
              "      <td>...</td>\n",
              "      <td>...</td>\n",
              "      <td>...</td>\n",
              "      <td>...</td>\n",
              "      <td>...</td>\n",
              "      <td>...</td>\n",
              "      <td>...</td>\n",
              "      <td>...</td>\n",
              "      <td>...</td>\n",
              "      <td>...</td>\n",
              "      <td>...</td>\n",
              "      <td>...</td>\n",
              "      <td>...</td>\n",
              "      <td>...</td>\n",
              "      <td>...</td>\n",
              "      <td>...</td>\n",
              "      <td>...</td>\n",
              "      <td>...</td>\n",
              "      <td>...</td>\n",
              "    </tr>\n",
              "    <tr>\n",
              "      <th>64325</th>\n",
              "      <td>0.0</td>\n",
              "      <td>0.0</td>\n",
              "      <td>0.0</td>\n",
              "      <td>0.0</td>\n",
              "      <td>0.0</td>\n",
              "      <td>0.0</td>\n",
              "      <td>0.0</td>\n",
              "      <td>0.0</td>\n",
              "      <td>0.0</td>\n",
              "      <td>0.0</td>\n",
              "      <td>...</td>\n",
              "      <td>0.0</td>\n",
              "      <td>0.0</td>\n",
              "      <td>0.0</td>\n",
              "      <td>0.0</td>\n",
              "      <td>0.0</td>\n",
              "      <td>0.0</td>\n",
              "      <td>0.0</td>\n",
              "      <td>0.0</td>\n",
              "      <td>0.0</td>\n",
              "      <td>0.0</td>\n",
              "    </tr>\n",
              "    <tr>\n",
              "      <th>25961</th>\n",
              "      <td>0.0</td>\n",
              "      <td>0.0</td>\n",
              "      <td>0.0</td>\n",
              "      <td>0.0</td>\n",
              "      <td>0.0</td>\n",
              "      <td>0.0</td>\n",
              "      <td>0.0</td>\n",
              "      <td>0.0</td>\n",
              "      <td>0.0</td>\n",
              "      <td>0.0</td>\n",
              "      <td>...</td>\n",
              "      <td>0.0</td>\n",
              "      <td>0.0</td>\n",
              "      <td>0.0</td>\n",
              "      <td>0.0</td>\n",
              "      <td>0.0</td>\n",
              "      <td>0.0</td>\n",
              "      <td>0.0</td>\n",
              "      <td>0.0</td>\n",
              "      <td>0.0</td>\n",
              "      <td>0.0</td>\n",
              "    </tr>\n",
              "    <tr>\n",
              "      <th>48943</th>\n",
              "      <td>0.0</td>\n",
              "      <td>0.0</td>\n",
              "      <td>0.0</td>\n",
              "      <td>0.0</td>\n",
              "      <td>0.0</td>\n",
              "      <td>0.0</td>\n",
              "      <td>0.0</td>\n",
              "      <td>0.0</td>\n",
              "      <td>0.0</td>\n",
              "      <td>0.0</td>\n",
              "      <td>...</td>\n",
              "      <td>0.0</td>\n",
              "      <td>0.0</td>\n",
              "      <td>0.0</td>\n",
              "      <td>0.0</td>\n",
              "      <td>0.0</td>\n",
              "      <td>0.0</td>\n",
              "      <td>0.0</td>\n",
              "      <td>0.0</td>\n",
              "      <td>0.0</td>\n",
              "      <td>0.0</td>\n",
              "    </tr>\n",
              "    <tr>\n",
              "      <th>98439</th>\n",
              "      <td>0.0</td>\n",
              "      <td>0.0</td>\n",
              "      <td>0.0</td>\n",
              "      <td>0.0</td>\n",
              "      <td>0.0</td>\n",
              "      <td>0.0</td>\n",
              "      <td>0.0</td>\n",
              "      <td>0.0</td>\n",
              "      <td>0.0</td>\n",
              "      <td>0.0</td>\n",
              "      <td>...</td>\n",
              "      <td>0.0</td>\n",
              "      <td>0.0</td>\n",
              "      <td>0.0</td>\n",
              "      <td>0.0</td>\n",
              "      <td>0.0</td>\n",
              "      <td>0.0</td>\n",
              "      <td>0.0</td>\n",
              "      <td>0.0</td>\n",
              "      <td>0.0</td>\n",
              "      <td>0.0</td>\n",
              "    </tr>\n",
              "    <tr>\n",
              "      <th>36046</th>\n",
              "      <td>0.0</td>\n",
              "      <td>0.0</td>\n",
              "      <td>0.0</td>\n",
              "      <td>0.0</td>\n",
              "      <td>0.0</td>\n",
              "      <td>0.0</td>\n",
              "      <td>0.0</td>\n",
              "      <td>0.0</td>\n",
              "      <td>0.0</td>\n",
              "      <td>0.0</td>\n",
              "      <td>...</td>\n",
              "      <td>0.0</td>\n",
              "      <td>0.0</td>\n",
              "      <td>0.0</td>\n",
              "      <td>0.0</td>\n",
              "      <td>0.0</td>\n",
              "      <td>0.0</td>\n",
              "      <td>0.0</td>\n",
              "      <td>0.0</td>\n",
              "      <td>0.0</td>\n",
              "      <td>0.0</td>\n",
              "    </tr>\n",
              "  </tbody>\n",
              "</table>\n",
              "<p>210 rows × 4000 columns</p>\n",
              "</div>\n",
              "      <button class=\"colab-df-convert\" onclick=\"convertToInteractive('df-8451a0d5-2e79-41f0-b5c0-70de0144cade')\"\n",
              "              title=\"Convert this dataframe to an interactive table.\"\n",
              "              style=\"display:none;\">\n",
              "        \n",
              "  <svg xmlns=\"http://www.w3.org/2000/svg\" height=\"24px\"viewBox=\"0 0 24 24\"\n",
              "       width=\"24px\">\n",
              "    <path d=\"M0 0h24v24H0V0z\" fill=\"none\"/>\n",
              "    <path d=\"M18.56 5.44l.94 2.06.94-2.06 2.06-.94-2.06-.94-.94-2.06-.94 2.06-2.06.94zm-11 1L8.5 8.5l.94-2.06 2.06-.94-2.06-.94L8.5 2.5l-.94 2.06-2.06.94zm10 10l.94 2.06.94-2.06 2.06-.94-2.06-.94-.94-2.06-.94 2.06-2.06.94z\"/><path d=\"M17.41 7.96l-1.37-1.37c-.4-.4-.92-.59-1.43-.59-.52 0-1.04.2-1.43.59L10.3 9.45l-7.72 7.72c-.78.78-.78 2.05 0 2.83L4 21.41c.39.39.9.59 1.41.59.51 0 1.02-.2 1.41-.59l7.78-7.78 2.81-2.81c.8-.78.8-2.07 0-2.86zM5.41 20L4 18.59l7.72-7.72 1.47 1.35L5.41 20z\"/>\n",
              "  </svg>\n",
              "      </button>\n",
              "      \n",
              "  <style>\n",
              "    .colab-df-container {\n",
              "      display:flex;\n",
              "      flex-wrap:wrap;\n",
              "      gap: 12px;\n",
              "    }\n",
              "\n",
              "    .colab-df-convert {\n",
              "      background-color: #E8F0FE;\n",
              "      border: none;\n",
              "      border-radius: 50%;\n",
              "      cursor: pointer;\n",
              "      display: none;\n",
              "      fill: #1967D2;\n",
              "      height: 32px;\n",
              "      padding: 0 0 0 0;\n",
              "      width: 32px;\n",
              "    }\n",
              "\n",
              "    .colab-df-convert:hover {\n",
              "      background-color: #E2EBFA;\n",
              "      box-shadow: 0px 1px 2px rgba(60, 64, 67, 0.3), 0px 1px 3px 1px rgba(60, 64, 67, 0.15);\n",
              "      fill: #174EA6;\n",
              "    }\n",
              "\n",
              "    [theme=dark] .colab-df-convert {\n",
              "      background-color: #3B4455;\n",
              "      fill: #D2E3FC;\n",
              "    }\n",
              "\n",
              "    [theme=dark] .colab-df-convert:hover {\n",
              "      background-color: #434B5C;\n",
              "      box-shadow: 0px 1px 3px 1px rgba(0, 0, 0, 0.15);\n",
              "      filter: drop-shadow(0px 1px 2px rgba(0, 0, 0, 0.3));\n",
              "      fill: #FFFFFF;\n",
              "    }\n",
              "  </style>\n",
              "\n",
              "      <script>\n",
              "        const buttonEl =\n",
              "          document.querySelector('#df-8451a0d5-2e79-41f0-b5c0-70de0144cade button.colab-df-convert');\n",
              "        buttonEl.style.display =\n",
              "          google.colab.kernel.accessAllowed ? 'block' : 'none';\n",
              "\n",
              "        async function convertToInteractive(key) {\n",
              "          const element = document.querySelector('#df-8451a0d5-2e79-41f0-b5c0-70de0144cade');\n",
              "          const dataTable =\n",
              "            await google.colab.kernel.invokeFunction('convertToInteractive',\n",
              "                                                     [key], {});\n",
              "          if (!dataTable) return;\n",
              "\n",
              "          const docLinkHtml = 'Like what you see? Visit the ' +\n",
              "            '<a target=\"_blank\" href=https://colab.research.google.com/notebooks/data_table.ipynb>data table notebook</a>'\n",
              "            + ' to learn more about interactive tables.';\n",
              "          element.innerHTML = '';\n",
              "          dataTable['output_type'] = 'display_data';\n",
              "          await google.colab.output.renderOutput(dataTable, element);\n",
              "          const docLink = document.createElement('div');\n",
              "          docLink.innerHTML = docLinkHtml;\n",
              "          element.appendChild(docLink);\n",
              "        }\n",
              "      </script>\n",
              "    </div>\n",
              "  </div>\n",
              "  "
            ]
          },
          "metadata": {},
          "execution_count": 103
        }
      ]
    },
    {
      "cell_type": "code",
      "source": [
        "def normalize(df):\n",
        "  return df / 5"
      ],
      "metadata": {
        "id": "lFCtxXKPv80x"
      },
      "execution_count": null,
      "outputs": []
    },
    {
      "cell_type": "code",
      "source": [
        "def getDistance(df, user_movies_df):\n",
        "  df = normalize(df)\n",
        "  a = user_movies_df.values.reshape(1, -1)\n",
        "  b = df.values.transpose()\n",
        "  return cdist(XA=a, XB=b, metric='cosine')[0]"
      ],
      "metadata": {
        "id": "zqaJ05-6v-o0"
      },
      "execution_count": null,
      "outputs": []
    },
    {
      "cell_type": "code",
      "source": [
        "other_uids = movies_ratings['userId'].unique().tolist()\n",
        "other_uids = list(set(other_uids) - set([user_id]))\n",
        "chunk = 3\n",
        "chunk_size = 4000\n",
        "chunk_users = other_uids[chunk * chunk_size: (chunk + 1) * chunk_size]\n",
        "t = getPreparedDf(user_id, chunk_users)\n",
        "u = getUserMoviesDf(user_id)\n",
        "getDistance(t, u)"
      ],
      "metadata": {
        "colab": {
          "base_uri": "https://localhost:8080/"
        },
        "id": "8uBXUZXVwAhZ",
        "outputId": "9a0c4fec-ed65-455a-bb19-c5f987247ee0"
      },
      "execution_count": null,
      "outputs": [
        {
          "output_type": "execute_result",
          "data": {
            "text/plain": [
              "array([0.83338055, 1.        , 1.        , ..., 0.77180128, 0.82616909,\n",
              "       1.        ])"
            ]
          },
          "metadata": {},
          "execution_count": 106
        }
      ]
    },
    {
      "cell_type": "code",
      "source": [
        "def countDistances(uid, chunks):\n",
        "  other_uids = movies_ratings['userId'].unique().tolist()\n",
        "  other_uids = list(set(other_uids) - set([uid]))\n",
        "  chunk_size = ceil(len(other_uids) / chunks)\n",
        "  target_df = getUserMoviesDf(uid)\n",
        "  others_df = pd.DataFrame(columns=[other_uids])\n",
        "  others_df.loc['dist'] = 0\n",
        "  \n",
        "  for chank in range(chunks):\n",
        "    chank_users = other_uids[chank * chunk_size: (chank + 1) * chunk_size]\n",
        "    t = getPreparedDf(uid, chank_users)\n",
        "    d = getDistance(t, target_df)\n",
        "    others_df.loc['dist', chank_users] = d\n",
        "  return others_df"
      ],
      "metadata": {
        "id": "TC7HbeCiwEXR"
      },
      "execution_count": null,
      "outputs": []
    },
    {
      "cell_type": "code",
      "source": [
        "distances = countDistances(user_id, 26)"
      ],
      "metadata": {
        "id": "L_Umeg7rwICp"
      },
      "execution_count": null,
      "outputs": []
    },
    {
      "cell_type": "code",
      "source": [
        "distances.loc['dist'].sort_values()[:10] "
      ],
      "metadata": {
        "colab": {
          "base_uri": "https://localhost:8080/"
        },
        "id": "EKzpBwHNwLYp",
        "outputId": "de5516ff-e088-4817-db15-c36f62c7f805"
      },
      "execution_count": null,
      "outputs": [
        {
          "output_type": "execute_result",
          "data": {
            "text/plain": [
              "29647     0.214508\n",
              "260013    0.284678\n",
              "225465    0.295904\n",
              "133438    0.309925\n",
              "53488     0.309925\n",
              "15826     0.310016\n",
              "117218    0.310016\n",
              "218346    0.331431\n",
              "115164    0.331955\n",
              "169907    0.331955\n",
              "Name: dist, dtype: object"
            ]
          },
          "metadata": {},
          "execution_count": 109
        }
      ]
    },
    {
      "cell_type": "code",
      "source": [
        "def getUserAvgRate(uid):\n",
        "  target_df = getUserDf(user_id)\n",
        "  return target_df['rating'].mean()"
      ],
      "metadata": {
        "id": "CIC5NHOIwPfa"
      },
      "execution_count": null,
      "outputs": []
    },
    {
      "cell_type": "code",
      "source": [
        "getUserAvgRate(user_id)"
      ],
      "metadata": {
        "colab": {
          "base_uri": "https://localhost:8080/"
        },
        "id": "LymXQK1mwRbC",
        "outputId": "1961297f-8810-4f2f-dca3-10ba6937bb92"
      },
      "execution_count": null,
      "outputs": [
        {
          "output_type": "execute_result",
          "data": {
            "text/plain": [
              "3.0"
            ]
          },
          "metadata": {},
          "execution_count": 111
        }
      ]
    },
    {
      "cell_type": "code",
      "source": [
        "def getRecomendations(uid, dist, others_amount, rec_amount, exceptionId):\n",
        "  target_df = getTempMoviesDf()\n",
        "  ids_df = getUserDf(uid)['movieId'].values\n",
        "  if(exceptionId):\n",
        "    ids_df = ids_df[ids_df != exceptionId]\n",
        "  target_df = target_df.loc[~target_df.index.isin(ids_df)]\n",
        "  target_df['count'] = 0\n",
        "  others = dist.loc['dist'].sort_values()[:others_amount]\n",
        "  avg = getUserAvgRate(uid)\n",
        "  for o in others.index:\n",
        "    o_df = getUserDf(o)\n",
        "    o_df = o_df.set_index('movieId')\n",
        "    same_movies = list(set(target_df.index) & (set(o_df.index)))\n",
        "    temp = pd.DataFrame(index = same_movies)  \n",
        "    target_df.loc[temp.index, 'rating'] = target_df.loc[temp.index, 'rating'] + o_df.loc[temp.index, 'rating']\n",
        "    target_df.loc[same_movies, 'count'] += 1\n",
        "  #movie_top = target_df.sort_values('rating', ascending=False)[:rec_amount]\n",
        "  movie_top_2 = target_df[target_df.rating / target_df['count'] > avg].sort_values('rating', ascending=False)[:rec_amount]\n",
        "  #print(movie_top_2)\n",
        "  #print(movie_top)\n",
        "  return metadata.loc[(metadata.id.isin(movie_top_2.index))]"
      ],
      "metadata": {
        "id": "KWn4K3aUwT0J"
      },
      "execution_count": null,
      "outputs": []
    },
    {
      "cell_type": "code",
      "source": [
        "getRecomendations(user_id, distances, 10, 3, None)"
      ],
      "metadata": {
        "colab": {
          "base_uri": "https://localhost:8080/",
          "height": 144
        },
        "id": "f1Vvbq84waK0",
        "outputId": "6eb90b3e-a9cf-4b26-ac19-e324590fc142"
      },
      "execution_count": null,
      "outputs": [
        {
          "output_type": "execute_result",
          "data": {
            "text/plain": [
              "       id    imdb_id                                           overview  \\\n",
              "45    165  tt0096874  Marty and Doc are at it again in this wacky se...   \n",
              "144  2502  tt0372183  When a CIA operation to purchase classified Ru...   \n",
              "201  1250  tt0259324  In order to save his dying father, young stunt...   \n",
              "\n",
              "                          title  \n",
              "45   Back to the Future Part II  \n",
              "144        The Bourne Supremacy  \n",
              "201                 Ghost Rider  "
            ],
            "text/html": [
              "\n",
              "  <div id=\"df-d3075715-b416-4436-9dbc-eba051253d32\">\n",
              "    <div class=\"colab-df-container\">\n",
              "      <div>\n",
              "<style scoped>\n",
              "    .dataframe tbody tr th:only-of-type {\n",
              "        vertical-align: middle;\n",
              "    }\n",
              "\n",
              "    .dataframe tbody tr th {\n",
              "        vertical-align: top;\n",
              "    }\n",
              "\n",
              "    .dataframe thead th {\n",
              "        text-align: right;\n",
              "    }\n",
              "</style>\n",
              "<table border=\"1\" class=\"dataframe\">\n",
              "  <thead>\n",
              "    <tr style=\"text-align: right;\">\n",
              "      <th></th>\n",
              "      <th>id</th>\n",
              "      <th>imdb_id</th>\n",
              "      <th>overview</th>\n",
              "      <th>title</th>\n",
              "    </tr>\n",
              "  </thead>\n",
              "  <tbody>\n",
              "    <tr>\n",
              "      <th>45</th>\n",
              "      <td>165</td>\n",
              "      <td>tt0096874</td>\n",
              "      <td>Marty and Doc are at it again in this wacky se...</td>\n",
              "      <td>Back to the Future Part II</td>\n",
              "    </tr>\n",
              "    <tr>\n",
              "      <th>144</th>\n",
              "      <td>2502</td>\n",
              "      <td>tt0372183</td>\n",
              "      <td>When a CIA operation to purchase classified Ru...</td>\n",
              "      <td>The Bourne Supremacy</td>\n",
              "    </tr>\n",
              "    <tr>\n",
              "      <th>201</th>\n",
              "      <td>1250</td>\n",
              "      <td>tt0259324</td>\n",
              "      <td>In order to save his dying father, young stunt...</td>\n",
              "      <td>Ghost Rider</td>\n",
              "    </tr>\n",
              "  </tbody>\n",
              "</table>\n",
              "</div>\n",
              "      <button class=\"colab-df-convert\" onclick=\"convertToInteractive('df-d3075715-b416-4436-9dbc-eba051253d32')\"\n",
              "              title=\"Convert this dataframe to an interactive table.\"\n",
              "              style=\"display:none;\">\n",
              "        \n",
              "  <svg xmlns=\"http://www.w3.org/2000/svg\" height=\"24px\"viewBox=\"0 0 24 24\"\n",
              "       width=\"24px\">\n",
              "    <path d=\"M0 0h24v24H0V0z\" fill=\"none\"/>\n",
              "    <path d=\"M18.56 5.44l.94 2.06.94-2.06 2.06-.94-2.06-.94-.94-2.06-.94 2.06-2.06.94zm-11 1L8.5 8.5l.94-2.06 2.06-.94-2.06-.94L8.5 2.5l-.94 2.06-2.06.94zm10 10l.94 2.06.94-2.06 2.06-.94-2.06-.94-.94-2.06-.94 2.06-2.06.94z\"/><path d=\"M17.41 7.96l-1.37-1.37c-.4-.4-.92-.59-1.43-.59-.52 0-1.04.2-1.43.59L10.3 9.45l-7.72 7.72c-.78.78-.78 2.05 0 2.83L4 21.41c.39.39.9.59 1.41.59.51 0 1.02-.2 1.41-.59l7.78-7.78 2.81-2.81c.8-.78.8-2.07 0-2.86zM5.41 20L4 18.59l7.72-7.72 1.47 1.35L5.41 20z\"/>\n",
              "  </svg>\n",
              "      </button>\n",
              "      \n",
              "  <style>\n",
              "    .colab-df-container {\n",
              "      display:flex;\n",
              "      flex-wrap:wrap;\n",
              "      gap: 12px;\n",
              "    }\n",
              "\n",
              "    .colab-df-convert {\n",
              "      background-color: #E8F0FE;\n",
              "      border: none;\n",
              "      border-radius: 50%;\n",
              "      cursor: pointer;\n",
              "      display: none;\n",
              "      fill: #1967D2;\n",
              "      height: 32px;\n",
              "      padding: 0 0 0 0;\n",
              "      width: 32px;\n",
              "    }\n",
              "\n",
              "    .colab-df-convert:hover {\n",
              "      background-color: #E2EBFA;\n",
              "      box-shadow: 0px 1px 2px rgba(60, 64, 67, 0.3), 0px 1px 3px 1px rgba(60, 64, 67, 0.15);\n",
              "      fill: #174EA6;\n",
              "    }\n",
              "\n",
              "    [theme=dark] .colab-df-convert {\n",
              "      background-color: #3B4455;\n",
              "      fill: #D2E3FC;\n",
              "    }\n",
              "\n",
              "    [theme=dark] .colab-df-convert:hover {\n",
              "      background-color: #434B5C;\n",
              "      box-shadow: 0px 1px 3px 1px rgba(0, 0, 0, 0.15);\n",
              "      filter: drop-shadow(0px 1px 2px rgba(0, 0, 0, 0.3));\n",
              "      fill: #FFFFFF;\n",
              "    }\n",
              "  </style>\n",
              "\n",
              "      <script>\n",
              "        const buttonEl =\n",
              "          document.querySelector('#df-d3075715-b416-4436-9dbc-eba051253d32 button.colab-df-convert');\n",
              "        buttonEl.style.display =\n",
              "          google.colab.kernel.accessAllowed ? 'block' : 'none';\n",
              "\n",
              "        async function convertToInteractive(key) {\n",
              "          const element = document.querySelector('#df-d3075715-b416-4436-9dbc-eba051253d32');\n",
              "          const dataTable =\n",
              "            await google.colab.kernel.invokeFunction('convertToInteractive',\n",
              "                                                     [key], {});\n",
              "          if (!dataTable) return;\n",
              "\n",
              "          const docLinkHtml = 'Like what you see? Visit the ' +\n",
              "            '<a target=\"_blank\" href=https://colab.research.google.com/notebooks/data_table.ipynb>data table notebook</a>'\n",
              "            + ' to learn more about interactive tables.';\n",
              "          element.innerHTML = '';\n",
              "          dataTable['output_type'] = 'display_data';\n",
              "          await google.colab.output.renderOutput(dataTable, element);\n",
              "          const docLink = document.createElement('div');\n",
              "          docLink.innerHTML = docLinkHtml;\n",
              "          element.appendChild(docLink);\n",
              "        }\n",
              "      </script>\n",
              "    </div>\n",
              "  </div>\n",
              "  "
            ]
          },
          "metadata": {},
          "execution_count": 113
        }
      ]
    },
    {
      "cell_type": "code",
      "source": [
        "getRecomendations(user_id, distances, 10, 3, 161)"
      ],
      "metadata": {
        "colab": {
          "base_uri": "https://localhost:8080/",
          "height": 144
        },
        "id": "uEphCRhgwad5",
        "outputId": "90e47c03-514f-43d4-c257-5d4c4204cf3d"
      },
      "execution_count": null,
      "outputs": [
        {
          "output_type": "execute_result",
          "data": {
            "text/plain": [
              "       id    imdb_id                                           overview  \\\n",
              "45    165  tt0096874  Marty and Doc are at it again in this wacky se...   \n",
              "102   161  tt0240772  Less than 24 hours into his parole, charismati...   \n",
              "144  2502  tt0372183  When a CIA operation to purchase classified Ru...   \n",
              "\n",
              "                          title  \n",
              "45   Back to the Future Part II  \n",
              "102              Ocean's Eleven  \n",
              "144        The Bourne Supremacy  "
            ],
            "text/html": [
              "\n",
              "  <div id=\"df-a5d45b07-eca2-48df-aef5-36a01d0c4e5b\">\n",
              "    <div class=\"colab-df-container\">\n",
              "      <div>\n",
              "<style scoped>\n",
              "    .dataframe tbody tr th:only-of-type {\n",
              "        vertical-align: middle;\n",
              "    }\n",
              "\n",
              "    .dataframe tbody tr th {\n",
              "        vertical-align: top;\n",
              "    }\n",
              "\n",
              "    .dataframe thead th {\n",
              "        text-align: right;\n",
              "    }\n",
              "</style>\n",
              "<table border=\"1\" class=\"dataframe\">\n",
              "  <thead>\n",
              "    <tr style=\"text-align: right;\">\n",
              "      <th></th>\n",
              "      <th>id</th>\n",
              "      <th>imdb_id</th>\n",
              "      <th>overview</th>\n",
              "      <th>title</th>\n",
              "    </tr>\n",
              "  </thead>\n",
              "  <tbody>\n",
              "    <tr>\n",
              "      <th>45</th>\n",
              "      <td>165</td>\n",
              "      <td>tt0096874</td>\n",
              "      <td>Marty and Doc are at it again in this wacky se...</td>\n",
              "      <td>Back to the Future Part II</td>\n",
              "    </tr>\n",
              "    <tr>\n",
              "      <th>102</th>\n",
              "      <td>161</td>\n",
              "      <td>tt0240772</td>\n",
              "      <td>Less than 24 hours into his parole, charismati...</td>\n",
              "      <td>Ocean's Eleven</td>\n",
              "    </tr>\n",
              "    <tr>\n",
              "      <th>144</th>\n",
              "      <td>2502</td>\n",
              "      <td>tt0372183</td>\n",
              "      <td>When a CIA operation to purchase classified Ru...</td>\n",
              "      <td>The Bourne Supremacy</td>\n",
              "    </tr>\n",
              "  </tbody>\n",
              "</table>\n",
              "</div>\n",
              "      <button class=\"colab-df-convert\" onclick=\"convertToInteractive('df-a5d45b07-eca2-48df-aef5-36a01d0c4e5b')\"\n",
              "              title=\"Convert this dataframe to an interactive table.\"\n",
              "              style=\"display:none;\">\n",
              "        \n",
              "  <svg xmlns=\"http://www.w3.org/2000/svg\" height=\"24px\"viewBox=\"0 0 24 24\"\n",
              "       width=\"24px\">\n",
              "    <path d=\"M0 0h24v24H0V0z\" fill=\"none\"/>\n",
              "    <path d=\"M18.56 5.44l.94 2.06.94-2.06 2.06-.94-2.06-.94-.94-2.06-.94 2.06-2.06.94zm-11 1L8.5 8.5l.94-2.06 2.06-.94-2.06-.94L8.5 2.5l-.94 2.06-2.06.94zm10 10l.94 2.06.94-2.06 2.06-.94-2.06-.94-.94-2.06-.94 2.06-2.06.94z\"/><path d=\"M17.41 7.96l-1.37-1.37c-.4-.4-.92-.59-1.43-.59-.52 0-1.04.2-1.43.59L10.3 9.45l-7.72 7.72c-.78.78-.78 2.05 0 2.83L4 21.41c.39.39.9.59 1.41.59.51 0 1.02-.2 1.41-.59l7.78-7.78 2.81-2.81c.8-.78.8-2.07 0-2.86zM5.41 20L4 18.59l7.72-7.72 1.47 1.35L5.41 20z\"/>\n",
              "  </svg>\n",
              "      </button>\n",
              "      \n",
              "  <style>\n",
              "    .colab-df-container {\n",
              "      display:flex;\n",
              "      flex-wrap:wrap;\n",
              "      gap: 12px;\n",
              "    }\n",
              "\n",
              "    .colab-df-convert {\n",
              "      background-color: #E8F0FE;\n",
              "      border: none;\n",
              "      border-radius: 50%;\n",
              "      cursor: pointer;\n",
              "      display: none;\n",
              "      fill: #1967D2;\n",
              "      height: 32px;\n",
              "      padding: 0 0 0 0;\n",
              "      width: 32px;\n",
              "    }\n",
              "\n",
              "    .colab-df-convert:hover {\n",
              "      background-color: #E2EBFA;\n",
              "      box-shadow: 0px 1px 2px rgba(60, 64, 67, 0.3), 0px 1px 3px 1px rgba(60, 64, 67, 0.15);\n",
              "      fill: #174EA6;\n",
              "    }\n",
              "\n",
              "    [theme=dark] .colab-df-convert {\n",
              "      background-color: #3B4455;\n",
              "      fill: #D2E3FC;\n",
              "    }\n",
              "\n",
              "    [theme=dark] .colab-df-convert:hover {\n",
              "      background-color: #434B5C;\n",
              "      box-shadow: 0px 1px 3px 1px rgba(0, 0, 0, 0.15);\n",
              "      filter: drop-shadow(0px 1px 2px rgba(0, 0, 0, 0.3));\n",
              "      fill: #FFFFFF;\n",
              "    }\n",
              "  </style>\n",
              "\n",
              "      <script>\n",
              "        const buttonEl =\n",
              "          document.querySelector('#df-a5d45b07-eca2-48df-aef5-36a01d0c4e5b button.colab-df-convert');\n",
              "        buttonEl.style.display =\n",
              "          google.colab.kernel.accessAllowed ? 'block' : 'none';\n",
              "\n",
              "        async function convertToInteractive(key) {\n",
              "          const element = document.querySelector('#df-a5d45b07-eca2-48df-aef5-36a01d0c4e5b');\n",
              "          const dataTable =\n",
              "            await google.colab.kernel.invokeFunction('convertToInteractive',\n",
              "                                                     [key], {});\n",
              "          if (!dataTable) return;\n",
              "\n",
              "          const docLinkHtml = 'Like what you see? Visit the ' +\n",
              "            '<a target=\"_blank\" href=https://colab.research.google.com/notebooks/data_table.ipynb>data table notebook</a>'\n",
              "            + ' to learn more about interactive tables.';\n",
              "          element.innerHTML = '';\n",
              "          dataTable['output_type'] = 'display_data';\n",
              "          await google.colab.output.renderOutput(dataTable, element);\n",
              "          const docLink = document.createElement('div');\n",
              "          docLink.innerHTML = docLinkHtml;\n",
              "          element.appendChild(docLink);\n",
              "        }\n",
              "      </script>\n",
              "    </div>\n",
              "  </div>\n",
              "  "
            ]
          },
          "metadata": {},
          "execution_count": 114
        }
      ]
    },
    {
      "cell_type": "markdown",
      "source": [
        "###Оценка"
      ],
      "metadata": {
        "id": "Hugh29EwuRt6"
      }
    },
    {
      "cell_type": "code",
      "source": [
        "def getRandUsersIds(amount):\n",
        "  users = []\n",
        "  for i in range(amount):\n",
        "    user = all_users.sample(1).index\n",
        "    while len(temp[temp['userId'] == user[0]]) < 20 and user[0] not in users:\n",
        "      user = all_users.sample(1).index\n",
        "    users.append(user[0])\n",
        "  return users"
      ],
      "metadata": {
        "id": "KAUn8fOs0Mjl"
      },
      "execution_count": null,
      "outputs": []
    },
    {
      "cell_type": "code",
      "source": [
        "hit_rate = np.zeros(15)\n",
        "users = getRandUsersIds(15)"
      ],
      "metadata": {
        "id": "hCGmbHujz0RF"
      },
      "execution_count": null,
      "outputs": []
    },
    {
      "cell_type": "code",
      "source": [
        "users"
      ],
      "metadata": {
        "colab": {
          "base_uri": "https://localhost:8080/"
        },
        "id": "Q4W78hOWz3el",
        "outputId": "d5b1a88c-049a-4f50-f881-3805e95f4124"
      },
      "execution_count": null,
      "outputs": [
        {
          "output_type": "execute_result",
          "data": {
            "text/plain": [
              "[208241,\n",
              " 118413,\n",
              " 91373,\n",
              " 199683,\n",
              " 239882,\n",
              " 224404,\n",
              " 118147,\n",
              " 61437,\n",
              " 231910,\n",
              " 173785,\n",
              " 176951,\n",
              " 32768,\n",
              " 50585,\n",
              " 126998,\n",
              " 173641]"
            ]
          },
          "metadata": {},
          "execution_count": 160
        }
      ]
    },
    {
      "cell_type": "markdown",
      "source": [
        "Для каждого из 15 пользователя отберем топ 5 фильмов и проверим будет ли хоть 1 из них в рекомендации из 10 фильмов, собранной на основе 10 ближайших пользователей."
      ],
      "metadata": {
        "id": "IRw6Au3P3m0t"
      }
    },
    {
      "cell_type": "code",
      "source": [
        "def countHitRate(users, hit_rate):\n",
        "  for i in range(15):\n",
        "    user = users[i]\n",
        "    res = hit_rate[i]\n",
        "    cur_succ = False\n",
        "    excs = getUserDf(user).sort_values('rating', ascending=False).movieId[:5]\n",
        "    dist = countDistances(user, 26)\n",
        "    for e in excs:\n",
        "      res = getRecomendations(user, distances, 10, 10, e).id.values\n",
        "      if e in res:\n",
        "        cur_succ = True\n",
        "    if(cur_succ):\n",
        "      hit_rate[i] = 1\n",
        "    else:\n",
        "      hit_rate[i] = 0\n",
        "  return hit_rate"
      ],
      "metadata": {
        "id": "Rfc-0FE524eO"
      },
      "execution_count": null,
      "outputs": []
    },
    {
      "cell_type": "code",
      "source": [
        "hit_rate1 = countHitRate(users, hit_rate)"
      ],
      "metadata": {
        "id": "18j-c4MA7FV3"
      },
      "execution_count": null,
      "outputs": []
    },
    {
      "cell_type": "code",
      "source": [
        "hit_rate1.mean()"
      ],
      "metadata": {
        "colab": {
          "base_uri": "https://localhost:8080/"
        },
        "id": "0j-9_vX17aJX",
        "outputId": "0503131f-4c98-495a-c3e3-4f25662dd63d"
      },
      "execution_count": null,
      "outputs": [
        {
          "output_type": "execute_result",
          "data": {
            "text/plain": [
              "0.56"
            ]
          },
          "metadata": {},
          "execution_count": 178
        }
      ]
    },
    {
      "cell_type": "markdown",
      "source": [
        "Для пользователей с 20 и более рекомендациями из 10 предложенных фильмов будет предложен минимум один из однозначно высоко оцененых фильмов в 10 рекомедациях в диапазоне ~ от 50% до 80% (0.5; 0.8)"
      ],
      "metadata": {
        "id": "uoIaeyDIAjj7"
      }
    },
    {
      "cell_type": "markdown",
      "source": [
        "## Задание 6"
      ],
      "metadata": {
        "id": "SnJ-QpZlUB68"
      }
    },
    {
      "cell_type": "markdown",
      "source": [
        "Используйте метод Term Frequency Inverse Document Frequency (TF-IDF), чтобы отфильтровать фильмы, похожие (используйте для этого косинусное расстояние) на те, которые пользователь высоко оценил. \n",
        "\n",
        "Оцените качество такой рекомендации."
      ],
      "metadata": {
        "id": "tQDKWRhDUbIr"
      }
    },
    {
      "cell_type": "code",
      "source": [
        "from sklearn.feature_extraction.text import TfidfVectorizer\n",
        "from sklearn.metrics.pairwise import linear_kernel"
      ],
      "metadata": {
        "id": "V8xb1GAEWsBi"
      },
      "execution_count": null,
      "outputs": []
    },
    {
      "cell_type": "code",
      "source": [
        "metadata = metadata.reset_index()\n",
        "metadata = metadata.drop(columns = 'index')"
      ],
      "metadata": {
        "id": "wZ-6ALNhQjKc"
      },
      "execution_count": null,
      "outputs": []
    },
    {
      "cell_type": "code",
      "source": [
        "corpus = metadata['overview']\n",
        "tfidf_vectorizer = TfidfVectorizer(stop_words='english')\n",
        "tf_idf_data = tfidf_vectorizer.fit_transform(corpus)\n",
        "cosine_sim = linear_kernel(tf_idf_data, tf_idf_data)"
      ],
      "metadata": {
        "id": "pDYmW5esDGUb"
      },
      "execution_count": null,
      "outputs": []
    },
    {
      "cell_type": "code",
      "source": [
        "series = pd.Series(metadata.index, index=metadata['title'])"
      ],
      "metadata": {
        "id": "lnDIQFZDEAqT"
      },
      "execution_count": null,
      "outputs": []
    },
    {
      "cell_type": "code",
      "source": [
        "def intersection(lst1, lst2):\n",
        "    return [value for value in lst1 if value in lst2]"
      ],
      "metadata": {
        "id": "F-nSZasfR76e"
      },
      "execution_count": null,
      "outputs": []
    },
    {
      "cell_type": "code",
      "source": [
        "def getRecommendations2(title, cosine_sim, ids):\n",
        "    i_title = series[title]\n",
        "    sim_scores = list(enumerate(cosine_sim[i_title]))\n",
        "    sim_scores = sorted(sim_scores, key=lambda x: x[1].any(), reverse=True)\n",
        "    sim_scores = sim_scores[1:11]\n",
        "    movie_ids = [i[0] for i in sim_scores]\n",
        "    return metadata['title'].iloc[movie_ids]"
      ],
      "metadata": {
        "id": "IB9XBTEcHtjO"
      },
      "execution_count": null,
      "outputs": []
    },
    {
      "cell_type": "markdown",
      "source": [
        "###Оценка"
      ],
      "metadata": {
        "id": "PDwLxqE1TqOJ"
      }
    },
    {
      "cell_type": "code",
      "source": [
        "hit_rate2 = np.zeros(50)\n",
        "users2 = getRandUsersIds(50)"
      ],
      "metadata": {
        "id": "SmiScg924M8w"
      },
      "execution_count": null,
      "outputs": []
    },
    {
      "cell_type": "code",
      "source": [
        "def getHitRate2(hit_rate, users):\n",
        "  for i in range(50):\n",
        "    user = users[i]\n",
        "    user_movies = temp[temp['userId'] == user]\n",
        "    user_movies = user_movies[user_movies['rating'] > getUserAvgRate(user)]\n",
        "    train = user_movies.sample(frac=0.7)\n",
        "    test = user_movies[~user_movies['movieId'].isin(train['movieId'])]\n",
        "    recommendations = []\n",
        "    for title in train['title'].values:\n",
        "      recommendations.append(getRecommendations2(title, cosine_sim, series)[:1].values[0]) \n",
        "    hit_rate[i] = len(intersection(recommendations, test['title'].values))\n",
        "  return hit_rate"
      ],
      "metadata": {
        "id": "VYWHjx874P2y"
      },
      "execution_count": null,
      "outputs": []
    },
    {
      "cell_type": "code",
      "source": [
        "hit_rate = getHitRate2(hit_rate2, users2)"
      ],
      "metadata": {
        "id": "U6wN9k5zWeXe"
      },
      "execution_count": null,
      "outputs": []
    },
    {
      "cell_type": "code",
      "source": [
        "hit_rate.mean()"
      ],
      "metadata": {
        "colab": {
          "base_uri": "https://localhost:8080/"
        },
        "id": "52646NptRnhV",
        "outputId": "3532f8fe-101f-4f99-f82e-3629de07f0f6"
      },
      "execution_count": null,
      "outputs": [
        {
          "output_type": "execute_result",
          "data": {
            "text/plain": [
              "0.36"
            ]
          },
          "metadata": {},
          "execution_count": 216
        }
      ]
    },
    {
      "cell_type": "markdown",
      "source": [
        "Для пользователей с 20 и более рекомендациями из 10 предложенных фильмов будут высоко оценены (> средней оценки пользователя) ~ от 2 до 4 шт. (0.2; 0.4)"
      ],
      "metadata": {
        "id": "z60b82oEWHbd"
      }
    }
  ]
}