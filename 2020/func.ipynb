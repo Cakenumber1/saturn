{
  "nbformat": 4,
  "nbformat_minor": 0,
  "metadata": {
    "colab": {
      "name": "Копия блокнота \"Untitled1.ipynb\"",
      "provenance": [],
      "collapsed_sections": [
        "-cjLRlaA7Nmx"
      ],
      "toc_visible": true
    },
    "kernelspec": {
      "name": "python3",
      "display_name": "Python 3"
    }
  },
  "cells": [
    {
      "cell_type": "code",
      "metadata": {
        "id": "PIBIfmtvvOfw"
      },
      "source": [
        "from mpl_toolkits.mplot3d import Axes3D\n",
        "import numpy as np\n",
        "import matplotlib.pyplot as plt\n",
        "import numpy as np\n",
        "from scipy.misc import derivative\n",
        "import math\n",
        "import pandas as pd\n"
      ],
      "execution_count": null,
      "outputs": []
    },
    {
      "cell_type": "markdown",
      "metadata": {
        "id": "4E9h9mGxvTig"
      },
      "source": [
        "# Рассматриваемые функции"
      ]
    },
    {
      "cell_type": "code",
      "metadata": {
        "id": "l6M7btEWvbPk"
      },
      "source": [
        "def f1(x, x2=None):\n",
        "  if (x2 == None):\n",
        "    return 100*(x[1] -x[0]**2)**2 + (1 - x[0])**2\n",
        "  else:\n",
        "    return 100*(x2 -x**2)**2 + (1 - x)**2\n",
        "\n",
        "def f2(x, x2=None):\n",
        "  if (x2 == None):\n",
        "    return (x[1] - x[0]**2)**2 + (1 - x[0])**2\n",
        "  else:\n",
        "    return (x2 - x **2)**2 + (1 - x)**2\n",
        "\n",
        "def f3(x, x2):\n",
        "  if (x2 == None):\n",
        "    return (1.5 -x[0] * (1 - x[1]))**2 + (\n",
        "        2.25 -x[0] * (1 - x[1]**2))**2 + (\n",
        "            2.625 - x[0] * (1 -x[1]**3))**2\n",
        "  else:\n",
        "    return (1.5 - x * (1 - x2))**2 +(\n",
        "        2.25 -x * (1 - x2**2))**2 + (\n",
        "            2.625 - x * (1 -x2**3))**2\n",
        "\n",
        "def f4(x, x2, x3, x4):\n",
        "  return (x1 +x2)**2 + 5 * (x3 - x4)**2 + (x2 - 2 * x3)**4 + 10(x1 - x4)**4"
      ],
      "execution_count": null,
      "outputs": []
    },
    {
      "cell_type": "markdown",
      "metadata": {
        "id": "4nRwa52pf31x"
      },
      "source": [
        "## Градиент функции в точке"
      ]
    },
    {
      "cell_type": "code",
      "metadata": {
        "id": "QYu-eWwxZbez"
      },
      "source": [
        "\n",
        "def partial_derivative(func, var=0, point=[]):\n",
        "    args = point[:]\n",
        "    def wraps(x):\n",
        "        args[var] = x\n",
        "        return func(*args)\n",
        "    return derivative(wraps, point[var], dx = 1e-6)\n"
      ],
      "execution_count": null,
      "outputs": []
    },
    {
      "cell_type": "code",
      "metadata": {
        "id": "dHx8fU2GckT6"
      },
      "source": [
        "def grad(func, n , points):\n",
        "  result = np.zeros(n)\n",
        "  for i in range(n):\n",
        "    result[i] = partial_derivative(func, i, points)\n",
        "  return result\n"
      ],
      "execution_count": null,
      "outputs": []
    },
    {
      "cell_type": "code",
      "metadata": {
        "id": "xr6_X32Gq0fk"
      },
      "source": [
        "def abs_grad(gradient):\n",
        "  sum = 0\n",
        "  for i in range(len(gradient)):\n",
        "    sum += gradient[i]**2\n",
        "  return sum**0.5"
      ],
      "execution_count": null,
      "outputs": []
    },
    {
      "cell_type": "code",
      "metadata": {
        "id": "lrUnPEcueo2m",
        "colab": {
          "base_uri": "https://localhost:8080/"
        },
        "outputId": "03de2dad-31bc-4cd3-d10f-36eaf534a846"
      },
      "source": [
        "''' Тестируем градиент '''\n",
        "grad(f1, 2, [10,10])"
      ],
      "execution_count": null,
      "outputs": [
        {
          "output_type": "execute_result",
          "data": {
            "text/plain": [
              "array([360017.99971564, -17999.99992363])"
            ]
          },
          "metadata": {
            "tags": []
          },
          "execution_count": 33
        }
      ]
    },
    {
      "cell_type": "code",
      "metadata": {
        "id": "9gUoknAWy7BU"
      },
      "source": [
        "\n",
        "\n",
        "\n",
        "fig = plt.figure(figsize = (10, 10))\n",
        "ax = fig.add_subplot(1, 1, 1, projection = '3d')\n",
        "x, y = np.meshgrid(np.linspace(-10, 10, 100), np.linspace(-10, 10, 100))\n",
        "z = f1(x, y)\n",
        "\n",
        "surf = ax.plot_surface(\n",
        "  x, y, z, \n",
        "  rstride = 3,\n",
        "  cstride = 3)"
      ],
      "execution_count": null,
      "outputs": []
    },
    {
      "cell_type": "code",
      "metadata": {
        "id": "K_6GXPRx25Dy"
      },
      "source": [
        "fig = plt.figure(figsize = (10, 10))\n",
        "ax = fig.add_subplot(1, 1, 1, projection = '3d')\n",
        "x, y = np.meshgrid(np.linspace(-10, 10, 100), np.linspace(-10, 10, 100))\n",
        "z = f2(x, y)\n",
        "\n",
        "surf = ax.plot_surface(\n",
        "  x, y, z, \n",
        "  rstride = 3,\n",
        "  cstride = 3)"
      ],
      "execution_count": null,
      "outputs": []
    },
    {
      "cell_type": "code",
      "metadata": {
        "id": "jajvdQtC5vtF"
      },
      "source": [
        "fig = plt.figure(figsize = (10, 10))\n",
        "ax = fig.add_subplot(1, 1, 1, projection = '3d')\n",
        "x, y = np.meshgrid(np.linspace(-10, 10, 100), np.linspace(-10, 10, 100))\n",
        "z = f3(x, y)\n",
        "\n",
        "surf = ax.plot_surface(\n",
        "  x, y, z, \n",
        "  rstride = 3,\n",
        "  cstride = 3)"
      ],
      "execution_count": null,
      "outputs": []
    },
    {
      "cell_type": "markdown",
      "metadata": {
        "id": "8bl3ieYp7H2e"
      },
      "source": [
        "# Алгоритмы"
      ]
    },
    {
      "cell_type": "markdown",
      "metadata": {
        "id": "IipT3d7hpq8T"
      },
      "source": [
        "## Метод наискорейшего спуска"
      ]
    },
    {
      "cell_type": "code",
      "metadata": {
        "id": "vjXM3oQj5Qc6"
      },
      "source": [
        "kz = (math.sqrt(5) + 1) / 2\n",
        "\n",
        "def golden(func, a, b, e):\n",
        "    x1 = b - (b - a) / kz\n",
        "    y1 = func(x1)\n",
        "    return golden_rec(func, a, b, x1, y1, e)\n",
        "\n",
        "\n",
        "def golden_rec(f, left, right, x1, y1, e):\n",
        "    if abs(right - left) <= e:\n",
        "        return (right + left) / 2\n",
        "    if x1 < (left + right) / 2:\n",
        "        x2 = left + (right - left) / kz\n",
        "    else:\n",
        "        x2 = x1\n",
        "        x1 = right - (right - left) / kz\n",
        "        y1 = f(x1)\n",
        "    y2 = f(x2)\n",
        "    if y1 < y2:\n",
        "        min_x = golden_rec(f, left, x2, x1, y1, e)\n",
        "    else:\n",
        "        min_x = golden_rec(f, x1, right, x2, y2, e)    \n",
        "    return min_x"
      ],
      "execution_count": null,
      "outputs": []
    },
    {
      "cell_type": "code",
      "metadata": {
        "id": "TbcCnjMjSoIm"
      },
      "source": [
        "\n",
        "def fast_grad(f, n, x0, e, max_iter, table):\n",
        "  cur_grad = grad(f, n, x0)\n",
        "  grad_value = abs_grad(cur_grad)\n",
        "  n_iter = 0\n",
        "  current_points = x0\n",
        "  while grad_value > e and n_iter < max_iter:\n",
        "    table.loc[n_iter, 'current point1'] = current_points[0]\n",
        "    table.loc[n_iter, 'current point2'] = current_points[1]\n",
        "    table.loc[n_iter, 'grad1'] = cur_grad[0]\n",
        "    table.loc[n_iter, 'grad2'] = cur_grad[1]\n",
        "    table.loc[n_iter, '|gradient|'] = grad_value\n",
        "\n",
        "    def fi(l):\n",
        "      return f(current_points - cur_grad * l)\n",
        "\n",
        "    lm = golden(fi, -10000, 10000, 0.0000005)\n",
        "    current_points -= lm * cur_grad\n",
        "    table.loc[n_iter, 'lm'] =lm\n",
        "    cur_grad = grad(f, n, current_points)\n",
        "    grad_value = abs_grad(cur_grad)\n",
        "    n_iter += 1\n",
        "  return current_points\n",
        "\n",
        "\n",
        "\n"
      ],
      "execution_count": null,
      "outputs": []
    },
    {
      "cell_type": "code",
      "metadata": {
        "id": "9aitwSUSQm-M"
      },
      "source": [
        "def testF(x, x2 = None):\n",
        "  if (x2 == None):\n",
        "    return 3*x[0]**2 + x[1]**2 - x[0]*x[1] - 4 * x[0]\n",
        "  return 3*x**2 + x2**2 - x*x2 -4 * x"
      ],
      "execution_count": null,
      "outputs": []
    },
    {
      "cell_type": "code",
      "metadata": {
        "id": "wzGJWwGIb1qe",
        "colab": {
          "base_uri": "https://localhost:8080/"
        },
        "outputId": "97518ff0-25bb-44d7-d6a8-8c78eb1cc19c"
      },
      "source": [
        "grad(testF, 2, [-2,3])"
      ],
      "execution_count": null,
      "outputs": [
        {
          "output_type": "execute_result",
          "data": {
            "text/plain": [
              "array([-19.,   8.])"
            ]
          },
          "metadata": {
            "tags": []
          },
          "execution_count": 37
        }
      ]
    },
    {
      "cell_type": "code",
      "metadata": {
        "id": "O6KagnlH-oGQ",
        "colab": {
          "base_uri": "https://localhost:8080/"
        },
        "outputId": "fdf67062-1eef-4d0c-f494-43cdb60b4828"
      },
      "source": [
        "table = pd.DataFrame(columns=['current point1','current point2','grad1','grad2', '|gradient|', 'lm'])\n",
        "fast_grad(testF, 2, [-2,3], 0.001, 20, table)\n"
      ],
      "execution_count": null,
      "outputs": [
        {
          "output_type": "execute_result",
          "data": {
            "text/plain": [
              "array([0.7273122, 0.3637715])"
            ]
          },
          "metadata": {
            "tags": []
          },
          "execution_count": 38
        }
      ]
    },
    {
      "cell_type": "code",
      "metadata": {
        "id": "izLuHh3HVXmJ",
        "colab": {
          "base_uri": "https://localhost:8080/"
        },
        "outputId": "b926cd00-cd0e-4939-fbaf-b77a0ef88db2"
      },
      "source": [
        "table"
      ],
      "execution_count": null,
      "outputs": [
        {
          "output_type": "execute_result",
          "data": {
            "text/html": [
              "<div>\n",
              "<style scoped>\n",
              "    .dataframe tbody tr th:only-of-type {\n",
              "        vertical-align: middle;\n",
              "    }\n",
              "\n",
              "    .dataframe tbody tr th {\n",
              "        vertical-align: top;\n",
              "    }\n",
              "\n",
              "    .dataframe thead th {\n",
              "        text-align: right;\n",
              "    }\n",
              "</style>\n",
              "<table border=\"1\" class=\"dataframe\">\n",
              "  <thead>\n",
              "    <tr style=\"text-align: right;\">\n",
              "      <th></th>\n",
              "      <th>current point1</th>\n",
              "      <th>current point2</th>\n",
              "      <th>grad1</th>\n",
              "      <th>grad2</th>\n",
              "      <th>|gradient|</th>\n",
              "      <th>lm</th>\n",
              "    </tr>\n",
              "  </thead>\n",
              "  <tbody>\n",
              "    <tr>\n",
              "      <th>0</th>\n",
              "      <td>-2</td>\n",
              "      <td>3</td>\n",
              "      <td>-19</td>\n",
              "      <td>8</td>\n",
              "      <td>20.6155</td>\n",
              "      <td>0.163587</td>\n",
              "    </tr>\n",
              "    <tr>\n",
              "      <th>1</th>\n",
              "      <td>1.10816</td>\n",
              "      <td>1.6913</td>\n",
              "      <td>0.957646</td>\n",
              "      <td>2.27444</td>\n",
              "      <td>2.46783</td>\n",
              "      <td>0.529928</td>\n",
              "    </tr>\n",
              "    <tr>\n",
              "      <th>2</th>\n",
              "      <td>0.600676</td>\n",
              "      <td>0.486012</td>\n",
              "      <td>-0.881959</td>\n",
              "      <td>0.371345</td>\n",
              "      <td>0.956948</td>\n",
              "      <td>0.163586</td>\n",
              "    </tr>\n",
              "    <tr>\n",
              "      <th>3</th>\n",
              "      <td>0.744954</td>\n",
              "      <td>0.425266</td>\n",
              "      <td>0.0444519</td>\n",
              "      <td>0.105575</td>\n",
              "      <td>0.114552</td>\n",
              "      <td>0.529946</td>\n",
              "    </tr>\n",
              "    <tr>\n",
              "      <th>4</th>\n",
              "      <td>0.721398</td>\n",
              "      <td>0.369317</td>\n",
              "      <td>-0.0409364</td>\n",
              "      <td>0.017235</td>\n",
              "      <td>0.0444166</td>\n",
              "      <td>0.163572</td>\n",
              "    </tr>\n",
              "    <tr>\n",
              "      <th>5</th>\n",
              "      <td>0.728095</td>\n",
              "      <td>0.366499</td>\n",
              "      <td>0.00206407</td>\n",
              "      <td>0.00490163</td>\n",
              "      <td>0.00531849</td>\n",
              "      <td>0.530287</td>\n",
              "    </tr>\n",
              "    <tr>\n",
              "      <th>6</th>\n",
              "      <td>0.727001</td>\n",
              "      <td>0.363901</td>\n",
              "      <td>-0.00189896</td>\n",
              "      <td>0.000798635</td>\n",
              "      <td>0.00206006</td>\n",
              "      <td>0.163269</td>\n",
              "    </tr>\n",
              "  </tbody>\n",
              "</table>\n",
              "</div>"
            ],
            "text/plain": [
              "  current point1 current point2       grad1        grad2  |gradient|        lm\n",
              "0             -2              3         -19            8     20.6155  0.163587\n",
              "1        1.10816         1.6913    0.957646      2.27444     2.46783  0.529928\n",
              "2       0.600676       0.486012   -0.881959     0.371345    0.956948  0.163586\n",
              "3       0.744954       0.425266   0.0444519     0.105575    0.114552  0.529946\n",
              "4       0.721398       0.369317  -0.0409364     0.017235   0.0444166  0.163572\n",
              "5       0.728095       0.366499  0.00206407   0.00490163  0.00531849  0.530287\n",
              "6       0.727001       0.363901 -0.00189896  0.000798635  0.00206006  0.163269"
            ]
          },
          "metadata": {
            "tags": []
          },
          "execution_count": 47
        }
      ]
    },
    {
      "cell_type": "markdown",
      "metadata": {
        "id": "7hSpwDU8RriO"
      },
      "source": [
        ""
      ]
    },
    {
      "cell_type": "markdown",
      "metadata": {
        "id": "ykbkVeq6RtAc"
      },
      "source": [
        "## Метод покоординатного спуска"
      ]
    },
    {
      "cell_type": "code",
      "metadata": {
        "id": "xqTA4uiuR1ys"
      },
      "source": [
        "def coordinate_descent(f, x_0, e, max_iter, table):\n",
        "  diff = 1\n",
        "  old_points = x_0.copy()\n",
        "  current_points = x_0.copy()\n",
        "  iter = 0\n",
        "  while diff > e and iter < max_iter:\n",
        "    for i in range(len(x_0)):\n",
        "      temp_points = current_points.copy() \n",
        "      \n",
        "      def fi(x):\n",
        "        temp_points[i] = x\n",
        "        return f(temp_points)\n",
        "\n",
        "      new_x = golden(fi, -1000, 1000, e/4)\n",
        "      current_points[i] = new_x\n",
        "    \n",
        "    diff = abs(f(current_points) - f(old_points))\n",
        "    table.loc[iter, 'points'] = current_points\n",
        "    table.loc[iter, 'delta'] = diff\n",
        "    old_points = current_points.copy()\n",
        "    iter += 1\n",
        "  return current_points\n",
        "\n",
        "\n"
      ],
      "execution_count": null,
      "outputs": []
    },
    {
      "cell_type": "code",
      "metadata": {
        "colab": {
          "base_uri": "https://localhost:8080/"
        },
        "id": "qu4L09R6JLMm",
        "outputId": "8f61ec43-2eaf-4596-f304-daaf6d6d0751"
      },
      "source": [
        "t = pd.DataFrame(columns=['points', 'delta'])\n",
        "coordinate_descent(testF, [-2,3], 0.0000001, 100, t)\n",
        "t"
      ],
      "execution_count": null,
      "outputs": [
        {
          "output_type": "execute_result",
          "data": {
            "text/html": [
              "<div>\n",
              "<style scoped>\n",
              "    .dataframe tbody tr th:only-of-type {\n",
              "        vertical-align: middle;\n",
              "    }\n",
              "\n",
              "    .dataframe tbody tr th {\n",
              "        vertical-align: top;\n",
              "    }\n",
              "\n",
              "    .dataframe thead th {\n",
              "        text-align: right;\n",
              "    }\n",
              "</style>\n",
              "<table border=\"1\" class=\"dataframe\">\n",
              "  <thead>\n",
              "    <tr style=\"text-align: right;\">\n",
              "      <th></th>\n",
              "      <th>points</th>\n",
              "      <th>delta</th>\n",
              "    </tr>\n",
              "  </thead>\n",
              "  <tbody>\n",
              "    <tr>\n",
              "      <th>0</th>\n",
              "      <td>[0.7272745019631588, 0.36363726295161103]</td>\n",
              "      <td>35.9236</td>\n",
              "    </tr>\n",
              "    <tr>\n",
              "      <th>1</th>\n",
              "      <td>[0.7272745019631588, 0.36363726295161103]</td>\n",
              "      <td>0.527247</td>\n",
              "    </tr>\n",
              "    <tr>\n",
              "      <th>2</th>\n",
              "      <td>[0.7272745019631588, 0.36363726295161103]</td>\n",
              "      <td>0.00366144</td>\n",
              "    </tr>\n",
              "    <tr>\n",
              "      <th>3</th>\n",
              "      <td>[0.7272745019631588, 0.36363726295161103]</td>\n",
              "      <td>2.54268e-05</td>\n",
              "    </tr>\n",
              "    <tr>\n",
              "      <th>4</th>\n",
              "      <td>[0.7272745019631588, 0.36363726295161103]</td>\n",
              "      <td>1.76582e-07</td>\n",
              "    </tr>\n",
              "    <tr>\n",
              "      <th>5</th>\n",
              "      <td>[0.7272745019631588, 0.36363726295161103]</td>\n",
              "      <td>1.2265e-09</td>\n",
              "    </tr>\n",
              "  </tbody>\n",
              "</table>\n",
              "</div>"
            ],
            "text/plain": [
              "                                      points        delta\n",
              "0  [0.7272745019631588, 0.36363726295161103]      35.9236\n",
              "1  [0.7272745019631588, 0.36363726295161103]     0.527247\n",
              "2  [0.7272745019631588, 0.36363726295161103]   0.00366144\n",
              "3  [0.7272745019631588, 0.36363726295161103]  2.54268e-05\n",
              "4  [0.7272745019631588, 0.36363726295161103]  1.76582e-07\n",
              "5  [0.7272745019631588, 0.36363726295161103]   1.2265e-09"
            ]
          },
          "metadata": {
            "tags": []
          },
          "execution_count": 41
        }
      ]
    },
    {
      "cell_type": "markdown",
      "metadata": {
        "id": "ETfhEA0-GTph"
      },
      "source": [
        "## Метод Брендта"
      ]
    },
    {
      "cell_type": "code",
      "metadata": {
        "id": "LIzwtAJS32nN"
      },
      "source": [
        "def brent(f, x_0, table, e=0.0001 , max_iters=10000):\n",
        "  n = len(x_0)\n",
        "  points = x_0.copy()\n",
        "  cur_iter = 0\n",
        "  delta = 0.0000000000001\n",
        "  diff = e * 2\n",
        "  old_value = f(points) \n",
        "  while cur_iter <= max_iters and diff > e:\n",
        "    value = f(points)\n",
        "    for cur_coordinate in range(n):\n",
        "      new_points = points\n",
        "      new_points[cur_coordinate] += delta\n",
        "      new_value = f(new_points)\n",
        "      d = abs((new_value - value) / delta)\n",
        "      m = np.zeros(n)\n",
        "      m[cur_coordinate] = 1\n",
        "      f2 = lambda arg: f(points - arg * m * d)\n",
        "      step = golden(f2, -100, 100, e )\n",
        "      points -= step * d * m\n",
        "      value = f(points)\n",
        "    diff = abs(old_value - value)\n",
        "    table.loc[cur_iter, 'points'] = points\n",
        "    table.loc[cur_iter, 'delta'] = diff\n",
        "    cur_iter += 1\n",
        "    old_value = value\n",
        "  return points"
      ],
      "execution_count": null,
      "outputs": []
    },
    {
      "cell_type": "code",
      "metadata": {
        "colab": {
          "base_uri": "https://localhost:8080/"
        },
        "id": "DD-SgL-jF6po",
        "outputId": "f280bbb5-334c-44b0-e0bb-dc1693844bdf"
      },
      "source": [
        "t = pd.DataFrame(columns=['points', 'delta'])\n",
        "brent(testF, [-2,3], t)\n",
        "t"
      ],
      "execution_count": null,
      "outputs": [
        {
          "output_type": "execute_result",
          "data": {
            "text/html": [
              "<div>\n",
              "<style scoped>\n",
              "    .dataframe tbody tr th:only-of-type {\n",
              "        vertical-align: middle;\n",
              "    }\n",
              "\n",
              "    .dataframe tbody tr th {\n",
              "        vertical-align: top;\n",
              "    }\n",
              "\n",
              "    .dataframe thead th {\n",
              "        text-align: right;\n",
              "    }\n",
              "</style>\n",
              "<table border=\"1\" class=\"dataframe\">\n",
              "  <thead>\n",
              "    <tr style=\"text-align: right;\">\n",
              "      <th></th>\n",
              "      <th>points</th>\n",
              "      <th>delta</th>\n",
              "    </tr>\n",
              "  </thead>\n",
              "  <tbody>\n",
              "    <tr>\n",
              "      <th>0</th>\n",
              "      <td>[0.7275269669038622, 0.36376349946942127]</td>\n",
              "      <td>35.9237</td>\n",
              "    </tr>\n",
              "    <tr>\n",
              "      <th>1</th>\n",
              "      <td>[0.7275269669038622, 0.36376349946942127]</td>\n",
              "      <td>0.527156</td>\n",
              "    </tr>\n",
              "    <tr>\n",
              "      <th>2</th>\n",
              "      <td>[0.7275269669038622, 0.36376349946942127]</td>\n",
              "      <td>0.00365267</td>\n",
              "    </tr>\n",
              "    <tr>\n",
              "      <th>3</th>\n",
              "      <td>[0.7275269669038622, 0.36376349946942127]</td>\n",
              "      <td>2.5357e-05</td>\n",
              "    </tr>\n",
              "  </tbody>\n",
              "</table>\n",
              "</div>"
            ],
            "text/plain": [
              "                                      points       delta\n",
              "0  [0.7275269669038622, 0.36376349946942127]     35.9237\n",
              "1  [0.7275269669038622, 0.36376349946942127]    0.527156\n",
              "2  [0.7275269669038622, 0.36376349946942127]  0.00365267\n",
              "3  [0.7275269669038622, 0.36376349946942127]  2.5357e-05"
            ]
          },
          "metadata": {
            "tags": []
          },
          "execution_count": 43
        }
      ]
    },
    {
      "cell_type": "markdown",
      "metadata": {
        "id": "wnMo3BL4HIhr"
      },
      "source": [
        "## Метод проекции градиента"
      ]
    },
    {
      "cell_type": "code",
      "metadata": {
        "id": "4uZTqVyHoNmu"
      },
      "source": [
        "def projection(x):\n",
        "  norm = np.linalg.norm(x)\n",
        "  if norm <= 1:\n",
        "        return(x)\n",
        "  else:\n",
        "        return(x / norm)"
      ],
      "execution_count": null,
      "outputs": []
    },
    {
      "cell_type": "code",
      "metadata": {
        "id": "MNAYAMVn_OUC"
      },
      "source": [
        "def projection_grad(f, x0, table, e=0.0000001, max_iters=100):\n",
        "  points = x0.copy()\n",
        "  diff = e * 2\n",
        "  cur_iter = 0\n",
        "  while cur_iter < max_iters and diff > e:\n",
        "    cur_iter += 1\n",
        "    f2 = lambda alpha: f(points - alpha * grad(f, len(points), points))\n",
        "    alpha = golden(f2, 0, 1, e)\n",
        "    new_points = projection(points - alpha * grad(f, len(points), points))\n",
        "    diff = abs(f(points) - f(new_points))\n",
        "    points = new_points\n",
        "    table.loc[cur_iter, 'points'] = points\n",
        "    table.loc[cur_iter, 'delta'] = diff\n",
        "  return points\n",
        "\n"
      ],
      "execution_count": null,
      "outputs": []
    },
    {
      "cell_type": "code",
      "metadata": {
        "colab": {
          "base_uri": "https://localhost:8080/"
        },
        "id": "FzzHJLDQG8X4",
        "outputId": "fc348ffa-2811-4251-d2c7-5550a3a5daf9"
      },
      "source": [
        "t = pd.DataFrame(columns=['points', 'delta'])\n",
        "projection_grad(testF, [-2,3], t, 0.00001)\n",
        "t"
      ],
      "execution_count": null,
      "outputs": [
        {
          "output_type": "execute_result",
          "data": {
            "text/html": [
              "<div>\n",
              "<style scoped>\n",
              "    .dataframe tbody tr th:only-of-type {\n",
              "        vertical-align: middle;\n",
              "    }\n",
              "\n",
              "    .dataframe tbody tr th {\n",
              "        vertical-align: top;\n",
              "    }\n",
              "\n",
              "    .dataframe thead th {\n",
              "        text-align: right;\n",
              "    }\n",
              "</style>\n",
              "<table border=\"1\" class=\"dataframe\">\n",
              "  <thead>\n",
              "    <tr style=\"text-align: right;\">\n",
              "      <th></th>\n",
              "      <th>points</th>\n",
              "      <th>delta</th>\n",
              "    </tr>\n",
              "  </thead>\n",
              "  <tbody>\n",
              "    <tr>\n",
              "      <th>1</th>\n",
              "      <td>[0.5480782472091977, 0.8364965843886938]</td>\n",
              "      <td>36.0499</td>\n",
              "    </tr>\n",
              "    <tr>\n",
              "      <th>2</th>\n",
              "      <td>[0.7928439056997603, 0.609523700204398]</td>\n",
              "      <td>0.347451</td>\n",
              "    </tr>\n",
              "    <tr>\n",
              "      <th>3</th>\n",
              "      <td>[0.7115842786528471, 0.3746979320728908]</td>\n",
              "      <td>0.056199</td>\n",
              "    </tr>\n",
              "    <tr>\n",
              "      <th>4</th>\n",
              "      <td>[0.7285627076850908, 0.36865542620461916]</td>\n",
              "      <td>0.00101107</td>\n",
              "    </tr>\n",
              "    <tr>\n",
              "      <th>5</th>\n",
              "      <td>[0.7270942199669342, 0.36382632463832515]</td>\n",
              "      <td>2.35054e-05</td>\n",
              "    </tr>\n",
              "    <tr>\n",
              "      <th>6</th>\n",
              "      <td>[0.7272892270942775, 0.36374061589243933]</td>\n",
              "      <td>1.55624e-07</td>\n",
              "    </tr>\n",
              "  </tbody>\n",
              "</table>\n",
              "</div>"
            ],
            "text/plain": [
              "                                      points        delta\n",
              "1   [0.5480782472091977, 0.8364965843886938]      36.0499\n",
              "2    [0.7928439056997603, 0.609523700204398]     0.347451\n",
              "3   [0.7115842786528471, 0.3746979320728908]     0.056199\n",
              "4  [0.7285627076850908, 0.36865542620461916]   0.00101107\n",
              "5  [0.7270942199669342, 0.36382632463832515]  2.35054e-05\n",
              "6  [0.7272892270942775, 0.36374061589243933]  1.55624e-07"
            ]
          },
          "metadata": {
            "tags": []
          },
          "execution_count": 50
        }
      ]
    },
    {
      "cell_type": "markdown",
      "metadata": {
        "id": "uAvwGdjFHAdn"
      },
      "source": [
        "## Метод овражного градиента"
      ]
    },
    {
      "cell_type": "code",
      "metadata": {
        "colab": {
          "base_uri": "https://localhost:8080/"
        },
        "id": "QMrpIKHLJoZJ",
        "outputId": "4b440ef9-36db-4eaf-eba2-a291988420ac"
      },
      "source": [
        ""
      ],
      "execution_count": null,
      "outputs": [
        {
          "output_type": "execute_result",
          "data": {
            "text/plain": [
              "[10, 10, 10, 10]"
            ]
          },
          "metadata": {
            "tags": []
          },
          "execution_count": 198
        }
      ]
    },
    {
      "cell_type": "code",
      "metadata": {
        "id": "sLxJO28FF8nY"
      },
      "source": [
        "def ravine_grad(f, x0, table, e=0.001, max_iters=1000):\n",
        "  n_iter = 0\n",
        "  max_iter = 200\n",
        "  h = 0.5\n",
        "  c = 1.5\n",
        "  def fi(l):\n",
        "      return y(current_points - grad * l)\n",
        "  grad = nd.Gradient(y)(v0)\n",
        "  v1 = []\n",
        "  v1.append(v0[0] + 0.1)\n",
        "  v1.append(v0[1] + 0.1)\n",
        "  grad2 = nd.Gradient(y)(v1)\n",
        "  current_points = v0 \n",
        "  lm = golden2(fi, -10000, 10000, 0.0000005)\n",
        "  x0 = v0\n",
        "\n",
        "  x0 -= lm * grad\n",
        "  lm2 = golden2(fi, -10000, 10000, 0.0000005)\n",
        "  x1 = v1\n",
        "  x1 -= lm2 * grad2\n",
        "  current_points = v1\n",
        "  v2 = x1 - (x1 - x0) * h\n",
        "  grad3 = nd.Gradient(y)(v2)\n",
        "  lm3 = golden2(fi, -10000, 10000, 0.0000005)\n",
        "  x_2 = v2\n",
        "  x_2 -= lm3 * grad3\n",
        "  current_points = v2\n",
        "  x_cur = x_2\n",
        "  x_prev = x1\n",
        "  x_prev2 = x0\n",
        "  v_cur = v2\n",
        "  v_prev = v1\n",
        "  v_prev2 = v0\n",
        "  f_x1 = y(x1)\n",
        "  f_v1 = y(v1)\n",
        "  def cosAlfa(u, v):\n",
        "    return np.dot(u,v)/np.linalg.norm(u)/np.linalg.norm(v)\n",
        "\n",
        "  res_grad_length = np.linalg.norm(nd.Gradient(y)(x_2))\n",
        "  while res_grad_length > e and n_iter < max_iter:\n",
        "    a1 = v_cur - x_prev\n",
        "    a2 = v_prev - x_prev2\n",
        "    b1 = x_cur - x_prev\n",
        "    b2 = x_prev - x_prev2\n",
        "    h = h * c ** (cosAlfa(a1, b1) - cosAlfa(a2, b2))\n",
        "    v_k = x_cur - (x_cur - x_prev) * h\n",
        "    grad_k = nd.Gradient(y)(v_k)\n",
        "    lm_k = golden2(fi, -10000, 10000, 0.0000005)\n",
        "    current_points = v_k\n",
        "\n",
        "    x_k = v_k\n",
        "    x_k -= lm_k * grad_k\n",
        "    x_prev2 = x_prev\n",
        "    x_prev = x_cur\n",
        "    x_cur = x_k\n",
        "    \n",
        "    v_prev2 = v_prev\n",
        "    v_prev = v_cur\n",
        "    v_cur = v_k\n",
        "    \n",
        "    current_points = v_k\n",
        "    n_iter +=1\n",
        "    grad_x = nd.Gradient(y)(x_cur)\n",
        "    res_grad_length = np.linalg.norm(grad_x)\n",
        "\n"
      ],
      "execution_count": null,
      "outputs": []
    },
    {
      "cell_type": "code",
      "metadata": {
        "id": "Y3TktZsiHGiz"
      },
      "source": [
        "def fall_grad(f, x0, table, e=0.1, N=5):\n",
        "  points = x0.copy()\n",
        "  old_points = x0.copy()\n",
        "  k = 0\n",
        "  p = -grad(f, len(points), points)\n",
        "  a_grad = e * 2\n",
        "  cur_iter = 0\n",
        "  while a_grad > e:\n",
        "    k += 1\n",
        "    f2 = lambda alpha: f(points - alpha * p)\n",
        "    alpha = golden(f2, 0, 100, e)\n",
        "    old_points = points.copy()\n",
        "    points += alpha * p\n",
        "    points = np.around(points, 8)\n",
        "    a_grad = abs_grad(grad(f, len(x0), points))\n",
        "\n",
        "    if k == N:\n",
        "      p = -grad(f, len(x0), points)\n",
        "      k = 0\n",
        "\n",
        "    if k != 0:\n",
        "      beta = np.linalg.norm(\n",
        "          grad(f, len(x0), points))**2 / np.linalg.norm(\n",
        "              grad(f, len(x0), old_points))**2\n",
        "      p = -grad(f, len(x0), points) + beta * p\n",
        "    table.loc[cur_iter, 'points'] = points\n",
        "    table.loc[cur_iter, 'delta'] = a_grad\n",
        "    cur_iter += 1\n",
        "  return points\n",
        "    "
      ],
      "execution_count": null,
      "outputs": []
    },
    {
      "cell_type": "code",
      "metadata": {
        "colab": {
          "base_uri": "https://localhost:8080/",
          "height": 768
        },
        "id": "FFMDQItsLQdw",
        "outputId": "6fa50056-f091-4d4e-b04a-767c15c499d5"
      },
      "source": [
        "t = pd.DataFrame(columns=['points', 'delta'])\n",
        "fall_grad(testF, [-2,3], t)\n",
        "t"
      ],
      "execution_count": null,
      "outputs": [
        {
          "output_type": "execute_result",
          "data": {
            "text/html": [
              "<div>\n",
              "<style scoped>\n",
              "    .dataframe tbody tr th:only-of-type {\n",
              "        vertical-align: middle;\n",
              "    }\n",
              "\n",
              "    .dataframe tbody tr th {\n",
              "        vertical-align: top;\n",
              "    }\n",
              "\n",
              "    .dataframe thead th {\n",
              "        text-align: right;\n",
              "    }\n",
              "</style>\n",
              "<table border=\"1\" class=\"dataframe\">\n",
              "  <thead>\n",
              "    <tr style=\"text-align: right;\">\n",
              "      <th></th>\n",
              "      <th>points</th>\n",
              "      <th>delta</th>\n",
              "    </tr>\n",
              "  </thead>\n",
              "  <tbody>\n",
              "    <tr>\n",
              "      <th>0</th>\n",
              "      <td>[-0.3511539328137556, 2.283758421980757]</td>\n",
              "      <td>16.0055</td>\n",
              "    </tr>\n",
              "    <tr>\n",
              "      <th>1</th>\n",
              "      <td>[0.3080980350598562, 1.9472634700305491]</td>\n",
              "      <td>9.72609</td>\n",
              "    </tr>\n",
              "    <tr>\n",
              "      <th>2</th>\n",
              "      <td>[0.6650583402433552, 1.7102874082853003]</td>\n",
              "      <td>5.44625</td>\n",
              "    </tr>\n",
              "    <tr>\n",
              "      <th>3</th>\n",
              "      <td>[0.8550835288440148, 1.524984774856703]</td>\n",
              "      <td>3.24824</td>\n",
              "    </tr>\n",
              "    <tr>\n",
              "      <th>4</th>\n",
              "      <td>[0.8695458810666772, 1.4445291149376247]</td>\n",
              "      <td>2.23005</td>\n",
              "    </tr>\n",
              "    <tr>\n",
              "      <th>5</th>\n",
              "      <td>[0.8898879025640442, 1.303684916284469]</td>\n",
              "      <td>2.03226</td>\n",
              "    </tr>\n",
              "    <tr>\n",
              "      <th>6</th>\n",
              "      <td>[0.9031165970083694, 1.140092459748102]</td>\n",
              "      <td>1.71785</td>\n",
              "    </tr>\n",
              "    <tr>\n",
              "      <th>7</th>\n",
              "      <td>[0.9017530489592991, 0.980187242071389]</td>\n",
              "      <td>1.40497</td>\n",
              "    </tr>\n",
              "    <tr>\n",
              "      <th>8</th>\n",
              "      <td>[0.8850770511786108, 0.8355971819914118]</td>\n",
              "      <td>1.14274</td>\n",
              "    </tr>\n",
              "    <tr>\n",
              "      <th>9</th>\n",
              "      <td>[0.8676717968886739, 0.8067825785563117]</td>\n",
              "      <td>0.918409</td>\n",
              "    </tr>\n",
              "    <tr>\n",
              "      <th>10</th>\n",
              "      <td>[0.8382679470214937, 0.7549904847922864]</td>\n",
              "      <td>0.846023</td>\n",
              "    </tr>\n",
              "    <tr>\n",
              "      <th>11</th>\n",
              "      <td>[0.8065684084828012, 0.692263229656315]</td>\n",
              "      <td>0.72568</td>\n",
              "    </tr>\n",
              "    <tr>\n",
              "      <th>12</th>\n",
              "      <td>[0.7797647384288441, 0.6287111550921797]</td>\n",
              "      <td>0.596395</td>\n",
              "    </tr>\n",
              "    <tr>\n",
              "      <th>13</th>\n",
              "      <td>[0.7605566280411681, 0.5699933171409685]</td>\n",
              "      <td>0.480254</td>\n",
              "    </tr>\n",
              "    <tr>\n",
              "      <th>14</th>\n",
              "      <td>[0.7608023446802898, 0.5560866027662071]</td>\n",
              "      <td>0.379487</td>\n",
              "    </tr>\n",
              "    <tr>\n",
              "      <th>15</th>\n",
              "      <td>[0.7606941183669227, 0.5312781016521541]</td>\n",
              "      <td>0.351478</td>\n",
              "    </tr>\n",
              "    <tr>\n",
              "      <th>16</th>\n",
              "      <td>[0.7594082234530305, 0.5016978818600152]</td>\n",
              "      <td>0.303647</td>\n",
              "    </tr>\n",
              "    <tr>\n",
              "      <th>17</th>\n",
              "      <td>[0.7565297752626832, 0.47269524521607736]</td>\n",
              "      <td>0.250054</td>\n",
              "    </tr>\n",
              "    <tr>\n",
              "      <th>18</th>\n",
              "      <td>[0.7522480015930555, 0.4471792243881313]</td>\n",
              "      <td>0.20022</td>\n",
              "    </tr>\n",
              "    <tr>\n",
              "      <th>19</th>\n",
              "      <td>[0.7498191442676054, 0.441971895825615]</td>\n",
              "      <td>0.156818</td>\n",
              "    </tr>\n",
              "    <tr>\n",
              "      <th>20</th>\n",
              "      <td>[0.7456358034952556, 0.43256093017198555]</td>\n",
              "      <td>0.145711</td>\n",
              "    </tr>\n",
              "    <tr>\n",
              "      <th>21</th>\n",
              "      <td>[0.74097587850595, 0.42109967349043814]</td>\n",
              "      <td>0.126406</td>\n",
              "    </tr>\n",
              "    <tr>\n",
              "      <th>22</th>\n",
              "      <td>[0.7369024444930761, 0.40960176548323446]</td>\n",
              "      <td>0.104206</td>\n",
              "    </tr>\n",
              "    <tr>\n",
              "      <th>23</th>\n",
              "      <td>[0.7369054400000001, 0.4096047699999999]</td>\n",
              "      <td>0.0831436</td>\n",
              "    </tr>\n",
              "  </tbody>\n",
              "</table>\n",
              "</div>"
            ],
            "text/plain": [
              "                                       points      delta\n",
              "0    [-0.3511539328137556, 2.283758421980757]    16.0055\n",
              "1    [0.3080980350598562, 1.9472634700305491]    9.72609\n",
              "2    [0.6650583402433552, 1.7102874082853003]    5.44625\n",
              "3     [0.8550835288440148, 1.524984774856703]    3.24824\n",
              "4    [0.8695458810666772, 1.4445291149376247]    2.23005\n",
              "5     [0.8898879025640442, 1.303684916284469]    2.03226\n",
              "6     [0.9031165970083694, 1.140092459748102]    1.71785\n",
              "7     [0.9017530489592991, 0.980187242071389]    1.40497\n",
              "8    [0.8850770511786108, 0.8355971819914118]    1.14274\n",
              "9    [0.8676717968886739, 0.8067825785563117]   0.918409\n",
              "10   [0.8382679470214937, 0.7549904847922864]   0.846023\n",
              "11    [0.8065684084828012, 0.692263229656315]    0.72568\n",
              "12   [0.7797647384288441, 0.6287111550921797]   0.596395\n",
              "13   [0.7605566280411681, 0.5699933171409685]   0.480254\n",
              "14   [0.7608023446802898, 0.5560866027662071]   0.379487\n",
              "15   [0.7606941183669227, 0.5312781016521541]   0.351478\n",
              "16   [0.7594082234530305, 0.5016978818600152]   0.303647\n",
              "17  [0.7565297752626832, 0.47269524521607736]   0.250054\n",
              "18   [0.7522480015930555, 0.4471792243881313]    0.20022\n",
              "19    [0.7498191442676054, 0.441971895825615]   0.156818\n",
              "20  [0.7456358034952556, 0.43256093017198555]   0.145711\n",
              "21    [0.74097587850595, 0.42109967349043814]   0.126406\n",
              "22  [0.7369024444930761, 0.40960176548323446]   0.104206\n",
              "23   [0.7369054400000001, 0.4096047699999999]  0.0831436"
            ]
          },
          "metadata": {
            "tags": []
          },
          "execution_count": 196
        }
      ]
    },
    {
      "cell_type": "code",
      "metadata": {
        "colab": {
          "base_uri": "https://localhost:8080/"
        },
        "id": "82VGslmOkRzg",
        "outputId": "53051032-5f92-4d7b-859a-699cdc95e5e1"
      },
      "source": [
        "t.iloc[:, 0:1].values"
      ],
      "execution_count": null,
      "outputs": [
        {
          "output_type": "execute_result",
          "data": {
            "text/plain": [
              "array([[array([-0.35115393,  2.28375842])],\n",
              "       [array([0.30809804, 1.94726347])],\n",
              "       [array([0.66505834, 1.71028741])],\n",
              "       [array([0.85508353, 1.52498477])],\n",
              "       [array([0.86954588, 1.44452911])],\n",
              "       [array([0.8898879 , 1.30368492])],\n",
              "       [array([0.9031166 , 1.14009246])],\n",
              "       [array([0.90175305, 0.98018724])],\n",
              "       [array([0.88507705, 0.83559718])],\n",
              "       [array([0.8676718 , 0.80678258])],\n",
              "       [array([0.83826795, 0.75499048])],\n",
              "       [array([0.80656841, 0.69226323])],\n",
              "       [array([0.77976474, 0.62871116])],\n",
              "       [array([0.76055663, 0.56999332])],\n",
              "       [array([0.76080234, 0.5560866 ])],\n",
              "       [array([0.76069412, 0.5312781 ])],\n",
              "       [array([0.75940822, 0.50169788])],\n",
              "       [array([0.75652978, 0.47269525])],\n",
              "       [array([0.752248  , 0.44717922])],\n",
              "       [array([0.74981914, 0.4419719 ])],\n",
              "       [array([0.7456358 , 0.43256093])],\n",
              "       [array([0.74097588, 0.42109967])],\n",
              "       [array([0.73690244, 0.40960177])],\n",
              "       [array([0.73690544, 0.40960477])]], dtype=object)"
            ]
          },
          "metadata": {
            "tags": []
          },
          "execution_count": 192
        }
      ]
    },
    {
      "cell_type": "code",
      "metadata": {
        "id": "DwiSsmoVlYyX"
      },
      "source": [
        "def plot_func(f, )"
      ],
      "execution_count": null,
      "outputs": []
    }
  ]
}