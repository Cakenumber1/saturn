{
  "nbformat": 4,
  "nbformat_minor": 0,
  "metadata": {
    "colab": {
      "name": "Копия блокнота \"Копия блокнота \"test 7.2 fashionmnist.ipynb\"\"",
      "provenance": [],
      "collapsed_sections": []
    },
    "kernelspec": {
      "display_name": "Python 3",
      "language": "python",
      "name": "python3"
    },
    "widgets": {
      "application/vnd.jupyter.widget-state+json": {
        "50f7d7f86dbb493eb6a2dc53d38669fd": {
          "model_module": "@jupyter-widgets/controls",
          "model_name": "HBoxModel",
          "state": {
            "_view_name": "HBoxView",
            "_dom_classes": [],
            "_model_name": "HBoxModel",
            "_view_module": "@jupyter-widgets/controls",
            "_model_module_version": "1.5.0",
            "_view_count": null,
            "_view_module_version": "1.5.0",
            "box_style": "",
            "layout": "IPY_MODEL_b62e9557b9cc453e8b7c50df889a4eb3",
            "_model_module": "@jupyter-widgets/controls",
            "children": [
              "IPY_MODEL_f2530b2e15f948a2ba77d6ab51412882",
              "IPY_MODEL_0253a2a2c0764d7a90bcc7c8cef9a3bb"
            ]
          },
          "model_module_version": "1.5.0"
        },
        "b62e9557b9cc453e8b7c50df889a4eb3": {
          "model_module": "@jupyter-widgets/base",
          "model_name": "LayoutModel",
          "state": {
            "_view_name": "LayoutView",
            "grid_template_rows": null,
            "right": null,
            "justify_content": null,
            "_view_module": "@jupyter-widgets/base",
            "overflow": null,
            "_model_module_version": "1.2.0",
            "_view_count": null,
            "flex_flow": null,
            "width": null,
            "min_width": null,
            "border": null,
            "align_items": null,
            "bottom": null,
            "_model_module": "@jupyter-widgets/base",
            "top": null,
            "grid_column": null,
            "overflow_y": null,
            "overflow_x": null,
            "grid_auto_flow": null,
            "grid_area": null,
            "grid_template_columns": null,
            "flex": null,
            "_model_name": "LayoutModel",
            "justify_items": null,
            "grid_row": null,
            "max_height": null,
            "align_content": null,
            "visibility": null,
            "align_self": null,
            "height": null,
            "min_height": null,
            "padding": null,
            "grid_auto_rows": null,
            "grid_gap": null,
            "max_width": null,
            "order": null,
            "_view_module_version": "1.2.0",
            "grid_template_areas": null,
            "object_position": null,
            "object_fit": null,
            "grid_auto_columns": null,
            "margin": null,
            "display": null,
            "left": null
          },
          "model_module_version": "1.2.0"
        },
        "f2530b2e15f948a2ba77d6ab51412882": {
          "model_module": "@jupyter-widgets/controls",
          "model_name": "FloatProgressModel",
          "state": {
            "_view_name": "ProgressView",
            "style": "IPY_MODEL_0cbe6552b32240c1969a003c99ba3a41",
            "_dom_classes": [],
            "description": "",
            "_model_name": "FloatProgressModel",
            "bar_style": "info",
            "max": 1,
            "_view_module": "@jupyter-widgets/controls",
            "_model_module_version": "1.5.0",
            "value": 1,
            "_view_count": null,
            "_view_module_version": "1.5.0",
            "orientation": "horizontal",
            "min": 0,
            "description_tooltip": null,
            "_model_module": "@jupyter-widgets/controls",
            "layout": "IPY_MODEL_9a496f3639d343e8aa29c7670f9780e3"
          },
          "model_module_version": "1.5.0"
        },
        "0253a2a2c0764d7a90bcc7c8cef9a3bb": {
          "model_module": "@jupyter-widgets/controls",
          "model_name": "HTMLModel",
          "state": {
            "_view_name": "HTMLView",
            "style": "IPY_MODEL_1fd3d8b5d3ac489bbd5c212d2b23722d",
            "_dom_classes": [],
            "description": "",
            "_model_name": "HTMLModel",
            "placeholder": "​",
            "_view_module": "@jupyter-widgets/controls",
            "_model_module_version": "1.5.0",
            "value": " 26427392/? [00:20&lt;00:00, 4711376.14it/s]",
            "_view_count": null,
            "_view_module_version": "1.5.0",
            "description_tooltip": null,
            "_model_module": "@jupyter-widgets/controls",
            "layout": "IPY_MODEL_18a01a5503354023b977a3385d3f0adc"
          },
          "model_module_version": "1.5.0"
        },
        "0cbe6552b32240c1969a003c99ba3a41": {
          "model_module": "@jupyter-widgets/controls",
          "model_name": "ProgressStyleModel",
          "state": {
            "_view_name": "StyleView",
            "_model_name": "ProgressStyleModel",
            "description_width": "initial",
            "_view_module": "@jupyter-widgets/base",
            "_model_module_version": "1.5.0",
            "_view_count": null,
            "_view_module_version": "1.2.0",
            "bar_color": null,
            "_model_module": "@jupyter-widgets/controls"
          },
          "model_module_version": "1.5.0"
        },
        "9a496f3639d343e8aa29c7670f9780e3": {
          "model_module": "@jupyter-widgets/base",
          "model_name": "LayoutModel",
          "state": {
            "_view_name": "LayoutView",
            "grid_template_rows": null,
            "right": null,
            "justify_content": null,
            "_view_module": "@jupyter-widgets/base",
            "overflow": null,
            "_model_module_version": "1.2.0",
            "_view_count": null,
            "flex_flow": null,
            "width": null,
            "min_width": null,
            "border": null,
            "align_items": null,
            "bottom": null,
            "_model_module": "@jupyter-widgets/base",
            "top": null,
            "grid_column": null,
            "overflow_y": null,
            "overflow_x": null,
            "grid_auto_flow": null,
            "grid_area": null,
            "grid_template_columns": null,
            "flex": null,
            "_model_name": "LayoutModel",
            "justify_items": null,
            "grid_row": null,
            "max_height": null,
            "align_content": null,
            "visibility": null,
            "align_self": null,
            "height": null,
            "min_height": null,
            "padding": null,
            "grid_auto_rows": null,
            "grid_gap": null,
            "max_width": null,
            "order": null,
            "_view_module_version": "1.2.0",
            "grid_template_areas": null,
            "object_position": null,
            "object_fit": null,
            "grid_auto_columns": null,
            "margin": null,
            "display": null,
            "left": null
          },
          "model_module_version": "1.2.0"
        },
        "1fd3d8b5d3ac489bbd5c212d2b23722d": {
          "model_module": "@jupyter-widgets/controls",
          "model_name": "DescriptionStyleModel",
          "state": {
            "_view_name": "StyleView",
            "_model_name": "DescriptionStyleModel",
            "description_width": "",
            "_view_module": "@jupyter-widgets/base",
            "_model_module_version": "1.5.0",
            "_view_count": null,
            "_view_module_version": "1.2.0",
            "_model_module": "@jupyter-widgets/controls"
          },
          "model_module_version": "1.5.0"
        },
        "18a01a5503354023b977a3385d3f0adc": {
          "model_module": "@jupyter-widgets/base",
          "model_name": "LayoutModel",
          "state": {
            "_view_name": "LayoutView",
            "grid_template_rows": null,
            "right": null,
            "justify_content": null,
            "_view_module": "@jupyter-widgets/base",
            "overflow": null,
            "_model_module_version": "1.2.0",
            "_view_count": null,
            "flex_flow": null,
            "width": null,
            "min_width": null,
            "border": null,
            "align_items": null,
            "bottom": null,
            "_model_module": "@jupyter-widgets/base",
            "top": null,
            "grid_column": null,
            "overflow_y": null,
            "overflow_x": null,
            "grid_auto_flow": null,
            "grid_area": null,
            "grid_template_columns": null,
            "flex": null,
            "_model_name": "LayoutModel",
            "justify_items": null,
            "grid_row": null,
            "max_height": null,
            "align_content": null,
            "visibility": null,
            "align_self": null,
            "height": null,
            "min_height": null,
            "padding": null,
            "grid_auto_rows": null,
            "grid_gap": null,
            "max_width": null,
            "order": null,
            "_view_module_version": "1.2.0",
            "grid_template_areas": null,
            "object_position": null,
            "object_fit": null,
            "grid_auto_columns": null,
            "margin": null,
            "display": null,
            "left": null
          },
          "model_module_version": "1.2.0"
        },
        "4582eec110314e9eb91ece59012d2408": {
          "model_module": "@jupyter-widgets/controls",
          "model_name": "HBoxModel",
          "state": {
            "_view_name": "HBoxView",
            "_dom_classes": [],
            "_model_name": "HBoxModel",
            "_view_module": "@jupyter-widgets/controls",
            "_model_module_version": "1.5.0",
            "_view_count": null,
            "_view_module_version": "1.5.0",
            "box_style": "",
            "layout": "IPY_MODEL_393f88043df043acaf1ad819e46a641f",
            "_model_module": "@jupyter-widgets/controls",
            "children": [
              "IPY_MODEL_3c1f4e4604e142f2bdd6e53cc8b1479b",
              "IPY_MODEL_18ca2d502b1948a5b98f29cc198f791e"
            ]
          },
          "model_module_version": "1.5.0"
        },
        "393f88043df043acaf1ad819e46a641f": {
          "model_module": "@jupyter-widgets/base",
          "model_name": "LayoutModel",
          "state": {
            "_view_name": "LayoutView",
            "grid_template_rows": null,
            "right": null,
            "justify_content": null,
            "_view_module": "@jupyter-widgets/base",
            "overflow": null,
            "_model_module_version": "1.2.0",
            "_view_count": null,
            "flex_flow": null,
            "width": null,
            "min_width": null,
            "border": null,
            "align_items": null,
            "bottom": null,
            "_model_module": "@jupyter-widgets/base",
            "top": null,
            "grid_column": null,
            "overflow_y": null,
            "overflow_x": null,
            "grid_auto_flow": null,
            "grid_area": null,
            "grid_template_columns": null,
            "flex": null,
            "_model_name": "LayoutModel",
            "justify_items": null,
            "grid_row": null,
            "max_height": null,
            "align_content": null,
            "visibility": null,
            "align_self": null,
            "height": null,
            "min_height": null,
            "padding": null,
            "grid_auto_rows": null,
            "grid_gap": null,
            "max_width": null,
            "order": null,
            "_view_module_version": "1.2.0",
            "grid_template_areas": null,
            "object_position": null,
            "object_fit": null,
            "grid_auto_columns": null,
            "margin": null,
            "display": null,
            "left": null
          },
          "model_module_version": "1.2.0"
        },
        "3c1f4e4604e142f2bdd6e53cc8b1479b": {
          "model_module": "@jupyter-widgets/controls",
          "model_name": "FloatProgressModel",
          "state": {
            "_view_name": "ProgressView",
            "style": "IPY_MODEL_84da2d2776fe4fcaae876d732f2ba818",
            "_dom_classes": [],
            "description": "",
            "_model_name": "FloatProgressModel",
            "bar_style": "success",
            "max": 1,
            "_view_module": "@jupyter-widgets/controls",
            "_model_module_version": "1.5.0",
            "value": 1,
            "_view_count": null,
            "_view_module_version": "1.5.0",
            "orientation": "horizontal",
            "min": 0,
            "description_tooltip": null,
            "_model_module": "@jupyter-widgets/controls",
            "layout": "IPY_MODEL_7e41a2afa0ab4370bd43dd2af023af19"
          },
          "model_module_version": "1.5.0"
        },
        "18ca2d502b1948a5b98f29cc198f791e": {
          "model_module": "@jupyter-widgets/controls",
          "model_name": "HTMLModel",
          "state": {
            "_view_name": "HTMLView",
            "style": "IPY_MODEL_4fe30397d97f483287617761fddbe542",
            "_dom_classes": [],
            "description": "",
            "_model_name": "HTMLModel",
            "placeholder": "​",
            "_view_module": "@jupyter-widgets/controls",
            "_model_module_version": "1.5.0",
            "value": " 32768/? [00:00&lt;00:00, 102432.69it/s]",
            "_view_count": null,
            "_view_module_version": "1.5.0",
            "description_tooltip": null,
            "_model_module": "@jupyter-widgets/controls",
            "layout": "IPY_MODEL_ac5c99d288db47fe9dd29c9d67a72cab"
          },
          "model_module_version": "1.5.0"
        },
        "84da2d2776fe4fcaae876d732f2ba818": {
          "model_module": "@jupyter-widgets/controls",
          "model_name": "ProgressStyleModel",
          "state": {
            "_view_name": "StyleView",
            "_model_name": "ProgressStyleModel",
            "description_width": "initial",
            "_view_module": "@jupyter-widgets/base",
            "_model_module_version": "1.5.0",
            "_view_count": null,
            "_view_module_version": "1.2.0",
            "bar_color": null,
            "_model_module": "@jupyter-widgets/controls"
          },
          "model_module_version": "1.5.0"
        },
        "7e41a2afa0ab4370bd43dd2af023af19": {
          "model_module": "@jupyter-widgets/base",
          "model_name": "LayoutModel",
          "state": {
            "_view_name": "LayoutView",
            "grid_template_rows": null,
            "right": null,
            "justify_content": null,
            "_view_module": "@jupyter-widgets/base",
            "overflow": null,
            "_model_module_version": "1.2.0",
            "_view_count": null,
            "flex_flow": null,
            "width": null,
            "min_width": null,
            "border": null,
            "align_items": null,
            "bottom": null,
            "_model_module": "@jupyter-widgets/base",
            "top": null,
            "grid_column": null,
            "overflow_y": null,
            "overflow_x": null,
            "grid_auto_flow": null,
            "grid_area": null,
            "grid_template_columns": null,
            "flex": null,
            "_model_name": "LayoutModel",
            "justify_items": null,
            "grid_row": null,
            "max_height": null,
            "align_content": null,
            "visibility": null,
            "align_self": null,
            "height": null,
            "min_height": null,
            "padding": null,
            "grid_auto_rows": null,
            "grid_gap": null,
            "max_width": null,
            "order": null,
            "_view_module_version": "1.2.0",
            "grid_template_areas": null,
            "object_position": null,
            "object_fit": null,
            "grid_auto_columns": null,
            "margin": null,
            "display": null,
            "left": null
          },
          "model_module_version": "1.2.0"
        },
        "4fe30397d97f483287617761fddbe542": {
          "model_module": "@jupyter-widgets/controls",
          "model_name": "DescriptionStyleModel",
          "state": {
            "_view_name": "StyleView",
            "_model_name": "DescriptionStyleModel",
            "description_width": "",
            "_view_module": "@jupyter-widgets/base",
            "_model_module_version": "1.5.0",
            "_view_count": null,
            "_view_module_version": "1.2.0",
            "_model_module": "@jupyter-widgets/controls"
          },
          "model_module_version": "1.5.0"
        },
        "ac5c99d288db47fe9dd29c9d67a72cab": {
          "model_module": "@jupyter-widgets/base",
          "model_name": "LayoutModel",
          "state": {
            "_view_name": "LayoutView",
            "grid_template_rows": null,
            "right": null,
            "justify_content": null,
            "_view_module": "@jupyter-widgets/base",
            "overflow": null,
            "_model_module_version": "1.2.0",
            "_view_count": null,
            "flex_flow": null,
            "width": null,
            "min_width": null,
            "border": null,
            "align_items": null,
            "bottom": null,
            "_model_module": "@jupyter-widgets/base",
            "top": null,
            "grid_column": null,
            "overflow_y": null,
            "overflow_x": null,
            "grid_auto_flow": null,
            "grid_area": null,
            "grid_template_columns": null,
            "flex": null,
            "_model_name": "LayoutModel",
            "justify_items": null,
            "grid_row": null,
            "max_height": null,
            "align_content": null,
            "visibility": null,
            "align_self": null,
            "height": null,
            "min_height": null,
            "padding": null,
            "grid_auto_rows": null,
            "grid_gap": null,
            "max_width": null,
            "order": null,
            "_view_module_version": "1.2.0",
            "grid_template_areas": null,
            "object_position": null,
            "object_fit": null,
            "grid_auto_columns": null,
            "margin": null,
            "display": null,
            "left": null
          },
          "model_module_version": "1.2.0"
        },
        "123bd85b4ae84280961d37fa9e1aa75f": {
          "model_module": "@jupyter-widgets/controls",
          "model_name": "HBoxModel",
          "state": {
            "_view_name": "HBoxView",
            "_dom_classes": [],
            "_model_name": "HBoxModel",
            "_view_module": "@jupyter-widgets/controls",
            "_model_module_version": "1.5.0",
            "_view_count": null,
            "_view_module_version": "1.5.0",
            "box_style": "",
            "layout": "IPY_MODEL_33e8881a7d2d4a7aa16bb82458f24347",
            "_model_module": "@jupyter-widgets/controls",
            "children": [
              "IPY_MODEL_cc26f812b88948c7909a467172d717f5",
              "IPY_MODEL_cbef8734b37145a380467f36f48e8602"
            ]
          },
          "model_module_version": "1.5.0"
        },
        "33e8881a7d2d4a7aa16bb82458f24347": {
          "model_module": "@jupyter-widgets/base",
          "model_name": "LayoutModel",
          "state": {
            "_view_name": "LayoutView",
            "grid_template_rows": null,
            "right": null,
            "justify_content": null,
            "_view_module": "@jupyter-widgets/base",
            "overflow": null,
            "_model_module_version": "1.2.0",
            "_view_count": null,
            "flex_flow": null,
            "width": null,
            "min_width": null,
            "border": null,
            "align_items": null,
            "bottom": null,
            "_model_module": "@jupyter-widgets/base",
            "top": null,
            "grid_column": null,
            "overflow_y": null,
            "overflow_x": null,
            "grid_auto_flow": null,
            "grid_area": null,
            "grid_template_columns": null,
            "flex": null,
            "_model_name": "LayoutModel",
            "justify_items": null,
            "grid_row": null,
            "max_height": null,
            "align_content": null,
            "visibility": null,
            "align_self": null,
            "height": null,
            "min_height": null,
            "padding": null,
            "grid_auto_rows": null,
            "grid_gap": null,
            "max_width": null,
            "order": null,
            "_view_module_version": "1.2.0",
            "grid_template_areas": null,
            "object_position": null,
            "object_fit": null,
            "grid_auto_columns": null,
            "margin": null,
            "display": null,
            "left": null
          },
          "model_module_version": "1.2.0"
        },
        "cc26f812b88948c7909a467172d717f5": {
          "model_module": "@jupyter-widgets/controls",
          "model_name": "FloatProgressModel",
          "state": {
            "_view_name": "ProgressView",
            "style": "IPY_MODEL_04ec46e893c244429b6fe351cf58084e",
            "_dom_classes": [],
            "description": "",
            "_model_name": "FloatProgressModel",
            "bar_style": "info",
            "max": 1,
            "_view_module": "@jupyter-widgets/controls",
            "_model_module_version": "1.5.0",
            "value": 1,
            "_view_count": null,
            "_view_module_version": "1.5.0",
            "orientation": "horizontal",
            "min": 0,
            "description_tooltip": null,
            "_model_module": "@jupyter-widgets/controls",
            "layout": "IPY_MODEL_880a6d3d3c1444459781443823502898"
          },
          "model_module_version": "1.5.0"
        },
        "cbef8734b37145a380467f36f48e8602": {
          "model_module": "@jupyter-widgets/controls",
          "model_name": "HTMLModel",
          "state": {
            "_view_name": "HTMLView",
            "style": "IPY_MODEL_d2b87fdf230143189829569b999b1022",
            "_dom_classes": [],
            "description": "",
            "_model_name": "HTMLModel",
            "placeholder": "​",
            "_view_module": "@jupyter-widgets/controls",
            "_model_module_version": "1.5.0",
            "value": " 4423680/? [00:17&lt;00:00, 894293.34it/s]",
            "_view_count": null,
            "_view_module_version": "1.5.0",
            "description_tooltip": null,
            "_model_module": "@jupyter-widgets/controls",
            "layout": "IPY_MODEL_c6205047a1c34fe9b6eacc01117fedca"
          },
          "model_module_version": "1.5.0"
        },
        "04ec46e893c244429b6fe351cf58084e": {
          "model_module": "@jupyter-widgets/controls",
          "model_name": "ProgressStyleModel",
          "state": {
            "_view_name": "StyleView",
            "_model_name": "ProgressStyleModel",
            "description_width": "initial",
            "_view_module": "@jupyter-widgets/base",
            "_model_module_version": "1.5.0",
            "_view_count": null,
            "_view_module_version": "1.2.0",
            "bar_color": null,
            "_model_module": "@jupyter-widgets/controls"
          },
          "model_module_version": "1.5.0"
        },
        "880a6d3d3c1444459781443823502898": {
          "model_module": "@jupyter-widgets/base",
          "model_name": "LayoutModel",
          "state": {
            "_view_name": "LayoutView",
            "grid_template_rows": null,
            "right": null,
            "justify_content": null,
            "_view_module": "@jupyter-widgets/base",
            "overflow": null,
            "_model_module_version": "1.2.0",
            "_view_count": null,
            "flex_flow": null,
            "width": null,
            "min_width": null,
            "border": null,
            "align_items": null,
            "bottom": null,
            "_model_module": "@jupyter-widgets/base",
            "top": null,
            "grid_column": null,
            "overflow_y": null,
            "overflow_x": null,
            "grid_auto_flow": null,
            "grid_area": null,
            "grid_template_columns": null,
            "flex": null,
            "_model_name": "LayoutModel",
            "justify_items": null,
            "grid_row": null,
            "max_height": null,
            "align_content": null,
            "visibility": null,
            "align_self": null,
            "height": null,
            "min_height": null,
            "padding": null,
            "grid_auto_rows": null,
            "grid_gap": null,
            "max_width": null,
            "order": null,
            "_view_module_version": "1.2.0",
            "grid_template_areas": null,
            "object_position": null,
            "object_fit": null,
            "grid_auto_columns": null,
            "margin": null,
            "display": null,
            "left": null
          },
          "model_module_version": "1.2.0"
        },
        "d2b87fdf230143189829569b999b1022": {
          "model_module": "@jupyter-widgets/controls",
          "model_name": "DescriptionStyleModel",
          "state": {
            "_view_name": "StyleView",
            "_model_name": "DescriptionStyleModel",
            "description_width": "",
            "_view_module": "@jupyter-widgets/base",
            "_model_module_version": "1.5.0",
            "_view_count": null,
            "_view_module_version": "1.2.0",
            "_model_module": "@jupyter-widgets/controls"
          },
          "model_module_version": "1.5.0"
        },
        "c6205047a1c34fe9b6eacc01117fedca": {
          "model_module": "@jupyter-widgets/base",
          "model_name": "LayoutModel",
          "state": {
            "_view_name": "LayoutView",
            "grid_template_rows": null,
            "right": null,
            "justify_content": null,
            "_view_module": "@jupyter-widgets/base",
            "overflow": null,
            "_model_module_version": "1.2.0",
            "_view_count": null,
            "flex_flow": null,
            "width": null,
            "min_width": null,
            "border": null,
            "align_items": null,
            "bottom": null,
            "_model_module": "@jupyter-widgets/base",
            "top": null,
            "grid_column": null,
            "overflow_y": null,
            "overflow_x": null,
            "grid_auto_flow": null,
            "grid_area": null,
            "grid_template_columns": null,
            "flex": null,
            "_model_name": "LayoutModel",
            "justify_items": null,
            "grid_row": null,
            "max_height": null,
            "align_content": null,
            "visibility": null,
            "align_self": null,
            "height": null,
            "min_height": null,
            "padding": null,
            "grid_auto_rows": null,
            "grid_gap": null,
            "max_width": null,
            "order": null,
            "_view_module_version": "1.2.0",
            "grid_template_areas": null,
            "object_position": null,
            "object_fit": null,
            "grid_auto_columns": null,
            "margin": null,
            "display": null,
            "left": null
          },
          "model_module_version": "1.2.0"
        },
        "44ab73c153644c8e84162127c2c5ee40": {
          "model_module": "@jupyter-widgets/controls",
          "model_name": "HBoxModel",
          "state": {
            "_view_name": "HBoxView",
            "_dom_classes": [],
            "_model_name": "HBoxModel",
            "_view_module": "@jupyter-widgets/controls",
            "_model_module_version": "1.5.0",
            "_view_count": null,
            "_view_module_version": "1.5.0",
            "box_style": "",
            "layout": "IPY_MODEL_b3687d0fb06a4f2db367f03765980830",
            "_model_module": "@jupyter-widgets/controls",
            "children": [
              "IPY_MODEL_76e7d567ae264255854cb2f86442ffca",
              "IPY_MODEL_030177d17d77447e8e8fbf43c8ca2366"
            ]
          },
          "model_module_version": "1.5.0"
        },
        "b3687d0fb06a4f2db367f03765980830": {
          "model_module": "@jupyter-widgets/base",
          "model_name": "LayoutModel",
          "state": {
            "_view_name": "LayoutView",
            "grid_template_rows": null,
            "right": null,
            "justify_content": null,
            "_view_module": "@jupyter-widgets/base",
            "overflow": null,
            "_model_module_version": "1.2.0",
            "_view_count": null,
            "flex_flow": null,
            "width": null,
            "min_width": null,
            "border": null,
            "align_items": null,
            "bottom": null,
            "_model_module": "@jupyter-widgets/base",
            "top": null,
            "grid_column": null,
            "overflow_y": null,
            "overflow_x": null,
            "grid_auto_flow": null,
            "grid_area": null,
            "grid_template_columns": null,
            "flex": null,
            "_model_name": "LayoutModel",
            "justify_items": null,
            "grid_row": null,
            "max_height": null,
            "align_content": null,
            "visibility": null,
            "align_self": null,
            "height": null,
            "min_height": null,
            "padding": null,
            "grid_auto_rows": null,
            "grid_gap": null,
            "max_width": null,
            "order": null,
            "_view_module_version": "1.2.0",
            "grid_template_areas": null,
            "object_position": null,
            "object_fit": null,
            "grid_auto_columns": null,
            "margin": null,
            "display": null,
            "left": null
          },
          "model_module_version": "1.2.0"
        },
        "76e7d567ae264255854cb2f86442ffca": {
          "model_module": "@jupyter-widgets/controls",
          "model_name": "FloatProgressModel",
          "state": {
            "_view_name": "ProgressView",
            "style": "IPY_MODEL_3921f299ec254986ada05a3a89c0ac44",
            "_dom_classes": [],
            "description": "  0%",
            "_model_name": "FloatProgressModel",
            "bar_style": "info",
            "max": 1,
            "_view_module": "@jupyter-widgets/controls",
            "_model_module_version": "1.5.0",
            "value": 0,
            "_view_count": null,
            "_view_module_version": "1.5.0",
            "orientation": "horizontal",
            "min": 0,
            "description_tooltip": null,
            "_model_module": "@jupyter-widgets/controls",
            "layout": "IPY_MODEL_8e41571b5eb346128426265d20ccb5cd"
          },
          "model_module_version": "1.5.0"
        },
        "030177d17d77447e8e8fbf43c8ca2366": {
          "model_module": "@jupyter-widgets/controls",
          "model_name": "HTMLModel",
          "state": {
            "_view_name": "HTMLView",
            "style": "IPY_MODEL_e27cb974acab459fa5cb6cd4d4f269fd",
            "_dom_classes": [],
            "description": "",
            "_model_name": "HTMLModel",
            "placeholder": "​",
            "_view_module": "@jupyter-widgets/controls",
            "_model_module_version": "1.5.0",
            "value": " 0/5148 [00:00&lt;?, ?it/s]",
            "_view_count": null,
            "_view_module_version": "1.5.0",
            "description_tooltip": null,
            "_model_module": "@jupyter-widgets/controls",
            "layout": "IPY_MODEL_7c97f450d75340638fd381ecd1620e6e"
          },
          "model_module_version": "1.5.0"
        },
        "3921f299ec254986ada05a3a89c0ac44": {
          "model_module": "@jupyter-widgets/controls",
          "model_name": "ProgressStyleModel",
          "state": {
            "_view_name": "StyleView",
            "_model_name": "ProgressStyleModel",
            "description_width": "initial",
            "_view_module": "@jupyter-widgets/base",
            "_model_module_version": "1.5.0",
            "_view_count": null,
            "_view_module_version": "1.2.0",
            "bar_color": null,
            "_model_module": "@jupyter-widgets/controls"
          },
          "model_module_version": "1.5.0"
        },
        "8e41571b5eb346128426265d20ccb5cd": {
          "model_module": "@jupyter-widgets/base",
          "model_name": "LayoutModel",
          "state": {
            "_view_name": "LayoutView",
            "grid_template_rows": null,
            "right": null,
            "justify_content": null,
            "_view_module": "@jupyter-widgets/base",
            "overflow": null,
            "_model_module_version": "1.2.0",
            "_view_count": null,
            "flex_flow": null,
            "width": null,
            "min_width": null,
            "border": null,
            "align_items": null,
            "bottom": null,
            "_model_module": "@jupyter-widgets/base",
            "top": null,
            "grid_column": null,
            "overflow_y": null,
            "overflow_x": null,
            "grid_auto_flow": null,
            "grid_area": null,
            "grid_template_columns": null,
            "flex": null,
            "_model_name": "LayoutModel",
            "justify_items": null,
            "grid_row": null,
            "max_height": null,
            "align_content": null,
            "visibility": null,
            "align_self": null,
            "height": null,
            "min_height": null,
            "padding": null,
            "grid_auto_rows": null,
            "grid_gap": null,
            "max_width": null,
            "order": null,
            "_view_module_version": "1.2.0",
            "grid_template_areas": null,
            "object_position": null,
            "object_fit": null,
            "grid_auto_columns": null,
            "margin": null,
            "display": null,
            "left": null
          },
          "model_module_version": "1.2.0"
        },
        "e27cb974acab459fa5cb6cd4d4f269fd": {
          "model_module": "@jupyter-widgets/controls",
          "model_name": "DescriptionStyleModel",
          "state": {
            "_view_name": "StyleView",
            "_model_name": "DescriptionStyleModel",
            "description_width": "",
            "_view_module": "@jupyter-widgets/base",
            "_model_module_version": "1.5.0",
            "_view_count": null,
            "_view_module_version": "1.2.0",
            "_model_module": "@jupyter-widgets/controls"
          },
          "model_module_version": "1.5.0"
        },
        "7c97f450d75340638fd381ecd1620e6e": {
          "model_module": "@jupyter-widgets/base",
          "model_name": "LayoutModel",
          "state": {
            "_view_name": "LayoutView",
            "grid_template_rows": null,
            "right": null,
            "justify_content": null,
            "_view_module": "@jupyter-widgets/base",
            "overflow": null,
            "_model_module_version": "1.2.0",
            "_view_count": null,
            "flex_flow": null,
            "width": null,
            "min_width": null,
            "border": null,
            "align_items": null,
            "bottom": null,
            "_model_module": "@jupyter-widgets/base",
            "top": null,
            "grid_column": null,
            "overflow_y": null,
            "overflow_x": null,
            "grid_auto_flow": null,
            "grid_area": null,
            "grid_template_columns": null,
            "flex": null,
            "_model_name": "LayoutModel",
            "justify_items": null,
            "grid_row": null,
            "max_height": null,
            "align_content": null,
            "visibility": null,
            "align_self": null,
            "height": null,
            "min_height": null,
            "padding": null,
            "grid_auto_rows": null,
            "grid_gap": null,
            "max_width": null,
            "order": null,
            "_view_module_version": "1.2.0",
            "grid_template_areas": null,
            "object_position": null,
            "object_fit": null,
            "grid_auto_columns": null,
            "margin": null,
            "display": null,
            "left": null
          },
          "model_module_version": "1.2.0"
        }
      }
    },
    "accelerator": "GPU"
  },
  "cells": [
    {
      "cell_type": "markdown",
      "metadata": {
        "id": "ezjWeWD7WsxU"
      },
      "source": [
        " # FashionMNIST\n",
        "\n",
        " ## Задание 7.2"
      ]
    },
    {
      "cell_type": "markdown",
      "metadata": {
        "id": "AygNFOvoWsxY"
      },
      "source": [
        "<img src=\"https://emiliendupont.github.io/imgs/mnist-chicken/mnist-and-fashion-examples.png\">"
      ]
    },
    {
      "cell_type": "markdown",
      "metadata": {
        "id": "YNF5C2b_Wsxh"
      },
      "source": [
        "На практике построим нейронную сеть для классификации картиной. В качестве входных данных используются картинки одежды (в градациях серого, то есть цветовых каналов не 3, а 1). По входной картинке нужно предсказать тип одежды."
      ]
    },
    {
      "cell_type": "code",
      "metadata": {
        "id": "2IYPMzDudZeN",
        "colab": {
          "base_uri": "https://localhost:8080/"
        },
        "outputId": "e15a4e98-3eb3-452f-f157-052ae27af5f5"
      },
      "source": [
        "\n",
        "%tensorflow_version 1.x\n",
        "import keras\n",
        "from keras.models import Sequential\n",
        "from keras import layers\n",
        "from keras.layers import Dense, Activation, Flatten, Conv2D,MaxPooling2D, Dropout, BatchNormalization\n",
        "import keras.datasets\n",
        "from keras.datasets import fashion_mnist"
      ],
      "execution_count": null,
      "outputs": [
        {
          "output_type": "stream",
          "text": [
            "TensorFlow 1.x selected.\n"
          ],
          "name": "stdout"
        },
        {
          "output_type": "stream",
          "text": [
            "Using TensorFlow backend.\n"
          ],
          "name": "stderr"
        }
      ]
    },
    {
      "cell_type": "markdown",
      "metadata": {
        "id": "ZEr2x6meSqNj"
      },
      "source": [
        "Скачаем обучающую и контрольную выборки."
      ]
    },
    {
      "cell_type": "code",
      "metadata": {
        "id": "FCedv50ReIUZ",
        "colab": {
          "base_uri": "https://localhost:8080/",
          "height": 383,
          "referenced_widgets": [
            "50f7d7f86dbb493eb6a2dc53d38669fd",
            "b62e9557b9cc453e8b7c50df889a4eb3",
            "f2530b2e15f948a2ba77d6ab51412882",
            "0253a2a2c0764d7a90bcc7c8cef9a3bb",
            "0cbe6552b32240c1969a003c99ba3a41",
            "9a496f3639d343e8aa29c7670f9780e3",
            "1fd3d8b5d3ac489bbd5c212d2b23722d",
            "18a01a5503354023b977a3385d3f0adc",
            "4582eec110314e9eb91ece59012d2408",
            "393f88043df043acaf1ad819e46a641f",
            "3c1f4e4604e142f2bdd6e53cc8b1479b",
            "18ca2d502b1948a5b98f29cc198f791e",
            "84da2d2776fe4fcaae876d732f2ba818",
            "7e41a2afa0ab4370bd43dd2af023af19",
            "4fe30397d97f483287617761fddbe542",
            "ac5c99d288db47fe9dd29c9d67a72cab",
            "123bd85b4ae84280961d37fa9e1aa75f",
            "33e8881a7d2d4a7aa16bb82458f24347",
            "cc26f812b88948c7909a467172d717f5",
            "cbef8734b37145a380467f36f48e8602",
            "04ec46e893c244429b6fe351cf58084e",
            "880a6d3d3c1444459781443823502898",
            "d2b87fdf230143189829569b999b1022",
            "c6205047a1c34fe9b6eacc01117fedca",
            "44ab73c153644c8e84162127c2c5ee40",
            "b3687d0fb06a4f2db367f03765980830",
            "76e7d567ae264255854cb2f86442ffca",
            "030177d17d77447e8e8fbf43c8ca2366",
            "3921f299ec254986ada05a3a89c0ac44",
            "8e41571b5eb346128426265d20ccb5cd",
            "e27cb974acab459fa5cb6cd4d4f269fd",
            "7c97f450d75340638fd381ecd1620e6e"
          ]
        },
        "outputId": "4e6c485a-7423-4f6b-d229-7a20b0092014"
      },
      "source": [
        ""
      ],
      "execution_count": null,
      "outputs": [
        {
          "output_type": "stream",
          "text": [
            "Downloading http://fashion-mnist.s3-website.eu-central-1.amazonaws.com/train-images-idx3-ubyte.gz to ./data/FashionMNIST/raw/train-images-idx3-ubyte.gz\n"
          ],
          "name": "stdout"
        },
        {
          "output_type": "display_data",
          "data": {
            "application/vnd.jupyter.widget-view+json": {
              "model_id": "50f7d7f86dbb493eb6a2dc53d38669fd",
              "version_minor": 0,
              "version_major": 2
            },
            "text/plain": [
              "HBox(children=(FloatProgress(value=1.0, bar_style='info', max=1.0), HTML(value='')))"
            ]
          },
          "metadata": {
            "tags": []
          }
        },
        {
          "output_type": "stream",
          "text": [
            "Extracting ./data/FashionMNIST/raw/train-images-idx3-ubyte.gz to ./data/FashionMNIST/raw\n",
            "Downloading http://fashion-mnist.s3-website.eu-central-1.amazonaws.com/train-labels-idx1-ubyte.gz to ./data/FashionMNIST/raw/train-labels-idx1-ubyte.gz\n"
          ],
          "name": "stdout"
        },
        {
          "output_type": "display_data",
          "data": {
            "application/vnd.jupyter.widget-view+json": {
              "model_id": "4582eec110314e9eb91ece59012d2408",
              "version_minor": 0,
              "version_major": 2
            },
            "text/plain": [
              "HBox(children=(FloatProgress(value=1.0, bar_style='info', max=1.0), HTML(value='')))"
            ]
          },
          "metadata": {
            "tags": []
          }
        },
        {
          "output_type": "stream",
          "text": [
            "Extracting ./data/FashionMNIST/raw/train-labels-idx1-ubyte.gz to ./data/FashionMNIST/raw\n",
            "Downloading http://fashion-mnist.s3-website.eu-central-1.amazonaws.com/t10k-images-idx3-ubyte.gz to ./data/FashionMNIST/raw/t10k-images-idx3-ubyte.gz\n",
            "\n"
          ],
          "name": "stdout"
        },
        {
          "output_type": "display_data",
          "data": {
            "application/vnd.jupyter.widget-view+json": {
              "model_id": "123bd85b4ae84280961d37fa9e1aa75f",
              "version_minor": 0,
              "version_major": 2
            },
            "text/plain": [
              "HBox(children=(FloatProgress(value=1.0, bar_style='info', max=1.0), HTML(value='')))"
            ]
          },
          "metadata": {
            "tags": []
          }
        },
        {
          "output_type": "stream",
          "text": [
            "Extracting ./data/FashionMNIST/raw/t10k-images-idx3-ubyte.gz to ./data/FashionMNIST/raw\n",
            "Downloading http://fashion-mnist.s3-website.eu-central-1.amazonaws.com/t10k-labels-idx1-ubyte.gz to ./data/FashionMNIST/raw/t10k-labels-idx1-ubyte.gz\n"
          ],
          "name": "stdout"
        },
        {
          "output_type": "display_data",
          "data": {
            "application/vnd.jupyter.widget-view+json": {
              "model_id": "44ab73c153644c8e84162127c2c5ee40",
              "version_minor": 0,
              "version_major": 2
            },
            "text/plain": [
              "HBox(children=(FloatProgress(value=1.0, bar_style='info', max=1.0), HTML(value='')))"
            ]
          },
          "metadata": {
            "tags": []
          }
        },
        {
          "output_type": "stream",
          "text": [
            "Extracting ./data/FashionMNIST/raw/t10k-labels-idx1-ubyte.gz to ./data/FashionMNIST/raw\n",
            "Processing...\n",
            "Done!\n"
          ],
          "name": "stdout"
        },
        {
          "output_type": "stream",
          "text": [
            "/usr/local/lib/python3.6/dist-packages/torchvision/datasets/mnist.py:480: UserWarning: The given NumPy array is not writeable, and PyTorch does not support non-writeable tensors. This means you can write to the underlying (supposedly non-writeable) NumPy array using the tensor. You may want to copy the array to protect its data or make it writeable before converting it to a tensor. This type of warning will be suppressed for the rest of this program. (Triggered internally at  /pytorch/torch/csrc/utils/tensor_numpy.cpp:141.)\n",
            "  return torch.from_numpy(parsed.astype(m[2], copy=False)).view(*s)\n"
          ],
          "name": "stderr"
        }
      ]
    },
    {
      "cell_type": "code",
      "metadata": {
        "id": "gZZCacjuG_E-"
      },
      "source": [
        "classes = trainset.classes"
      ],
      "execution_count": null,
      "outputs": []
    },
    {
      "cell_type": "markdown",
      "metadata": {
        "id": "CZTfJ0dBWszP"
      },
      "source": [
        "Каждая картинка имеет класс от 0 до 9, расшифровка меток класса:  \n",
        "\n",
        "|class_id|class_name|\n",
        "|----|----|\n",
        "|0| T-shirt/top|\n",
        "|1| Trouser|\n",
        "|2| Pullover|\n",
        "|3| Dress|\n",
        "|4| Coat|\n",
        "|5| Sandal|\n",
        "|6| Shirt|\n",
        "|7| Sneaker|\n",
        "|8| Bag|\n",
        "|9| Ankle boot| "
      ]
    },
    {
      "cell_type": "markdown",
      "metadata": {
        "id": "RkDjjoj2Ws04"
      },
      "source": [
        "<h2 style=\"text-align: center;\"><b>Задание</b></h2>"
      ]
    },
    {
      "cell_type": "markdown",
      "metadata": {
        "id": "b_DjMGZPWszt"
      },
      "source": [
        "Посмотрите на датасет.\n",
        "* Сколько картинок в train? В test?\n",
        "* Равномерно ли распределено количество объектов разных классов в train датасете (это можно понять, поработав с полем `train_data` у переменной `trainset`)? в test?\n",
        "* Выведите несколько картинок с помощью `pyplot`\n",
        "\n",
        "Используя материалы семинаров по многослойным  и свёрточным сетям, напишите:\n",
        "1.  Многослойную нейронную сеть MLP (Multi-Layer Perceptron) классифицирующую этот датасет\n",
        "2. Свёрточную сеть, классифицирующую этот датасет\n",
        "3. Сравните их качество (по графикам лосса и по Accuracy Score)\n",
        "\n",
        "Если качество, которое получается у  нейросети, выше 95%, то Вы решили задачу с точностью, которую можно использовать в жизни."
      ]
    },
    {
      "cell_type": "code",
      "metadata": {
        "id": "DCsHl4npE5P_"
      },
      "source": [
        "(X_train, y_train), (X_test, y_test) = fashion_mnist.load_data()\n",
        "class_names = ['T-shirt/top', 'Trouser', 'Pullover', 'Dress', 'Coat',\n",
        "               'Sandal', 'Shirt', 'Sneaker', 'Bag', 'Ankle boot']"
      ],
      "execution_count": null,
      "outputs": []
    },
    {
      "cell_type": "code",
      "metadata": {
        "colab": {
          "base_uri": "https://localhost:8080/",
          "height": 369
        },
        "id": "8DFcCP4PHNT7",
        "outputId": "dbdd0e55-518f-4feb-f633-d2e4d3675a7b"
      },
      "source": [
        "print(X_train.shape[0])\n",
        "print(X_test.shape[0])\n",
        "print(np.unique(y_train,return_counts= True))\n",
        "print(np.unique(y_test,return_counts= True))\n",
        "plt.figure()\n",
        "f, axarr = plt.subplots(4,1) \n",
        "axarr[0].imshow(X_train[np.random.randint(0,X_train.shape[0])])\n",
        "axarr[1].imshow(X_train[np.random.randint(0,X_train.shape[0])])\n",
        "axarr[2].imshow(X_train[np.random.randint(0,X_train.shape[0])])\n",
        "axarr[3].imshow(X_train[np.random.randint(0,X_train.shape[0])])"
      ],
      "execution_count": null,
      "outputs": [
        {
          "output_type": "stream",
          "text": [
            "60000\n",
            "10000\n",
            "(array([0, 1, 2, 3, 4, 5, 6, 7, 8, 9], dtype=uint8), array([6000, 6000, 6000, 6000, 6000, 6000, 6000, 6000, 6000, 6000]))\n",
            "(array([0, 1, 2, 3, 4, 5, 6, 7, 8, 9], dtype=uint8), array([1000, 1000, 1000, 1000, 1000, 1000, 1000, 1000, 1000, 1000]))\n"
          ],
          "name": "stdout"
        },
        {
          "output_type": "execute_result",
          "data": {
            "text/plain": [
              "<matplotlib.image.AxesImage at 0x7f96afa09630>"
            ]
          },
          "metadata": {
            "tags": []
          },
          "execution_count": 5
        },
        {
          "output_type": "display_data",
          "data": {
            "text/plain": [
              "<Figure size 432x288 with 0 Axes>"
            ]
          },
          "metadata": {
            "tags": []
          }
        },
        {
          "output_type": "display_data",
          "data": {
            "image/png": "[encoded data removed]",
            "text/plain": [
              "<Figure size 432x288 with 4 Axes>"
            ]
          },
          "metadata": {
            "tags": [],
            "needs_background": "light"
          }
        }
      ]
    },
    {
      "cell_type": "code",
      "metadata": {
        "id": "IPBanZXfKtaH"
      },
      "source": [
        "X_train, X_test = X_train / 255, X_test / 255 # Нормализация"
      ],
      "execution_count": null,
      "outputs": []
    },
    {
      "cell_type": "code",
      "metadata": {
        "colab": {
          "base_uri": "https://localhost:8080/"
        },
        "id": "8O8ZovMJPRd4",
        "outputId": "9d4c7336-6538-453d-eb77-f6bc0a809888"
      },
      "source": [
        "input_size = X_train[0].shape\n",
        "input_size\n",
        "y_train=keras.utils.to_categorical(y_train,10)\n",
        "y_test=keras.utils.to_categorical(y_test,10)\n",
        "y_train.shape"
      ],
      "execution_count": null,
      "outputs": [
        {
          "output_type": "execute_result",
          "data": {
            "text/plain": [
              "(60000, 10)"
            ]
          },
          "metadata": {
            "tags": []
          },
          "execution_count": 9
        }
      ]
    },
    {
      "cell_type": "code",
      "metadata": {
        "id": "fA4p4mlJGgP9",
        "colab": {
          "base_uri": "https://localhost:8080/"
        },
        "outputId": "11391fa4-28c9-4e58-8063-4210070acb50"
      },
      "source": [
        "model = Sequential()\n",
        "model.add(Flatten(input_shape = input_size))\n",
        "model.add(Dense(128, activation= 'relu'))\n",
        "model.add(Dropout(0.4))\n",
        "model.add(Dense(64,activation= 'relu'))\n",
        "model.add(Dropout(0.4))\n",
        "model.add(Dense(10,activation= 'softmax'))\n",
        "model.compile(loss='categorical_crossentropy',\n",
        "              optimizer='adam',\n",
        "              metrics=['accuracy'])"
      ],
      "execution_count": null,
      "outputs": [
        {
          "output_type": "stream",
          "text": [
            "WARNING:tensorflow:From /tensorflow-1.15.2/python3.6/tensorflow_core/python/ops/resource_variable_ops.py:1630: calling BaseResourceVariable.__init__ (from tensorflow.python.ops.resource_variable_ops) with constraint is deprecated and will be removed in a future version.\n",
            "Instructions for updating:\n",
            "If using Keras pass *_constraint arguments to layers.\n"
          ],
          "name": "stdout"
        }
      ]
    },
    {
      "cell_type": "code",
      "metadata": {
        "colab": {
          "base_uri": "https://localhost:8080/"
        },
        "id": "zb7tB8FxG3Lq",
        "outputId": "db7c15b7-5c1f-41d7-a815-551a55fb2a33"
      },
      "source": [
        "model.summary()\n",
        "hist = model.fit(X_train, y_train, batch_size=64, epochs=40)"
      ],
      "execution_count": null,
      "outputs": [
        {
          "output_type": "stream",
          "text": [
            "Model: \"sequential_21\"\n",
            "_________________________________________________________________\n",
            "Layer (type)                 Output Shape              Param #   \n",
            "=================================================================\n",
            "flatten_19 (Flatten)         (None, 784)               0         \n",
            "_________________________________________________________________\n",
            "dense_45 (Dense)             (None, 128)               100480    \n",
            "_________________________________________________________________\n",
            "dropout_27 (Dropout)         (None, 128)               0         \n",
            "_________________________________________________________________\n",
            "dense_46 (Dense)             (None, 64)                8256      \n",
            "_________________________________________________________________\n",
            "dropout_28 (Dropout)         (None, 64)                0         \n",
            "_________________________________________________________________\n",
            "dense_47 (Dense)             (None, 10)                650       \n",
            "=================================================================\n",
            "Total params: 109,386\n",
            "Trainable params: 109,386\n",
            "Non-trainable params: 0\n",
            "_________________________________________________________________\n",
            "Epoch 1/40\n",
            "60000/60000 [==============================] - 5s 80us/step - loss: 0.7433 - accuracy: 0.7343\n",
            "Epoch 2/40\n",
            "60000/60000 [==============================] - 4s 75us/step - loss: 0.5116 - accuracy: 0.8183\n",
            "Epoch 3/40\n",
            "60000/60000 [==============================] - 5s 75us/step - loss: 0.4626 - accuracy: 0.8363\n",
            "Epoch 4/40\n",
            "60000/60000 [==============================] - 4s 75us/step - loss: 0.4412 - accuracy: 0.8418\n",
            "Epoch 5/40\n",
            "60000/60000 [==============================] - 5s 76us/step - loss: 0.4216 - accuracy: 0.8511\n",
            "Epoch 6/40\n",
            "60000/60000 [==============================] - 5s 78us/step - loss: 0.4088 - accuracy: 0.8541\n",
            "Epoch 7/40\n",
            "60000/60000 [==============================] - 5s 76us/step - loss: 0.3980 - accuracy: 0.8570\n",
            "Epoch 8/40\n",
            "60000/60000 [==============================] - 5s 76us/step - loss: 0.3860 - accuracy: 0.8594\n",
            "Epoch 9/40\n",
            "60000/60000 [==============================] - 5s 76us/step - loss: 0.3819 - accuracy: 0.8627\n",
            "Epoch 10/40\n",
            "60000/60000 [==============================] - 4s 74us/step - loss: 0.3761 - accuracy: 0.8648\n",
            "Epoch 11/40\n",
            "60000/60000 [==============================] - 5s 76us/step - loss: 0.3707 - accuracy: 0.8662\n",
            "Epoch 12/40\n",
            "60000/60000 [==============================] - 5s 76us/step - loss: 0.3622 - accuracy: 0.8694\n",
            "Epoch 13/40\n",
            "60000/60000 [==============================] - 5s 78us/step - loss: 0.3577 - accuracy: 0.8712\n",
            "Epoch 14/40\n",
            "60000/60000 [==============================] - 5s 76us/step - loss: 0.3563 - accuracy: 0.8712\n",
            "Epoch 15/40\n",
            "60000/60000 [==============================] - 5s 75us/step - loss: 0.3519 - accuracy: 0.8737\n",
            "Epoch 16/40\n",
            "60000/60000 [==============================] - 5s 75us/step - loss: 0.3475 - accuracy: 0.8731\n",
            "Epoch 17/40\n",
            "60000/60000 [==============================] - 4s 75us/step - loss: 0.3420 - accuracy: 0.8762\n",
            "Epoch 18/40\n",
            "60000/60000 [==============================] - 5s 75us/step - loss: 0.3422 - accuracy: 0.8740\n",
            "Epoch 19/40\n",
            "60000/60000 [==============================] - 5s 76us/step - loss: 0.3388 - accuracy: 0.8766\n",
            "Epoch 20/40\n",
            "60000/60000 [==============================] - 5s 76us/step - loss: 0.3370 - accuracy: 0.8769\n",
            "Epoch 21/40\n",
            "60000/60000 [==============================] - 5s 76us/step - loss: 0.3324 - accuracy: 0.8789\n",
            "Epoch 22/40\n",
            "60000/60000 [==============================] - 5s 78us/step - loss: 0.3275 - accuracy: 0.8792\n",
            "Epoch 23/40\n",
            "60000/60000 [==============================] - 5s 76us/step - loss: 0.3250 - accuracy: 0.8809\n",
            "Epoch 24/40\n",
            "60000/60000 [==============================] - 5s 77us/step - loss: 0.3281 - accuracy: 0.8813\n",
            "Epoch 25/40\n",
            "60000/60000 [==============================] - 5s 76us/step - loss: 0.3223 - accuracy: 0.8837\n",
            "Epoch 26/40\n",
            "60000/60000 [==============================] - 5s 76us/step - loss: 0.3199 - accuracy: 0.8835\n",
            "Epoch 27/40\n",
            "60000/60000 [==============================] - 5s 77us/step - loss: 0.3212 - accuracy: 0.8831\n",
            "Epoch 28/40\n",
            "60000/60000 [==============================] - 5s 76us/step - loss: 0.3171 - accuracy: 0.8838\n",
            "Epoch 29/40\n",
            "60000/60000 [==============================] - 4s 75us/step - loss: 0.3157 - accuracy: 0.8850\n",
            "Epoch 30/40\n",
            "60000/60000 [==============================] - 5s 75us/step - loss: 0.3108 - accuracy: 0.8852\n",
            "Epoch 31/40\n",
            "60000/60000 [==============================] - 5s 75us/step - loss: 0.3133 - accuracy: 0.8851\n",
            "Epoch 32/40\n",
            "60000/60000 [==============================] - 5s 80us/step - loss: 0.3078 - accuracy: 0.8857\n",
            "Epoch 33/40\n",
            "60000/60000 [==============================] - 5s 85us/step - loss: 0.3084 - accuracy: 0.8877\n",
            "Epoch 34/40\n",
            "60000/60000 [==============================] - 5s 80us/step - loss: 0.3090 - accuracy: 0.8874\n",
            "Epoch 35/40\n",
            "60000/60000 [==============================] - 5s 77us/step - loss: 0.3038 - accuracy: 0.8879\n",
            "Epoch 36/40\n",
            "60000/60000 [==============================] - 5s 76us/step - loss: 0.3052 - accuracy: 0.8877\n",
            "Epoch 37/40\n",
            "60000/60000 [==============================] - 5s 76us/step - loss: 0.3042 - accuracy: 0.8886\n",
            "Epoch 38/40\n",
            "60000/60000 [==============================] - 5s 76us/step - loss: 0.3009 - accuracy: 0.8878\n",
            "Epoch 39/40\n",
            "60000/60000 [==============================] - 4s 75us/step - loss: 0.2955 - accuracy: 0.8904\n",
            "Epoch 40/40\n",
            "60000/60000 [==============================] - 5s 75us/step - loss: 0.2976 - accuracy: 0.8893\n"
          ],
          "name": "stdout"
        }
      ]
    },
    {
      "cell_type": "code",
      "metadata": {
        "colab": {
          "base_uri": "https://localhost:8080/",
          "height": 342
        },
        "id": "nKIKQMbmLXL0",
        "outputId": "0b6b32e1-0697-429e-9fa0-a6f4208617ba"
      },
      "source": [
        "loss = hist.history['loss']\n",
        "accuracy = hist.history['accuracy']\n",
        "epochs = hist.epoch\n",
        "plt.figure(figsize=(10,10))\n",
        "plt.subplot(2,1, 1)\n",
        "plt.plot(epochs, loss, label= 'Loss')\n",
        "plt.plot(epochs, accuracy, label = 'Accuracy')\n",
        "plt.xlabel('Epochs')\n",
        "plt.legend()\n",
        "plt.title('LOSS, ACC vs EPOCHS')"
      ],
      "execution_count": null,
      "outputs": [
        {
          "output_type": "execute_result",
          "data": {
            "text/plain": [
              "Text(0.5, 1.0, 'LOSS, ACC vs EPOCHS')"
            ]
          },
          "metadata": {
            "tags": []
          },
          "execution_count": 94
        },
        {
          "output_type": "display_data",
          "data": {
            "image/png": "[encoded data removed]",
            "text/plain": [
              "<Figure size 720x720 with 1 Axes>"
            ]
          },
          "metadata": {
            "tags": []
          }
        }
      ]
    },
    {
      "cell_type": "code",
      "metadata": {
        "colab": {
          "base_uri": "https://localhost:8080/"
        },
        "id": "BO5MxyKsInkH",
        "outputId": "f182db07-520c-495c-9573-0ba4c5384bd3"
      },
      "source": [
        "model.evaluate(X_test, y_test)"
      ],
      "execution_count": null,
      "outputs": [
        {
          "output_type": "stream",
          "text": [
            "10000/10000 [==============================] - 0s 43us/step\n"
          ],
          "name": "stdout"
        },
        {
          "output_type": "execute_result",
          "data": {
            "text/plain": [
              "[0.32778298358917235, 0.8855000138282776]"
            ]
          },
          "metadata": {
            "tags": []
          },
          "execution_count": 95
        }
      ]
    },
    {
      "cell_type": "code",
      "metadata": {
        "id": "8oSvHZhWKY8G"
      },
      "source": [
        "(X_train, y_train), (X_test, y_test) = fashion_mnist.load_data()\n",
        "X_train, X_test = X_train.reshape((60000, 28, 28, 1)), X_test.reshape((10000, 28, 28, 1))\n",
        "X_train, X_test = X_train / 255, X_test / 255 \n",
        "y_train=keras.utils.to_categorical(y_train,10)\n",
        "y_test=keras.utils.to_categorical(y_test,10)\n",
        "model = Sequential([\n",
        "    Conv2D(24, kernel_size = 3, activation = 'relu', padding = 'same',input_shape = (28,28,)),\n",
        "    BatchNormalization(),1\n",
        "    Conv2D(24, kernel_size = 3, activation = 'relu', padding = 'same'),\n",
        "    BatchNormalization(),\n",
        "    Conv2D(24, kernel_size = 5, strides = 2, padding='same', activation='relu'),\n",
        "    BatchNormalization(),\n",
        "    Dropout(0.4),\n",
        "    \n",
        "    Conv2D(50, kernel_size = 3, activation='relu', padding='same'),\n",
        "    BatchNormalization(),\n",
        "    Conv2D(50, kernel_size = 3, activation='relu', padding='same'),\n",
        "    BatchNormalization(),\n",
        "    Conv2D(50, kernel_size = 5, strides=2, padding='same', activation='relu'),\n",
        "    BatchNormalization(),\n",
        "    Dropout(0.4),\n",
        "\n",
        "    Conv2D(100, kernel_size = 3, activation='relu', padding='same'),\n",
        "    BatchNormalization(),\n",
        "    Conv2D(100, kernel_size = 3, activation='relu', padding='same'),\n",
        "    BatchNormalization(),\n",
        "    Conv2D(100, kernel_size = 5, strides =2, padding='same', activation='relu'),\n",
        "    BatchNormalization(),\n",
        "    Dropout(0.4),\n",
        "    \n",
        "\n",
        "    Flatten(),\n",
        "    \n",
        "    Dense(256, activation = 'relu'),\n",
        "    BatchNormalization(),\n",
        "    Dropout(0.4),\n",
        "    Dense(10, activation = 'softmax'),\n",
        "])"
      ],
      "execution_count": null,
      "outputs": []
    },
    {
      "cell_type": "code",
      "metadata": {
        "colab": {
          "base_uri": "https://localhost:8080/"
        },
        "id": "wjNI3eKnMh4V",
        "outputId": "dddba3e5-8be2-4896-f2b4-97cf22195966"
      },
      "source": [
        "model.compile(loss='categorical_crossentropy', optimizer = 'adam', metrics = ['accuracy'])\n",
        "hist = model.fit(X_train, y_train, batch_size=32, epochs=30)\n",
        "model.summary()"
      ],
      "execution_count": null,
      "outputs": [
        {
          "output_type": "stream",
          "text": [
            "WARNING:tensorflow:From /tensorflow-1.15.2/python3.6/keras/backend/tensorflow_backend.py:422: The name tf.global_variables is deprecated. Please use tf.compat.v1.global_variables instead.\n",
            "\n",
            "Epoch 1/30\n",
            "60000/60000 [==============================] - 36s 606us/step - loss: 0.5235 - accuracy: 0.8145\n",
            "Epoch 2/30\n",
            "60000/60000 [==============================] - 28s 469us/step - loss: 0.3354 - accuracy: 0.8773\n",
            "Epoch 3/30\n",
            "60000/60000 [==============================] - 28s 469us/step - loss: 0.2882 - accuracy: 0.8945\n",
            "Epoch 4/30\n",
            "60000/60000 [==============================] - 28s 461us/step - loss: 0.2654 - accuracy: 0.9053\n",
            "Epoch 5/30\n",
            "60000/60000 [==============================] - 28s 466us/step - loss: 0.2432 - accuracy: 0.9124\n",
            "Epoch 6/30\n",
            "60000/60000 [==============================] - 28s 475us/step - loss: 0.2241 - accuracy: 0.9184\n",
            "Epoch 7/30\n",
            "60000/60000 [==============================] - 29s 492us/step - loss: 0.2097 - accuracy: 0.9234\n",
            "Epoch 8/30\n",
            "60000/60000 [==============================] - 29s 478us/step - loss: 0.1945 - accuracy: 0.9291\n",
            "Epoch 9/30\n",
            "60000/60000 [==============================] - 28s 473us/step - loss: 0.1806 - accuracy: 0.9338\n",
            "Epoch 10/30\n",
            "60000/60000 [==============================] - 29s 478us/step - loss: 0.1730 - accuracy: 0.9370\n",
            "Epoch 11/30\n",
            "60000/60000 [==============================] - 29s 477us/step - loss: 0.1635 - accuracy: 0.9413\n",
            "Epoch 12/30\n",
            "60000/60000 [==============================] - 28s 474us/step - loss: 0.1561 - accuracy: 0.9427\n",
            "Epoch 13/30\n",
            "60000/60000 [==============================] - 29s 483us/step - loss: 0.1466 - accuracy: 0.9460\n",
            "Epoch 14/30\n",
            "60000/60000 [==============================] - 29s 478us/step - loss: 0.1378 - accuracy: 0.9491\n",
            "Epoch 15/30\n",
            "60000/60000 [==============================] - 29s 476us/step - loss: 0.1325 - accuracy: 0.9516\n",
            "Epoch 16/30\n",
            "60000/60000 [==============================] - 28s 474us/step - loss: 0.1227 - accuracy: 0.9553\n",
            "Epoch 17/30\n",
            "60000/60000 [==============================] - 28s 475us/step - loss: 0.1192 - accuracy: 0.9559\n",
            "Epoch 18/30\n",
            "60000/60000 [==============================] - 28s 472us/step - loss: 0.1115 - accuracy: 0.9592\n",
            "Epoch 19/30\n",
            "60000/60000 [==============================] - 28s 475us/step - loss: 0.1074 - accuracy: 0.9605\n",
            "Epoch 20/30\n",
            "60000/60000 [==============================] - 28s 470us/step - loss: 0.1007 - accuracy: 0.9623\n",
            "Epoch 21/30\n",
            "60000/60000 [==============================] - 29s 479us/step - loss: 0.0968 - accuracy: 0.9643\n",
            "Epoch 22/30\n",
            "60000/60000 [==============================] - 28s 467us/step - loss: 0.0928 - accuracy: 0.9660\n",
            "Epoch 23/30\n",
            "60000/60000 [==============================] - 28s 464us/step - loss: 0.0911 - accuracy: 0.9663\n",
            "Epoch 24/30\n",
            "60000/60000 [==============================] - 28s 462us/step - loss: 0.0830 - accuracy: 0.9700\n",
            "Epoch 25/30\n",
            "60000/60000 [==============================] - 28s 466us/step - loss: 0.0836 - accuracy: 0.9700\n",
            "Epoch 26/30\n",
            "60000/60000 [==============================] - 28s 461us/step - loss: 0.0788 - accuracy: 0.9711\n",
            "Epoch 27/30\n",
            "60000/60000 [==============================] - 28s 464us/step - loss: 0.0750 - accuracy: 0.9726\n",
            "Epoch 28/30\n",
            "60000/60000 [==============================] - 28s 463us/step - loss: 0.0722 - accuracy: 0.9735\n",
            "Epoch 29/30\n",
            "60000/60000 [==============================] - 28s 464us/step - loss: 0.0714 - accuracy: 0.9736\n",
            "Epoch 30/30\n",
            "60000/60000 [==============================] - 28s 465us/step - loss: 0.0663 - accuracy: 0.9762\n",
            "Model: \"sequential_2\"\n",
            "_________________________________________________________________\n",
            "Layer (type)                 Output Shape              Param #   \n",
            "=================================================================\n",
            "conv2d_1 (Conv2D)            (None, 28, 28, 32)        320       \n",
            "_________________________________________________________________\n",
            "batch_normalization_1 (Batch (None, 28, 28, 32)        128       \n",
            "_________________________________________________________________\n",
            "conv2d_2 (Conv2D)            (None, 28, 28, 32)        9248      \n",
            "_________________________________________________________________\n",
            "batch_normalization_2 (Batch (None, 28, 28, 32)        128       \n",
            "_________________________________________________________________\n",
            "conv2d_3 (Conv2D)            (None, 14, 14, 32)        25632     \n",
            "_________________________________________________________________\n",
            "batch_normalization_3 (Batch (None, 14, 14, 32)        128       \n",
            "_________________________________________________________________\n",
            "dropout_3 (Dropout)          (None, 14, 14, 32)        0         \n",
            "_________________________________________________________________\n",
            "conv2d_4 (Conv2D)            (None, 14, 14, 64)        18496     \n",
            "_________________________________________________________________\n",
            "batch_normalization_4 (Batch (None, 14, 14, 64)        256       \n",
            "_________________________________________________________________\n",
            "conv2d_5 (Conv2D)            (None, 14, 14, 64)        36928     \n",
            "_________________________________________________________________\n",
            "batch_normalization_5 (Batch (None, 14, 14, 64)        256       \n",
            "_________________________________________________________________\n",
            "conv2d_6 (Conv2D)            (None, 7, 7, 64)          102464    \n",
            "_________________________________________________________________\n",
            "batch_normalization_6 (Batch (None, 7, 7, 64)          256       \n",
            "_________________________________________________________________\n",
            "dropout_4 (Dropout)          (None, 7, 7, 64)          0         \n",
            "_________________________________________________________________\n",
            "conv2d_7 (Conv2D)            (None, 7, 7, 128)         73856     \n",
            "_________________________________________________________________\n",
            "batch_normalization_7 (Batch (None, 7, 7, 128)         512       \n",
            "_________________________________________________________________\n",
            "conv2d_8 (Conv2D)            (None, 7, 7, 128)         147584    \n",
            "_________________________________________________________________\n",
            "batch_normalization_8 (Batch (None, 7, 7, 128)         512       \n",
            "_________________________________________________________________\n",
            "conv2d_9 (Conv2D)            (None, 4, 4, 128)         409728    \n",
            "_________________________________________________________________\n",
            "batch_normalization_9 (Batch (None, 4, 4, 128)         512       \n",
            "_________________________________________________________________\n",
            "dropout_5 (Dropout)          (None, 4, 4, 128)         0         \n",
            "_________________________________________________________________\n",
            "flatten_2 (Flatten)          (None, 2048)              0         \n",
            "_________________________________________________________________\n",
            "dense_4 (Dense)              (None, 256)               524544    \n",
            "_________________________________________________________________\n",
            "batch_normalization_10 (Batc (None, 256)               1024      \n",
            "_________________________________________________________________\n",
            "dropout_6 (Dropout)          (None, 256)               0         \n",
            "_________________________________________________________________\n",
            "dense_5 (Dense)              (None, 10)                2570      \n",
            "=================================================================\n",
            "Total params: 1,355,082\n",
            "Trainable params: 1,353,226\n",
            "Non-trainable params: 1,856\n",
            "_________________________________________________________________\n"
          ],
          "name": "stdout"
        }
      ]
    },
    {
      "cell_type": "code",
      "metadata": {
        "colab": {
          "base_uri": "https://localhost:8080/",
          "height": 342
        },
        "id": "nGzlqE-fOkvy",
        "outputId": "5cdbd754-c048-4cff-b3df-d8fb03f98558"
      },
      "source": [
        "loss = hist.history['loss']\n",
        "accuracy = hist.history['accuracy']\n",
        "epochs = hist.epoch\n",
        "plt.figure(figsize=(10,10))\n",
        "plt.subplot(2,1, 1)\n",
        "plt.plot(epochs, loss, label= 'Loss')\n",
        "plt.plot(epochs, accuracy, label = 'Accuracy')\n",
        "plt.xlabel('Epochs')\n",
        "plt.legend()\n",
        "plt.title('LOSS, ACC vs EPOCHS')"
      ],
      "execution_count": null,
      "outputs": [
        {
          "output_type": "execute_result",
          "data": {
            "text/plain": [
              "Text(0.5, 1.0, 'LOSS, ACC vs EPOCHS')"
            ]
          },
          "metadata": {
            "tags": []
          },
          "execution_count": 13
        },
        {
          "output_type": "display_data",
          "data": {
            "image/png": "[encoded data removed]",
            "text/plain": [
              "<Figure size 720x720 with 1 Axes>"
            ]
          },
          "metadata": {
            "tags": [],
            "needs_background": "light"
          }
        }
      ]
    },
    {
      "cell_type": "code",
      "metadata": {
        "colab": {
          "base_uri": "https://localhost:8080/"
        },
        "id": "oM9iD2ZNd4H_",
        "outputId": "df781691-844f-4680-efb1-edc446c22a38"
      },
      "source": [
        "model.evaluate(X_test, y_test)"
      ],
      "execution_count": null,
      "outputs": [
        {
          "output_type": "stream",
          "text": [
            "10000/10000 [==============================] - 2s 168us/step\n"
          ],
          "name": "stdout"
        },
        {
          "output_type": "execute_result",
          "data": {
            "text/plain": [
              "[0.27207944136774165, 0.9319999814033508]"
            ]
          },
          "metadata": {
            "tags": []
          },
          "execution_count": 14
        }
      ]
    },
    {
      "cell_type": "code",
      "metadata": {
        "id": "QMbNLjGiq6Ha"
      },
      "source": [
        "predict = model.predict_classes(X_test)"
      ],
      "execution_count": null,
      "outputs": []
    },
    {
      "cell_type": "code",
      "metadata": {
        "id": "7fYQ9GHUyZkX"
      },
      "source": [
        "(X_train, y_train), (X_test, y_test) = fashion_mnist.load_data()"
      ],
      "execution_count": null,
      "outputs": []
    },
    {
      "cell_type": "code",
      "metadata": {
        "id": "UBtbRwlSyayG"
      },
      "source": [
        "p = predict\n",
        "y = y_test\n",
        "correct = np.nonzero(p==y)[0]\n",
        "incorrect = np.nonzero(p!=y)[0]"
      ],
      "execution_count": null,
      "outputs": []
    },
    {
      "cell_type": "code",
      "metadata": {
        "id": "-y2BBTemyrAe"
      },
      "source": [
        "def plot_images(data_index,cmap=\"Blues\"):\n",
        "    # Plot the sample images now\n",
        "    f, ax = plt.subplots(4,4, figsize=(15,15))\n",
        "\n",
        "    for i, indx in enumerate(data_index[:16]):\n",
        "        ax[i//4, i%4].imshow(X_test[indx].reshape(28,28), cmap=cmap)\n",
        "        ax[i//4, i%4].axis('off')\n",
        "        ax[i//4, i%4].set_title(\"True:{}  Pred:{}\".format(class_names[y_test[indx]],class_names[predict[indx]]))\n",
        "    plt.show()    "
      ],
      "execution_count": null,
      "outputs": []
    },
    {
      "cell_type": "code",
      "metadata": {
        "colab": {
          "base_uri": "https://localhost:8080/",
          "height": 862
        },
        "id": "NC9Cz3Ar0MXD",
        "outputId": "64da31f6-d002-4ed6-b0a3-77d7590d72cc"
      },
      "source": [
        "plot_images(incorrect,cmap=\"Reds\")"
      ],
      "execution_count": null,
      "outputs": [
        {
          "output_type": "display_data",
          "data": {
            "image/png": "[encoded data removed]",
            "text/plain": [
              "<Figure size 1080x1080 with 16 Axes>"
            ]
          },
          "metadata": {
            "tags": [],
            "needs_background": "light"
          }
        }
      ]
    },
    {
      "cell_type": "code",
      "metadata": {
        "id": "h5mWObn10Vf6"
      },
      "source": [
        "from sklearn.metrics import confusion_matrix, plot_confusion_matrix\n",
        "import pandas as pd\n",
        "import seaborn as sn"
      ],
      "execution_count": null,
      "outputs": []
    },
    {
      "cell_type": "code",
      "metadata": {
        "id": "3JywIMgg1a99"
      },
      "source": [
        "conf = confusion_matrix(y_test,predict)"
      ],
      "execution_count": null,
      "outputs": []
    },
    {
      "cell_type": "code",
      "metadata": {
        "colab": {
          "base_uri": "https://localhost:8080/",
          "height": 445
        },
        "id": "2a4VsWAi1ecy",
        "outputId": "e480ae44-a40e-4ac8-ce98-92c06c3bdaf6"
      },
      "source": [
        "df_cm = pd.DataFrame(conf, index = [i for i in class_names],\n",
        "                  columns = [i for i in class_names])\n",
        "plt.figure(figsize = (10,7))\n",
        "sn.heatmap(df_cm, annot=True)"
      ],
      "execution_count": null,
      "outputs": [
        {
          "output_type": "execute_result",
          "data": {
            "text/plain": [
              "<matplotlib.axes._subplots.AxesSubplot at 0x7f95cdc9c9b0>"
            ]
          },
          "metadata": {
            "tags": []
          },
          "execution_count": 58
        },
        {
          "output_type": "display_data",
          "data": {
            "image/png": "[encoded data removed]",
            "text/plain": [
              "<Figure size 720x504 with 2 Axes>"
            ]
          },
          "metadata": {
            "tags": [],
            "needs_background": "light"
          }
        }
      ]
    },
    {
      "cell_type": "code",
      "metadata": {
        "id": "sK8wPOS52GHV"
      },
      "source": [
        ""
      ],
      "execution_count": null,
      "outputs": []
    }
  ]
}