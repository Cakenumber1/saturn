{
  "nbformat": 4,
  "nbformat_minor": 0,
  "metadata": {
    "colab": {
      "name": "М33081 Николаев МИ \"DT_test.ipynb\"",
      "provenance": [],
      "collapsed_sections": [],
      "toc_visible": true
    },
    "kernelspec": {
      "name": "python3",
      "display_name": "Python 3"
    }
  },
  "cells": [
    {
      "cell_type": "markdown",
      "metadata": {
        "id": "hGClrhQA9SAk"
      },
      "source": [
        "# Деревья решений"
      ]
    },
    {
      "cell_type": "markdown",
      "metadata": {
        "id": "7-XnflnePPZx"
      },
      "source": [
        "## Определение дерева решений"
      ]
    },
    {
      "cell_type": "markdown",
      "metadata": {
        "id": "Ql0ko6O8PU01"
      },
      "source": [
        "* Это бинарное дерево.\n",
        "* Каждой внутренней вершине приписана функция (предикат), которая возвращает TRUE или FALSE.\n",
        "* Каждой листовой вершине приписан прогноз (например, в виде вероятности)."
      ]
    },
    {
      "cell_type": "markdown",
      "metadata": {
        "id": "BHJ5HRG8QOqN"
      },
      "source": [
        "Могут быть многомерные признаки (линейные, метрические). Но с ними очень тяжело работать, на практике они редко применяются, поэтому мы будем использовать только одномерные предикаты:\n",
        "$$ \\beta_v (x;j,t)  = [x_j<t] $$\n",
        "Здесь $v$ - это вершина, $x_j$ - значение $j$-го признака объекта $x$, $t$ - это порог "
      ]
    },
    {
      "cell_type": "markdown",
      "metadata": {
        "id": "veekMy8WRjBi"
      },
      "source": [
        "## Построение дерева"
      ]
    },
    {
      "cell_type": "markdown",
      "metadata": {
        "id": "SYkVwAFiUHXj"
      },
      "source": [
        "Опишем жадный алгоритм построения бинарного дерева решений:\n",
        "1. Начинаем со всей обучающей выборки $X$.\n",
        "2. Задаём функционал качества $Q(X, j, t)$ и критерий остановки. \n",
        "3. Находим наилучшее с точки зрения $Q$ разбиение $X$ на две части: $R_{left} = \\lbrace x|x_j<t \\rbrace$ и $R_{right} = \\lbrace x|x_j \\geqslant t \\rbrace$\n",
        "4. Создадим вершину (для первого шага корневую), поместив в неё предикат $[x_j<t]$\n",
        "5. Поместим $R_{left}$ и $R_{right}$ соответсвенно в левое и правое поддерево.\n",
        "6. Рекурсивно повторяем шаги 3-5 пока не выполнится критерий остановки.\n",
        "7. Поставим в соответствие каждому листу ответ. Для задачи классификации - это самый частый среди объектов класс или вектор с долями классов (можно интерпретировать как вероятности). Для задачи регрессии - например, среднее значение целевой переменной по всем объектам в этом листе.  \n"
      ]
    },
    {
      "cell_type": "markdown",
      "metadata": {
        "id": "4ATD6rs-giEZ"
      },
      "source": [
        "При построении дерева, нужно понять, 1) какой признак $j$ выбрать на каждом шаге, 2) какой порог $t$ выбрать для создания предиката  $[x_j<t]$, 3) когда остановиться. \n",
        "\n",
        "Выбор признака и порога зависят от того, какой задан функционала качества $Q(X, j, t)$. Об этом в следующем разделе.\n",
        "\n",
        "Критерии остановки:\n",
        "* ограничение максимальной глубины дерева\n",
        "* ограничение минимального числа объектов в листе\n",
        "* ограничение максимального количества листьев в дереве\n",
        "* purity (остановка, если все объекты в листе относятся к одному классу)\n",
        "\n",
        "\n"
      ]
    },
    {
      "cell_type": "markdown",
      "metadata": {
        "id": "9P6FsdBog4Ai"
      },
      "source": [
        "## Функционал качества для деревьев решений\n"
      ]
    },
    {
      "cell_type": "markdown",
      "metadata": {
        "id": "9VAKO0aykGBD"
      },
      "source": [
        "Энтропия Шеннона для системы с N возможными состояниями определяется по формуле:\n",
        "$$H = - \\sum_{i=0}^{N} p_i\\log_2p_i $$"
      ]
    },
    {
      "cell_type": "markdown",
      "metadata": {
        "id": "5582B-1Fn2bw"
      },
      "source": [
        "где $p_i$ – вероятности нахождения системы в $i$-ом состоянии. \n",
        "\n",
        "Это очень важное понятие теории информации, которое позволяет оценить количество информации (степень хаоса в системе). Чем выше энтропия, тем менее упорядочена система и наоборот. С помощью энтропии мы формализуем функционал качества для разделение выборки (для задачи классификации)."
      ]
    },
    {
      "cell_type": "code",
      "metadata": {
        "id": "PbcMUd7bvk05"
      },
      "source": [
        "import numpy as np\n",
        "import pandas as pd\n",
        "\n",
        "import matplotlib.pyplot as plt\n",
        "\n",
        "import random\n",
        "from pprint import pprint\n",
        "from sklearn.metrics import accuracy_score"
      ],
      "execution_count": null,
      "outputs": []
    },
    {
      "cell_type": "markdown",
      "metadata": {
        "id": "4AdLxP9CowTm"
      },
      "source": [
        "Код для расчёта энтропии:"
      ]
    },
    {
      "cell_type": "code",
      "metadata": {
        "id": "2mT8Jq8Av2sM"
      },
      "source": [
        "def entropy(y):\n",
        "    \n",
        "    _, counts = np.unique(y, return_counts=True)\n",
        "\n",
        "    probabilities = counts / counts.sum()\n",
        "    entropy = sum(probabilities * -np.log2(probabilities))\n",
        "     \n",
        "    return entropy"
      ],
      "execution_count": null,
      "outputs": []
    },
    {
      "cell_type": "markdown",
      "metadata": {
        "id": "Xk9etb2vo7fK"
      },
      "source": [
        "Здесь y - это массив значений целевой переменной"
      ]
    },
    {
      "cell_type": "code",
      "metadata": {
        "id": "TRV21HRspWg3",
        "outputId": "ccde55ca-3149-437a-88ec-c038f11e5d6d",
        "colab": {
          "base_uri": "https://localhost:8080/"
        }
      },
      "source": [
        "from sklearn import datasets\n",
        "iris = datasets.load_iris()\n",
        "iris.target"
      ],
      "execution_count": null,
      "outputs": [
        {
          "output_type": "execute_result",
          "data": {
            "text/plain": [
              "array([0, 0, 0, 0, 0, 0, 0, 0, 0, 0, 0, 0, 0, 0, 0, 0, 0, 0, 0, 0, 0, 0,\n",
              "       0, 0, 0, 0, 0, 0, 0, 0, 0, 0, 0, 0, 0, 0, 0, 0, 0, 0, 0, 0, 0, 0,\n",
              "       0, 0, 0, 0, 0, 0, 1, 1, 1, 1, 1, 1, 1, 1, 1, 1, 1, 1, 1, 1, 1, 1,\n",
              "       1, 1, 1, 1, 1, 1, 1, 1, 1, 1, 1, 1, 1, 1, 1, 1, 1, 1, 1, 1, 1, 1,\n",
              "       1, 1, 1, 1, 1, 1, 1, 1, 1, 1, 1, 1, 2, 2, 2, 2, 2, 2, 2, 2, 2, 2,\n",
              "       2, 2, 2, 2, 2, 2, 2, 2, 2, 2, 2, 2, 2, 2, 2, 2, 2, 2, 2, 2, 2, 2,\n",
              "       2, 2, 2, 2, 2, 2, 2, 2, 2, 2, 2, 2, 2, 2, 2, 2, 2, 2])"
            ]
          },
          "metadata": {
            "tags": []
          },
          "execution_count": 189
        }
      ]
    },
    {
      "cell_type": "code",
      "metadata": {
        "id": "LQ8XLpcuprIW",
        "outputId": "8a212402-b59c-453d-a76c-bfee3d49ebb4",
        "colab": {
          "base_uri": "https://localhost:8080/"
        }
      },
      "source": [
        "entropy(iris.target)"
      ],
      "execution_count": null,
      "outputs": [
        {
          "output_type": "execute_result",
          "data": {
            "text/plain": [
              "1.584962500721156"
            ]
          },
          "metadata": {
            "tags": []
          },
          "execution_count": 190
        }
      ]
    },
    {
      "cell_type": "code",
      "metadata": {
        "id": "QiyKPq_-pxdu",
        "outputId": "e27c7d2e-f8f6-4509-87de-2fc213ad80de",
        "colab": {
          "base_uri": "https://localhost:8080/"
        }
      },
      "source": [
        "entropy(iris.target[:100])"
      ],
      "execution_count": null,
      "outputs": [
        {
          "output_type": "execute_result",
          "data": {
            "text/plain": [
              "1.0"
            ]
          },
          "metadata": {
            "tags": []
          },
          "execution_count": 191
        }
      ]
    },
    {
      "cell_type": "code",
      "metadata": {
        "id": "czDcBW2Bp3RN"
      },
      "source": [
        "from sklearn.model_selection import train_test_split\n",
        "X_train, X_test, y_train, y_test = train_test_split(iris.data, iris.target, test_size=0.33, random_state=42)"
      ],
      "execution_count": null,
      "outputs": []
    },
    {
      "cell_type": "code",
      "metadata": {
        "id": "_Dvt4-edqeGc",
        "outputId": "8d54bf12-7434-4507-8464-b2f058a1e3f1",
        "colab": {
          "base_uri": "https://localhost:8080/"
        }
      },
      "source": [
        "entropy(y_test)"
      ],
      "execution_count": null,
      "outputs": [
        {
          "output_type": "execute_result",
          "data": {
            "text/plain": [
              "1.5775765559836064"
            ]
          },
          "metadata": {
            "tags": []
          },
          "execution_count": 193
        }
      ]
    },
    {
      "cell_type": "code",
      "metadata": {
        "id": "LoSG_0kqrRog",
        "outputId": "98ea6c66-fdcd-4cf4-9757-91616558588a",
        "colab": {
          "base_uri": "https://localhost:8080/"
        }
      },
      "source": [
        "y_train.size"
      ],
      "execution_count": null,
      "outputs": [
        {
          "output_type": "execute_result",
          "data": {
            "text/plain": [
              "100"
            ]
          },
          "metadata": {
            "tags": []
          },
          "execution_count": 194
        }
      ]
    },
    {
      "cell_type": "code",
      "metadata": {
        "id": "KfmMaDwotKLP",
        "outputId": "aa5dcafa-9f93-45b3-b6d5-f1c71633a2a0",
        "colab": {
          "base_uri": "https://localhost:8080/",
          "height": 294
        }
      },
      "source": [
        "plt.scatter(iris.data[:,2:3],iris.data[:,3:4],c=iris.target, cmap=plt.cm.Dark2)\n",
        "plt.title('Petal plot')\n",
        "plt.xlabel('petal length')\n",
        "plt.ylabel('petal width')\n",
        "plt.show()"
      ],
      "execution_count": null,
      "outputs": [
        {
          "output_type": "display_data",
          "data": {
            "image/png": "[encoded data removed]",
            "text/plain": [
              "<Figure size 432x288 with 1 Axes>"
            ]
          },
          "metadata": {
            "tags": [],
            "needs_background": "light"
          }
        }
      ]
    },
    {
      "cell_type": "code",
      "metadata": {
        "id": "1eXC1S7FMNkE",
        "outputId": "0428aa86-3676-4ae0-8e9c-8cd36a801ae6",
        "colab": {
          "base_uri": "https://localhost:8080/",
          "height": 294
        }
      },
      "source": [
        "plt.scatter(iris.data[:,0:1],iris.data[:,1:2],c=iris.target, cmap=plt.cm.Dark2)\n",
        "plt.title('Sepal plot')\n",
        "plt.xlabel('Sepal length')\n",
        "plt.ylabel('Sepal width')\n",
        "plt.show()"
      ],
      "execution_count": null,
      "outputs": [
        {
          "output_type": "display_data",
          "data": {
            "image/png": "[encoded data removed]",
            "text/plain": [
              "<Figure size 432x288 with 1 Axes>"
            ]
          },
          "metadata": {
            "tags": [],
            "needs_background": "light"
          }
        }
      ]
    },
    {
      "cell_type": "markdown",
      "metadata": {
        "id": "YP0kcfD0xOvq"
      },
      "source": [
        "Кажется, что если petal length меньше 2.5, то мы имеет разбиение, в котором одно поддерево будет содержать объекты только одного класса."
      ]
    },
    {
      "cell_type": "code",
      "metadata": {
        "id": "sjVYsZsLuLU_",
        "outputId": "dd473348-7bd6-43c8-8244-924ff08818f7",
        "colab": {
          "base_uri": "https://localhost:8080/",
          "height": 406
        }
      },
      "source": [
        "df= pd.DataFrame(data= np.c_[iris['data'], iris['target']],\n",
        "                 columns= iris['feature_names'] + ['target'])\n",
        "\n",
        "df['species'] = pd.Categorical.from_codes(iris.target, iris.target_names)\n",
        "df.drop(['target'], axis=1, inplace=True)\n",
        "df"
      ],
      "execution_count": null,
      "outputs": [
        {
          "output_type": "execute_result",
          "data": {
            "text/html": [
              "<div>\n",
              "<style scoped>\n",
              "    .dataframe tbody tr th:only-of-type {\n",
              "        vertical-align: middle;\n",
              "    }\n",
              "\n",
              "    .dataframe tbody tr th {\n",
              "        vertical-align: top;\n",
              "    }\n",
              "\n",
              "    .dataframe thead th {\n",
              "        text-align: right;\n",
              "    }\n",
              "</style>\n",
              "<table border=\"1\" class=\"dataframe\">\n",
              "  <thead>\n",
              "    <tr style=\"text-align: right;\">\n",
              "      <th></th>\n",
              "      <th>sepal length (cm)</th>\n",
              "      <th>sepal width (cm)</th>\n",
              "      <th>petal length (cm)</th>\n",
              "      <th>petal width (cm)</th>\n",
              "      <th>species</th>\n",
              "    </tr>\n",
              "  </thead>\n",
              "  <tbody>\n",
              "    <tr>\n",
              "      <th>0</th>\n",
              "      <td>5.1</td>\n",
              "      <td>3.5</td>\n",
              "      <td>1.4</td>\n",
              "      <td>0.2</td>\n",
              "      <td>setosa</td>\n",
              "    </tr>\n",
              "    <tr>\n",
              "      <th>1</th>\n",
              "      <td>4.9</td>\n",
              "      <td>3.0</td>\n",
              "      <td>1.4</td>\n",
              "      <td>0.2</td>\n",
              "      <td>setosa</td>\n",
              "    </tr>\n",
              "    <tr>\n",
              "      <th>2</th>\n",
              "      <td>4.7</td>\n",
              "      <td>3.2</td>\n",
              "      <td>1.3</td>\n",
              "      <td>0.2</td>\n",
              "      <td>setosa</td>\n",
              "    </tr>\n",
              "    <tr>\n",
              "      <th>3</th>\n",
              "      <td>4.6</td>\n",
              "      <td>3.1</td>\n",
              "      <td>1.5</td>\n",
              "      <td>0.2</td>\n",
              "      <td>setosa</td>\n",
              "    </tr>\n",
              "    <tr>\n",
              "      <th>4</th>\n",
              "      <td>5.0</td>\n",
              "      <td>3.6</td>\n",
              "      <td>1.4</td>\n",
              "      <td>0.2</td>\n",
              "      <td>setosa</td>\n",
              "    </tr>\n",
              "    <tr>\n",
              "      <th>...</th>\n",
              "      <td>...</td>\n",
              "      <td>...</td>\n",
              "      <td>...</td>\n",
              "      <td>...</td>\n",
              "      <td>...</td>\n",
              "    </tr>\n",
              "    <tr>\n",
              "      <th>145</th>\n",
              "      <td>6.7</td>\n",
              "      <td>3.0</td>\n",
              "      <td>5.2</td>\n",
              "      <td>2.3</td>\n",
              "      <td>virginica</td>\n",
              "    </tr>\n",
              "    <tr>\n",
              "      <th>146</th>\n",
              "      <td>6.3</td>\n",
              "      <td>2.5</td>\n",
              "      <td>5.0</td>\n",
              "      <td>1.9</td>\n",
              "      <td>virginica</td>\n",
              "    </tr>\n",
              "    <tr>\n",
              "      <th>147</th>\n",
              "      <td>6.5</td>\n",
              "      <td>3.0</td>\n",
              "      <td>5.2</td>\n",
              "      <td>2.0</td>\n",
              "      <td>virginica</td>\n",
              "    </tr>\n",
              "    <tr>\n",
              "      <th>148</th>\n",
              "      <td>6.2</td>\n",
              "      <td>3.4</td>\n",
              "      <td>5.4</td>\n",
              "      <td>2.3</td>\n",
              "      <td>virginica</td>\n",
              "    </tr>\n",
              "    <tr>\n",
              "      <th>149</th>\n",
              "      <td>5.9</td>\n",
              "      <td>3.0</td>\n",
              "      <td>5.1</td>\n",
              "      <td>1.8</td>\n",
              "      <td>virginica</td>\n",
              "    </tr>\n",
              "  </tbody>\n",
              "</table>\n",
              "<p>150 rows × 5 columns</p>\n",
              "</div>"
            ],
            "text/plain": [
              "     sepal length (cm)  sepal width (cm)  ...  petal width (cm)    species\n",
              "0                  5.1               3.5  ...               0.2     setosa\n",
              "1                  4.9               3.0  ...               0.2     setosa\n",
              "2                  4.7               3.2  ...               0.2     setosa\n",
              "3                  4.6               3.1  ...               0.2     setosa\n",
              "4                  5.0               3.6  ...               0.2     setosa\n",
              "..                 ...               ...  ...               ...        ...\n",
              "145                6.7               3.0  ...               2.3  virginica\n",
              "146                6.3               2.5  ...               1.9  virginica\n",
              "147                6.5               3.0  ...               2.0  virginica\n",
              "148                6.2               3.4  ...               2.3  virginica\n",
              "149                5.9               3.0  ...               1.8  virginica\n",
              "\n",
              "[150 rows x 5 columns]"
            ]
          },
          "metadata": {
            "tags": []
          },
          "execution_count": 197
        }
      ]
    },
    {
      "cell_type": "code",
      "metadata": {
        "id": "6S6LXqbQuw2f",
        "outputId": "785fe3ba-83a0-43cc-de03-4c781310152b",
        "colab": {
          "base_uri": "https://localhost:8080/"
        }
      },
      "source": [
        "entropy(df['species'])"
      ],
      "execution_count": null,
      "outputs": [
        {
          "output_type": "execute_result",
          "data": {
            "text/plain": [
              "1.584962500721156"
            ]
          },
          "metadata": {
            "tags": []
          },
          "execution_count": 198
        }
      ]
    },
    {
      "cell_type": "code",
      "metadata": {
        "id": "K2ENboV7xeCw"
      },
      "source": [
        "sample1 = df[df['petal length (cm)']<2.5]"
      ],
      "execution_count": null,
      "outputs": []
    },
    {
      "cell_type": "code",
      "metadata": {
        "id": "1aINTH7zx357",
        "outputId": "386b0259-2f0b-4db3-dc39-0180fac6b816",
        "colab": {
          "base_uri": "https://localhost:8080/"
        }
      },
      "source": [
        "entropy(sample1['species'])"
      ],
      "execution_count": null,
      "outputs": [
        {
          "output_type": "execute_result",
          "data": {
            "text/plain": [
              "0.0"
            ]
          },
          "metadata": {
            "tags": []
          },
          "execution_count": 200
        }
      ]
    },
    {
      "cell_type": "code",
      "metadata": {
        "id": "J5oU8c4uybSH",
        "outputId": "bb94cf5f-d9bf-40f4-e4ba-905197d2e163",
        "colab": {
          "base_uri": "https://localhost:8080/"
        }
      },
      "source": [
        "sample2 = df[df['petal length (cm)']>2.5]\n",
        "entropy(sample2['species'])"
      ],
      "execution_count": null,
      "outputs": [
        {
          "output_type": "execute_result",
          "data": {
            "text/plain": [
              "1.0"
            ]
          },
          "metadata": {
            "tags": []
          },
          "execution_count": 201
        }
      ]
    },
    {
      "cell_type": "markdown",
      "metadata": {
        "id": "-OcEKUguyonA"
      },
      "source": [
        "Давайте попробуем другое разбиение."
      ]
    },
    {
      "cell_type": "code",
      "metadata": {
        "id": "0Y_KuTtQyu8P"
      },
      "source": [
        "sample1 = df[df['petal length (cm)']<5]\n",
        "sample2 = df[df['petal length (cm)']>=5]"
      ],
      "execution_count": null,
      "outputs": []
    },
    {
      "cell_type": "code",
      "metadata": {
        "id": "1U3WdXA2y6jm",
        "outputId": "84ba0b29-aa4a-4193-b76b-60864964c75d",
        "colab": {
          "base_uri": "https://localhost:8080/"
        }
      },
      "source": [
        "print(entropy(sample1['species']))\n",
        "print(entropy(sample2['species']))"
      ],
      "execution_count": null,
      "outputs": [
        {
          "output_type": "stream",
          "text": [
            "1.2602398669134125\n",
            "0.2580186686648155\n"
          ],
          "name": "stdout"
        }
      ]
    },
    {
      "cell_type": "markdown",
      "metadata": {
        "id": "07TCw0USzLus"
      },
      "source": [
        "Как мы говорили ранее  энтропия – по сути степень хаоса (или неопределенности) в системе. Уменьшение энтропии называют приростом информации (information gain, IG).\n",
        "\n",
        "В нашем случае, в исходных данных энтропия была равна примерно 1.58. В первом разбиении 1.0, а во втором примерно 1.52. Оба разбиения уменьшили энтропию. Но первое разбиение уменьшило её сильнее, значит второе разбиение хуже. \n",
        "\n",
        "Обочначим $R_v$ - объекты, которые нужно разделить в помощью предиката в вершине $v$. Запишем формулу для расчёта информационного прироста:\n",
        "$$ Q = IG = H(R_v) - (H(R_{left})+H(R_{right}))$$\n",
        "\n",
        "На каждом шаге нам нужно максимизировать этот функционал качества. Как это делать? Например, так можно перебрать $t$ для выбранного $j$."
      ]
    },
    {
      "cell_type": "code",
      "metadata": {
        "id": "lUYtnYkv4y7q",
        "outputId": "34ceac48-7214-4934-932c-6e14d2760a08",
        "colab": {
          "base_uri": "https://localhost:8080/"
        }
      },
      "source": [
        "grid = np.linspace(df['petal length (cm)'].min(), df['petal length (cm)'].max(), 10)\n",
        "\n",
        "best_t = grid[0]\n",
        "best_IG = -1\n",
        "for t in grid:\n",
        "  sample1 = df[df['petal length (cm)'] < t]\n",
        "  sample2 = df[df['petal length (cm)'] >= t]\n",
        "  IG = entropy (df['species']) - (entropy(sample1['species']) + entropy(sample2['species']))\n",
        "  # print (IG)\n",
        "  if IG > best_IG:\n",
        "    best_t, best_IG  = t, IG\n",
        "\n",
        "print (best_t) "
      ],
      "execution_count": null,
      "outputs": [
        {
          "output_type": "stream",
          "text": [
            "2.311111111111111\n"
          ],
          "name": "stdout"
        }
      ]
    },
    {
      "cell_type": "markdown",
      "metadata": {
        "id": "45_hNMv4g7_h"
      },
      "source": [
        "### Update"
      ]
    },
    {
      "cell_type": "markdown",
      "metadata": {
        "id": "trEWHDoXg_p9"
      },
      "source": [
        "Предыдущая версия формулы прироста информации слишком упрощена. В работе необходимо использовать более устойчивую формулу, которая учитывает не только энтропию подмножеств, но и их размер. \n",
        "Старая версия: $$ Q = IG = H(R_v) - (H(R_{left})+H(R_{right}))$$\n",
        "\n",
        "Новая версия:\n",
        "$$ Q = IG = H(R_v) - (\\frac{|R_{v}|} {|R_{left}|} H(R_{left})+ \\frac{|R_{v}|} {|R_{right}|} H(R_{right}))$$\n",
        "\n",
        "где, $|R_{v}|$, $|R_{left}|$ и $|R_{right}|$ - количество элементов в соответствующих множествах."
      ]
    },
    {
      "cell_type": "markdown",
      "metadata": {
        "id": "9xmN6V_N1xBr"
      },
      "source": [
        "\n",
        "## Задание 4.1"
      ]
    },
    {
      "cell_type": "markdown",
      "metadata": {
        "id": "nWFHZScF2CBF"
      },
      "source": [
        "Реализуйте алгоритм построения дерева. Должны быть отдельные функции (методы) для расчёта энтропии (уже есть), для разделения дерева (используйте `pandas`), для подсчёта функционала качества, для выбора наилучшего разделения (с учетом признаком и порогов, для проверки критерия остановки.\n",
        "\n",
        "Функционал качества $IG$.\n",
        "\n",
        "Для набора данных iris реализуйте алгоритм и минимум три из разными критерия остановки из перечисленных ниже:\n",
        "* максимальной глубины дерева = 5\n",
        "* минимального числа объектов в листе = 5\n",
        "* максимальное количество листьев в дереве = 5\n",
        "* purity (остановка, если все объекты в листе относятся к одному классу)\n",
        "\n",
        "Реализуйте функцию predict (на вход функции подаётся датафрейм с объектами)\n",
        "\n",
        "Оцените точность каждой модели с помощью метрики точность (`from sklearn.metrics import accuracy_score` или реализовать свою)."
      ]
    },
    {
      "cell_type": "code",
      "metadata": {
        "id": "UU3BCdlOTJiy"
      },
      "source": [
        "def class_counts(rows):\n",
        "  counts = {}\n",
        "  for index, row in rows.iterrows():\n",
        "    label = row['species']\n",
        "    if label not in counts:\n",
        "        counts[label] = 0\n",
        "    counts[label] += 1\n",
        "  return counts"
      ],
      "execution_count": null,
      "outputs": []
    },
    {
      "cell_type": "code",
      "metadata": {
        "id": "SYuwwA3m4N8C"
      },
      "source": [
        "class Question:\n",
        "  def __init__(self, column, value):\n",
        "    self.column = column\n",
        "    self.value = value\n",
        "  \n",
        "  def match(self, example):\n",
        "    val = example[self.column]\n",
        "    if isinstance(val, int) or isinstance(val, float):\n",
        "      return val >= self.value\n",
        "    else:\n",
        "      return val == self.value\n",
        "  \n",
        "  def __repr__(self):\n",
        "    condition = '=='\n",
        "    if isinstance(self.value, int) or isinstance(self.value, float):\n",
        "      condition = '>='\n",
        "    return \"Is %s %s %s?\" % (\n",
        "            self.column, condition, str(self.value))"
      ],
      "execution_count": null,
      "outputs": []
    },
    {
      "cell_type": "code",
      "metadata": {
        "id": "3JmhKNPVe7o8"
      },
      "source": [
        "class Leaf:\n",
        "\n",
        "    def __init__(self, rows):\n",
        "        self.predictions = class_counts(rows)"
      ],
      "execution_count": null,
      "outputs": []
    },
    {
      "cell_type": "code",
      "metadata": {
        "id": "ULHiw-vie9AZ"
      },
      "source": [
        "class Decision_Node:\n",
        "\n",
        "    def __init__(self,\n",
        "                 question,\n",
        "                 true_branch,\n",
        "                 false_branch):\n",
        "        self.question = question\n",
        "        self.true_branch = true_branch\n",
        "        self.false_branch = false_branch"
      ],
      "execution_count": null,
      "outputs": []
    },
    {
      "cell_type": "code",
      "metadata": {
        "id": "KoBFkIJxevfX"
      },
      "source": [
        "def partition(rows, question):\n",
        "\n",
        "  true_rows = pd.DataFrame(columns=['sepal length (cm)', 'sepal width (cm)', 'petal length (cm)', 'petal width (cm)', 'species']) \n",
        "  false_rows = pd.DataFrame(columns=['sepal length (cm)', 'sepal width (cm)', 'petal length (cm)', 'petal width (cm)', 'species']) \n",
        "  for index, row in rows.iterrows():\n",
        "    if question.match(row):\n",
        "      true_rows.loc[index] = row.values\n",
        "    else:\n",
        "      false_rows.loc[index] = row.values\n",
        "  return true_rows, false_rows"
      ],
      "execution_count": null,
      "outputs": []
    },
    {
      "cell_type": "markdown",
      "metadata": {
        "id": "CQAP2NBKfRfk"
      },
      "source": [
        "\n",
        "https://en.wikipedia.org/wiki/Decision_tree_learning#Gini_impurity  \n",
        "![image.png](data:image/png;base64,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)"
      ]
    },
    {
      "cell_type": "code",
      "metadata": {
        "id": "VEXCmebefVk-"
      },
      "source": [
        "def gini(rows):\n",
        "\n",
        "    counts = class_counts(rows)\n",
        "    impurity = 1\n",
        "    for lbl in counts:\n",
        "        prob_of_lbl = counts[lbl] / float(len(rows))\n",
        "        impurity -= prob_of_lbl**2\n",
        "    return impurity"
      ],
      "execution_count": null,
      "outputs": []
    },
    {
      "cell_type": "code",
      "metadata": {
        "id": "-9EAG4YEh-qb"
      },
      "source": [
        "def informativity_alt(left, right, current_uncertainty):\n",
        "\n",
        "    p = float(len(left)) / (len(left) + len(right))\n",
        "    return current_uncertainty - p * gini(left) - (1 - p) * gini(right)"
      ],
      "execution_count": null,
      "outputs": []
    },
    {
      "cell_type": "code",
      "metadata": {
        "id": "0-XOXg-Mldff"
      },
      "source": [
        "def informativity(rows, left, right):\n",
        "\n",
        "  return entropy(rows['species']) - (len(left['species']) / len(rows['species']) * entropy(left['species']) + len(right['species']) / len(rows['species']) * entropy(right['species']))"
      ],
      "execution_count": null,
      "outputs": []
    },
    {
      "cell_type": "code",
      "metadata": {
        "id": "sudUHqQkIwyz"
      },
      "source": [
        "def find_best_split(rows):\n",
        "\n",
        "  best_gain = -1\n",
        "  best_question = None\n",
        "  for column in rows.columns[0:len(rows.columns)-1]:\n",
        "    grid = list(set([row[column] for index, row in rows.iterrows()]))\n",
        "    for t in grid:\n",
        "      question = Question(column, t)\n",
        "      true_rows, false_rows = partition(rows, question)\n",
        "\n",
        "      if len(true_rows) == 0 or len(false_rows) == 0:\n",
        "        continue\n",
        "      \n",
        "      gain = informativity(rows, true_rows, false_rows)\n",
        "\n",
        "      if gain >= best_gain:\n",
        "        best_question = question\n",
        "        best_gain = gain\n",
        "  \n",
        "  return best_gain, best_question"
      ],
      "execution_count": null,
      "outputs": []
    },
    {
      "cell_type": "code",
      "metadata": {
        "id": "YA8XyXtMUFLn"
      },
      "source": [
        "def build_tree(rows, deap=-1):\n",
        "\n",
        "  deap += 1\n",
        "  gain, question = find_best_split(rows)\n",
        "\n",
        "  if gain <= 0:\n",
        "    return Leaf(rows)\n",
        "  \n",
        "\n",
        "  true_rows, false_rows = partition(rows, question)\n",
        "\n",
        "\n",
        "  if len(true_rows) <= 5 or deap == 5:\n",
        "    return Leaf(rows)\n",
        "  true_branch = build_tree(true_rows, deap)\n",
        "\n",
        "\n",
        "  if len(false_rows) <= 5 or deap == 5:\n",
        "    return Leaf(rows)\n",
        "  false_branch = build_tree(false_rows, deap)\n",
        "\n",
        "  return Decision_Node(question, true_branch, false_branch)"
      ],
      "execution_count": null,
      "outputs": []
    },
    {
      "cell_type": "code",
      "metadata": {
        "id": "_NnlNV1TUbgq"
      },
      "source": [
        "def print_tree(node, spacing=\"\"):\n",
        "  if isinstance(node, Leaf):\n",
        "    print (spacing + \"Predict\", node.predictions)\n",
        "    return\n",
        "\n",
        "  print (spacing + str(node.question))\n",
        "\n",
        "  print (spacing + '--> True(Right):')\n",
        "  print_tree(node.true_branch, spacing + \"  \")\n",
        "\n",
        "  print (spacing + '--> False(Left):')\n",
        "  print_tree(node.false_branch, spacing + \"  \")"
      ],
      "execution_count": null,
      "outputs": []
    },
    {
      "cell_type": "code",
      "metadata": {
        "id": "5KG4CwHtUAO1"
      },
      "source": [
        "def predict(node, row):\n",
        "  if isinstance(node, Leaf):\n",
        "    if len(node.predictions.keys()) == 1:\n",
        "      return list(node.predictions.keys())[0]\n",
        "    else:\n",
        "      list_d = list(node.predictions.items())\n",
        "      list_d.sort(key=lambda i : i[1], reverse=True)\n",
        "      return list_d[0][0]\n",
        "  if row[node.question.column] >= node.question.value:\n",
        "    return predict(node.true_branch, row)\n",
        "  else:\n",
        "    return predict(node.false_branch, row)"
      ],
      "execution_count": null,
      "outputs": []
    },
    {
      "cell_type": "code",
      "metadata": {
        "id": "ZKLWSfqgbWL6"
      },
      "source": [
        "X_train, X_test, y_train, y_test = train_test_split(df.iloc[:,:-1], df[['species']], test_size=0.33, random_state=42)"
      ],
      "execution_count": null,
      "outputs": []
    },
    {
      "cell_type": "code",
      "metadata": {
        "id": "HXP0hgrbbfdd"
      },
      "source": [
        "X_train['species'] = y_train"
      ],
      "execution_count": null,
      "outputs": []
    },
    {
      "cell_type": "code",
      "metadata": {
        "id": "WIBbNGLycd_c"
      },
      "source": [
        "my_tree = build_tree(X_train)"
      ],
      "execution_count": null,
      "outputs": []
    },
    {
      "cell_type": "code",
      "metadata": {
        "id": "2IgmyA7lckS-",
        "outputId": "d0d4bccb-0280-42ed-aced-da604dbbacaf",
        "colab": {
          "base_uri": "https://localhost:8080/"
        }
      },
      "source": [
        "print_tree(my_tree)"
      ],
      "execution_count": null,
      "outputs": [
        {
          "output_type": "stream",
          "text": [
            "Is petal width (cm) >= 1.0?\n",
            "--> True(Right):\n",
            "  Is petal width (cm) >= 1.8?\n",
            "  --> True(Right):\n",
            "    Predict {'virginica': 30, 'versicolor': 1}\n",
            "  --> False(Left):\n",
            "    Predict {'versicolor': 34, 'virginica': 4}\n",
            "--> False(Left):\n",
            "  Predict {'setosa': 31}\n"
          ],
          "name": "stdout"
        }
      ]
    },
    {
      "cell_type": "code",
      "metadata": {
        "id": "uD4mD9ITdFHN"
      },
      "source": [
        "predicts = list()\n",
        "for index, row in X_test.iterrows():\n",
        "  predicts.append(predict(my_tree, row))"
      ],
      "execution_count": null,
      "outputs": []
    },
    {
      "cell_type": "code",
      "metadata": {
        "id": "gbpjPwVZdtY1",
        "outputId": "628eeef3-479e-4f05-e982-b5ee1601675b",
        "colab": {
          "base_uri": "https://localhost:8080/"
        }
      },
      "source": [
        "accuracy_score(y_test, predicts)"
      ],
      "execution_count": null,
      "outputs": [
        {
          "output_type": "execute_result",
          "data": {
            "text/plain": [
              "0.98"
            ]
          },
          "metadata": {
            "tags": []
          },
          "execution_count": 95
        }
      ]
    },
    {
      "cell_type": "markdown",
      "metadata": {
        "id": "Q22XBKVg_lQ1"
      },
      "source": [
        "# Пример из sklearn"
      ]
    },
    {
      "cell_type": "markdown",
      "metadata": {
        "id": "jcjEVUXTAkKH"
      },
      "source": [
        ""
      ]
    },
    {
      "cell_type": "code",
      "metadata": {
        "id": "9KHAIrqpAt9W"
      },
      "source": [
        "from sklearn.model_selection import train_test_split, cross_val_score\n",
        "from sklearn.tree import DecisionTreeClassifier"
      ],
      "execution_count": null,
      "outputs": []
    },
    {
      "cell_type": "code",
      "metadata": {
        "id": "KNRJYQ1MBV5W"
      },
      "source": [
        "X_train, X_test, y_train, y_test = train_test_split(iris.data, iris.target, test_size=0.33, random_state=42)"
      ],
      "execution_count": null,
      "outputs": []
    },
    {
      "cell_type": "code",
      "metadata": {
        "id": "mVljs7fNAyNm"
      },
      "source": [
        "simple_tree = DecisionTreeClassifier()"
      ],
      "execution_count": null,
      "outputs": []
    },
    {
      "cell_type": "markdown",
      "metadata": {
        "id": "ldIrIHlADpSs"
      },
      "source": [
        "Посмотрим на гиперпараметры алгоритмы. Кроме уже известных нам (выбор критерия, по кооторому счиатется функционал качества, критериев остановки), там есть ещё несколько любопытных настроек. В частности, можно ограничивать признаки, которые будут участвовать в предикатах. Зачем это может понадобиться?"
      ]
    },
    {
      "cell_type": "code",
      "metadata": {
        "id": "B5eB2RF8DRlH"
      },
      "source": [
        "DecisionTreeClassifier?"
      ],
      "execution_count": null,
      "outputs": []
    },
    {
      "cell_type": "code",
      "metadata": {
        "id": "5bLIVekPGVML",
        "outputId": "8fb38152-7770-4f43-bf22-037db0dc191b",
        "colab": {
          "base_uri": "https://localhost:8080/"
        }
      },
      "source": [
        "simple_tree.fit(X_train, y_train)\n",
        "simple_tree.score(X_test, y_test)"
      ],
      "execution_count": null,
      "outputs": [
        {
          "output_type": "execute_result",
          "data": {
            "text/plain": [
              "1.0"
            ]
          },
          "metadata": {
            "tags": []
          },
          "execution_count": 52
        }
      ]
    },
    {
      "cell_type": "code",
      "metadata": {
        "id": "jw_yAhT5HSLr",
        "outputId": "e7da2ffb-d27e-4e62-863d-454212e5f5f5",
        "colab": {
          "base_uri": "https://localhost:8080/"
        }
      },
      "source": [
        "simple_tree"
      ],
      "execution_count": null,
      "outputs": [
        {
          "output_type": "execute_result",
          "data": {
            "text/plain": [
              "DecisionTreeClassifier(ccp_alpha=0.0, class_weight=None, criterion='gini',\n",
              "                       max_depth=None, max_features=None, max_leaf_nodes=None,\n",
              "                       min_impurity_decrease=0.0, min_impurity_split=None,\n",
              "                       min_samples_leaf=1, min_samples_split=2,\n",
              "                       min_weight_fraction_leaf=0.0, presort='deprecated',\n",
              "                       random_state=None, splitter='best')"
            ]
          },
          "metadata": {
            "tags": []
          },
          "execution_count": 53
        }
      ]
    },
    {
      "cell_type": "code",
      "metadata": {
        "id": "6WHarLGyBn2D",
        "outputId": "4c453689-3f04-4995-c15b-23da6d3a8039",
        "colab": {
          "base_uri": "https://localhost:8080/"
        }
      },
      "source": [
        "np.mean(cross_val_score(simple_tree, X_train, y_train, cv=5)) # будем использовать кросс-валидацию"
      ],
      "execution_count": null,
      "outputs": [
        {
          "output_type": "execute_result",
          "data": {
            "text/plain": [
              "0.9199999999999999"
            ]
          },
          "metadata": {
            "tags": []
          },
          "execution_count": 54
        }
      ]
    },
    {
      "cell_type": "markdown",
      "metadata": {
        "id": "qUccVbm2EQ0c"
      },
      "source": [
        "Попробуем улучшить этот результат, за счёт настройки гиперпараметров."
      ]
    },
    {
      "cell_type": "code",
      "metadata": {
        "id": "wMVSUDQrEaQ-"
      },
      "source": [
        "from sklearn.model_selection import GridSearchCV"
      ],
      "execution_count": null,
      "outputs": []
    },
    {
      "cell_type": "code",
      "metadata": {
        "id": "q_04Hi00DPid"
      },
      "source": [
        "tree_params = {'max_depth': np.arange(1, 11), 'min_samples_leaf':np.arange(1, 20)}"
      ],
      "execution_count": null,
      "outputs": []
    },
    {
      "cell_type": "code",
      "metadata": {
        "id": "D6fztgaTCM5e"
      },
      "source": [
        "tree_grid = GridSearchCV(simple_tree, tree_params)"
      ],
      "execution_count": null,
      "outputs": []
    },
    {
      "cell_type": "code",
      "metadata": {
        "id": "SHtXNookEwha",
        "outputId": "b4b82c1b-2b00-4693-fe0a-cd3d2e7f3745",
        "colab": {
          "base_uri": "https://localhost:8080/"
        }
      },
      "source": [
        "%time\n",
        "tree_grid.fit(X_train, y_train)"
      ],
      "execution_count": null,
      "outputs": [
        {
          "output_type": "stream",
          "text": [
            "CPU times: user 3 µs, sys: 0 ns, total: 3 µs\n",
            "Wall time: 6.68 µs\n"
          ],
          "name": "stdout"
        },
        {
          "output_type": "execute_result",
          "data": {
            "text/plain": [
              "GridSearchCV(cv=None, error_score=nan,\n",
              "             estimator=DecisionTreeClassifier(ccp_alpha=0.0, class_weight=None,\n",
              "                                              criterion='gini', max_depth=None,\n",
              "                                              max_features=None,\n",
              "                                              max_leaf_nodes=None,\n",
              "                                              min_impurity_decrease=0.0,\n",
              "                                              min_impurity_split=None,\n",
              "                                              min_samples_leaf=1,\n",
              "                                              min_samples_split=2,\n",
              "                                              min_weight_fraction_leaf=0.0,\n",
              "                                              presort='deprecated',\n",
              "                                              random_state=None,\n",
              "                                              splitter='best'),\n",
              "             iid='deprecated', n_jobs=None,\n",
              "             param_grid={'max_depth': array([ 1,  2,  3,  4,  5,  6,  7,  8,  9, 10]),\n",
              "                         'min_samples_leaf': array([ 1,  2,  3,  4,  5,  6,  7,  8,  9, 10, 11, 12, 13, 14, 15, 16, 17,\n",
              "       18, 19])},\n",
              "             pre_dispatch='2*n_jobs', refit=True, return_train_score=False,\n",
              "             scoring=None, verbose=0)"
            ]
          },
          "metadata": {
            "tags": []
          },
          "execution_count": 58
        }
      ]
    },
    {
      "cell_type": "code",
      "metadata": {
        "id": "8bp0t2rQIJdf",
        "outputId": "06d4fb91-c66a-44e1-f039-a52d36d49351",
        "colab": {
          "base_uri": "https://localhost:8080/"
        }
      },
      "source": [
        "tree_grid.score(X_test, y_test)"
      ],
      "execution_count": null,
      "outputs": [
        {
          "output_type": "execute_result",
          "data": {
            "text/plain": [
              "0.98"
            ]
          },
          "metadata": {
            "tags": []
          },
          "execution_count": 59
        }
      ]
    },
    {
      "cell_type": "code",
      "metadata": {
        "id": "gy8nVPR0IRTq",
        "outputId": "ea14e225-0e5f-43a1-f51d-b8dae1dc9795",
        "colab": {
          "base_uri": "https://localhost:8080/"
        }
      },
      "source": [
        "tree_grid.best_estimator_"
      ],
      "execution_count": null,
      "outputs": [
        {
          "output_type": "execute_result",
          "data": {
            "text/plain": [
              "DecisionTreeClassifier(ccp_alpha=0.0, class_weight=None, criterion='gini',\n",
              "                       max_depth=3, max_features=None, max_leaf_nodes=None,\n",
              "                       min_impurity_decrease=0.0, min_impurity_split=None,\n",
              "                       min_samples_leaf=1, min_samples_split=2,\n",
              "                       min_weight_fraction_leaf=0.0, presort='deprecated',\n",
              "                       random_state=None, splitter='best')"
            ]
          },
          "metadata": {
            "tags": []
          },
          "execution_count": 60
        }
      ]
    },
    {
      "cell_type": "code",
      "metadata": {
        "id": "rj2Ke79FIZFK",
        "outputId": "5300667b-7955-4af3-f28f-a060f397ac10",
        "colab": {
          "base_uri": "https://localhost:8080/"
        }
      },
      "source": [
        "tree_grid.best_params_"
      ],
      "execution_count": null,
      "outputs": [
        {
          "output_type": "execute_result",
          "data": {
            "text/plain": [
              "{'max_depth': 3, 'min_samples_leaf': 1}"
            ]
          },
          "metadata": {
            "tags": []
          },
          "execution_count": 61
        }
      ]
    },
    {
      "cell_type": "code",
      "metadata": {
        "id": "jP6FrD4h3Jt-",
        "outputId": "850e094a-51ea-460c-a703-3c0d1878bcbb",
        "colab": {
          "base_uri": "https://localhost:8080/"
        }
      },
      "source": [
        "tree_grid.best_estimator_.predict(X_test)"
      ],
      "execution_count": null,
      "outputs": [
        {
          "output_type": "execute_result",
          "data": {
            "text/plain": [
              "array([1, 0, 2, 1, 1, 0, 1, 2, 1, 1, 2, 0, 0, 0, 0, 1, 2, 1, 1, 2, 0, 2,\n",
              "       0, 2, 2, 2, 2, 2, 0, 0, 0, 0, 1, 0, 0, 2, 1, 0, 0, 0, 2, 1, 1, 0,\n",
              "       0, 1, 1, 2, 1, 2])"
            ]
          },
          "metadata": {
            "tags": []
          },
          "execution_count": 62
        }
      ]
    },
    {
      "cell_type": "code",
      "metadata": {
        "id": "Cl5m6qnTGEVh",
        "outputId": "f23b4e53-4370-4a89-83a1-d6efbd6de0ea",
        "colab": {
          "base_uri": "https://localhost:8080/",
          "height": 247
        }
      },
      "source": [
        "from sklearn.tree import plot_tree\n",
        "\n",
        "plt.figure()\n",
        "clf = DecisionTreeClassifier().fit(iris.data, iris.target)\n",
        "plot_tree(simple_tree, filled=True)\n",
        "plt.show()"
      ],
      "execution_count": null,
      "outputs": [
        {
          "output_type": "display_data",
          "data": {
            "image/png": "[encoded data removed]",
            "text/plain": [
              "<Figure size 432x288 with 1 Axes>"
            ]
          },
          "metadata": {
            "tags": [],
            "needs_background": "light"
          }
        }
      ]
    },
    {
      "cell_type": "markdown",
      "metadata": {
        "id": "WtoYqY7iLe42"
      },
      "source": [
        "Визуализация дерева решений: https://scikit-learn.org/stable/auto_examples/tree/plot_iris_dtc.html#sphx-glr-auto-examples-tree-plot-iris-dtc-py"
      ]
    },
    {
      "cell_type": "markdown",
      "metadata": {
        "id": "DBmpb8vcLtdW"
      },
      "source": [
        "# Композиция деревьев"
      ]
    },
    {
      "cell_type": "markdown",
      "metadata": {
        "id": "i-OfkTBoNUKm"
      },
      "source": [
        "Давайте сначала рассмотрим общую идею. Вы уже узнали разные семейства алгоритмов, подходящих для решения задачи классификации. Также вы научились выбирать наилучший алгоритм из заданного семейства и оценивать качество этих алгоритмов. Предположим, вы уже нашли самый лучший модель и повысить его качество больше не можете. В таком случае нужно применить техники объединения разных (более слабых) алгоритмов в один (более сильный). Эта техника назвается «ансамбли» или  «композиции». \n",
        "\n",
        "Ансамбль — это некая совокупность, части которой образуют единое целое. \n",
        "\n",
        "Несложно доказать, что, например, в задаче бинарной классификации, если предсказание каждого алгоритма не зависит от других алгоритмов, и если вероятность правильного ответа больше случайного угадывания (то есть в нащем примере больше 0.5), то тогда вероятность правильного ответа композации таких алгоритмов в целом возрастает с увеличением их количества и стремится к единице.\n",
        "\n"
      ]
    },
    {
      "cell_type": "markdown",
      "metadata": {
        "id": "yIHMN-CzPBGt"
      },
      "source": [
        "\"Мудрость толпы\". \n",
        "\n",
        "В 1906 году Фрэнсис Гальтон (это тот же, который придумал термин \"регрессия\") посещал выставку достижений животноводства. На выставке проводился конкурс, в рамках которого всем желающим предлагалось на глаз угадать точный вес быка. Около 800 человек пытались, но ни один  не угадал точный вес быка. Бык весил 1198 фунтов. Гальтон посчитал среднее значение по всем ответам, и получил 1197 фунтов."
      ]
    },
    {
      "cell_type": "markdown",
      "metadata": {
        "id": "hJQhLv5mLy47"
      },
      "source": [
        "На основе деревьев решений можно собрать более сильный классификатор: случайный лес (*random forest*) - один из самых распространённых ансамблей алгоритмов."
      ]
    },
    {
      "cell_type": "markdown",
      "metadata": {
        "id": "7fKZe1FyRgCa"
      },
      "source": [
        "Опишем алгоритм и попутно разберём основные идеи:\n",
        "\n",
        "1. Зададим $N$ - число деревьев в лесу.\n",
        "2. Для каждого $n$ из $N$ сгенерируем свою выборку $X_n$. Пусть $m$ - это количество объектов в $X$. При генерации каждой $X_n$ мы будем брать объекты $m$ раз с возвращением. То есть один и тот же объект может попасть в выборку несколько раз, а какие-то объекты не попадут. (Этот способ назвается бутстрап).\n",
        "3. По каждой $X_n$ построим решающее дерево $b_n$. В качестве критериев остановки можно использовать `max_depth` или `min_samples_leaf`. В задачах классификации строить каждое дерево до тех пор, пока в каждом листе не окажется по одному объекту. При каждом разбиении сначала выбирается $k$ (эвристика $k = \\sqrt d$, где $d$ - это число признаков объектов из выборки $X$) случайных признаков из исходных, и оптимальное разделение выборки ищется только среди них.\n",
        "4. Итоговый алгоритм будет представлять собой результат голосования (для классификации) и среднее арифметическое (для регрессии). Модификация алгоритма предполагает учёт весов каждого отдельного слабого алгоритма в ансамбле.\n",
        "\n",
        "\n",
        "\n",
        "\n",
        "\n",
        "\n"
      ]
    },
    {
      "cell_type": "markdown",
      "metadata": {
        "id": "YJBQ8lc0WyrN"
      },
      "source": [
        "## Задание 4.2"
      ]
    },
    {
      "cell_type": "markdown",
      "metadata": {
        "id": "y594Jn04ZTCm"
      },
      "source": [
        "В качестве набора данных используйте: https://www.kaggle.com/mathchi/churn-for-bank-customers\n",
        "\n",
        "Там есть описание и примеры работы с этими данными. Если кратко, речь идёт про задачу прогнозирования оттока клиентов. Есть данные о 10 тысячах клиентов банка, часть из которых больше не являются клиентами."
      ]
    },
    {
      "cell_type": "markdown",
      "metadata": {
        "id": "be_mLbdVW2oG"
      },
      "source": [
        "Используя либо свою реализацию, либо  `DecisionTreeClassifier` с разными настройками из `sklearn.tree` реализйте алгоритм \"случайный лес\". \n",
        "\n",
        "Найдите наилучшие гиперпараметры этого алгоритма: количество деревьев, критерий остановки, функционал качества, минимальное количество объектов в листьях и другие.\n",
        "\n",
        "Нельзя использовать готовую реализацию случайного леса из `sklearn`.\n",
        "\n",
        "В подобных задачах очень важна интерпретируемость алгоритма. Попытайтесь оценить информативность признаков, т.е. ответить а вопрос, значения каких признаков являются самыми важными индикаторами того, что банк потеряет клиента."
      ]
    },
    {
      "cell_type": "code",
      "metadata": {
        "id": "JYleqNKcl2Or",
        "outputId": "072bcd33-dd54-4f30-cf17-67e56b40b2ab",
        "colab": {
          "base_uri": "https://localhost:8080/"
        }
      },
      "source": [
        "!pip install PyDrive\n",
        "from pydrive.auth import GoogleAuth\n",
        "from pydrive.drive import GoogleDrive\n",
        "from google.colab import auth\n",
        "from oauth2client.client import GoogleCredentials"
      ],
      "execution_count": null,
      "outputs": [
        {
          "output_type": "stream",
          "text": [
            "Requirement already satisfied: PyDrive in /usr/local/lib/python3.6/dist-packages (1.3.1)\n",
            "Requirement already satisfied: oauth2client>=4.0.0 in /usr/local/lib/python3.6/dist-packages (from PyDrive) (4.1.3)\n",
            "Requirement already satisfied: PyYAML>=3.0 in /usr/local/lib/python3.6/dist-packages (from PyDrive) (3.13)\n",
            "Requirement already satisfied: google-api-python-client>=1.2 in /usr/local/lib/python3.6/dist-packages (from PyDrive) (1.7.12)\n",
            "Requirement already satisfied: httplib2>=0.9.1 in /usr/local/lib/python3.6/dist-packages (from oauth2client>=4.0.0->PyDrive) (0.17.4)\n",
            "Requirement already satisfied: rsa>=3.1.4 in /usr/local/lib/python3.6/dist-packages (from oauth2client>=4.0.0->PyDrive) (4.6)\n",
            "Requirement already satisfied: pyasn1>=0.1.7 in /usr/local/lib/python3.6/dist-packages (from oauth2client>=4.0.0->PyDrive) (0.4.8)\n",
            "Requirement already satisfied: six>=1.6.1 in /usr/local/lib/python3.6/dist-packages (from oauth2client>=4.0.0->PyDrive) (1.15.0)\n",
            "Requirement already satisfied: pyasn1-modules>=0.0.5 in /usr/local/lib/python3.6/dist-packages (from oauth2client>=4.0.0->PyDrive) (0.2.8)\n",
            "Requirement already satisfied: google-auth-httplib2>=0.0.3 in /usr/local/lib/python3.6/dist-packages (from google-api-python-client>=1.2->PyDrive) (0.0.4)\n",
            "Requirement already satisfied: google-auth>=1.4.1 in /usr/local/lib/python3.6/dist-packages (from google-api-python-client>=1.2->PyDrive) (1.17.2)\n",
            "Requirement already satisfied: uritemplate<4dev,>=3.0.0 in /usr/local/lib/python3.6/dist-packages (from google-api-python-client>=1.2->PyDrive) (3.0.1)\n",
            "Requirement already satisfied: setuptools>=40.3.0 in /usr/local/lib/python3.6/dist-packages (from google-auth>=1.4.1->google-api-python-client>=1.2->PyDrive) (50.3.2)\n",
            "Requirement already satisfied: cachetools<5.0,>=2.0.0 in /usr/local/lib/python3.6/dist-packages (from google-auth>=1.4.1->google-api-python-client>=1.2->PyDrive) (4.1.1)\n"
          ],
          "name": "stdout"
        }
      ]
    },
    {
      "cell_type": "code",
      "metadata": {
        "id": "EBH24q1Fl3Xx"
      },
      "source": [
        "auth.authenticate_user()\n",
        "gauth = GoogleAuth()\n",
        "gauth.credentials = GoogleCredentials.get_application_default()\n",
        "drive = GoogleDrive(gauth)"
      ],
      "execution_count": null,
      "outputs": []
    },
    {
      "cell_type": "code",
      "metadata": {
        "id": "85Vk1pAVl6fT"
      },
      "source": [
        "downloaded = drive.CreateFile({'id':\"1rPxsM738drLNiuKE-v38-R-bJ8nti7_G\"}) \n",
        "downloaded.GetContentFile('churn.csv')"
      ],
      "execution_count": null,
      "outputs": []
    },
    {
      "cell_type": "code",
      "metadata": {
        "id": "r79eNVI5OZq5",
        "outputId": "1e75068a-2861-4116-c976-0c1dcc98dcf7",
        "colab": {
          "base_uri": "https://localhost:8080/"
        }
      },
      "source": [
        "churn_data = pd.read_csv('churn.csv', sep=',', index_col=['CustomerId'])\n",
        "countries =  churn_data['Geography'].unique()\n",
        "countries"
      ],
      "execution_count": null,
      "outputs": [
        {
          "output_type": "execute_result",
          "data": {
            "text/plain": [
              "array(['France', 'Spain', 'Germany'], dtype=object)"
            ]
          },
          "metadata": {
            "tags": []
          },
          "execution_count": 67
        }
      ]
    },
    {
      "cell_type": "code",
      "metadata": {
        "id": "zCnwKSP6mKMo",
        "outputId": "3af677d8-e6f2-4388-944f-fcd0242b2038",
        "colab": {
          "base_uri": "https://localhost:8080/",
          "height": 436
        }
      },
      "source": [
        "churn_data = pd.read_csv('churn.csv', sep=',', index_col=['CustomerId'])\n",
        "\n",
        "#target\n",
        "target = churn_data['Exited']\n",
        "churn_data.drop(['Exited'], axis=1, inplace=True)\n",
        "churn_data.drop(['RowNumber'], axis=1, inplace=True)\n",
        "churn_data.drop(['Surname'], axis=1, inplace=True)\n",
        "\n",
        "churn_data.loc[churn_data['Geography'] == 'France', 'France'] = 1\n",
        "churn_data.loc[churn_data['Geography'] != 'France', 'France'] = 0\n",
        "churn_data.loc[churn_data['Geography'] == 'Spain', 'Spain'] = 1\n",
        "churn_data.loc[churn_data['Geography'] != 'Spain', 'Spain'] = 0\n",
        "churn_data.loc[churn_data['Geography'] == 'Germany', 'Germany'] = 1\n",
        "churn_data.loc[churn_data['Geography'] != 'Germany', 'Germany'] = 0\n",
        "churn_data.drop(['Geography'], axis=1, inplace=True)\n",
        "\n",
        "churn_data.loc[churn_data['Gender'] == 'Female', 'Gender'] = 0\n",
        "churn_data.loc[churn_data['Gender'] == 'Male', 'Gender'] = 1\n",
        "\n",
        "\n",
        "churn_data"
      ],
      "execution_count": null,
      "outputs": [
        {
          "output_type": "execute_result",
          "data": {
            "text/html": [
              "<div>\n",
              "<style scoped>\n",
              "    .dataframe tbody tr th:only-of-type {\n",
              "        vertical-align: middle;\n",
              "    }\n",
              "\n",
              "    .dataframe tbody tr th {\n",
              "        vertical-align: top;\n",
              "    }\n",
              "\n",
              "    .dataframe thead th {\n",
              "        text-align: right;\n",
              "    }\n",
              "</style>\n",
              "<table border=\"1\" class=\"dataframe\">\n",
              "  <thead>\n",
              "    <tr style=\"text-align: right;\">\n",
              "      <th></th>\n",
              "      <th>CreditScore</th>\n",
              "      <th>Gender</th>\n",
              "      <th>Age</th>\n",
              "      <th>Tenure</th>\n",
              "      <th>Balance</th>\n",
              "      <th>NumOfProducts</th>\n",
              "      <th>HasCrCard</th>\n",
              "      <th>IsActiveMember</th>\n",
              "      <th>EstimatedSalary</th>\n",
              "      <th>France</th>\n",
              "      <th>Spain</th>\n",
              "      <th>Germany</th>\n",
              "    </tr>\n",
              "    <tr>\n",
              "      <th>CustomerId</th>\n",
              "      <th></th>\n",
              "      <th></th>\n",
              "      <th></th>\n",
              "      <th></th>\n",
              "      <th></th>\n",
              "      <th></th>\n",
              "      <th></th>\n",
              "      <th></th>\n",
              "      <th></th>\n",
              "      <th></th>\n",
              "      <th></th>\n",
              "      <th></th>\n",
              "    </tr>\n",
              "  </thead>\n",
              "  <tbody>\n",
              "    <tr>\n",
              "      <th>15634602</th>\n",
              "      <td>619</td>\n",
              "      <td>0</td>\n",
              "      <td>42</td>\n",
              "      <td>2</td>\n",
              "      <td>0.00</td>\n",
              "      <td>1</td>\n",
              "      <td>1</td>\n",
              "      <td>1</td>\n",
              "      <td>101348.88</td>\n",
              "      <td>1.0</td>\n",
              "      <td>0.0</td>\n",
              "      <td>0.0</td>\n",
              "    </tr>\n",
              "    <tr>\n",
              "      <th>15647311</th>\n",
              "      <td>608</td>\n",
              "      <td>0</td>\n",
              "      <td>41</td>\n",
              "      <td>1</td>\n",
              "      <td>83807.86</td>\n",
              "      <td>1</td>\n",
              "      <td>0</td>\n",
              "      <td>1</td>\n",
              "      <td>112542.58</td>\n",
              "      <td>0.0</td>\n",
              "      <td>1.0</td>\n",
              "      <td>0.0</td>\n",
              "    </tr>\n",
              "    <tr>\n",
              "      <th>15619304</th>\n",
              "      <td>502</td>\n",
              "      <td>0</td>\n",
              "      <td>42</td>\n",
              "      <td>8</td>\n",
              "      <td>159660.80</td>\n",
              "      <td>3</td>\n",
              "      <td>1</td>\n",
              "      <td>0</td>\n",
              "      <td>113931.57</td>\n",
              "      <td>1.0</td>\n",
              "      <td>0.0</td>\n",
              "      <td>0.0</td>\n",
              "    </tr>\n",
              "    <tr>\n",
              "      <th>15701354</th>\n",
              "      <td>699</td>\n",
              "      <td>0</td>\n",
              "      <td>39</td>\n",
              "      <td>1</td>\n",
              "      <td>0.00</td>\n",
              "      <td>2</td>\n",
              "      <td>0</td>\n",
              "      <td>0</td>\n",
              "      <td>93826.63</td>\n",
              "      <td>1.0</td>\n",
              "      <td>0.0</td>\n",
              "      <td>0.0</td>\n",
              "    </tr>\n",
              "    <tr>\n",
              "      <th>15737888</th>\n",
              "      <td>850</td>\n",
              "      <td>0</td>\n",
              "      <td>43</td>\n",
              "      <td>2</td>\n",
              "      <td>125510.82</td>\n",
              "      <td>1</td>\n",
              "      <td>1</td>\n",
              "      <td>1</td>\n",
              "      <td>79084.10</td>\n",
              "      <td>0.0</td>\n",
              "      <td>1.0</td>\n",
              "      <td>0.0</td>\n",
              "    </tr>\n",
              "    <tr>\n",
              "      <th>...</th>\n",
              "      <td>...</td>\n",
              "      <td>...</td>\n",
              "      <td>...</td>\n",
              "      <td>...</td>\n",
              "      <td>...</td>\n",
              "      <td>...</td>\n",
              "      <td>...</td>\n",
              "      <td>...</td>\n",
              "      <td>...</td>\n",
              "      <td>...</td>\n",
              "      <td>...</td>\n",
              "      <td>...</td>\n",
              "    </tr>\n",
              "    <tr>\n",
              "      <th>15606229</th>\n",
              "      <td>771</td>\n",
              "      <td>1</td>\n",
              "      <td>39</td>\n",
              "      <td>5</td>\n",
              "      <td>0.00</td>\n",
              "      <td>2</td>\n",
              "      <td>1</td>\n",
              "      <td>0</td>\n",
              "      <td>96270.64</td>\n",
              "      <td>1.0</td>\n",
              "      <td>0.0</td>\n",
              "      <td>0.0</td>\n",
              "    </tr>\n",
              "    <tr>\n",
              "      <th>15569892</th>\n",
              "      <td>516</td>\n",
              "      <td>1</td>\n",
              "      <td>35</td>\n",
              "      <td>10</td>\n",
              "      <td>57369.61</td>\n",
              "      <td>1</td>\n",
              "      <td>1</td>\n",
              "      <td>1</td>\n",
              "      <td>101699.77</td>\n",
              "      <td>1.0</td>\n",
              "      <td>0.0</td>\n",
              "      <td>0.0</td>\n",
              "    </tr>\n",
              "    <tr>\n",
              "      <th>15584532</th>\n",
              "      <td>709</td>\n",
              "      <td>0</td>\n",
              "      <td>36</td>\n",
              "      <td>7</td>\n",
              "      <td>0.00</td>\n",
              "      <td>1</td>\n",
              "      <td>0</td>\n",
              "      <td>1</td>\n",
              "      <td>42085.58</td>\n",
              "      <td>1.0</td>\n",
              "      <td>0.0</td>\n",
              "      <td>0.0</td>\n",
              "    </tr>\n",
              "    <tr>\n",
              "      <th>15682355</th>\n",
              "      <td>772</td>\n",
              "      <td>1</td>\n",
              "      <td>42</td>\n",
              "      <td>3</td>\n",
              "      <td>75075.31</td>\n",
              "      <td>2</td>\n",
              "      <td>1</td>\n",
              "      <td>0</td>\n",
              "      <td>92888.52</td>\n",
              "      <td>0.0</td>\n",
              "      <td>0.0</td>\n",
              "      <td>1.0</td>\n",
              "    </tr>\n",
              "    <tr>\n",
              "      <th>15628319</th>\n",
              "      <td>792</td>\n",
              "      <td>0</td>\n",
              "      <td>28</td>\n",
              "      <td>4</td>\n",
              "      <td>130142.79</td>\n",
              "      <td>1</td>\n",
              "      <td>1</td>\n",
              "      <td>0</td>\n",
              "      <td>38190.78</td>\n",
              "      <td>1.0</td>\n",
              "      <td>0.0</td>\n",
              "      <td>0.0</td>\n",
              "    </tr>\n",
              "  </tbody>\n",
              "</table>\n",
              "<p>10000 rows × 12 columns</p>\n",
              "</div>"
            ],
            "text/plain": [
              "            CreditScore Gender  Age  ...  France  Spain  Germany\n",
              "CustomerId                           ...                        \n",
              "15634602            619      0   42  ...     1.0    0.0      0.0\n",
              "15647311            608      0   41  ...     0.0    1.0      0.0\n",
              "15619304            502      0   42  ...     1.0    0.0      0.0\n",
              "15701354            699      0   39  ...     1.0    0.0      0.0\n",
              "15737888            850      0   43  ...     0.0    1.0      0.0\n",
              "...                 ...    ...  ...  ...     ...    ...      ...\n",
              "15606229            771      1   39  ...     1.0    0.0      0.0\n",
              "15569892            516      1   35  ...     1.0    0.0      0.0\n",
              "15584532            709      0   36  ...     1.0    0.0      0.0\n",
              "15682355            772      1   42  ...     0.0    0.0      1.0\n",
              "15628319            792      0   28  ...     1.0    0.0      0.0\n",
              "\n",
              "[10000 rows x 12 columns]"
            ]
          },
          "metadata": {
            "tags": []
          },
          "execution_count": 68
        }
      ]
    },
    {
      "cell_type": "code",
      "metadata": {
        "id": "mG-BvGAc2mWA",
        "outputId": "6cac575c-6a81-4beb-e60a-88b19c2c5461",
        "colab": {
          "base_uri": "https://localhost:8080/"
        }
      },
      "source": [
        "target"
      ],
      "execution_count": null,
      "outputs": [
        {
          "output_type": "execute_result",
          "data": {
            "text/plain": [
              "CustomerId\n",
              "15634602    1\n",
              "15647311    0\n",
              "15619304    1\n",
              "15701354    0\n",
              "15737888    0\n",
              "           ..\n",
              "15606229    0\n",
              "15569892    0\n",
              "15584532    1\n",
              "15682355    1\n",
              "15628319    0\n",
              "Name: Exited, Length: 10000, dtype: int64"
            ]
          },
          "metadata": {
            "tags": []
          },
          "execution_count": 69
        }
      ]
    },
    {
      "cell_type": "code",
      "metadata": {
        "id": "h1WY5wRgDXY0"
      },
      "source": [
        "import random\n",
        "from sklearn.tree import DecisionTreeClassifier\n",
        "from sklearn.model_selection import GridSearchCV\n",
        "import warnings"
      ],
      "execution_count": null,
      "outputs": []
    },
    {
      "cell_type": "code",
      "metadata": {
        "id": "yTKu-pGyDQns"
      },
      "source": [
        "def random_forest(X, y, count_of_trees, subsample_sise, max_deap=np.arange(1, 11), min_leaf=np.arange(1, 20)):\n",
        "  k = int(round(np.sqrt(X.shape[1])))\n",
        "  X['Exited'] = y\n",
        "  trees = list()\n",
        "  columns = list()\n",
        "  for tree in range(count_of_trees):\n",
        "    subsample = X.sample(subsample_sise)\n",
        "    y = subsample['Exited']\n",
        "    subsample.drop(['Exited'], axis=1, inplace=True)\n",
        "    subsample = pd.DataFrame(subsample[random.sample(list(subsample.columns), k)])\n",
        "    columns.append(subsample.columns)\n",
        "    tree = DecisionTreeClassifier()\n",
        "    tree_params = {'max_depth': max_deap, 'min_samples_leaf':min_leaf}\n",
        "    tree_grid = GridSearchCV(tree, tree_params)\n",
        "    tree_grid.fit(subsample, y, )\n",
        "    trees.append(tree_grid.best_estimator_)\n",
        "  return trees, columns"
      ],
      "execution_count": null,
      "outputs": []
    },
    {
      "cell_type": "code",
      "metadata": {
        "id": "PfLKLPCu7C2U"
      },
      "source": [
        "def predict_forest(X, forest, columns):\n",
        "  predictions = list()\n",
        "  for i in range(len(columns)):\n",
        "    predictions.append(forest[i].predict(X[columns[i]]))\n",
        "\n",
        "  return np.round(np.mean(predictions, axis=0))"
      ],
      "execution_count": null,
      "outputs": []
    },
    {
      "cell_type": "code",
      "metadata": {
        "id": "-HBzmFF84DV3"
      },
      "source": [
        "X_train, X_test, y_train, y_test = train_test_split(churn_data, target, test_size=0.42)"
      ],
      "execution_count": null,
      "outputs": []
    },
    {
      "cell_type": "code",
      "metadata": {
        "id": "FBEOj3n-4Mxr"
      },
      "source": [
        "forest, columns = random_forest(X_train, y_train, 10, 4000, max_deap=[10], min_leaf=[20])"
      ],
      "execution_count": null,
      "outputs": []
    },
    {
      "cell_type": "code",
      "metadata": {
        "id": "1Hfc5EUAKRnV"
      },
      "source": [
        "predicts = predict_forest(X_test, forest, columns)"
      ],
      "execution_count": null,
      "outputs": []
    },
    {
      "cell_type": "code",
      "metadata": {
        "id": "UfjNu0czK2py",
        "outputId": "fa34e325-95b6-4b5a-b67c-21c350acc810",
        "colab": {
          "base_uri": "https://localhost:8080/"
        }
      },
      "source": [
        "accuracy_score(y_test, predicts)"
      ],
      "execution_count": null,
      "outputs": [
        {
          "output_type": "execute_result",
          "data": {
            "text/plain": [
              "0.7969047619047619"
            ]
          },
          "metadata": {
            "tags": []
          },
          "execution_count": 76
        }
      ]
    },
    {
      "cell_type": "code",
      "metadata": {
        "id": "K65QrktlTaH2",
        "outputId": "1f1cc72e-0d40-4bf2-c3b1-2de1b03ddd77",
        "colab": {
          "base_uri": "https://localhost:8080/"
        }
      },
      "source": [
        "best = list()\n",
        "for i in range(len(columns)):\n",
        "  best_in_tree = dict()\n",
        "  for j in range(len(columns[i])): \n",
        "    best_in_tree[columns[i][j]] = forest[i].feature_importances_[j]\n",
        "  best.append(best_in_tree)\n",
        "\n",
        "for i in range(len(best)):\n",
        "  list_best = list(best[i].items())\n",
        "  list_best.sort(key=lambda i : i[1], reverse=True)\n",
        "  print(list_best)"
      ],
      "execution_count": null,
      "outputs": [
        {
          "output_type": "stream",
          "text": [
            "[('Balance', 0.6329879593196684), ('IsActiveMember', 0.18513960317898337), ('Tenure', 0.1818724375013481)]\n",
            "[('Balance', 0.46650843608828213), ('EstimatedSalary', 0.3103988029253833), ('Germany', 0.22309276098633452)]\n",
            "[('Germany', 0.5532984098458402), ('IsActiveMember', 0.43429923481841354), ('HasCrCard', 0.012402355335746164)]\n",
            "[('EstimatedSalary', 0.8321058381757226), ('Gender', 0.136751950622295), ('Spain', 0.031142211201982326)]\n",
            "[('Age', 0.7473991076217679), ('EstimatedSalary', 0.23126097865092146), ('Spain', 0.02133991372731072)]\n",
            "[('Age', 0.6786915935518734), ('IsActiveMember', 0.1669942633447528), ('EstimatedSalary', 0.15431414310337388)]\n",
            "[('CreditScore', 0.721177915306517), ('Tenure', 0.23456848036793987), ('HasCrCard', 0.04425360432554314)]\n",
            "[('Balance', 0.49402723161152073), ('EstimatedSalary', 0.33903410438341813), ('IsActiveMember', 0.16693866400506116)]\n",
            "[('Age', 0.6610452174463832), ('Balance', 0.22042822150304575), ('Germany', 0.11852656105057098)]\n",
            "[('Balance', 0.808700327626195), ('Gender', 0.15177529214644525), ('HasCrCard', 0.03952438022735973)]\n"
          ],
          "name": "stdout"
        }
      ]
    }
  ]
}