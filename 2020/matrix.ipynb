{
  "nbformat": 4,
  "nbformat_minor": 0,
  "metadata": {
    "colab": {
      "name": "M33081_Николаев opt",
      "provenance": [],
      "collapsed_sections": [],
      "toc_visible": true
    },
    "kernelspec": {
      "display_name": "Python 3",
      "language": "python",
      "name": "python3"
    },
    "language_info": {
      "codemirror_mode": {
        "name": "ipython",
        "version": 3
      },
      "file_extension": ".py",
      "mimetype": "text/x-python",
      "name": "python",
      "nbconvert_exporter": "python",
      "pygments_lexer": "ipython3",
      "version": "3.7.4"
    }
  },
  "cells": [
    {
      "cell_type": "markdown",
      "metadata": {
        "id": "vy3cjln8czxv"
      },
      "source": [
        "123\n"
      ]
    },
    {
      "cell_type": "code",
      "metadata": {
        "id": "jrZZXfU2dQY8"
      },
      "source": [
        "import numpy as np\n",
        "def mycsr(arr):\n",
        "  indexes = []\n",
        "  data = []\n",
        "  indptr = [0]\n",
        "  indexes = []\n",
        "  sum = 0\n",
        "  for i in range(len(arr)):\n",
        "    for j in range(len(arr[i])):\n",
        "      if (arr[i][j] != 0):\n",
        "        data = np.append(data, arr[i][j])\n",
        "        indexes = np.append(indexes, j)\n",
        "        sum += 1\n",
        "    indptr = np.append(indptr, sum)\n",
        "  return data, indexes, indptr\n"
      ],
      "execution_count": null,
      "outputs": []
    },
    {
      "cell_type": "code",
      "metadata": {
        "colab": {
          "base_uri": "https://localhost:8080/"
        },
        "id": "GKtI9Ya8BvhQ",
        "outputId": "0336283c-1de2-42e5-9ff2-323cc2d25186"
      },
      "source": [
        "test =[[1,2,0,0,0,4],\n",
        "      [0,3,0,0,5,8],\n",
        "      [9,0,7,0,7,0],\n",
        "      [0,0,0,1,0,0],\n",
        "      [0,0,0,0,9,9],\n",
        "      [0,0,0,7,0,1]]\n",
        "test_csr = mycsr(test)\n",
        "print(test_csr[0])\n",
        "print(test_csr[1])\n",
        "print(test_csr[2])"
      ],
      "execution_count": null,
      "outputs": [
        {
          "output_type": "stream",
          "text": [
            "[1. 2. 4. 3. 5. 8. 9. 7. 7. 1. 9. 9. 7. 1.]\n",
            "[0. 1. 5. 1. 4. 5. 0. 2. 4. 3. 4. 5. 3. 5.]\n",
            "[ 0  3  6  9 10 12 14]\n"
          ],
          "name": "stdout"
        }
      ]
    },
    {
      "cell_type": "code",
      "metadata": {
        "id": "25S8-4u5mlUQ"
      },
      "source": [
        "from scipy.sparse import csc_matrix\n",
        "from scipy.sparse import csr_matrix"
      ],
      "execution_count": null,
      "outputs": []
    },
    {
      "cell_type": "code",
      "metadata": {
        "id": "H8QRttSJBwLG"
      },
      "source": [
        "class Methods:\n",
        "    @staticmethod\n",
        "    def get_from_matrix(csr, i, j):  # from 0\n",
        "        element = 0\n",
        "        start = csr.indptr[i]\n",
        "        end = csr.indptr[i + 1]\n",
        "\n",
        "        for k in range(start, end, 1):\n",
        "            if (csr.indices[k] == j):\n",
        "                element = csr.data[k]\n",
        "                break\n",
        "\n",
        "        return element\n",
        "\n",
        "    @staticmethod\n",
        "    def get_lu(csr):\n",
        "        lu = np.matrix(np.zeros(csr.shape))\n",
        "        for k in range(csr.shape[0]):\n",
        "            for j in range(k, csr.shape[0]):\n",
        "                lu[k, j] = Methods.get_from_matrix(csr, k, j) - lu[k, :k] * lu[:k, j]\n",
        "\n",
        "            for i in range(k + 1, csr.shape[0]):\n",
        "                lu[i, k] = (Methods.get_from_matrix(csr, i, k) - lu[i, : k] * lu[: k, k]) / lu[k, k]\n",
        "\n",
        "        return lu\n",
        "\n",
        "    @staticmethod\n",
        "    def solve(A, b):\n",
        "      #где А - матрица в формае csr, b - вектор ответов\n",
        "        lu = Methods.get_lu(A)\n",
        "        y = np.matrix(np.zeros([lu.shape[0], 1]))\n",
        "\n",
        "        for i in range(0, y.shape[0]):\n",
        "            y[i, 0] = b[i, 0] - lu[i, :i] * y[:i]\n",
        "\n",
        "        x = np.matrix(np.zeros([lu.shape[0], 1]))\n",
        "        for i in range(1, y.shape[0] + 1):\n",
        "            x[-i, 0] = (y[-i] - lu[-i, -i:] * x[-i:, 0]) / lu[-i, -i]\n",
        "\n",
        "        return x\n",
        "    @staticmethod\n",
        "    def inverse(csr):\n",
        "        inv = np.zeros(csr.shape)\n",
        "        for n in range(csr.shape[0]):\n",
        "            b_i = np.array(np.zeros([csr.shape[0], 1]))\n",
        "            b_i[n][0] = 1\n",
        "            inv[:, n] = Methods.solve(csr, b_i).reshape(1, -1)\n",
        "        return inv"
      ],
      "execution_count": null,
      "outputs": []
    },
    {
      "cell_type": "code",
      "metadata": {
        "colab": {
          "base_uri": "https://localhost:8080/"
        },
        "id": "OPfXx4TjBym8",
        "outputId": "102f50ef-3e21-4914-a423-1a87fe58e1bb"
      },
      "source": [
        "test =[[1,2,0,0,0,4],\n",
        "      [0,3,0,0,5,8],\n",
        "      [9,0,7,0,7,0],\n",
        "      [0,0,0,1,0,0],\n",
        "      [0,0,0,0,9,9],\n",
        "      [0,0,0,7,0,1]]\n",
        "test_csr = csr_matrix(test)\n",
        "print(Methods.get_lu(test_csr))\n"
      ],
      "execution_count": null,
      "outputs": [
        {
          "output_type": "stream",
          "text": [
            "[[ 1.  2.  0.  0.  0.  4.]\n",
            " [ 0.  3.  0.  0.  5.  8.]\n",
            " [ 9. -6.  7.  0. 37. 12.]\n",
            " [ 0.  0.  0.  1.  0.  0.]\n",
            " [ 0.  0.  0.  0.  9.  9.]\n",
            " [ 0.  0.  0.  7.  0.  1.]]\n"
          ],
          "name": "stdout"
        }
      ]
    },
    {
      "cell_type": "code",
      "metadata": {
        "colab": {
          "base_uri": "https://localhost:8080/"
        },
        "id": "Jvafa0OtI6DH",
        "outputId": "ec8b66ae-c936-4a3a-add9-8842a65a474c"
      },
      "source": [
        "test_inv = Methods.inverse(test_csr)\n",
        "np.allclose(np.dot(test,test_inv), np.dot(test_inv, test))"
      ],
      "execution_count": null,
      "outputs": [
        {
          "output_type": "execute_result",
          "data": {
            "text/plain": [
              "True"
            ]
          },
          "metadata": {
            "tags": []
          },
          "execution_count": 59
        }
      ]
    },
    {
      "cell_type": "code",
      "metadata": {
        "colab": {
          "base_uri": "https://localhost:8080/"
        },
        "id": "vEa7LQHZEfkb",
        "outputId": "873b1420-dc11-497d-ba6a-8b7c20521f53"
      },
      "source": [
        "test =[[1,2,0,0,0,4],\n",
        "      [0,3,0,0,5,8],\n",
        "      [9,0,7,0,7,0],\n",
        "      [0,0,0,1,0,0],\n",
        "      [0,0,0,0,9,9],\n",
        "      [0,0,0,7,0,1]]\n",
        "test_csr = csr_matrix(test)\n",
        "answ = np.array([[1],[4],[1],[13],[1],[1]])\n",
        "print(Methods.solve(test_csr,answ))\n",
        "print(np.linalg.solve(test, answ))"
      ],
      "execution_count": null,
      "outputs": [
        {
          "output_type": "stream",
          "text": [
            "[[ 178.7037037 ]\n",
            " [  91.14814815]\n",
            " [-319.73015873]\n",
            " [  13.        ]\n",
            " [  90.11111111]\n",
            " [ -90.        ]]\n",
            "[[ 178.7037037 ]\n",
            " [  91.14814815]\n",
            " [-319.73015873]\n",
            " [  13.        ]\n",
            " [  90.11111111]\n",
            " [ -90.        ]]\n"
          ],
          "name": "stdout"
        }
      ]
    },
    {
      "cell_type": "code",
      "metadata": {
        "colab": {
          "base_uri": "https://localhost:8080/"
        },
        "id": "VA7a10pwhLTO",
        "outputId": "6a4b9f49-488f-45a4-e2d3-206e0359dcaa"
      },
      "source": [
        "test1 = mycsr([[1,2,3],\n",
        "               [4,5,6],\n",
        "               [1,0,1]])\n",
        "print(test1)"
      ],
      "execution_count": null,
      "outputs": [
        {
          "output_type": "stream",
          "text": [
            "(array([1., 2., 3., 4., 5., 6., 1., 1.]), array([0., 1., 2., 0., 1., 2., 0., 2.]), array([0, 3, 6, 8]))\n"
          ],
          "name": "stdout"
        }
      ]
    },
    {
      "cell_type": "code",
      "metadata": {
        "colab": {
          "base_uri": "https://localhost:8080/"
        },
        "id": "xPcjmCPQYxyq",
        "outputId": "189b9f48-6369-4c88-fda1-a971ba2389e4"
      },
      "source": [
        "test_csr = mycsr([[1,2,0,0,0,4],\n",
        "                  [0,3,0,0,5,8],\n",
        "                  [9,0,7,0,7,0],\n",
        "                  [0,0,0,1,0,0],\n",
        "                  [0,0,0,0,9,9],\n",
        "                  [0,0,0,7,0,1]])\n",
        "print(test_csr[0])\n",
        "print(test_csr[1])\n",
        "print(test_csr[2])"
      ],
      "execution_count": null,
      "outputs": [
        {
          "output_type": "stream",
          "text": [
            "[1. 2. 4. 3. 5. 8. 9. 7. 7. 1. 9. 9. 7. 1.]\n",
            "[0. 1. 5. 1. 4. 5. 0. 2. 4. 3. 4. 5. 3. 5.]\n",
            "[ 0  3  6  9 10 12 14]\n"
          ],
          "name": "stdout"
        }
      ]
    },
    {
      "cell_type": "code",
      "metadata": {
        "colab": {
          "base_uri": "https://localhost:8080/"
        },
        "id": "U9NepoogknDV",
        "outputId": "56202916-39c1-44f0-d3da-48c6c64cccbe"
      },
      "source": [
        "answ = csr_matrix(test_csr, shape=(6,6)).toarray()\n",
        "print(answ)"
      ],
      "execution_count": null,
      "outputs": [
        {
          "output_type": "stream",
          "text": [
            "[[1. 2. 0. 0. 0. 4.]\n",
            " [0. 3. 0. 0. 5. 8.]\n",
            " [9. 0. 7. 0. 7. 0.]\n",
            " [0. 0. 0. 1. 0. 0.]\n",
            " [0. 0. 0. 0. 9. 9.]\n",
            " [0. 0. 0. 7. 0. 1.]]\n"
          ],
          "name": "stdout"
        }
      ]
    },
    {
      "cell_type": "code",
      "metadata": {
        "colab": {
          "base_uri": "https://localhost:8080/"
        },
        "id": "uN_UPwk3d0un",
        "outputId": "5d841ee8-87d8-4e07-e196-4585e72b2632"
      },
      "source": [
        "data, indexes, indptr = mycsr(\n",
        "             [[1,2,0,0,0,4],\n",
        "              [0,3,0,0,5,8],\n",
        "              [9,0,7,0,7,0],\n",
        "              [0,0,0,1,0,0],\n",
        "              [0,0,0,0,9,9],\n",
        "              [0,1,1,7,1,1]])\n",
        "print(data)\n",
        "print(indexes)\n",
        "print(indptr)"
      ],
      "execution_count": null,
      "outputs": [
        {
          "output_type": "stream",
          "text": [
            "[1. 2. 4. 3. 5. 8. 9. 7. 7. 1. 9. 9. 1. 1. 7. 1. 1.]\n",
            "[0. 1. 5. 1. 4. 5. 0. 2. 4. 3. 4. 5. 1. 2. 3. 4. 5.]\n",
            "[ 0  3  6  9 10 12 17]\n"
          ],
          "name": "stdout"
        }
      ]
    },
    {
      "cell_type": "code",
      "metadata": {
        "id": "2J6von_0-J4F"
      },
      "source": [
        "def LU_decomposition(A):\n",
        "    \"\"\"Perform LU decomposition using the Doolittle factorisation.\"\"\"\n",
        "\n",
        "    L = np.zeros_like(A)\n",
        "    U = np.zeros_like(A)\n",
        "    N = np.size(A, 0)\n",
        "\n",
        "    for k in range(N):\n",
        "        L[k, k] = 1\n",
        "        U[k, k] = (A[k, k] - np.dot(L[k, :k], U[:k, k])) / L[k, k]\n",
        "        for j in range(k+1, N):\n",
        "            U[k, j] = (A[k, j] - np.dot(L[k, :k], U[:k, j])) / L[k, k]\n",
        "        for i in range(k+1, N):\n",
        "            L[i, k] = (A[i, k] - np.dot(L[i, :k], U[:k, k])) / U[k, k]\n",
        "\n",
        "    return L, U"
      ],
      "execution_count": null,
      "outputs": []
    },
    {
      "cell_type": "code",
      "metadata": {
        "colab": {
          "base_uri": "https://localhost:8080/"
        },
        "id": "QspDk2vpDgsK",
        "outputId": "e85c00af-d050-449f-b630-6eee1cead52e"
      },
      "source": [
        "test =np.array([[1,2,0,0,0,4],\n",
        "    [0,3,0,0,5,8],\n",
        "    [9,0,7,0,7,0],\n",
        "    [0,0,0,1,0,0],\n",
        "    [0,0,0,0,9,9],\n",
        "    [0,0,0,7,0,1]]) \n",
        "test2 = np.array([[1,2,3],\n",
        "               [4,5,6],\n",
        "               [1,0,1]])\n",
        "L, U = LU_decomposition(test)\n",
        "print(\"Upper:\")\n",
        "print(U)\n",
        "print(\"Lower\")\n",
        "print(L)\n",
        "print(L.dot(U))"
      ],
      "execution_count": null,
      "outputs": [
        {
          "output_type": "stream",
          "text": [
            "Upper:\n",
            "[[ 1  2  0  0  0  4]\n",
            " [ 0  3  0  0  5  8]\n",
            " [ 0  0  7  0 37 12]\n",
            " [ 0  0  0  1  0  0]\n",
            " [ 0  0  0  0  9  9]\n",
            " [ 0  0  0  0  0  1]]\n",
            "Lower\n",
            "[[ 1  0  0  0  0  0]\n",
            " [ 0  1  0  0  0  0]\n",
            " [ 9 -6  1  0  0  0]\n",
            " [ 0  0  0  1  0  0]\n",
            " [ 0  0  0  0  1  0]\n",
            " [ 0  0  0  7  0  1]]\n",
            "[[1 2 0 0 0 4]\n",
            " [0 3 0 0 5 8]\n",
            " [9 0 7 0 7 0]\n",
            " [0 0 0 1 0 0]\n",
            " [0 0 0 0 9 9]\n",
            " [0 0 0 7 0 1]]\n"
          ],
          "name": "stdout"
        }
      ]
    },
    {
      "cell_type": "code",
      "metadata": {
        "colab": {
          "base_uri": "https://localhost:8080/"
        },
        "id": "49QZzxLAL5pH",
        "outputId": "697ef07c-7d77-4617-98b6-c5577208d9cd"
      },
      "source": [
        "\n",
        "L = np.zeros_like(test)\n",
        "U = np.zeros_like(test)\n",
        "val = 0\n",
        "N = np.size(test, 0)\n",
        "for k in range(N):\n",
        "  L[k, k] = 1\n",
        "  for h in range(k+1)[k:]:\n",
        "    for counter in range(indptr[h+1])[indptr[h]:]:\n",
        "      if int(indexes[counter]) == k:\n",
        "        val = data[counter]\n",
        "        break\n",
        "      else:\n",
        "        val = 0\n",
        "  U[k, k] = (val - np.dot(L[k, :k], U[:k, k])) / L[k, k]\n",
        "  for j in range(k+1, N):\n",
        "    for h in range(k+1)[k:]:\n",
        "      for counter in range(indptr[h+1])[indptr[h]:]:\n",
        "        if int(indexes[counter]) == j:\n",
        "          val = data[counter]\n",
        "          break\n",
        "        else:\n",
        "          val = 0\n",
        "    U[k, j] = (val - np.dot(L[k, :k], U[:k, j])) / L[k, k]\n",
        "  for i in range(k+1, N):\n",
        "    for h in range(i+1)[i:]:\n",
        "      for counter in range(indptr[h+1])[indptr[h]:]:\n",
        "        if int(indexes[counter]) == k:\n",
        "          val = data[counter]\n",
        "          break\n",
        "        else:\n",
        "          val = 0\n",
        "    L[i, k] = (val - np.dot(L[i, :k], U[:k, k])) / U[k, k]\n",
        "\n",
        "print(\"Upper:\")\n",
        "print(U)\n",
        "print(\"Lower\")\n",
        "print(L)"
      ],
      "execution_count": null,
      "outputs": [
        {
          "output_type": "stream",
          "text": [
            "Upper:\n",
            "[[ 1  2  0  0  0  4]\n",
            " [ 0  3  0  0  5  8]\n",
            " [ 0  0  7  0 37 12]\n",
            " [ 0  0  0  1  0  0]\n",
            " [ 0  0  0  0  9  9]\n",
            " [ 0  0  0  0  0  1]]\n",
            "Lower\n",
            "[[ 1  0  0  0  0  0]\n",
            " [ 0  1  0  0  0  0]\n",
            " [ 9 -6  1  0  0  0]\n",
            " [ 0  0  0  1  0  0]\n",
            " [ 0  0  0  0  1  0]\n",
            " [ 0  0  0  7  0  1]]\n"
          ],
          "name": "stdout"
        }
      ]
    },
    {
      "cell_type": "code",
      "metadata": {
        "id": "W8uPDa8sfZMP"
      },
      "source": [
        "def lu_csr(size, data, indexes, indptr): \n",
        "  L = np.zeros((size, size), int)\n",
        "  U = np.zeros((size, size), int)\n",
        "  val = 0\n",
        "  N = size\n",
        "  for k in range(N):\n",
        "    L[k, k] = 1\n",
        "    for h in range(k+1)[k:]:\n",
        "      for counter in range(indptr[h+1])[indptr[h]:]:\n",
        "        if int(indexes[counter]) == k:\n",
        "          val = data[counter]\n",
        "          break\n",
        "        else:\n",
        "          val = 0\n",
        "    U[k, k] = (val - np.dot(L[k, :k], U[:k, k])) / L[k, k]\n",
        "    for j in range(k+1, N):\n",
        "      for h in range(k+1)[k:]:\n",
        "        for counter in range(indptr[h+1])[indptr[h]:]:\n",
        "          if int(indexes[counter]) == j:\n",
        "            val = data[counter]\n",
        "            break\n",
        "          else:\n",
        "            val = 0\n",
        "      U[k, j] = (val - np.dot(L[k, :k], U[:k, j])) / L[k, k]\n",
        "    for i in range(k+1, N):\n",
        "      for h in range(i+1)[i:]:\n",
        "        for counter in range(indptr[h+1])[indptr[h]:]:\n",
        "          if int(indexes[counter]) == k:\n",
        "            val = data[counter]\n",
        "            break\n",
        "          else:\n",
        "            val = 0\n",
        "      L[i, k] = (val - np.dot(L[i, :k], U[:k, k])) / U[k, k]\n",
        "  return U, L"
      ],
      "execution_count": null,
      "outputs": []
    },
    {
      "cell_type": "code",
      "metadata": {
        "id": "uz3TvTlzeIPQ"
      },
      "source": [
        "size = np.size(test, 0)\n",
        "U, L = lu_csr(size, data, indexes, indptr)"
      ],
      "execution_count": null,
      "outputs": []
    },
    {
      "cell_type": "code",
      "metadata": {
        "colab": {
          "base_uri": "https://localhost:8080/"
        },
        "id": "vPX17_Dje1Ae",
        "outputId": "d7886167-10f9-465a-f231-ae7acf7119eb"
      },
      "source": [
        "print(\"Upper:\")\n",
        "print(U)\n",
        "print(\"Lower\")\n",
        "print(L)"
      ],
      "execution_count": null,
      "outputs": [
        {
          "output_type": "stream",
          "text": [
            "Upper:\n",
            "[[ 1  2  0  0  0  4]\n",
            " [ 0  3  0  0  5  8]\n",
            " [ 0  0  7  0 37 12]\n",
            " [ 0  0  0  1  0  0]\n",
            " [ 0  0  0  0  9  9]\n",
            " [ 0  0  0  0  0  1]]\n",
            "Lower\n",
            "[[ 1  0  0  0  0  0]\n",
            " [ 0  1  0  0  0  0]\n",
            " [ 9 -6  1  0  0  0]\n",
            " [ 0  0  0  1  0  0]\n",
            " [ 0  0  0  0  1  0]\n",
            " [ 0  0  0  7  0  1]]\n"
          ],
          "name": "stdout"
        }
      ]
    },
    {
      "cell_type": "code",
      "metadata": {
        "colab": {
          "base_uri": "https://localhost:8080/"
        },
        "id": "s4bQzfJQE0RM",
        "outputId": "65ef9aa0-cdc6-447b-a3db-4df1dcd9217c"
      },
      "source": [
        "print(\"L x U\")\n",
        "print(L.dot(U))\n",
        "print(\"Original\")\n",
        "print(test)"
      ],
      "execution_count": null,
      "outputs": [
        {
          "output_type": "stream",
          "text": [
            "L x U\n",
            "[[1 2 0 0 0 4]\n",
            " [0 3 0 0 5 8]\n",
            " [9 0 7 0 7 0]\n",
            " [0 0 0 1 0 0]\n",
            " [0 0 0 0 9 9]\n",
            " [0 0 0 7 0 1]]\n",
            "Original\n",
            "[[1 2 0 0 0 4]\n",
            " [0 3 0 0 5 8]\n",
            " [9 0 7 0 7 0]\n",
            " [0 0 0 1 0 0]\n",
            " [0 0 0 0 9 9]\n",
            " [0 0 0 7 0 1]]\n"
          ],
          "name": "stdout"
        }
      ]
    },
    {
      "cell_type": "markdown",
      "metadata": {
        "id": "Ite0Ec1KE0GJ"
      },
      "source": [
        ""
      ]
    },
    {
      "cell_type": "code",
      "metadata": {
        "id": "If-HQRK_65_g"
      },
      "source": [
        "def decompose_to_LU(a):\n",
        "    \"\"\"Decompose matrix of coefficients to L and U matrices.\n",
        "     L and U triangular matrices will be represented in a single nxn matrix.\n",
        "    :param a: numpy matrix of coefficients\n",
        "    :return: numpy LU matrix\n",
        "    \"\"\"\n",
        "    # create emtpy LU-matrix\n",
        "    lu_matrix = np.matrix(np.zeros([a.shape[0], a.shape[1]]))\n",
        "    n = a.shape[0]\n",
        "\n",
        "    for k in range(n):\n",
        "        # calculate all residual k-row elements\n",
        "        for j in range(k, n):\n",
        "            lu_matrix[k, j] = a[k, j] - lu_matrix[k, :k] * lu_matrix[:k, j]\n",
        "        # calculate all residual k-column elemetns\n",
        "        for i in range(k + 1, n):\n",
        "            lu_matrix[i, k] = (a[i, k] - lu_matrix[i, : k] * lu_matrix[: k, k]) / lu_matrix[k, k]\n",
        "\n",
        "    return lu_matrix"
      ],
      "execution_count": null,
      "outputs": []
    },
    {
      "cell_type": "code",
      "metadata": {
        "id": "Kf6mfIyg7SJx"
      },
      "source": [
        "def solve_LU(lu_matrix, b):\n",
        "    \n",
        "    # get supporting vector y\n",
        "    y = np.matrix(np.zeros([lu_matrix.shape[0], 1]))\n",
        "    for i in range(y.shape[0]):\n",
        "        y[i, 0] = b[i, 0] - lu_matrix[i, :i] * y[:i]\n",
        "\n",
        "    # get vector of answers x\n",
        "    x = np.matrix(np.zeros([lu_matrix.shape[0], 1]))\n",
        "    for i in range(1, x.shape[0] + 1):\n",
        "        x[-i, 0] = (y[-i] - lu_matrix[-i, -i:] * x[-i:, 0] )/ lu_matrix[-i, -i]\n",
        "\n",
        "    return x"
      ],
      "execution_count": null,
      "outputs": []
    },
    {
      "cell_type": "code",
      "metadata": {
        "id": "e9ECGKDBIM7Y"
      },
      "source": [
        " ones = np.matrix(np.diag([1.0 for i in range(6)]))"
      ],
      "execution_count": null,
      "outputs": []
    },
    {
      "cell_type": "code",
      "metadata": {
        "colab": {
          "base_uri": "https://localhost:8080/"
        },
        "id": "5egvz1nW7BSs",
        "outputId": "4287fff5-d26f-4348-e1e9-361aacf097bd"
      },
      "source": [
        "a = L + U - ones\n",
        "answfora = np.array([[1],[4],[1],[13],[1],[1]])\n",
        "print(solve_LU(a,answfora))\n",
        "print(np.linalg.solve(test, answfora))"
      ],
      "execution_count": null,
      "outputs": [
        {
          "output_type": "stream",
          "text": [
            "[[ 178.7037037 ]\n",
            " [  91.14814815]\n",
            " [-319.73015873]\n",
            " [  13.        ]\n",
            " [  90.11111111]\n",
            " [ -90.        ]]\n",
            "[[ 178.7037037 ]\n",
            " [  91.14814815]\n",
            " [-319.73015873]\n",
            " [  13.        ]\n",
            " [  90.11111111]\n",
            " [ -90.        ]]\n"
          ],
          "name": "stdout"
        }
      ]
    },
    {
      "cell_type": "code",
      "metadata": {
        "id": "Ak7Tpnu4UYvF"
      },
      "source": [
        "def pick_nonzero_row(m, k):\n",
        "    while k < m.shape[0] and not m[k, k]:\n",
        "        k += 1\n",
        "    return k"
      ],
      "execution_count": null,
      "outputs": []
    },
    {
      "cell_type": "code",
      "metadata": {
        "id": "y3It1GALS7tx"
      },
      "source": [
        "m = np.hstack((a, \n",
        "                np.matrix(np.diag([1.0 for i in range(a.shape[0])]))))\n",
        "n = 6\n",
        "# forward trace\n",
        "for k in range(n):\n",
        "  # 1) Swap k-row with one of the underlying if m[k, k] = 0\n",
        "  swap_row = pick_nonzero_row(m, k)\n",
        "  if swap_row != k:\n",
        "    m[k, :], m[swap_row, :] = m[swap_row, :], np.copy(m[k, :])\n",
        "  # 2) Make diagonal element equals to 1\n",
        "  if m[k, k] != 1:\n",
        "    m[k, :] *= 1 / m[k, k]\n",
        "  # 3) Make all underlying elements in column equal to zero\n",
        "  for row in range(k + 1, n):\n",
        "    m[row, :] -= m[k, :] * m[row, k]\n",
        "\n",
        "# backward trace\n",
        "  for k in range(n - 1, 0, -1):\n",
        "    for row in range(k - 1, -1, -1):\n",
        "      if m[row, k]:\n",
        "        # 1) Make all overlying elements equal to zero in the former identity matrix\n",
        "        m[row, :] -= m[k, :] * m[row, k]\n",
        "a_inv = np.hsplit(m, 2)[1]"
      ],
      "execution_count": null,
      "outputs": []
    },
    {
      "cell_type": "code",
      "metadata": {
        "colab": {
          "base_uri": "https://localhost:8080/"
        },
        "id": "XUZzP854dzqW",
        "outputId": "b92ad08e-24b2-4084-d81e-2539a3aa745d"
      },
      "source": [
        "np.allclose(np.dot(a, a_inv), np.eye(a.shape[0]))"
      ],
      "execution_count": null,
      "outputs": [
        {
          "output_type": "execute_result",
          "data": {
            "text/plain": [
              "True"
            ]
          },
          "metadata": {
            "tags": []
          },
          "execution_count": 30
        }
      ]
    },
    {
      "cell_type": "code",
      "metadata": {
        "colab": {
          "base_uri": "https://localhost:8080/"
        },
        "id": "9-Cin9TRdydq",
        "outputId": "fc48d6a0-17f2-4d83-99e8-6872ab56039c"
      },
      "source": [
        "q= np.linalg.inv(a)\n",
        "print(a.dot(q))"
      ],
      "execution_count": null,
      "outputs": [
        {
          "output_type": "stream",
          "text": [
            "[[ 1.00000000e+00  0.00000000e+00  6.16790569e-18 -7.10542736e-15\n",
            "  -5.55111512e-17  0.00000000e+00]\n",
            " [ 0.00000000e+00  1.00000000e+00  0.00000000e+00  0.00000000e+00\n",
            "  -5.55111512e-17  0.00000000e+00]\n",
            " [-6.66133815e-16 -4.44089210e-16  1.00000000e+00  0.00000000e+00\n",
            "   1.66533454e-16  0.00000000e+00]\n",
            " [ 0.00000000e+00  0.00000000e+00  0.00000000e+00  1.00000000e+00\n",
            "   0.00000000e+00  0.00000000e+00]\n",
            " [ 0.00000000e+00  0.00000000e+00  0.00000000e+00  0.00000000e+00\n",
            "   1.00000000e+00  0.00000000e+00]\n",
            " [ 0.00000000e+00  0.00000000e+00  0.00000000e+00  0.00000000e+00\n",
            "   0.00000000e+00  1.00000000e+00]]\n"
          ],
          "name": "stdout"
        }
      ]
    },
    {
      "cell_type": "code",
      "metadata": {
        "id": "p7AOBBCrYSUP"
      },
      "source": [
        "def inverse_lu(lu_matrix):\n",
        "  answ= []\n",
        "  for i in range(len(lu_matrix)):\n",
        "    m_vector = np.array(np.zeros((len(lu_matrix),1)))\n",
        "    m_vector[i][0] = 1\n",
        "    answ.append(solve_LU(lu_matrix,m_vector))\n",
        "  return answ"
      ],
      "execution_count": null,
      "outputs": []
    },
    {
      "cell_type": "code",
      "metadata": {
        "id": "UYvjDo4maP8I"
      },
      "source": [
        "def inverse_lu_f(smth):\n",
        "  answ = np.array(np.zeros((len(smth),len(smth))))\n",
        "  for i in range(len(smth)):\n",
        "    for j in range(len(smth)):\n",
        "      answ[i][j] = smth[j][i]\n",
        "  return answ"
      ],
      "execution_count": null,
      "outputs": []
    },
    {
      "cell_type": "code",
      "metadata": {
        "colab": {
          "base_uri": "https://localhost:8080/"
        },
        "id": "4Jwcygumem0G",
        "outputId": "521e8246-fef7-460f-b52e-4cb617eac15f"
      },
      "source": [
        "hm = inverse_lu(a)\n",
        "b = inverse_lu_f(hm)\n",
        "np.allclose(np.dot(test,b), np.eye(a.shape[0]))"
      ],
      "execution_count": null,
      "outputs": [
        {
          "output_type": "execute_result",
          "data": {
            "text/plain": [
              "True"
            ]
          },
          "metadata": {
            "tags": []
          },
          "execution_count": 140
        }
      ]
    },
    {
      "cell_type": "code",
      "metadata": {
        "id": "lVx2NhOsLqeJ"
      },
      "source": [
        "class MatrixTest:\n",
        "    @staticmethod\n",
        "    def hilbert(n):\n",
        "        return csr_matrix(np.array([[1 / (i + j + 1) for j in range(n)] for i in range(n)]))\n",
        "\n",
        "    @staticmethod\n",
        "    def diagonal(n, k):\n",
        "        result = np.zeros((n, n))\n",
        "        for i in range(n):\n",
        "            for j in range(n):\n",
        "                if i != j:\n",
        "                    result[i][j] = random.randint(-4, 0)\n",
        "        for i in range(n):\n",
        "            result[i][i] = - sum(result[i, :]) + 10 ** (-k)\n",
        "        return csr_matrix(result)\n",
        "\n",
        "    @staticmethod\n",
        "    def F(csr_A):\n",
        "        n = csr_A.shape[0]\n",
        "        return csr_A.toarray().dot(np.arange(1, n + 1, 1))\n",
        "\n",
        "    @staticmethod\n",
        "    def show_error_d(k):\n",
        "        errors = []\n",
        "        k_list = []\n",
        "        for i in range(2, k + 1):\n",
        "            A = MatrixTest.diagonal(i, i)\n",
        "            F = MatrixTest.F(csr_matrix(A))\n",
        "            predict = Methods.solve(A, F.reshape(i, -1))\n",
        "            result = np.arange(1, A.shape[0] + 1, 1)\n",
        "            k_list.append(i)\n",
        "            errors.append(mean_absolute_error(result, predict))\n",
        "        plt.plot(k_list, errors)\n",
        "        plt.ylabel('Error')\n",
        "        plt.xlabel('k')\n",
        "        plt.show()\n",
        "\n",
        "    @staticmethod\n",
        "    def show_error_h(n):\n",
        "        errors = []\n",
        "        k_list = []\n",
        "        for i in range(2, n + 1):\n",
        "            A = MatrixTest.hilbert(i)\n",
        "            F = MatrixTest.F(csr_matrix(A))\n",
        "            predict = Methods.solve(A, F.reshape(i, -1))\n",
        "            result = np.arange(1, A.shape[0] + 1, 1)\n",
        "            k_list.append(i)\n",
        "            errors.append(mean_absolute_error(result, predict))\n",
        "        plt.plot(k_list, errors)\n",
        "        plt.ylabel('Error')\n",
        "        plt.xlabel('k')\n",
        "        plt.show()"
      ],
      "execution_count": null,
      "outputs": []
    },
    {
      "cell_type": "code",
      "metadata": {
        "id": "it6LzNuhRdri"
      },
      "source": [
        "class BlockMatrix:\n",
        "    def __init__(self, matrix, block_size):\n",
        "        self.n = block_size\n",
        "        self.matrix = [csr_matrix(matrix[0:self.n, 0:self.n]),\n",
        "                       csr_matrix(matrix[0:self.n, self.n:]),\n",
        "                       csr_matrix(matrix[self.n:, 0:self.n]),\n",
        "                       csr_matrix(matrix[self.n:, self.n:])]\n",
        "\n",
        "    def LU(self):\n",
        "        inv_X = Methods.inverse(self.matrix[0])\n",
        "\n",
        "        L = np.eye(self.n * 2)\n",
        "        L[self.n:, 0: self.n] = self.matrix[2].toarray() * inv_X\n",
        "\n",
        "        D = np.zeros((self.n * 2, self.n * 2))\n",
        "        D[0:self.n, 0: self.n] = self.matrix[0].toarray()\n",
        "        D[self.n:, self.n:] = self.matrix[3].toarray() - \\\n",
        "                              self.matrix[2].toarray() * inv_X * self.matrix[1].toarray()\n",
        "\n",
        "        U = np.eye(self.n * 2)\n",
        "        U[0: self.n, self.n:] = inv_X * self.matrix[1]\n",
        "\n",
        "        return L, D, U"
      ],
      "execution_count": null,
      "outputs": []
    },
    {
      "cell_type": "code",
      "metadata": {
        "colab": {
          "base_uri": "https://localhost:8080/"
        },
        "id": "GJnbbe9yRoqi",
        "outputId": "2526473a-07e7-4390-9b11-acf7e74a9cee"
      },
      "source": [
        "a = BlockMatrix(np.array([\n",
        "                [1,2,3,4],\n",
        "                [5,6,7,8],\n",
        "                [9,10,11,12],\n",
        "                [14,15,16,17]]), 2)\n",
        "\n",
        "L, D, U = a.LU()\n",
        "print(L)\n",
        "print(D)\n",
        "print(U)"
      ],
      "execution_count": null,
      "outputs": [
        {
          "output_type": "stream",
          "text": [
            "[[  1.     0.     0.     0.  ]\n",
            " [  0.     1.     0.     0.  ]\n",
            " [-13.5    5.     1.     0.  ]\n",
            " [ 17.5   -3.75   0.     1.  ]]\n",
            "[[   1.     2.     0.     0. ]\n",
            " [   5.     6.     0.     0. ]\n",
            " [   0.     0.    51.5   -8. ]\n",
            " [   0.     0.  -106.5   47. ]]\n",
            "[[ 1.  0. -1. -2.]\n",
            " [ 0.  1.  2.  3.]\n",
            " [ 0.  0.  1.  0.]\n",
            " [ 0.  0.  0.  1.]]\n"
          ],
          "name": "stdout"
        }
      ]
    }
  ]
}