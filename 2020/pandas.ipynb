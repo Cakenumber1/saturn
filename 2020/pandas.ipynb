{
  "nbformat": 4,
  "nbformat_minor": 0,
  "metadata": {
    "hide_input": false,
    "kernelspec": {
      "display_name": "Python 3",
      "language": "python",
      "name": "python3"
    },
    "language_info": {
      "codemirror_mode": {
        "name": "ipython",
        "version": 3
      },
      "file_extension": ".py",
      "mimetype": "text/x-python",
      "name": "python",
      "nbconvert_exporter": "python",
      "pygments_lexer": "ipython3",
      "version": "3.7.1"
    },
    "toc": {
      "base_numbering": 1,
      "nav_menu": {},
      "number_sections": true,
      "sideBar": true,
      "skip_h1_title": false,
      "title_cell": "Table of Contents",
      "title_sidebar": "Contents",
      "toc_cell": true,
      "toc_position": {},
      "toc_section_display": true,
      "toc_window_display": false
    },
    "varInspector": {
      "cols": {
        "lenName": 16,
        "lenType": 16,
        "lenVar": 40
      },
      "kernels_config": {
        "python": {
          "delete_cmd_postfix": "",
          "delete_cmd_prefix": "del ",
          "library": "var_list.py",
          "varRefreshCmd": "print(var_dic_list())"
        },
        "r": {
          "delete_cmd_postfix": ") ",
          "delete_cmd_prefix": "rm(",
          "library": "var_list.r",
          "varRefreshCmd": "cat(var_dic_list()) "
        }
      },
      "types_to_exclude": [
        "module",
        "function",
        "builtin_function_or_method",
        "instance",
        "_Feature"
      ],
      "window_display": false
    },
    "colab": {
      "name": "М33081 Николаев  \"Test_Pandas.ipynb\"",
      "provenance": [],
      "collapsed_sections": [
        "xjvL0IIG8Jd0"
      ],
      "toc_visible": true
    }
  },
  "cells": [
    {
      "cell_type": "code",
      "metadata": {
        "ExecuteTime": {
          "end_time": "2020-04-23T10:16:05.965275Z",
          "start_time": "2020-04-23T10:16:05.312704Z"
        },
        "id": "bZ7J0si68JdT",
        "outputId": "c00c3f20-0d0c-43e8-b2bf-96a8f4bb4081",
        "colab": {
          "base_uri": "https://localhost:8080/",
          "height": 255
        }
      },
      "source": [
        "import pandas as pd\n",
        "import numpy as np\n",
        "!pip install PyDrive\n",
        "from pydrive.auth import GoogleAuth\n",
        "from pydrive.drive import GoogleDrive\n",
        "from google.colab import auth\n",
        "from oauth2client.client import GoogleCredentials\n",
        "auth.authenticate_user()\n",
        "gauth = GoogleAuth()\n",
        "gauth.credentials = GoogleCredentials.get_application_default()\n",
        "drive = GoogleDrive(gauth)\n",
        "downloaded = drive.CreateFile({'id':\"12qeAk6R21AYoOIHHT98bToMCX5ip2_Zx\"})   # замените id на id своего файла\n",
        "downloaded.GetContentFile('tr_types.csv')\n",
        "downloaded = drive.CreateFile({'id':\"1C6gCcxpYM8itP_uenvI8MAlkgvPhXgcq\"})   # замените id на id своего файла\n",
        "downloaded.GetContentFile('gender_train.csv')\n",
        "downloaded = drive.CreateFile({'id':\"1Cndag_y67-pQe7gMyb6PAjyV_9qXrOo1\"})   # замените id на id своего файла\n",
        "downloaded.GetContentFile('transactions.csv')\n",
        "downloaded = drive.CreateFile({'id':\"1PYSIDqMKOVFk-K4T-XJp2SUlisChMQy5\"})   # замените id на id своего файла\n",
        "downloaded.GetContentFile('tr_mcc_codes.csv')"
      ],
      "execution_count": null,
      "outputs": [
        {
          "output_type": "stream",
          "text": [
            "Requirement already satisfied: PyDrive in /usr/local/lib/python3.6/dist-packages (1.3.1)\n",
            "Requirement already satisfied: PyYAML>=3.0 in /usr/local/lib/python3.6/dist-packages (from PyDrive) (3.13)\n",
            "Requirement already satisfied: oauth2client>=4.0.0 in /usr/local/lib/python3.6/dist-packages (from PyDrive) (4.1.3)\n",
            "Requirement already satisfied: google-api-python-client>=1.2 in /usr/local/lib/python3.6/dist-packages (from PyDrive) (1.7.12)\n",
            "Requirement already satisfied: httplib2>=0.9.1 in /usr/local/lib/python3.6/dist-packages (from oauth2client>=4.0.0->PyDrive) (0.17.4)\n",
            "Requirement already satisfied: pyasn1>=0.1.7 in /usr/local/lib/python3.6/dist-packages (from oauth2client>=4.0.0->PyDrive) (0.4.8)\n",
            "Requirement already satisfied: rsa>=3.1.4 in /usr/local/lib/python3.6/dist-packages (from oauth2client>=4.0.0->PyDrive) (4.6)\n",
            "Requirement already satisfied: pyasn1-modules>=0.0.5 in /usr/local/lib/python3.6/dist-packages (from oauth2client>=4.0.0->PyDrive) (0.2.8)\n",
            "Requirement already satisfied: six>=1.6.1 in /usr/local/lib/python3.6/dist-packages (from oauth2client>=4.0.0->PyDrive) (1.15.0)\n",
            "Requirement already satisfied: google-auth-httplib2>=0.0.3 in /usr/local/lib/python3.6/dist-packages (from google-api-python-client>=1.2->PyDrive) (0.0.4)\n",
            "Requirement already satisfied: google-auth>=1.4.1 in /usr/local/lib/python3.6/dist-packages (from google-api-python-client>=1.2->PyDrive) (1.17.2)\n",
            "Requirement already satisfied: uritemplate<4dev,>=3.0.0 in /usr/local/lib/python3.6/dist-packages (from google-api-python-client>=1.2->PyDrive) (3.0.1)\n",
            "Requirement already satisfied: cachetools<5.0,>=2.0.0 in /usr/local/lib/python3.6/dist-packages (from google-auth>=1.4.1->google-api-python-client>=1.2->PyDrive) (4.1.1)\n",
            "Requirement already satisfied: setuptools>=40.3.0 in /usr/local/lib/python3.6/dist-packages (from google-auth>=1.4.1->google-api-python-client>=1.2->PyDrive) (50.3.0)\n"
          ],
          "name": "stdout"
        }
      ]
    },
    {
      "cell_type": "markdown",
      "metadata": {
        "id": "xjvL0IIG8Jd0"
      },
      "source": [
        "## Задание 0\n"
      ]
    },
    {
      "cell_type": "markdown",
      "metadata": {
        "id": "yaSxXHvxO0qo"
      },
      "source": [
        "Для всех  заданий будем использовать обезличенные транзакционные банковские данные. Для этого считайте в переменные **tr_mcc_codes, tr_types, transactions и gender_train** из одноимённых таблиц из папки data. Для таблицы transactions используйте только первые n=1000000 строк. Обратите внимание на разделители внутри каждого из файлов - они могут различаться!"
      ]
    },
    {
      "cell_type": "markdown",
      "metadata": {
        "id": "oP3lX9xC8Jd8"
      },
      "source": [
        "###  Описание данных\n",
        "#### Таблица ```transactions.csv```\n",
        "##### Описание\n",
        "Таблица содержит историю транзакций клиентов банка за один год и три месяца.\n",
        "\n",
        "##### Формат данных\n",
        "\n",
        "```\n",
        "customer_id,tr_datetime,mcc_code,tr_type,amount,term_id\n",
        "111111,15 01:40:52,1111,1000,-5224,111111\n",
        "111112,15 15:18:32,3333,2000,-100,11122233\n",
        "...\n",
        "```\n",
        "##### Описание полей\n",
        "\n",
        " - ```customer_id``` — идентификатор клиента;\n",
        " - ```tr_datetime``` — день и время совершения транзакции (дни нумеруются с начала данных);\n",
        " - ```mcc_code``` — mcc-код транзакции;\n",
        " - ```tr_type``` — тип транзакции;\n",
        " - ```amount``` — сумма транзакции в условных единицах со знаком; ```+``` — начисление средств клиенту (приходная транзакция), ```-``` — списание средств (расходная транзакция);\n",
        " - ```term_id``` — идентификатор терминала;\n",
        "\n",
        "\n",
        "#### Таблица ```gender_train.csv```\n",
        "\n",
        "##### Описание\n",
        "Данная таблица содержит информацию по полу для части клиентов, для которых он известен. Для остальных клиентов пол неизвестен.\n",
        "\n",
        "##### Формат данных\n",
        "```\n",
        "customer_id,gender\n",
        "111111,0\n",
        "111112,1\n",
        "...\n",
        "```\n",
        "\n",
        "##### Описание полей\n",
        " - ```customer_id``` — идентификатор клиента;\n",
        " - ```gender``` — пол клиента;\n",
        "\n",
        "### Таблица ```tr_mcc_codes.csv```\n",
        "\n",
        "##### Описание\n",
        "Данная таблица содержит описание mcc-кодов транзакций.\n",
        "\n",
        "##### Формат данных\n",
        "```\n",
        "mcc_code;mcc_description\n",
        "1000;словесное описание mcc-кода 1000\n",
        "2000;словесное описание mcc-кода 2000\n",
        "...\n",
        "```\n",
        "\n",
        "##### Описание полей\n",
        " - ```mcc_code``` – mcc-код транзакции;\n",
        " - ```mcc_description``` — описание mcc-кода транзакции.\n",
        "\n",
        "#### Таблица ```tr_types.csv```\n",
        "\n",
        "##### Описание\n",
        "Данная таблица содержит описание типов транзакций.\n",
        "\n",
        "##### Формат данных\n",
        "```\n",
        "tr_type;tr_description\n",
        "1000;словесное описание типа транзакции 1000\n",
        "2000;словесное описание типа транзакции 2000\n",
        "...\n",
        "```\n",
        "\n",
        "##### Описание полей\n",
        " - ```tr_type``` – тип транзакции;\n",
        " - ```tr_description``` — описание типа транзакции;"
      ]
    },
    {
      "cell_type": "code",
      "metadata": {
        "id": "dD4cgXg2FkHz"
      },
      "source": [
        ""
      ],
      "execution_count": null,
      "outputs": []
    },
    {
      "cell_type": "markdown",
      "metadata": {
        "id": "4J1qJS2gF5oE"
      },
      "source": [
        "Для всех заданий будем использовать обезличенные транзакционные банковские данные. Для этого считайте в переменные **tr_mcc_codes, tr_types, transactions и gender_train** из одноимённых таблиц из папки data. Для таблицы transactions используйте только первые n=1000000 строк. Обратите внимание на разделители внутри каждого из файлов - они могут различаться!"
      ]
    },
    {
      "cell_type": "code",
      "metadata": {
        "id": "9DRb0NgjFxup",
        "outputId": "67e45cf2-0c7f-4884-db70-a864821d9539",
        "colab": {
          "base_uri": "https://localhost:8080/"
        }
      },
      "source": [
        "\n",
        "tr_types = pd.read_csv(filepath_or_buffer = \"tr_types.csv\", sep = ';')\n",
        "tr_types\n"
      ],
      "execution_count": null,
      "outputs": [
        {
          "output_type": "execute_result",
          "data": {
            "text/html": [
              "<div>\n",
              "<style scoped>\n",
              "    .dataframe tbody tr th:only-of-type {\n",
              "        vertical-align: middle;\n",
              "    }\n",
              "\n",
              "    .dataframe tbody tr th {\n",
              "        vertical-align: top;\n",
              "    }\n",
              "\n",
              "    .dataframe thead th {\n",
              "        text-align: right;\n",
              "    }\n",
              "</style>\n",
              "<table border=\"1\" class=\"dataframe\">\n",
              "  <thead>\n",
              "    <tr style=\"text-align: right;\">\n",
              "      <th></th>\n",
              "      <th>tr_type</th>\n",
              "      <th>tr_description</th>\n",
              "    </tr>\n",
              "  </thead>\n",
              "  <tbody>\n",
              "    <tr>\n",
              "      <th>0</th>\n",
              "      <td>3200</td>\n",
              "      <td>Плата за предоставление услуг посредством моби...</td>\n",
              "    </tr>\n",
              "    <tr>\n",
              "      <th>1</th>\n",
              "      <td>3210</td>\n",
              "      <td>Плата за предоставление отчета по счету карты ...</td>\n",
              "    </tr>\n",
              "    <tr>\n",
              "      <th>2</th>\n",
              "      <td>3800</td>\n",
              "      <td>Плата за обслуживание банковской карты (за пер...</td>\n",
              "    </tr>\n",
              "    <tr>\n",
              "      <th>3</th>\n",
              "      <td>4000</td>\n",
              "      <td>Плата за получение наличных в Сбербанке</td>\n",
              "    </tr>\n",
              "    <tr>\n",
              "      <th>4</th>\n",
              "      <td>4001</td>\n",
              "      <td>Плата за получение наличных в Сбербанке (в дру...</td>\n",
              "    </tr>\n",
              "    <tr>\n",
              "      <th>...</th>\n",
              "      <td>...</td>\n",
              "      <td>...</td>\n",
              "    </tr>\n",
              "    <tr>\n",
              "      <th>150</th>\n",
              "      <td>2990</td>\n",
              "      <td>Списание по требованию</td>\n",
              "    </tr>\n",
              "    <tr>\n",
              "      <th>151</th>\n",
              "      <td>2992</td>\n",
              "      <td>Списание средств для погашения задолженности п...</td>\n",
              "    </tr>\n",
              "    <tr>\n",
              "      <th>152</th>\n",
              "      <td>3001</td>\n",
              "      <td>Комиссия за обслуживание ссудного счета</td>\n",
              "    </tr>\n",
              "    <tr>\n",
              "      <th>153</th>\n",
              "      <td>3030</td>\n",
              "      <td>Плата за обслуживание банковской карты (за пос...</td>\n",
              "    </tr>\n",
              "    <tr>\n",
              "      <th>154</th>\n",
              "      <td>3120</td>\n",
              "      <td>Плата за досрочный перевыпуск карты</td>\n",
              "    </tr>\n",
              "  </tbody>\n",
              "</table>\n",
              "<p>155 rows × 2 columns</p>\n",
              "</div>"
            ],
            "text/plain": [
              "     tr_type                                     tr_description\n",
              "0       3200  Плата за предоставление услуг посредством моби...\n",
              "1       3210  Плата за предоставление отчета по счету карты ...\n",
              "2       3800  Плата за обслуживание банковской карты (за пер...\n",
              "3       4000            Плата за получение наличных в Сбербанке\n",
              "4       4001  Плата за получение наличных в Сбербанке (в дру...\n",
              "..       ...                                                ...\n",
              "150     2990                             Списание по требованию\n",
              "151     2992  Списание средств для погашения задолженности п...\n",
              "152     3001            Комиссия за обслуживание ссудного счета\n",
              "153     3030  Плата за обслуживание банковской карты (за пос...\n",
              "154     3120                Плата за досрочный перевыпуск карты\n",
              "\n",
              "[155 rows x 2 columns]"
            ]
          },
          "metadata": {
            "tags": []
          },
          "execution_count": 8
        }
      ]
    },
    {
      "cell_type": "code",
      "metadata": {
        "id": "m7abGeYLF0fz",
        "outputId": "77a3643a-145e-4d85-97bd-57e4989d111e",
        "colab": {
          "base_uri": "https://localhost:8080/"
        }
      },
      "source": [
        "gender_train = pd.read_csv(filepath_or_buffer = \"gender_train.csv\", sep = ',')\n",
        "gender_train"
      ],
      "execution_count": null,
      "outputs": [
        {
          "output_type": "execute_result",
          "data": {
            "text/html": [
              "<div>\n",
              "<style scoped>\n",
              "    .dataframe tbody tr th:only-of-type {\n",
              "        vertical-align: middle;\n",
              "    }\n",
              "\n",
              "    .dataframe tbody tr th {\n",
              "        vertical-align: top;\n",
              "    }\n",
              "\n",
              "    .dataframe thead th {\n",
              "        text-align: right;\n",
              "    }\n",
              "</style>\n",
              "<table border=\"1\" class=\"dataframe\">\n",
              "  <thead>\n",
              "    <tr style=\"text-align: right;\">\n",
              "      <th></th>\n",
              "      <th>customer_id</th>\n",
              "      <th>gender</th>\n",
              "    </tr>\n",
              "  </thead>\n",
              "  <tbody>\n",
              "    <tr>\n",
              "      <th>0</th>\n",
              "      <td>10928546</td>\n",
              "      <td>1</td>\n",
              "    </tr>\n",
              "    <tr>\n",
              "      <th>1</th>\n",
              "      <td>69348468</td>\n",
              "      <td>1</td>\n",
              "    </tr>\n",
              "    <tr>\n",
              "      <th>2</th>\n",
              "      <td>61009479</td>\n",
              "      <td>0</td>\n",
              "    </tr>\n",
              "    <tr>\n",
              "      <th>3</th>\n",
              "      <td>74045822</td>\n",
              "      <td>0</td>\n",
              "    </tr>\n",
              "    <tr>\n",
              "      <th>4</th>\n",
              "      <td>27979606</td>\n",
              "      <td>1</td>\n",
              "    </tr>\n",
              "    <tr>\n",
              "      <th>...</th>\n",
              "      <td>...</td>\n",
              "      <td>...</td>\n",
              "    </tr>\n",
              "    <tr>\n",
              "      <th>8395</th>\n",
              "      <td>90417572</td>\n",
              "      <td>0</td>\n",
              "    </tr>\n",
              "    <tr>\n",
              "      <th>8396</th>\n",
              "      <td>66837341</td>\n",
              "      <td>0</td>\n",
              "    </tr>\n",
              "    <tr>\n",
              "      <th>8397</th>\n",
              "      <td>10758984</td>\n",
              "      <td>1</td>\n",
              "    </tr>\n",
              "    <tr>\n",
              "      <th>8398</th>\n",
              "      <td>11376556</td>\n",
              "      <td>0</td>\n",
              "    </tr>\n",
              "    <tr>\n",
              "      <th>8399</th>\n",
              "      <td>29190649</td>\n",
              "      <td>0</td>\n",
              "    </tr>\n",
              "  </tbody>\n",
              "</table>\n",
              "<p>8400 rows × 2 columns</p>\n",
              "</div>"
            ],
            "text/plain": [
              "      customer_id  gender\n",
              "0        10928546       1\n",
              "1        69348468       1\n",
              "2        61009479       0\n",
              "3        74045822       0\n",
              "4        27979606       1\n",
              "...           ...     ...\n",
              "8395     90417572       0\n",
              "8396     66837341       0\n",
              "8397     10758984       1\n",
              "8398     11376556       0\n",
              "8399     29190649       0\n",
              "\n",
              "[8400 rows x 2 columns]"
            ]
          },
          "metadata": {
            "tags": []
          },
          "execution_count": 9
        }
      ]
    },
    {
      "cell_type": "code",
      "metadata": {
        "id": "4E4D_8KlGEDy",
        "outputId": "818bf0c7-5447-4bd7-9cbe-4a091d6acfd4",
        "colab": {
          "base_uri": "https://localhost:8080/"
        }
      },
      "source": [
        "transactions = pd.read_csv(filepath_or_buffer = \"transactions.csv\", nrows=1000000, sep = ',')\n",
        "transactions"
      ],
      "execution_count": null,
      "outputs": [
        {
          "output_type": "execute_result",
          "data": {
            "text/html": [
              "<div>\n",
              "<style scoped>\n",
              "    .dataframe tbody tr th:only-of-type {\n",
              "        vertical-align: middle;\n",
              "    }\n",
              "\n",
              "    .dataframe tbody tr th {\n",
              "        vertical-align: top;\n",
              "    }\n",
              "\n",
              "    .dataframe thead th {\n",
              "        text-align: right;\n",
              "    }\n",
              "</style>\n",
              "<table border=\"1\" class=\"dataframe\">\n",
              "  <thead>\n",
              "    <tr style=\"text-align: right;\">\n",
              "      <th></th>\n",
              "      <th>customer_id</th>\n",
              "      <th>tr_datetime</th>\n",
              "      <th>mcc_code</th>\n",
              "      <th>tr_type</th>\n",
              "      <th>amount</th>\n",
              "      <th>term_id</th>\n",
              "    </tr>\n",
              "  </thead>\n",
              "  <tbody>\n",
              "    <tr>\n",
              "      <th>0</th>\n",
              "      <td>39026145</td>\n",
              "      <td>0 10:23:26</td>\n",
              "      <td>4814</td>\n",
              "      <td>1030</td>\n",
              "      <td>-2245.92</td>\n",
              "      <td>NaN</td>\n",
              "    </tr>\n",
              "    <tr>\n",
              "      <th>1</th>\n",
              "      <td>39026145</td>\n",
              "      <td>1 10:19:29</td>\n",
              "      <td>6011</td>\n",
              "      <td>7010</td>\n",
              "      <td>56147.89</td>\n",
              "      <td>NaN</td>\n",
              "    </tr>\n",
              "    <tr>\n",
              "      <th>2</th>\n",
              "      <td>39026145</td>\n",
              "      <td>1 10:20:56</td>\n",
              "      <td>4829</td>\n",
              "      <td>2330</td>\n",
              "      <td>-56147.89</td>\n",
              "      <td>NaN</td>\n",
              "    </tr>\n",
              "    <tr>\n",
              "      <th>3</th>\n",
              "      <td>39026145</td>\n",
              "      <td>1 10:39:54</td>\n",
              "      <td>5499</td>\n",
              "      <td>1010</td>\n",
              "      <td>-1392.47</td>\n",
              "      <td>NaN</td>\n",
              "    </tr>\n",
              "    <tr>\n",
              "      <th>4</th>\n",
              "      <td>39026145</td>\n",
              "      <td>2 15:33:42</td>\n",
              "      <td>5499</td>\n",
              "      <td>1010</td>\n",
              "      <td>-920.83</td>\n",
              "      <td>NaN</td>\n",
              "    </tr>\n",
              "    <tr>\n",
              "      <th>...</th>\n",
              "      <td>...</td>\n",
              "      <td>...</td>\n",
              "      <td>...</td>\n",
              "      <td>...</td>\n",
              "      <td>...</td>\n",
              "      <td>...</td>\n",
              "    </tr>\n",
              "    <tr>\n",
              "      <th>999995</th>\n",
              "      <td>98801178</td>\n",
              "      <td>269 10:29:06</td>\n",
              "      <td>5921</td>\n",
              "      <td>1010</td>\n",
              "      <td>-23016.59</td>\n",
              "      <td>127873</td>\n",
              "    </tr>\n",
              "    <tr>\n",
              "      <th>999996</th>\n",
              "      <td>98801178</td>\n",
              "      <td>270 10:26:45</td>\n",
              "      <td>5211</td>\n",
              "      <td>1010</td>\n",
              "      <td>-61380.88</td>\n",
              "      <td>10114209</td>\n",
              "    </tr>\n",
              "    <tr>\n",
              "      <th>999997</th>\n",
              "      <td>98801178</td>\n",
              "      <td>270 15:18:53</td>\n",
              "      <td>5921</td>\n",
              "      <td>1010</td>\n",
              "      <td>-11800.27</td>\n",
              "      <td>10105341</td>\n",
              "    </tr>\n",
              "    <tr>\n",
              "      <th>999998</th>\n",
              "      <td>98801178</td>\n",
              "      <td>271 12:47:13</td>\n",
              "      <td>5211</td>\n",
              "      <td>1010</td>\n",
              "      <td>-16170.59</td>\n",
              "      <td>10114209</td>\n",
              "    </tr>\n",
              "    <tr>\n",
              "      <th>999999</th>\n",
              "      <td>98801178</td>\n",
              "      <td>271 14:51:56</td>\n",
              "      <td>5921</td>\n",
              "      <td>1010</td>\n",
              "      <td>-10025.77</td>\n",
              "      <td>123991</td>\n",
              "    </tr>\n",
              "  </tbody>\n",
              "</table>\n",
              "<p>1000000 rows × 6 columns</p>\n",
              "</div>"
            ],
            "text/plain": [
              "        customer_id   tr_datetime  mcc_code  tr_type    amount   term_id\n",
              "0          39026145    0 10:23:26      4814     1030  -2245.92       NaN\n",
              "1          39026145    1 10:19:29      6011     7010  56147.89       NaN\n",
              "2          39026145    1 10:20:56      4829     2330 -56147.89       NaN\n",
              "3          39026145    1 10:39:54      5499     1010  -1392.47       NaN\n",
              "4          39026145    2 15:33:42      5499     1010   -920.83       NaN\n",
              "...             ...           ...       ...      ...       ...       ...\n",
              "999995     98801178  269 10:29:06      5921     1010 -23016.59    127873\n",
              "999996     98801178  270 10:26:45      5211     1010 -61380.88  10114209\n",
              "999997     98801178  270 15:18:53      5921     1010 -11800.27  10105341\n",
              "999998     98801178  271 12:47:13      5211     1010 -16170.59  10114209\n",
              "999999     98801178  271 14:51:56      5921     1010 -10025.77    123991\n",
              "\n",
              "[1000000 rows x 6 columns]"
            ]
          },
          "metadata": {
            "tags": []
          },
          "execution_count": 10
        }
      ]
    },
    {
      "cell_type": "code",
      "metadata": {
        "id": "0KhKLRqAHGrp",
        "outputId": "e4bfafbd-675c-4c16-96c4-cd98e5a970e6",
        "colab": {
          "base_uri": "https://localhost:8080/"
        }
      },
      "source": [
        "tr_mcc_codes = pd.read_csv(filepath_or_buffer = \"tr_mcc_codes.csv\", sep = ';')\n",
        "tr_mcc_codes"
      ],
      "execution_count": null,
      "outputs": [
        {
          "output_type": "execute_result",
          "data": {
            "text/html": [
              "<div>\n",
              "<style scoped>\n",
              "    .dataframe tbody tr th:only-of-type {\n",
              "        vertical-align: middle;\n",
              "    }\n",
              "\n",
              "    .dataframe tbody tr th {\n",
              "        vertical-align: top;\n",
              "    }\n",
              "\n",
              "    .dataframe thead th {\n",
              "        text-align: right;\n",
              "    }\n",
              "</style>\n",
              "<table border=\"1\" class=\"dataframe\">\n",
              "  <thead>\n",
              "    <tr style=\"text-align: right;\">\n",
              "      <th></th>\n",
              "      <th>mcc_code</th>\n",
              "      <th>mcc_description</th>\n",
              "    </tr>\n",
              "  </thead>\n",
              "  <tbody>\n",
              "    <tr>\n",
              "      <th>0</th>\n",
              "      <td>742</td>\n",
              "      <td>Ветеринарные услуги</td>\n",
              "    </tr>\n",
              "    <tr>\n",
              "      <th>1</th>\n",
              "      <td>1711</td>\n",
              "      <td>Генеральные подрядчики по вентиляции, теплосна...</td>\n",
              "    </tr>\n",
              "    <tr>\n",
              "      <th>2</th>\n",
              "      <td>1731</td>\n",
              "      <td>Подрядчики по электричеству</td>\n",
              "    </tr>\n",
              "    <tr>\n",
              "      <th>3</th>\n",
              "      <td>1799</td>\n",
              "      <td>Подрядчики, специализированная торговля — нигд...</td>\n",
              "    </tr>\n",
              "    <tr>\n",
              "      <th>4</th>\n",
              "      <td>2741</td>\n",
              "      <td>Разнообразные издательства/печатное дело</td>\n",
              "    </tr>\n",
              "    <tr>\n",
              "      <th>...</th>\n",
              "      <td>...</td>\n",
              "      <td>...</td>\n",
              "    </tr>\n",
              "    <tr>\n",
              "      <th>179</th>\n",
              "      <td>9211</td>\n",
              "      <td>Судовые выплаты, включая алименты и детскую по...</td>\n",
              "    </tr>\n",
              "    <tr>\n",
              "      <th>180</th>\n",
              "      <td>9222</td>\n",
              "      <td>Штрафы</td>\n",
              "    </tr>\n",
              "    <tr>\n",
              "      <th>181</th>\n",
              "      <td>9311</td>\n",
              "      <td>Налоговые платежи</td>\n",
              "    </tr>\n",
              "    <tr>\n",
              "      <th>182</th>\n",
              "      <td>9399</td>\n",
              "      <td>Правительственные услуги, нигде ранее не класс...</td>\n",
              "    </tr>\n",
              "    <tr>\n",
              "      <th>183</th>\n",
              "      <td>9402</td>\n",
              "      <td>Почтовые услуги — только правительство</td>\n",
              "    </tr>\n",
              "  </tbody>\n",
              "</table>\n",
              "<p>184 rows × 2 columns</p>\n",
              "</div>"
            ],
            "text/plain": [
              "     mcc_code                                    mcc_description\n",
              "0         742                                Ветеринарные услуги\n",
              "1        1711  Генеральные подрядчики по вентиляции, теплосна...\n",
              "2        1731                        Подрядчики по электричеству\n",
              "3        1799  Подрядчики, специализированная торговля — нигд...\n",
              "4        2741           Разнообразные издательства/печатное дело\n",
              "..        ...                                                ...\n",
              "179      9211  Судовые выплаты, включая алименты и детскую по...\n",
              "180      9222                                             Штрафы\n",
              "181      9311                                  Налоговые платежи\n",
              "182      9399  Правительственные услуги, нигде ранее не класс...\n",
              "183      9402             Почтовые услуги — только правительство\n",
              "\n",
              "[184 rows x 2 columns]"
            ]
          },
          "metadata": {
            "tags": []
          },
          "execution_count": 11
        }
      ]
    },
    {
      "cell_type": "code",
      "metadata": {
        "id": "ivY1anTIIBp5"
      },
      "source": [
        ""
      ],
      "execution_count": null,
      "outputs": []
    },
    {
      "cell_type": "markdown",
      "metadata": {
        "id": "04CYsBKz8JeB"
      },
      "source": [
        "## Задание 1\n",
        "\n"
      ]
    },
    {
      "cell_type": "markdown",
      "metadata": {
        "id": "1hcrfwsYN_Yz"
      },
      "source": [
        "1. Для столбца tr_type датафрейма transactions выберите произвольные 1000 строк с помощью метода sample\n",
        "2. В полученной на предыдущем этапе подвыборке найдите долю транзакций (стобец tr_description в датасете tr_types), в которой содержится подстрока 'POS' или 'ATM'"
      ]
    },
    {
      "cell_type": "code",
      "metadata": {
        "id": "houW9x7V-plP",
        "outputId": "213dffc6-365c-4977-e26c-803d4c132841",
        "colab": {
          "base_uri": "https://localhost:8080/",
          "height": 114
        }
      },
      "source": [
        "transactions_tr_type = transactions.sample(n = 1000)\n",
        "table = pd.merge(transactions_tr_type, tr_types, on=\"tr_type\")\n",
        "transactions_tr_type =  table[table.tr_description.str.contains(\"POS|ATM\")]\n",
        "print()\n",
        "print(sub_table.shape[0]/table.shape[0])\n",
        "print(sub_table.size/table.size)\n",
        "#y1*x/y2*x\n",
        "transactions_tr_type.nlargest(1, 'amount')"
      ],
      "execution_count": null,
      "outputs": [
        {
          "output_type": "stream",
          "text": [
            "0.414\n",
            "0.414\n"
          ],
          "name": "stdout"
        },
        {
          "output_type": "execute_result",
          "data": {
            "text/html": [
              "<div>\n",
              "<style scoped>\n",
              "    .dataframe tbody tr th:only-of-type {\n",
              "        vertical-align: middle;\n",
              "    }\n",
              "\n",
              "    .dataframe tbody tr th {\n",
              "        vertical-align: top;\n",
              "    }\n",
              "\n",
              "    .dataframe thead th {\n",
              "        text-align: right;\n",
              "    }\n",
              "</style>\n",
              "<table border=\"1\" class=\"dataframe\">\n",
              "  <thead>\n",
              "    <tr style=\"text-align: right;\">\n",
              "      <th></th>\n",
              "      <th>customer_id</th>\n",
              "      <th>tr_datetime</th>\n",
              "      <th>mcc_code</th>\n",
              "      <th>tr_type</th>\n",
              "      <th>amount</th>\n",
              "      <th>term_id</th>\n",
              "      <th>tr_description</th>\n",
              "    </tr>\n",
              "  </thead>\n",
              "  <tbody>\n",
              "    <tr>\n",
              "      <th>956</th>\n",
              "      <td>15729290</td>\n",
              "      <td>287 19:14:08</td>\n",
              "      <td>6010</td>\n",
              "      <td>7020</td>\n",
              "      <td>377313.85</td>\n",
              "      <td>657171</td>\n",
              "      <td>Взнос наличных через POS</td>\n",
              "    </tr>\n",
              "  </tbody>\n",
              "</table>\n",
              "</div>"
            ],
            "text/plain": [
              "     customer_id   tr_datetime  ...  term_id            tr_description\n",
              "956     15729290  287 19:14:08  ...   657171  Взнос наличных через POS\n",
              "\n",
              "[1 rows x 7 columns]"
            ]
          },
          "metadata": {
            "tags": []
          },
          "execution_count": 17
        }
      ]
    },
    {
      "cell_type": "code",
      "metadata": {
        "id": "856kRzmK78be",
        "outputId": "e16ae480-8903-48d9-8379-d7ae18299452",
        "colab": {
          "base_uri": "https://localhost:8080/",
          "height": 419
        }
      },
      "source": [
        "transactions"
      ],
      "execution_count": null,
      "outputs": [
        {
          "output_type": "execute_result",
          "data": {
            "text/html": [
              "<div>\n",
              "<style scoped>\n",
              "    .dataframe tbody tr th:only-of-type {\n",
              "        vertical-align: middle;\n",
              "    }\n",
              "\n",
              "    .dataframe tbody tr th {\n",
              "        vertical-align: top;\n",
              "    }\n",
              "\n",
              "    .dataframe thead th {\n",
              "        text-align: right;\n",
              "    }\n",
              "</style>\n",
              "<table border=\"1\" class=\"dataframe\">\n",
              "  <thead>\n",
              "    <tr style=\"text-align: right;\">\n",
              "      <th></th>\n",
              "      <th>customer_id</th>\n",
              "      <th>tr_datetime</th>\n",
              "      <th>mcc_code</th>\n",
              "      <th>tr_type</th>\n",
              "      <th>amount</th>\n",
              "      <th>term_id</th>\n",
              "    </tr>\n",
              "  </thead>\n",
              "  <tbody>\n",
              "    <tr>\n",
              "      <th>0</th>\n",
              "      <td>39026145</td>\n",
              "      <td>0 10:23:26</td>\n",
              "      <td>4814</td>\n",
              "      <td>1030</td>\n",
              "      <td>-2245.92</td>\n",
              "      <td>NaN</td>\n",
              "    </tr>\n",
              "    <tr>\n",
              "      <th>1</th>\n",
              "      <td>39026145</td>\n",
              "      <td>1 10:19:29</td>\n",
              "      <td>6011</td>\n",
              "      <td>7010</td>\n",
              "      <td>56147.89</td>\n",
              "      <td>NaN</td>\n",
              "    </tr>\n",
              "    <tr>\n",
              "      <th>2</th>\n",
              "      <td>39026145</td>\n",
              "      <td>1 10:20:56</td>\n",
              "      <td>4829</td>\n",
              "      <td>2330</td>\n",
              "      <td>-56147.89</td>\n",
              "      <td>NaN</td>\n",
              "    </tr>\n",
              "    <tr>\n",
              "      <th>3</th>\n",
              "      <td>39026145</td>\n",
              "      <td>1 10:39:54</td>\n",
              "      <td>5499</td>\n",
              "      <td>1010</td>\n",
              "      <td>-1392.47</td>\n",
              "      <td>NaN</td>\n",
              "    </tr>\n",
              "    <tr>\n",
              "      <th>4</th>\n",
              "      <td>39026145</td>\n",
              "      <td>2 15:33:42</td>\n",
              "      <td>5499</td>\n",
              "      <td>1010</td>\n",
              "      <td>-920.83</td>\n",
              "      <td>NaN</td>\n",
              "    </tr>\n",
              "    <tr>\n",
              "      <th>...</th>\n",
              "      <td>...</td>\n",
              "      <td>...</td>\n",
              "      <td>...</td>\n",
              "      <td>...</td>\n",
              "      <td>...</td>\n",
              "      <td>...</td>\n",
              "    </tr>\n",
              "    <tr>\n",
              "      <th>999995</th>\n",
              "      <td>98801178</td>\n",
              "      <td>269 10:29:06</td>\n",
              "      <td>5921</td>\n",
              "      <td>1010</td>\n",
              "      <td>-23016.59</td>\n",
              "      <td>127873</td>\n",
              "    </tr>\n",
              "    <tr>\n",
              "      <th>999996</th>\n",
              "      <td>98801178</td>\n",
              "      <td>270 10:26:45</td>\n",
              "      <td>5211</td>\n",
              "      <td>1010</td>\n",
              "      <td>-61380.88</td>\n",
              "      <td>10114209</td>\n",
              "    </tr>\n",
              "    <tr>\n",
              "      <th>999997</th>\n",
              "      <td>98801178</td>\n",
              "      <td>270 15:18:53</td>\n",
              "      <td>5921</td>\n",
              "      <td>1010</td>\n",
              "      <td>-11800.27</td>\n",
              "      <td>10105341</td>\n",
              "    </tr>\n",
              "    <tr>\n",
              "      <th>999998</th>\n",
              "      <td>98801178</td>\n",
              "      <td>271 12:47:13</td>\n",
              "      <td>5211</td>\n",
              "      <td>1010</td>\n",
              "      <td>-16170.59</td>\n",
              "      <td>10114209</td>\n",
              "    </tr>\n",
              "    <tr>\n",
              "      <th>999999</th>\n",
              "      <td>98801178</td>\n",
              "      <td>271 14:51:56</td>\n",
              "      <td>5921</td>\n",
              "      <td>1010</td>\n",
              "      <td>-10025.77</td>\n",
              "      <td>123991</td>\n",
              "    </tr>\n",
              "  </tbody>\n",
              "</table>\n",
              "<p>1000000 rows × 6 columns</p>\n",
              "</div>"
            ],
            "text/plain": [
              "        customer_id   tr_datetime  mcc_code  tr_type    amount   term_id\n",
              "0          39026145    0 10:23:26      4814     1030  -2245.92       NaN\n",
              "1          39026145    1 10:19:29      6011     7010  56147.89       NaN\n",
              "2          39026145    1 10:20:56      4829     2330 -56147.89       NaN\n",
              "3          39026145    1 10:39:54      5499     1010  -1392.47       NaN\n",
              "4          39026145    2 15:33:42      5499     1010   -920.83       NaN\n",
              "...             ...           ...       ...      ...       ...       ...\n",
              "999995     98801178  269 10:29:06      5921     1010 -23016.59    127873\n",
              "999996     98801178  270 10:26:45      5211     1010 -61380.88  10114209\n",
              "999997     98801178  270 15:18:53      5921     1010 -11800.27  10105341\n",
              "999998     98801178  271 12:47:13      5211     1010 -16170.59  10114209\n",
              "999999     98801178  271 14:51:56      5921     1010 -10025.77    123991\n",
              "\n",
              "[1000000 rows x 6 columns]"
            ]
          },
          "metadata": {
            "tags": []
          },
          "execution_count": 13
        }
      ]
    },
    {
      "cell_type": "markdown",
      "metadata": {
        "id": "fiZBDIZt8JeS"
      },
      "source": [
        "## Задание 2 \n"
      ]
    },
    {
      "cell_type": "markdown",
      "metadata": {
        "id": "FFKeBUThOCrz"
      },
      "source": [
        "1. Для столюца tr_type датафрейма transactions посчитайте частоту встречаемости всех типов транзакций tr_type в transactions.\n",
        "2. Выведите топ-10 транзакций по частоте встречаемости."
      ]
    },
    {
      "cell_type": "code",
      "metadata": {
        "id": "EUKP2PzQKinD",
        "outputId": "5f8cfa81-7a1e-4dcf-8d77-64eccb70883f",
        "colab": {
          "base_uri": "https://localhost:8080/",
          "height": 646
        }
      },
      "source": [
        "top = transactions.groupby('tr_type').size().sort_values(ascending=False).head(10)\n",
        "topalt = transactions.groupby('tr_type').size().sort_values().tail(10)\n",
        "print(top)\n",
        "print(topalt)\n",
        "ans = transactions.groupby(['tr_type', 'mcc_description']).size()\n",
        "print(ans)"
      ],
      "execution_count": null,
      "outputs": [
        {
          "output_type": "stream",
          "text": [
            "tr_type\n",
            "1010    231117\n",
            "2010    151166\n",
            "7070    149006\n",
            "1110    137658\n",
            "1030    118975\n",
            "2370     49830\n",
            "7010     28972\n",
            "7030     26078\n",
            "7071     15781\n",
            "1100     15476\n",
            "dtype: int64\n",
            "tr_type\n",
            "1100     15476\n",
            "7071     15781\n",
            "7030     26078\n",
            "7010     28972\n",
            "2370     49830\n",
            "1030    118975\n",
            "1110    137658\n",
            "7070    149006\n",
            "2010    151166\n",
            "1010    231117\n",
            "dtype: int64\n",
            "tr_type  mcc_description                                                                            \n",
            "1000     Места общественного питания, рестораны                                                           4\n",
            "         Отели, мотели, базы отдыха, сервисы бронирования                                                 3\n",
            "         Финансовые институты — снятие наличности вручную                                                 1\n",
            "1010     Авиалинии, авиакомпании                                                                        482\n",
            "         Авиалинии, авиакомпании, нигде более не классифицированные                                      64\n",
            "                                                                                                       ... \n",
            "8100     Бары, коктейль-бары, дискотеки, ночные клубы и таверны — места продажи алкогольных напитков      1\n",
            "         Звонки с использованием телефонов, считывающих магнитную ленту                                   1\n",
            "8145     Финансовые институты — снятие наличности автоматически                                           8\n",
            "8146     Звонки с использованием телефонов, считывающих магнитную ленту                                   1\n",
            "         Финансовые институты — снятие наличности автоматически                                           2\n",
            "Length: 834, dtype: int64\n"
          ],
          "name": "stdout"
        }
      ]
    },
    {
      "cell_type": "markdown",
      "metadata": {
        "id": "mktm_JeA8JeX"
      },
      "source": [
        "## Задание 3\n",
        "1. В датафрейме transactions найдите клиента с максимальной суммой приходов на карту\n",
        "2. В датафрейме transactions найдите клиента с максимальной суммой расходов по карте\n",
        "3. Найдите разницу для этих клиентов между суммой расходов и суммой приходов"
      ]
    },
    {
      "cell_type": "code",
      "metadata": {
        "id": "JVad9hdQNwm5"
      },
      "source": [
        "inc = transactions[transactions['amount'] > 0]\n",
        "outc = transactions[transactions['amount'] < 0]\n",
        "mostinc = inc.groupby('customer_id').sum()\n",
        "mostoutc = outc.groupby('customer_id').sum()"
      ],
      "execution_count": null,
      "outputs": []
    },
    {
      "cell_type": "code",
      "metadata": {
        "id": "f3Qgp5oJLrMY",
        "outputId": "8285aecb-0719-4759-e07c-8592ee002a16",
        "colab": {
          "base_uri": "https://localhost:8080/",
          "height": 450
        }
      },
      "source": [
        "mostinc"
      ],
      "execution_count": null,
      "outputs": [
        {
          "output_type": "execute_result",
          "data": {
            "text/html": [
              "<div>\n",
              "<style scoped>\n",
              "    .dataframe tbody tr th:only-of-type {\n",
              "        vertical-align: middle;\n",
              "    }\n",
              "\n",
              "    .dataframe tbody tr th {\n",
              "        vertical-align: top;\n",
              "    }\n",
              "\n",
              "    .dataframe thead th {\n",
              "        text-align: right;\n",
              "    }\n",
              "</style>\n",
              "<table border=\"1\" class=\"dataframe\">\n",
              "  <thead>\n",
              "    <tr style=\"text-align: right;\">\n",
              "      <th></th>\n",
              "      <th>mcc_code</th>\n",
              "      <th>tr_type</th>\n",
              "      <th>amount</th>\n",
              "    </tr>\n",
              "    <tr>\n",
              "      <th>customer_id</th>\n",
              "      <th></th>\n",
              "      <th></th>\n",
              "      <th></th>\n",
              "    </tr>\n",
              "  </thead>\n",
              "  <tbody>\n",
              "    <tr>\n",
              "      <th>115617</th>\n",
              "      <td>6011</td>\n",
              "      <td>7010</td>\n",
              "      <td>786070.52</td>\n",
              "    </tr>\n",
              "    <tr>\n",
              "      <th>117556</th>\n",
              "      <td>162296</td>\n",
              "      <td>189290</td>\n",
              "      <td>2379547.78</td>\n",
              "    </tr>\n",
              "    <tr>\n",
              "      <th>186730</th>\n",
              "      <td>240424</td>\n",
              "      <td>280925</td>\n",
              "      <td>17371260.17</td>\n",
              "    </tr>\n",
              "    <tr>\n",
              "      <th>189257</th>\n",
              "      <td>246430</td>\n",
              "      <td>288224</td>\n",
              "      <td>11695381.77</td>\n",
              "    </tr>\n",
              "    <tr>\n",
              "      <th>293048</th>\n",
              "      <td>54091</td>\n",
              "      <td>63500</td>\n",
              "      <td>3228503.93</td>\n",
              "    </tr>\n",
              "    <tr>\n",
              "      <th>...</th>\n",
              "      <td>...</td>\n",
              "      <td>...</td>\n",
              "      <td>...</td>\n",
              "    </tr>\n",
              "    <tr>\n",
              "      <th>99859464</th>\n",
              "      <td>12020</td>\n",
              "      <td>14100</td>\n",
              "      <td>729922.63</td>\n",
              "    </tr>\n",
              "    <tr>\n",
              "      <th>99864691</th>\n",
              "      <td>102186</td>\n",
              "      <td>119190</td>\n",
              "      <td>577200.37</td>\n",
              "    </tr>\n",
              "    <tr>\n",
              "      <th>99900908</th>\n",
              "      <td>18033</td>\n",
              "      <td>21030</td>\n",
              "      <td>148230.44</td>\n",
              "    </tr>\n",
              "    <tr>\n",
              "      <th>99953525</th>\n",
              "      <td>96162</td>\n",
              "      <td>112470</td>\n",
              "      <td>1897798.84</td>\n",
              "    </tr>\n",
              "    <tr>\n",
              "      <th>99999680</th>\n",
              "      <td>300513</td>\n",
              "      <td>352113</td>\n",
              "      <td>6031990.79</td>\n",
              "    </tr>\n",
              "  </tbody>\n",
              "</table>\n",
              "<p>1725 rows × 3 columns</p>\n",
              "</div>"
            ],
            "text/plain": [
              "             mcc_code  tr_type       amount\n",
              "customer_id                                \n",
              "115617           6011     7010    786070.52\n",
              "117556         162296   189290   2379547.78\n",
              "186730         240424   280925  17371260.17\n",
              "189257         246430   288224  11695381.77\n",
              "293048          54091    63500   3228503.93\n",
              "...               ...      ...          ...\n",
              "99859464        12020    14100    729922.63\n",
              "99864691       102186   119190    577200.37\n",
              "99900908        18033    21030    148230.44\n",
              "99953525        96162   112470   1897798.84\n",
              "99999680       300513   352113   6031990.79\n",
              "\n",
              "[1725 rows x 3 columns]"
            ]
          },
          "metadata": {
            "tags": []
          },
          "execution_count": 59
        }
      ]
    },
    {
      "cell_type": "code",
      "metadata": {
        "id": "VhdBlKicNLJ4",
        "outputId": "85ebd3ea-dccd-4e74-9571-23f2d0b66956",
        "colab": {
          "base_uri": "https://localhost:8080/",
          "height": 153
        }
      },
      "source": [
        "print(\"1 \", mostinc.idxmax())\n",
        "print(\"2 \", mostoutc.idxmin()[2])\n",
        "mostinc = mostinc.sort_values('amount', ascending=False).head(3)\n",
        "mostoutc = mostoutc.sort_values('amount', ascending=True).head(3)\n",
        "print(\"1 \", mostinc.index[0])\n",
        "print(\"2 \", mostoutc.index[0])\n",
        "print(\"3 \", mostinc['amount'].values[0] - abs(mostoutc['amount'].values[0]))"
      ],
      "execution_count": null,
      "outputs": [
        {
          "output_type": "stream",
          "text": [
            "1  mcc_code    70780820\n",
            "tr_type     70780820\n",
            "amount      70780820\n",
            "dtype: int64\n",
            "2  70780820\n",
            "1  70780820\n",
            "2  70780820\n",
            "3  -1837317.979973793\n"
          ],
          "name": "stdout"
        }
      ]
    },
    {
      "cell_type": "markdown",
      "metadata": {
        "id": "BYrJ5b_E8Jee"
      },
      "source": [
        "## Задание 4\n",
        "1. Найдите среднее арифметическое и медиану по всем типам транзакций из топ 10 из задания 2\n",
        "1. Найдите среднее арифметическое и медиану по всем типам транзакций для клиентов из задания 3"
      ]
    },
    {
      "cell_type": "code",
      "metadata": {
        "id": "KDqA838ZOk0U",
        "outputId": "58d9c8e4-9c77-40f6-a38c-a8143fb15594",
        "colab": {
          "base_uri": "https://localhost:8080/",
          "height": 119
        }
      },
      "source": [
        "print(\"1\")\n",
        "print(\"ср ариф: \", top.mean())\n",
        "print(\"медиана: \", top.median())\n",
        "print(\"2\")\n",
        "person1_trans = transactions[transactions.customer_id == mostinc.index[0]]\n",
        "person1_trans_gr =  person1_trans.groupby('tr_type').size()\n",
        "print(\"ср ариф: \", person1_trans_gr.mean())\n",
        "print(\"медиана: \", person1_trans_gr.median())"
      ],
      "execution_count": null,
      "outputs": [
        {
          "output_type": "stream",
          "text": [
            "1\n",
            "ср ариф:  92405.9\n",
            "медиана:  84402.5\n",
            "2\n",
            "ср ариф:  6829.307692307692\n",
            "медиана:  156.0\n"
          ],
          "name": "stdout"
        }
      ]
    },
    {
      "cell_type": "markdown",
      "metadata": {
        "id": "BYXwM4l3QDBu"
      },
      "source": [
        "## Подготовка для заданий 5-8"
      ]
    },
    {
      "cell_type": "markdown",
      "metadata": {
        "id": "XWQzFeKcQHRe"
      },
      "source": [
        "*Из заданий 5-8 нужно выполнить минимум два любых*\n",
        "\n",
        "Соедините transactions с всеми остальными таблицами (tr_mcc_codes, tr_types, gender_train). Причём с gender_train необходимо смёрджиться с помощью left join, а с оставшимися датафреймами - через inner.\n",
        "После получения результата таблицы gender_train, tr_types, tr_mcc_codes можно удалить. В результате соединения датафреймов должно получиться 999584 строки."
      ]
    },
    {
      "cell_type": "code",
      "metadata": {
        "id": "sndJxjJ7QQf5",
        "outputId": "264186fa-0d3f-4c81-ca36-34a3400bce79",
        "colab": {
          "base_uri": "https://localhost:8080/",
          "height": 34
        }
      },
      "source": [
        "transactions = pd.merge(transactions, gender_train, how='left')\n",
        "transactions = pd.merge(transactions, tr_mcc_codes, how='inner')\n",
        "transactions = pd.merge(transactions, tr_types, how='inner')\n",
        "transactions.shape"
      ],
      "execution_count": null,
      "outputs": [
        {
          "output_type": "execute_result",
          "data": {
            "text/plain": [
              "(999584, 9)"
            ]
          },
          "metadata": {
            "tags": []
          },
          "execution_count": 36
        }
      ]
    },
    {
      "cell_type": "code",
      "metadata": {
        "id": "Kman5P2TPe0n",
        "outputId": "9f74e8c0-781b-4516-bc3d-8c0fc82535a0",
        "colab": {
          "base_uri": "https://localhost:8080/",
          "height": 419
        }
      },
      "source": [
        "transactions"
      ],
      "execution_count": null,
      "outputs": [
        {
          "output_type": "execute_result",
          "data": {
            "text/html": [
              "<div>\n",
              "<style scoped>\n",
              "    .dataframe tbody tr th:only-of-type {\n",
              "        vertical-align: middle;\n",
              "    }\n",
              "\n",
              "    .dataframe tbody tr th {\n",
              "        vertical-align: top;\n",
              "    }\n",
              "\n",
              "    .dataframe thead th {\n",
              "        text-align: right;\n",
              "    }\n",
              "</style>\n",
              "<table border=\"1\" class=\"dataframe\">\n",
              "  <thead>\n",
              "    <tr style=\"text-align: right;\">\n",
              "      <th></th>\n",
              "      <th>customer_id</th>\n",
              "      <th>tr_datetime</th>\n",
              "      <th>mcc_code</th>\n",
              "      <th>tr_type</th>\n",
              "      <th>amount</th>\n",
              "      <th>term_id</th>\n",
              "      <th>gender</th>\n",
              "      <th>mcc_description</th>\n",
              "      <th>tr_description</th>\n",
              "    </tr>\n",
              "  </thead>\n",
              "  <tbody>\n",
              "    <tr>\n",
              "      <th>0</th>\n",
              "      <td>39026145</td>\n",
              "      <td>0 10:23:26</td>\n",
              "      <td>4814</td>\n",
              "      <td>1030</td>\n",
              "      <td>-2245.92</td>\n",
              "      <td>NaN</td>\n",
              "      <td>1.0</td>\n",
              "      <td>Звонки с использованием телефонов, считывающих...</td>\n",
              "      <td>Оплата услуги. Банкоматы СБ РФ</td>\n",
              "    </tr>\n",
              "    <tr>\n",
              "      <th>1</th>\n",
              "      <td>39026145</td>\n",
              "      <td>6 07:08:31</td>\n",
              "      <td>4814</td>\n",
              "      <td>1030</td>\n",
              "      <td>-5614.79</td>\n",
              "      <td>NaN</td>\n",
              "      <td>1.0</td>\n",
              "      <td>Звонки с использованием телефонов, считывающих...</td>\n",
              "      <td>Оплата услуги. Банкоматы СБ РФ</td>\n",
              "    </tr>\n",
              "    <tr>\n",
              "      <th>2</th>\n",
              "      <td>39026145</td>\n",
              "      <td>8 07:06:10</td>\n",
              "      <td>4814</td>\n",
              "      <td>1030</td>\n",
              "      <td>-1122.96</td>\n",
              "      <td>NaN</td>\n",
              "      <td>1.0</td>\n",
              "      <td>Звонки с использованием телефонов, считывающих...</td>\n",
              "      <td>Оплата услуги. Банкоматы СБ РФ</td>\n",
              "    </tr>\n",
              "    <tr>\n",
              "      <th>3</th>\n",
              "      <td>39026145</td>\n",
              "      <td>11 08:49:03</td>\n",
              "      <td>4814</td>\n",
              "      <td>1030</td>\n",
              "      <td>-2245.92</td>\n",
              "      <td>NaN</td>\n",
              "      <td>1.0</td>\n",
              "      <td>Звонки с использованием телефонов, считывающих...</td>\n",
              "      <td>Оплата услуги. Банкоматы СБ РФ</td>\n",
              "    </tr>\n",
              "    <tr>\n",
              "      <th>4</th>\n",
              "      <td>39026145</td>\n",
              "      <td>11 14:12:08</td>\n",
              "      <td>4814</td>\n",
              "      <td>1030</td>\n",
              "      <td>-2245.92</td>\n",
              "      <td>NaN</td>\n",
              "      <td>1.0</td>\n",
              "      <td>Звонки с использованием телефонов, считывающих...</td>\n",
              "      <td>Оплата услуги. Банкоматы СБ РФ</td>\n",
              "    </tr>\n",
              "    <tr>\n",
              "      <th>...</th>\n",
              "      <td>...</td>\n",
              "      <td>...</td>\n",
              "      <td>...</td>\n",
              "      <td>...</td>\n",
              "      <td>...</td>\n",
              "      <td>...</td>\n",
              "      <td>...</td>\n",
              "      <td>...</td>\n",
              "      <td>...</td>\n",
              "    </tr>\n",
              "    <tr>\n",
              "      <th>999579</th>\n",
              "      <td>36837532</td>\n",
              "      <td>18 23:38:60</td>\n",
              "      <td>3000</td>\n",
              "      <td>6000</td>\n",
              "      <td>1297824.89</td>\n",
              "      <td>NaN</td>\n",
              "      <td>NaN</td>\n",
              "      <td>Авиалинии, авиакомпании</td>\n",
              "      <td>Возврат  покупки. ТУ СБ РФ</td>\n",
              "    </tr>\n",
              "    <tr>\n",
              "      <th>999580</th>\n",
              "      <td>6808459</td>\n",
              "      <td>206 19:00:10</td>\n",
              "      <td>3000</td>\n",
              "      <td>6000</td>\n",
              "      <td>124693.24</td>\n",
              "      <td>NaN</td>\n",
              "      <td>NaN</td>\n",
              "      <td>Авиалинии, авиакомпании</td>\n",
              "      <td>Возврат  покупки. ТУ СБ РФ</td>\n",
              "    </tr>\n",
              "    <tr>\n",
              "      <th>999581</th>\n",
              "      <td>83759123</td>\n",
              "      <td>90 22:40:57</td>\n",
              "      <td>3000</td>\n",
              "      <td>6000</td>\n",
              "      <td>218976.79</td>\n",
              "      <td>NaN</td>\n",
              "      <td>NaN</td>\n",
              "      <td>Авиалинии, авиакомпании</td>\n",
              "      <td>Возврат  покупки. ТУ СБ РФ</td>\n",
              "    </tr>\n",
              "    <tr>\n",
              "      <th>999582</th>\n",
              "      <td>89619970</td>\n",
              "      <td>104 23:39:35</td>\n",
              "      <td>3000</td>\n",
              "      <td>6000</td>\n",
              "      <td>408307.49</td>\n",
              "      <td>NaN</td>\n",
              "      <td>NaN</td>\n",
              "      <td>Авиалинии, авиакомпании</td>\n",
              "      <td>Возврат  покупки. ТУ СБ РФ</td>\n",
              "    </tr>\n",
              "    <tr>\n",
              "      <th>999583</th>\n",
              "      <td>89619970</td>\n",
              "      <td>105 23:38:49</td>\n",
              "      <td>3000</td>\n",
              "      <td>6000</td>\n",
              "      <td>204153.74</td>\n",
              "      <td>NaN</td>\n",
              "      <td>NaN</td>\n",
              "      <td>Авиалинии, авиакомпании</td>\n",
              "      <td>Возврат  покупки. ТУ СБ РФ</td>\n",
              "    </tr>\n",
              "  </tbody>\n",
              "</table>\n",
              "<p>999584 rows × 9 columns</p>\n",
              "</div>"
            ],
            "text/plain": [
              "        customer_id  ...                  tr_description\n",
              "0          39026145  ...  Оплата услуги. Банкоматы СБ РФ\n",
              "1          39026145  ...  Оплата услуги. Банкоматы СБ РФ\n",
              "2          39026145  ...  Оплата услуги. Банкоматы СБ РФ\n",
              "3          39026145  ...  Оплата услуги. Банкоматы СБ РФ\n",
              "4          39026145  ...  Оплата услуги. Банкоматы СБ РФ\n",
              "...             ...  ...                             ...\n",
              "999579     36837532  ...      Возврат  покупки. ТУ СБ РФ\n",
              "999580      6808459  ...      Возврат  покупки. ТУ СБ РФ\n",
              "999581     83759123  ...      Возврат  покупки. ТУ СБ РФ\n",
              "999582     89619970  ...      Возврат  покупки. ТУ СБ РФ\n",
              "999583     89619970  ...      Возврат  покупки. ТУ СБ РФ\n",
              "\n",
              "[999584 rows x 9 columns]"
            ]
          },
          "metadata": {
            "tags": []
          },
          "execution_count": 63
        }
      ]
    },
    {
      "cell_type": "markdown",
      "metadata": {
        "id": "8vrFauJ8QgmT"
      },
      "source": [
        "## Задание 5"
      ]
    },
    {
      "cell_type": "markdown",
      "metadata": {
        "id": "rOjEQ5xyQfE_"
      },
      "source": [
        "1. Определите модуль разницы между средними тратами женщин и мужчин (трата - отрицательное значение amount).\n",
        "2. Определите модуль разницы между средними поступлениями у мужчин и женщин\n",
        "\n",
        "Обратите внимание, что для вычисления модуля разности точных знаний о том, \n",
        "какой класc относится к мужчинам, а какой - к женщинам, не требуется."
      ]
    },
    {
      "cell_type": "code",
      "metadata": {
        "id": "5b4SomZpUBJ5",
        "outputId": "6060121d-e3d1-413c-fd4a-dc7261a09c2d",
        "colab": {
          "base_uri": "https://localhost:8080/",
          "height": 51
        }
      },
      "source": [
        "table5 = transactions[transactions['amount'] < 0]\n",
        "#предположим 0 - это мужчина\n",
        "males = table5[table5.gender == 0]['amount'].mean()\n",
        "fmales = table5[table5.gender == 1]['amount'].mean()\n",
        "print(males - fmales, \"М\")\n",
        "\n",
        "table5_2 = transactions[transactions['amount'] > 0]\n",
        "#предположим 0 - это мужчина\n",
        "males2 = table5_2[table5_2.gender == 0]['amount'].mean()\n",
        "fmales2 = table5_2[table5_2.gender == 1]['amount'].mean()\n",
        "print(males2 - fmales2, \"Ж\")"
      ],
      "execution_count": null,
      "outputs": [
        {
          "output_type": "stream",
          "text": [
            "32718.05492021877 М\n",
            "63366.57104801515 Ж\n"
          ],
          "name": "stdout"
        }
      ]
    },
    {
      "cell_type": "markdown",
      "metadata": {
        "id": "DSHFLbepQ7G1"
      },
      "source": [
        "## Задание 6"
      ]
    },
    {
      "cell_type": "markdown",
      "metadata": {
        "id": "2EF1490bQ-17"
      },
      "source": [
        "1. По всем типам транзакций рассчитайте максимальную сумму прихода на карту (из строго положительных сумм по столбцу amount) отдельно для мужчин и женщин (назовите ее \"max_income\"). Оставьте по 10 транзакций для мужчин и для женщин, наименьших среди всех транзакций по полученным значениям \"max_income\". \n",
        "2. Выделите среди них те, которые встречаются одновременно и у мужчин, и у женщин"
      ]
    },
    {
      "cell_type": "code",
      "metadata": {
        "id": "E9b2NofsWkwm",
        "outputId": "f98e7442-aeb8-4530-af7a-95880abe22e5",
        "colab": {
          "base_uri": "https://localhost:8080/",
          "height": 629
        }
      },
      "source": [
        "table6 = transactions[transactions['amount'] > 0]\n",
        "#предположим 0 - это мужчина\n",
        "males  = table6[table6['gender'] == 0]\n",
        "fmales = table6[table6['gender'] == 1]\n",
        "max_income_m = males.groupby('tr_type')['amount'].max().sort_values().head(10)\n",
        "print(\"1\")\n",
        "print(\"males \", '\\n', max_income_m)\n",
        "\n",
        "max_income_f = fmales.groupby('tr_type')['amount'].max().sort_values().head(10)\n",
        "print(\"fmales \", '\\n', max_income_f)\n",
        "\n",
        "both_g = pd.merge(max_income_m, max_income_f, on=\"tr_type\") \n",
        "print(\"2\")\n",
        "print(\"both genders \", '\\n',both_g)"
      ],
      "execution_count": null,
      "outputs": [
        {
          "output_type": "stream",
          "text": [
            "1\n",
            "males  \n",
            " tr_type\n",
            "4051     1122.96\n",
            "4110     2245.92\n",
            "4210     2245.92\n",
            "2370     2335.75\n",
            "4100     5041.86\n",
            "7075     6737.75\n",
            "2110    22459.16\n",
            "1010    24839.83\n",
            "2010    44918.32\n",
            "2210    68315.82\n",
            "Name: amount, dtype: float64\n",
            "fmales  \n",
            " tr_type\n",
            "4110      2245.92\n",
            "2020      2245.92\n",
            "1010     28803.87\n",
            "8100     64682.37\n",
            "6000     79280.83\n",
            "7041     87590.72\n",
            "2010     89836.63\n",
            "2110    112295.79\n",
            "2370    113194.15\n",
            "7015    121279.45\n",
            "Name: amount, dtype: float64\n",
            "2\n",
            "both genders  \n",
            "          amount_x   amount_y\n",
            "tr_type                     \n",
            "4110      2245.92    2245.92\n",
            "2370      2335.75  113194.15\n",
            "2110     22459.16  112295.79\n",
            "1010     24839.83   28803.87\n",
            "2010     44918.32   89836.63\n"
          ],
          "name": "stdout"
        }
      ]
    },
    {
      "cell_type": "markdown",
      "metadata": {
        "id": "W-LaVwRdR3UB"
      },
      "source": [
        "## Задание 7"
      ]
    },
    {
      "cell_type": "markdown",
      "metadata": {
        "id": "rhI4NOciR7e0"
      },
      "source": [
        "1. Найдите суммы затрат по каждой категории для мужчин и для женщин. \n",
        "2. Найдите топ 5 категорий с самыми большими относительными модулями разности для в тратах для разных полов."
      ]
    },
    {
      "cell_type": "code",
      "metadata": {
        "id": "lBA0za8yePZT",
        "outputId": "2ac67167-51df-4bd5-f3da-495e94ce6b7b",
        "colab": {
          "base_uri": "https://localhost:8080/",
          "height": 663
        }
      },
      "source": [
        "table7 = transactions[transactions['amount'] < 0]\n",
        "males  = table7[table7['gender'] == 0]\n",
        "fmales = table7[table7['gender'] == 1]\n",
        "sum_outc_m = males.groupby('mcc_code')['amount'].sum()\n",
        "sum_outc_f = fmales.groupby('mcc_code')['amount'].sum()\n",
        "print(\"1\")\n",
        "print(\"males \", '\\n',sum_outc_m)\n",
        "print(\"fmales \", '\\n',sum_outc_f)\n",
        "print(\"2\")\n",
        "both_g = pd.merge(sum_outc_m, sum_outc_f, on=\"mcc_code\")\n",
        "both_g['dif'] =abs(both_g['amount_x'] - both_g['amount_y'])\n",
        "both_g = both_g.sort_values(\"dif\", ascending=False).head(5)\n",
        "print(\"top 5 diff \", '\\n',both_g)"
      ],
      "execution_count": null,
      "outputs": [
        {
          "output_type": "stream",
          "text": [
            "1\n",
            "males  \n",
            " mcc_code\n",
            "742      -386207.68\n",
            "1711     -674897.69\n",
            "1799     -261626.73\n",
            "2741      -20746.42\n",
            "3000   -74431645.27\n",
            "           ...     \n",
            "8699     -521107.48\n",
            "8999   -19432057.92\n",
            "9222     -361143.24\n",
            "9311     -406197.45\n",
            "9399    -1481389.65\n",
            "Name: amount, Length: 174, dtype: float64\n",
            "fmales  \n",
            " mcc_code\n",
            "742      -132277.93\n",
            "1711     -206264.90\n",
            "1731     -121542.67\n",
            "1799    -1129257.68\n",
            "2741     -221290.08\n",
            "           ...     \n",
            "8999   -28643346.63\n",
            "9222     -988205.17\n",
            "9311     -373271.22\n",
            "9399    -1810820.67\n",
            "9402       -4581.67\n",
            "Name: amount, Length: 175, dtype: float64\n",
            "2\n",
            "top 5 diff  \n",
            "               amount_x      amount_y           dif\n",
            "mcc_code                                          \n",
            "6011     -4.958077e+09 -8.043939e+09  3.085862e+09\n",
            "4829     -3.513864e+09 -6.013017e+09  2.499153e+09\n",
            "6010     -2.612731e+08 -4.821311e+08  2.208580e+08\n",
            "5541     -5.162489e+07 -2.070574e+08  1.554326e+08\n",
            "5511     -5.095159e+06 -7.862393e+07  7.352877e+07\n"
          ],
          "name": "stdout"
        }
      ]
    },
    {
      "cell_type": "markdown",
      "metadata": {
        "id": "aGaPkQkVSvl8"
      },
      "source": [
        "## Задание 8"
      ]
    },
    {
      "cell_type": "markdown",
      "metadata": {
        "id": "T7Ox1qAXTHQl"
      },
      "source": [
        "1. Из поля tr_datetime выделите час tr_hour, в который произошла транзакция, как первые 2 цифры до \":\". (\\**)\n",
        "2. Посчитайте ночные поступления для мужчин и женщин. Ночные - это примерно 00-06 часов. "
      ]
    },
    {
      "cell_type": "code",
      "metadata": {
        "id": "Eidy8B7zbWNX",
        "outputId": "8f2baa69-3816-4252-9b49-879f79e3bdfc",
        "colab": {
          "base_uri": "https://localhost:8080/",
          "height": 221
        }
      },
      "source": [
        "test= transactions['tr_hour'] = pd.to_numeric(transactions['tr_datetime'].str[-8:-6])\n",
        "print(transactions['tr_datetime'])\n",
        "#24 | 16777215 | 8"
      ],
      "execution_count": null,
      "outputs": [
        {
          "output_type": "stream",
          "text": [
            "0           0 10:23:26\n",
            "1           6 07:08:31\n",
            "2           8 07:06:10\n",
            "3          11 08:49:03\n",
            "4          11 14:12:08\n",
            "              ...     \n",
            "999579     18 23:38:60\n",
            "999580    206 19:00:10\n",
            "999581     90 22:40:57\n",
            "999582    104 23:39:35\n",
            "999583    105 23:38:49\n",
            "Name: tr_datetime, Length: 999584, dtype: object\n"
          ],
          "name": "stdout"
        }
      ]
    },
    {
      "cell_type": "code",
      "metadata": {
        "id": "qJ_lIkpzSXbO"
      },
      "source": [
        "table8 = transactions[transactions['amount']> 0][['gender', 'tr_datetime', 'amount']]\n",
        "table8['tr_hour'] = pd.to_numeric(table8['tr_datetime'].str[-8:-6])\n",
        "table8 = table8[(table8['tr_hour']>=0 ) & (table8['tr_hour']<=6)]\n",
        "ans = table8.dropna().groupby('gender')['amount'].sum()\n",
        "ansalt = table8.dropna().groupby('gender')['amount'].size()"
      ],
      "execution_count": null,
      "outputs": []
    },
    {
      "cell_type": "code",
      "metadata": {
        "id": "JZf8azAlU78G",
        "outputId": "ff029261-3e96-435a-e7ea-3cd8c1242a9e",
        "colab": {
          "base_uri": "https://localhost:8080/",
          "height": 85
        }
      },
      "source": [
        "ans"
      ],
      "execution_count": null,
      "outputs": [
        {
          "output_type": "execute_result",
          "data": {
            "text/plain": [
              "gender\n",
              "0.0    5.806437e+08\n",
              "1.0    9.226917e+08\n",
              "Name: amount, dtype: float64"
            ]
          },
          "metadata": {
            "tags": []
          },
          "execution_count": 69
        }
      ]
    },
    {
      "cell_type": "code",
      "metadata": {
        "id": "3Q2l40P8aERo",
        "outputId": "fbb1a453-cde7-4342-9165-897a69373d8b",
        "colab": {
          "base_uri": "https://localhost:8080/",
          "height": 85
        }
      },
      "source": [
        "ansalt"
      ],
      "execution_count": null,
      "outputs": [
        {
          "output_type": "execute_result",
          "data": {
            "text/plain": [
              "gender\n",
              "0.0     4059\n",
              "1.0    32726\n",
              "Name: amount, dtype: int64"
            ]
          },
          "metadata": {
            "tags": []
          },
          "execution_count": 70
        }
      ]
    },
    {
      "cell_type": "code",
      "metadata": {
        "id": "KFxJAgJoaP14",
        "outputId": "f60d942a-6fd1-4b1f-b7a1-9d752dd3d09a",
        "colab": {
          "base_uri": "https://localhost:8080/",
          "height": 419
        }
      },
      "source": [
        "table8"
      ],
      "execution_count": null,
      "outputs": [
        {
          "output_type": "execute_result",
          "data": {
            "text/html": [
              "<div>\n",
              "<style scoped>\n",
              "    .dataframe tbody tr th:only-of-type {\n",
              "        vertical-align: middle;\n",
              "    }\n",
              "\n",
              "    .dataframe tbody tr th {\n",
              "        vertical-align: top;\n",
              "    }\n",
              "\n",
              "    .dataframe thead th {\n",
              "        text-align: right;\n",
              "    }\n",
              "</style>\n",
              "<table border=\"1\" class=\"dataframe\">\n",
              "  <thead>\n",
              "    <tr style=\"text-align: right;\">\n",
              "      <th></th>\n",
              "      <th>gender</th>\n",
              "      <th>tr_datetime</th>\n",
              "      <th>amount</th>\n",
              "      <th>tr_hour</th>\n",
              "    </tr>\n",
              "  </thead>\n",
              "  <tbody>\n",
              "    <tr>\n",
              "      <th>119094</th>\n",
              "      <td>1.0</td>\n",
              "      <td>20 00:00:00</td>\n",
              "      <td>15721.41</td>\n",
              "      <td>0</td>\n",
              "    </tr>\n",
              "    <tr>\n",
              "      <th>119344</th>\n",
              "      <td>1.0</td>\n",
              "      <td>20 00:00:00</td>\n",
              "      <td>11229.58</td>\n",
              "      <td>0</td>\n",
              "    </tr>\n",
              "    <tr>\n",
              "      <th>120188</th>\n",
              "      <td>NaN</td>\n",
              "      <td>116 00:00:00</td>\n",
              "      <td>2245.92</td>\n",
              "      <td>0</td>\n",
              "    </tr>\n",
              "    <tr>\n",
              "      <th>120481</th>\n",
              "      <td>NaN</td>\n",
              "      <td>105 00:00:00</td>\n",
              "      <td>30544.45</td>\n",
              "      <td>0</td>\n",
              "    </tr>\n",
              "    <tr>\n",
              "      <th>120498</th>\n",
              "      <td>NaN</td>\n",
              "      <td>143 00:00:00</td>\n",
              "      <td>30836.42</td>\n",
              "      <td>0</td>\n",
              "    </tr>\n",
              "    <tr>\n",
              "      <th>...</th>\n",
              "      <td>...</td>\n",
              "      <td>...</td>\n",
              "      <td>...</td>\n",
              "      <td>...</td>\n",
              "    </tr>\n",
              "    <tr>\n",
              "      <th>998323</th>\n",
              "      <td>NaN</td>\n",
              "      <td>391 00:00:00</td>\n",
              "      <td>112295.79</td>\n",
              "      <td>0</td>\n",
              "    </tr>\n",
              "    <tr>\n",
              "      <th>998324</th>\n",
              "      <td>NaN</td>\n",
              "      <td>393 00:00:00</td>\n",
              "      <td>11229.58</td>\n",
              "      <td>0</td>\n",
              "    </tr>\n",
              "    <tr>\n",
              "      <th>998325</th>\n",
              "      <td>NaN</td>\n",
              "      <td>395 00:00:00</td>\n",
              "      <td>101066.21</td>\n",
              "      <td>0</td>\n",
              "    </tr>\n",
              "    <tr>\n",
              "      <th>998326</th>\n",
              "      <td>NaN</td>\n",
              "      <td>228 00:00:00</td>\n",
              "      <td>8759.07</td>\n",
              "      <td>0</td>\n",
              "    </tr>\n",
              "    <tr>\n",
              "      <th>998327</th>\n",
              "      <td>NaN</td>\n",
              "      <td>86 00:00:00</td>\n",
              "      <td>63829.82</td>\n",
              "      <td>0</td>\n",
              "    </tr>\n",
              "  </tbody>\n",
              "</table>\n",
              "<p>45045 rows × 4 columns</p>\n",
              "</div>"
            ],
            "text/plain": [
              "        gender   tr_datetime     amount  tr_hour\n",
              "119094     1.0   20 00:00:00   15721.41        0\n",
              "119344     1.0   20 00:00:00   11229.58        0\n",
              "120188     NaN  116 00:00:00    2245.92        0\n",
              "120481     NaN  105 00:00:00   30544.45        0\n",
              "120498     NaN  143 00:00:00   30836.42        0\n",
              "...        ...           ...        ...      ...\n",
              "998323     NaN  391 00:00:00  112295.79        0\n",
              "998324     NaN  393 00:00:00   11229.58        0\n",
              "998325     NaN  395 00:00:00  101066.21        0\n",
              "998326     NaN  228 00:00:00    8759.07        0\n",
              "998327     NaN   86 00:00:00   63829.82        0\n",
              "\n",
              "[45045 rows x 4 columns]"
            ]
          },
          "metadata": {
            "tags": []
          },
          "execution_count": 71
        }
      ]
    }
  ]
}